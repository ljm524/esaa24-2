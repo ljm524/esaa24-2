{
  "nbformat": 4,
  "nbformat_minor": 0,
  "metadata": {
    "colab": {
      "provenance": [],
      "authorship_tag": "ABX9TyPDc4Wo9nixX9mEEaCtbRca",
      "include_colab_link": true
    },
    "kernelspec": {
      "name": "python3",
      "display_name": "Python 3"
    },
    "language_info": {
      "name": "python"
    }
  },
  "cells": [
    {
      "cell_type": "markdown",
      "metadata": {
        "id": "view-in-github",
        "colab_type": "text"
      },
      "source": [
        "<a href=\"https://colab.research.google.com/github/ljm524/esaa24-2/blob/main/ESAA_obproject_%EC%A0%95%EB%A6%AC.ipynb\" target=\"_parent\"><img src=\"https://colab.research.google.com/assets/colab-badge.svg\" alt=\"Open In Colab\"/></a>"
      ]
    },
    {
      "cell_type": "markdown",
      "source": [
        "# 프로젝트 배경\n",
        "\n",
        "**넷플릭스 주가 예측**\n",
        "- 시계열 데이터\n",
        "- 2018년 2월 ~ 2022년 2월 (5년간)"
      ],
      "metadata": {
        "id": "GIZqFuLMNJgQ"
      }
    },
    {
      "cell_type": "markdown",
      "source": [
        "# 프로젝트 내용\n",
        "\n",
        "코드\n",
        "https://colab.research.google.com/drive/1Pt_ZGvvzlyTDkliMYAO0BmrtyxKvanOj\n",
        "\n",
        "ppt\n",
        "https://docs.google.com/document/d/1PC5ZdOVCrOwMYVNOdQeuADi4vDjaGfQ2vz6No33qvgQ/edit?tab=t.0"
      ],
      "metadata": {
        "id": "J7ek1tR6Q_wY"
      }
    },
    {
      "cell_type": "markdown",
      "source": [
        "# 문제점\n",
        "\n",
        "1. arima, prophet은 train, val, test로 나눠서 하는 게 안됐음 (validation data로 나눠서 검증하고 예측하는 부분을 어케 처리해야할지 몰랐음..)\n",
        "\n",
        "2. arima를 주로 맡아서 했는데 decomposition plot 그렸을 때 seasonal이 진짜 거의 일직선으로 나왔는데 sarima, sarimax 모델이 성능이 더 좋아서 엥..? 싶었다\n",
        "\n",
        "3. arimax, sarimax 두 개 모델이 arima, sarima 모델보다 성능이 안 좋았는데 그 이유를 모르겠었음 왜냐면 상관계수가 음이든 양이든 어떤 외부변수랑 주가가 상관관계를 가지는데 모델에서 외부변수를 누락했다면, 외부변수의 영향으로 변하는 주가의 분이 외부변수의 영향이 아니라 주가 자체의 내재적인 요인의 영향이라고 인식돼서 예측이 더 부정확해지는 거라고 생각함 (+ 프로펫도 외부변수 넣었을 때 성능이 안좋아졌고 그대로라서.. 뭘까)\n",
        "\n",
        "4. arimax, sarimax도 arima, sarima 모델에 쓴 refresh 전략 쓸 수 있을 것 같았는데 자꾸 차원문제에 부딪친 듯.. 이건 내 코딩 실력의 문제..? ㅎㅎ ㅜㅜ\n",
        "\n",
        "5. sarima 돌아갈 때 렘 다 잡아먹어서 하고싶은 range만큼 못 했다 sarimax도 마찬가지 (sarimax는 애초에 D도 0으로 안 두면 돌아가지도 않았음..)\n",
        "\n",
        "6. arima, sarima 진행했을 때 일직선으로 예측하고 rmse도 70대가 나왔다 (엄청 큰 거임)"
      ],
      "metadata": {
        "id": "kYtUAjcaTXFT"
      }
    },
    {
      "cell_type": "markdown",
      "source": [
        "# 해결방법\n",
        "\n",
        "1. prophet은 cross validation으로 교차검증을 진행하긴 했지만 validation data로 나누진 못했다..\n",
        "\n",
        "2. 성능이 좋아졌다고 해도 엄청 약간 좋아진 거고, decomposition plot으로는 눈으로 확인하지 못하는 부분도 있기 때문에 뚜렷한 seaonality가 보이지 않더라도 실험삼아 seasonal 추가하고 모델을 진행해보는 것도 좋은 것 같다\n",
        "\n",
        "3. 상관계수 자체가 -0.41로 엄청나게 큰 것은 아니고 prophet에서도 의미가 없었기 때문에 volume 자체가 그리 큰 의미가 없는 변수인 건 아닐까..? (이건 억지고 사실 잘 모르겠다..)\n",
        "\n",
        "4. refresh전략 + 외부 리그레서 쓴 예시를 한 번도 못 봐서 참고도 못 하고 채찍이도 안 알려줌.. 근데 volume 넣었을 때 그냥 모델들도 성능 안 좋았으니 크게 기대 안 해서 안 넣었음..\n",
        "\n",
        "5. 근데 애초에 lag 안에서 움직이는 정도로만 range 설정했어도 되어서 3까지 해도 optimize 한 것들 잘 뽑아낸 듯! 여유 되면 7까지 해보고 싶긴 하다\n",
        "\n",
        "6. refresh 전략 도입했다. 사람들은 이걸 많이 쓰는 듯. 근데 이게 결국엔 model update 시켜서 마지막 값으로 다음 날 종가를 예측하는 건데 그러면 예측이라는 것의 의미가 있나 싶다.. 결국 이때까지 주어진 데이터 가지고 예측해도 전날 데이터 그대로 가져다 쓰는 것보다 못한다는 건데.. 근데 예측 자체는 잘 되긴 한다.. 이 데이터에 아리마가 안 맞았던 건가? 근데 공부할 때 참고한 강의에서도 rmse 엄청나긴 하더라.. refresh 전략은 코드 들어가면 모델 5~8까지!! step 한 단계씩 밟는 거라고 생각하면 됨."
      ],
      "metadata": {
        "id": "GlRhc3RgTYqr"
      }
    }
  ]
}