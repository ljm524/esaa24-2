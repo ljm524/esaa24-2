{
  "nbformat": 4,
  "nbformat_minor": 0,
  "metadata": {
    "colab": {
      "provenance": [],
      "authorship_tag": "ABX9TyNNIwSk0cC3eV47TUjrT/5V",
      "include_colab_link": true
    },
    "kernelspec": {
      "name": "python3",
      "display_name": "Python 3"
    },
    "language_info": {
      "name": "python"
    }
  },
  "cells": [
    {
      "cell_type": "markdown",
      "metadata": {
        "id": "view-in-github",
        "colab_type": "text"
      },
      "source": [
        "<a href=\"https://colab.research.google.com/github/ljm524/esaa24-2/blob/main/ESAA_ybproject_%EC%A0%95%EB%A6%AC.ipynb\" target=\"_parent\"><img src=\"https://colab.research.google.com/assets/colab-badge.svg\" alt=\"Open In Colab\"/></a>"
      ]
    },
    {
      "cell_type": "markdown",
      "source": [
        "# 프로젝트 배경\n",
        "\n",
        "**에콰도르 판매량 예측**\n",
        "- 시계열 데이터\n",
        "- 2013년 1월 ~ 2018년 1월 (5년간)\n",
        "\n",
        "https://www.kaggle.com/competitions/store-sales-time-series-forecasting/code"
      ],
      "metadata": {
        "id": "o-YUDXjrLE8c"
      }
    },
    {
      "cell_type": "markdown",
      "source": [
        "# 프로젝트 내용\n",
        "\n",
        "코드\n",
        "https://github.com/doyeonKoo/esaa/blob/main/YB_1%EC%A1%B0_store_sales_prediction.ipynb\n",
        "\n",
        "ppt\n",
        "https://docs.google.com/presentation/d/1N5xD1RBk8Xpn5ljvO19SJoE4IhRqLsOn/edit#slide=id.p1"
      ],
      "metadata": {
        "id": "8t2T4vfXLD9K"
      }
    },
    {
      "cell_type": "markdown",
      "source": [
        "# 문제점\n",
        "\n",
        "1. 시계열 데이터 전처리를 제대로 진행 안 함.. 시작부터 틀려먹었기 때문에 ml, dl 적용도 다 틀려먹었다..\n",
        "2. eda 진행했을 때 비정상적으로 보이는 움직임이 두 군데 있었음"
      ],
      "metadata": {
        "id": "MW6yKghGPOdr"
      }
    },
    {
      "cell_type": "markdown",
      "source": [
        "# 해결방안\n",
        "\n",
        "1. 시계열 데이터 처리방법 공부해서 다시 시계열 데이터 다루어보기로.. -> ob project에서 prophet arima 등 많이 적용해봤다!! 그리고 여기서 window lag 이용해 전처리도 공부했음\n",
        "2. 비정상적으로 움직이는 부분 앞부분은 아마 에콰도르에 지진이 나서 그럴거라는 추측하고, 이 부분은 제외하고 예측 진행했다. 지진이 그렇게 자주 나는 것도 아니고 special case라고 생각했기 때문. 비정상적 움직임 두 번째는 뒤에서 일어났던 건데 이건 딱히 사회현상이나 자연재해가 발생되지 않아서 이 부분은 포함해서 진행함."
      ],
      "metadata": {
        "id": "9j_YM8EaPa3y"
      }
    }
  ]
}