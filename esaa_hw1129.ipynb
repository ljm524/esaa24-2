{
  "nbformat": 4,
  "nbformat_minor": 0,
  "metadata": {
    "colab": {
      "provenance": [],
      "authorship_tag": "ABX9TyNasv9UJAQ2avnVsGTkXZr6",
      "include_colab_link": true
    },
    "kernelspec": {
      "name": "python3",
      "display_name": "Python 3"
    },
    "language_info": {
      "name": "python"
    }
  },
  "cells": [
    {
      "cell_type": "markdown",
      "metadata": {
        "id": "view-in-github",
        "colab_type": "text"
      },
      "source": [
        "<a href=\"https://colab.research.google.com/github/ljm524/esaa24-2/blob/main/esaa_hw1129.ipynb\" target=\"_parent\"><img src=\"https://colab.research.google.com/assets/colab-badge.svg\" alt=\"Open In Colab\"/></a>"
      ]
    },
    {
      "cell_type": "markdown",
      "source": [
        "# [개념정리]"
      ],
      "metadata": {
        "id": "ZqFzLo9TCCZZ"
      }
    },
    {
      "cell_type": "markdown",
      "source": [
        "## 02. [기초] - 파이토치 기초(PyTorch Basic)"
      ],
      "metadata": {
        "id": "8EuTK2jLCGgS"
      }
    },
    {
      "cell_type": "markdown",
      "source": [
        "### 02-01 파이토치 패키지의 기본 구성\n",
        "\n",
        "*   torch : 메인 네임스페이스임. 텐서 등의 다양한 수학 함수가 포함되어져 있으며 Numpy와 유사한 구조를 가짐.\n",
        "*   torch.autograd : 자동 미분을 위한 함수들이 포함되어져 있음. 자동 미분의 on/off를 제어하는 콘텍스트 매니저(enable_grad/no_grad)나 자체 미분 가능 함수를 정의할 때 사용하는 기반 클래스인 'Function'등이 포함되어져 있음.\n",
        "*   torch.nn : 신경망을 구축하기 위한 다양한 데이터 구조나 레이어 등이 정의되어져 있음. 예를 들어 RNN, LSTM과 같은 레이어, ReLU와 같은 활성화 함수, MSELoss와 같은 손실 함수들이 있음.\n",
        "*   torch.optim : 확률적 경사 하강법(Stochastic Gradient Descent, SGD)를 중심으로 한 파라미터 최적화 알고리즘이 구현되어져 있음.\n",
        "*   torch.utils.data : SGD의 반복 연산을 실행할 때 사용하는 미니 배치용 유틸리티 함수가 포함되어져 있음.\n",
        "*   torch.onnx : ONNX(Open Neural Network Exchange)의 포맷으로 모델을 익스포트(export)할 때 사용함. ONNx는 서로 다른 딥 러닝 프레임워크 간에 모델을 공유할 때 사용하는 포맷임.\n",
        "\n",
        "\n",
        "\n",
        "\n",
        "\n"
      ],
      "metadata": {
        "id": "N_7bpZNYCLcg"
      }
    },
    {
      "cell_type": "markdown",
      "source": [
        "### 02-02 텐서 조작하기(Tensor Manipulation)"
      ],
      "metadata": {
        "id": "3KETi2fvCOls"
      }
    },
    {
      "cell_type": "markdown",
      "source": [
        "### 02-03 파이썬 클래스(class)"
      ],
      "metadata": {
        "id": "JIHLZD3tCR5H"
      }
    },
    {
      "cell_type": "markdown",
      "source": [
        "## 03. [ML 입문] - 머신 러닝 입문하기(Machine Learning Basics)"
      ],
      "metadata": {
        "id": "5vdgRStJCUac"
      }
    },
    {
      "cell_type": "markdown",
      "source": [
        "### 03-01 선형 회귀와 자동 미분(Linear Regression and Autograd)"
      ],
      "metadata": {
        "id": "3CsE_CSJCcEY"
      }
    },
    {
      "cell_type": "markdown",
      "source": [
        "### 03-02 다중 선형 회귀(Multivariable Linear regression)"
      ],
      "metadata": {
        "id": "mufTk094Ci65"
      }
    },
    {
      "cell_type": "markdown",
      "source": [
        "### 03-03 nn.Module과 클래스로 구현하기"
      ],
      "metadata": {
        "id": "DJZ47SfDCoTL"
      }
    },
    {
      "cell_type": "markdown",
      "source": [
        "### 03-04 미니 배치와 데이터 로더(Mini Batch and DataLoader)"
      ],
      "metadata": {
        "id": "G3h6Cn1-CrPM"
      }
    },
    {
      "cell_type": "markdown",
      "source": [
        "### 03-05 벡터와 행렬 연산 복습하기"
      ],
      "metadata": {
        "id": "td272rQQCvLw"
      }
    },
    {
      "cell_type": "markdown",
      "source": [
        "# [필사]"
      ],
      "metadata": {
        "id": "EOyng7gnCx5U"
      }
    },
    {
      "cell_type": "code",
      "source": [
        "# [[나는 사과를 좋아해], [나는 바나나를 좋아해], [나는 사과를 싫어해], [나는 바나나를 싫어해]]"
      ],
      "metadata": {
        "id": "pSoiDWEQb_NL"
      },
      "execution_count": 8,
      "outputs": []
    },
    {
      "cell_type": "code",
      "source": [
        "[['나는', '사과를', '좋아해'], ['나는', '바나나를', '좋아해'], ['나는', '사과를', '싫어해'], ['나는', '바나나를', '싫어해']]"
      ],
      "metadata": {
        "colab": {
          "base_uri": "https://localhost:8080/"
        },
        "id": "lP8BHUSFcGfX",
        "outputId": "6dc62cd7-0126-4888-f5e0-d03ba8fdcfe3"
      },
      "execution_count": 6,
      "outputs": [
        {
          "output_type": "execute_result",
          "data": {
            "text/plain": [
              "[['나는', '사과를', '좋아해'],\n",
              " ['나는', '바나나를', '좋아해'],\n",
              " ['나는', '사과를', '싫어해'],\n",
              " ['나는', '바나나를', '싫어해']]"
            ]
          },
          "metadata": {},
          "execution_count": 6
        }
      ]
    },
    {
      "cell_type": "code",
      "source": [
        "# '나는' = [0.1, 0.2, 0.9]\n",
        "# '사과를' = [0.3, 0.5, 0.1]\n",
        "# '바나나를' = [0.3, 0.5, 0.2]\n",
        "# '좋아해' = [0.7, 0.6, 0.5]\n",
        "# '싫어해' = [0.5, 0.6, 0.7]"
      ],
      "metadata": {
        "id": "3rbTZp2ecmzi"
      },
      "execution_count": 10,
      "outputs": []
    },
    {
      "cell_type": "code",
      "source": [
        "[[[0.1, 0.2, 0.9], [0.3, 0.5, 0.1], [0.7, 0.6, 0.5]],\n",
        " [[0.1, 0.2, 0.9], [0.3, 0.5, 0.2], [0.7, 0.6, 0.5]],\n",
        " [[0.1 ,0.2, 0.9], [0.3, 0.5, 0.1], [0.5, 0.6, 0.7]],\n",
        " [[0.1, 0.2, 0.9], [0.3, 0.5, 0.2], [0.5, 0.6, 0.7]]]"
      ],
      "metadata": {
        "colab": {
          "base_uri": "https://localhost:8080/"
        },
        "id": "djV0PcIMczv7",
        "outputId": "5f8897a5-9b78-49aa-adcf-6bb18ae3a2ba"
      },
      "execution_count": 11,
      "outputs": [
        {
          "output_type": "execute_result",
          "data": {
            "text/plain": [
              "[[[0.1, 0.2, 0.9], [0.3, 0.5, 0.1], [0.7, 0.6, 0.5]],\n",
              " [[0.1, 0.2, 0.9], [0.3, 0.5, 0.2], [0.7, 0.6, 0.5]],\n",
              " [[0.1, 0.2, 0.9], [0.3, 0.5, 0.1], [0.5, 0.6, 0.7]],\n",
              " [[0.1, 0.2, 0.9], [0.3, 0.5, 0.2], [0.5, 0.6, 0.7]]]"
            ]
          },
          "metadata": {},
          "execution_count": 11
        }
      ]
    },
    {
      "cell_type": "code",
      "source": [
        "# 첫번째 배치 #1\n",
        "[[[0.1, 0.2, 0.9], [0.3, 0.5, 0.1], [0.7, 0.6, 0.5]],\n",
        " [[0.1, 0.2, 0.9], [0.3, 0.5, 0.2], [0.7, 0.6, 0.5]]]\n",
        "\n",
        "# 두번째 배치 #2\n",
        "[[[0.1, 0.2, 0.9], [0.3, 0.5, 0.1], [0.5, 0.6, 0.7]],\n",
        " [[0.1, 0.2, 0.9], [0.3, 0.5, 0.2], [0.5, 0.6, 0.7]]]"
      ],
      "metadata": {
        "colab": {
          "base_uri": "https://localhost:8080/"
        },
        "id": "VMdiRlECdWQ8",
        "outputId": "4dfc1938-0e4e-4684-d716-442f1a43b5a2"
      },
      "execution_count": 12,
      "outputs": [
        {
          "output_type": "execute_result",
          "data": {
            "text/plain": [
              "[[[0.1, 0.2, 0.9], [0.3, 0.5, 0.1], [0.5, 0.6, 0.7]],\n",
              " [[0.1, 0.2, 0.9], [0.3, 0.5, 0.2], [0.5, 0.6, 0.7]]]"
            ]
          },
          "metadata": {},
          "execution_count": 12
        }
      ]
    },
    {
      "cell_type": "code",
      "execution_count": 1,
      "metadata": {
        "id": "jS4biEiaabPM"
      },
      "outputs": [],
      "source": [
        "import numpy as np"
      ]
    },
    {
      "cell_type": "code",
      "source": [
        "t = np.array([0., 1., 2., 3., 4., 5., 6.])\n",
        "# 파이썬으로 설명하면 List를 생성해서 np.array로 1차원 array로 변환함.\n",
        "print(t)"
      ],
      "metadata": {
        "colab": {
          "base_uri": "https://localhost:8080/"
        },
        "id": "ctWpfzsqadRn",
        "outputId": "8e4b1342-bf65-4c2a-f49a-e774a28d7903"
      },
      "execution_count": 2,
      "outputs": [
        {
          "output_type": "stream",
          "name": "stdout",
          "text": [
            "[0. 1. 2. 3. 4. 5. 6.]\n"
          ]
        }
      ]
    },
    {
      "cell_type": "code",
      "source": [
        "print('Rank of t: ', t.ndim)\n",
        "print('Shape of t: ', t.shape)"
      ],
      "metadata": {
        "colab": {
          "base_uri": "https://localhost:8080/"
        },
        "id": "e7TzwPN4amFt",
        "outputId": "3d246615-659b-40e4-dc26-abd9b8637c47"
      },
      "execution_count": 3,
      "outputs": [
        {
          "output_type": "stream",
          "name": "stdout",
          "text": [
            "Rank of t:  1\n",
            "Shape of t:  (7,)\n"
          ]
        }
      ]
    },
    {
      "cell_type": "code",
      "source": [
        "print('t[0] t[1] t[-1] = ', t[0], t[1], t[-1]) # 인덱스를 통한 원소 접근"
      ],
      "metadata": {
        "colab": {
          "base_uri": "https://localhost:8080/"
        },
        "id": "twICFENdbcGz",
        "outputId": "e456be97-2a65-4529-b6db-5481f6a0f13c"
      },
      "execution_count": 4,
      "outputs": [
        {
          "output_type": "stream",
          "name": "stdout",
          "text": [
            "t[0] t[1] t[-1] =  0.0 1.0 6.0\n"
          ]
        }
      ]
    },
    {
      "cell_type": "code",
      "source": [
        "print('t[2:5] 5[4:-1] = ', t[2:5], t[4:-1]) # [시작 번호 : 끝 번호]로 범위 지정을 통해 가져온다."
      ],
      "metadata": {
        "colab": {
          "base_uri": "https://localhost:8080/"
        },
        "id": "4YqAigl1bkVN",
        "outputId": "ceb53e7e-5296-4c7b-f0e6-c61149b27a34"
      },
      "execution_count": 13,
      "outputs": [
        {
          "output_type": "stream",
          "name": "stdout",
          "text": [
            "t[2:5] 5[4:-1] =  [2. 3. 4.] [4. 5.]\n"
          ]
        }
      ]
    },
    {
      "cell_type": "code",
      "source": [
        "print('t[:2] t[3:]  =', t[:2], t[3:]) # 시작 번호를 생략한 경우와 끝 번호를 생략한 경우"
      ],
      "metadata": {
        "colab": {
          "base_uri": "https://localhost:8080/"
        },
        "id": "kb1cXk3meLPJ",
        "outputId": "ff37909b-ebbd-4cdb-9830-4b86c3ab193f"
      },
      "execution_count": 14,
      "outputs": [
        {
          "output_type": "stream",
          "name": "stdout",
          "text": [
            "t[:2] t[3:]  = [0. 1.] [3. 4. 5. 6.]\n"
          ]
        }
      ]
    },
    {
      "cell_type": "code",
      "source": [
        "t = np.array([[1., 2., 3.], [4., 5., 6.], [7., 8., 9.], [10., 11., 12.]])\n",
        "print(t)"
      ],
      "metadata": {
        "colab": {
          "base_uri": "https://localhost:8080/"
        },
        "id": "83cvmnYYeUxQ",
        "outputId": "001caab8-7212-4cc0-9f76-46fc26035b09"
      },
      "execution_count": 15,
      "outputs": [
        {
          "output_type": "stream",
          "name": "stdout",
          "text": [
            "[[ 1.  2.  3.]\n",
            " [ 4.  5.  6.]\n",
            " [ 7.  8.  9.]\n",
            " [10. 11. 12.]]\n"
          ]
        }
      ]
    },
    {
      "cell_type": "code",
      "source": [
        "print('Rank of t: ', t.ndim)\n",
        "print('Shape of t: ', t.shape)"
      ],
      "metadata": {
        "colab": {
          "base_uri": "https://localhost:8080/"
        },
        "id": "-lAj3tjWecn-",
        "outputId": "2b9fc313-0db4-438f-8b02-b85dc63fd731"
      },
      "execution_count": 16,
      "outputs": [
        {
          "output_type": "stream",
          "name": "stdout",
          "text": [
            "Rank of t:  2\n",
            "Shape of t:  (4, 3)\n"
          ]
        }
      ]
    },
    {
      "cell_type": "code",
      "source": [
        "import torch"
      ],
      "metadata": {
        "id": "PRJ5f6pxeilz"
      },
      "execution_count": 17,
      "outputs": []
    },
    {
      "cell_type": "code",
      "source": [
        "t = torch.FloatTensor([0., 1., 2., 3., 4., 5., 6.])\n",
        "print(t)"
      ],
      "metadata": {
        "colab": {
          "base_uri": "https://localhost:8080/"
        },
        "id": "yqn8f2Mlelmw",
        "outputId": "0921ae90-3cce-4d52-851b-649c8ec2181d"
      },
      "execution_count": 19,
      "outputs": [
        {
          "output_type": "stream",
          "name": "stdout",
          "text": [
            "tensor([0., 1., 2., 3., 4., 5., 6.])\n"
          ]
        }
      ]
    },
    {
      "cell_type": "code",
      "source": [
        "print(t.dim()) # rank. 즉, 차원\n",
        "print(t.shape) # shape\n",
        "print(t.size()) # shape"
      ],
      "metadata": {
        "colab": {
          "base_uri": "https://localhost:8080/"
        },
        "id": "qNT2kA9sepor",
        "outputId": "33815378-1b97-49d6-ac30-1eceecf04141"
      },
      "execution_count": 20,
      "outputs": [
        {
          "output_type": "stream",
          "name": "stdout",
          "text": [
            "1\n",
            "torch.Size([7])\n",
            "torch.Size([7])\n"
          ]
        }
      ]
    },
    {
      "cell_type": "code",
      "source": [
        "print(t[0], t[1], t[-1]) # 인덱스로 접근\n",
        "print(t[2:5], t[4:-1]) # 슬라이싱\n",
        "print(t[:2], t[3:]) # 슬라이싱"
      ],
      "metadata": {
        "colab": {
          "base_uri": "https://localhost:8080/"
        },
        "id": "nwuc6mApeyji",
        "outputId": "793c420d-b4a5-4722-f107-550f8508e9ca"
      },
      "execution_count": 21,
      "outputs": [
        {
          "output_type": "stream",
          "name": "stdout",
          "text": [
            "tensor(0.) tensor(1.) tensor(6.)\n",
            "tensor([2., 3., 4.]) tensor([4., 5.])\n",
            "tensor([0., 1.]) tensor([3., 4., 5., 6.])\n"
          ]
        }
      ]
    },
    {
      "cell_type": "code",
      "source": [
        "t = torch.FloatTensor([[1., 2., 3.],\n",
        "                       [4., 5., 6.],\n",
        "                       [7., 8., 8.],\n",
        "                       [10., 11., 12.]\n",
        "                       ])\n",
        "print(t)"
      ],
      "metadata": {
        "colab": {
          "base_uri": "https://localhost:8080/"
        },
        "id": "pOWNgavie-YD",
        "outputId": "eb94af68-606d-4fa5-9bf6-76acb06715a0"
      },
      "execution_count": 22,
      "outputs": [
        {
          "output_type": "stream",
          "name": "stdout",
          "text": [
            "tensor([[ 1.,  2.,  3.],\n",
            "        [ 4.,  5.,  6.],\n",
            "        [ 7.,  8.,  8.],\n",
            "        [10., 11., 12.]])\n"
          ]
        }
      ]
    },
    {
      "cell_type": "code",
      "source": [
        "print(t.dim()) # rank. 즉, 차원\n",
        "print(t.size()) # shape"
      ],
      "metadata": {
        "colab": {
          "base_uri": "https://localhost:8080/"
        },
        "id": "27Os_oQgfH2a",
        "outputId": "ad92be17-6155-49f1-db03-2c22a22524df"
      },
      "execution_count": 23,
      "outputs": [
        {
          "output_type": "stream",
          "name": "stdout",
          "text": [
            "2\n",
            "torch.Size([4, 3])\n"
          ]
        }
      ]
    },
    {
      "cell_type": "code",
      "source": [
        "print(t[:, 1]) # 첫번째 차원을 전체 선택한 상황에서 두번째 차원의 첫번째 것만 가져온다.\n",
        "print(t[:, 1].size()) # ↑ 위의 경우의 크기"
      ],
      "metadata": {
        "colab": {
          "base_uri": "https://localhost:8080/"
        },
        "id": "SaDAob_jfMCh",
        "outputId": "b6598f1c-9211-40dd-e284-5d59509f33fa"
      },
      "execution_count": 24,
      "outputs": [
        {
          "output_type": "stream",
          "name": "stdout",
          "text": [
            "tensor([ 2.,  5.,  8., 11.])\n",
            "torch.Size([4])\n"
          ]
        }
      ]
    },
    {
      "cell_type": "code",
      "source": [
        "print(t[:, :-1]) # 첫번째 차원을 전체 선택한 상황에서 두번째 차원에서는 맨 마지막에서 첫번째를 제외하고 다 가져온다."
      ],
      "metadata": {
        "colab": {
          "base_uri": "https://localhost:8080/"
        },
        "id": "TXwFhnsjfd_9",
        "outputId": "f5aa3e96-9c72-43fc-c7bd-4f1b782772e9"
      },
      "execution_count": 25,
      "outputs": [
        {
          "output_type": "stream",
          "name": "stdout",
          "text": [
            "tensor([[ 1.,  2.],\n",
            "        [ 4.,  5.],\n",
            "        [ 7.,  8.],\n",
            "        [10., 11.]])\n"
          ]
        }
      ]
    },
    {
      "cell_type": "code",
      "source": [
        "m1 = torch.FloatTensor([[3, 3]])\n",
        "m2 = torch.FloatTensor([[2, 2]])\n",
        "print(m1 + m2)"
      ],
      "metadata": {
        "colab": {
          "base_uri": "https://localhost:8080/"
        },
        "id": "HJT13VVnflHF",
        "outputId": "a8a90c20-401c-4b9d-92fa-dfdab8071c05"
      },
      "execution_count": 26,
      "outputs": [
        {
          "output_type": "stream",
          "name": "stdout",
          "text": [
            "tensor([[5., 5.]])\n"
          ]
        }
      ]
    },
    {
      "cell_type": "code",
      "source": [
        "# Vector + scalar\n",
        "m1 = torch.FloatTensor([[1, 2]])\n",
        "m2 = torch.FloatTensor([3]) # [3] -> [3, 3]\n",
        "print(m1 + m2)"
      ],
      "metadata": {
        "colab": {
          "base_uri": "https://localhost:8080/"
        },
        "id": "goty7tRTfriF",
        "outputId": "35e89733-1d12-4318-e785-f0df8c8fbc86"
      },
      "execution_count": 28,
      "outputs": [
        {
          "output_type": "stream",
          "name": "stdout",
          "text": [
            "tensor([[4., 5.]])\n"
          ]
        }
      ]
    },
    {
      "cell_type": "code",
      "source": [
        "# 2 x 1 Vector + 1 x 2 Vector\n",
        "m1 = torch.FloatTensor([[1, 2]])\n",
        "m2 = torch.FloatTensor([[3], [4]])\n",
        "print(m1 + m2)"
      ],
      "metadata": {
        "colab": {
          "base_uri": "https://localhost:8080/"
        },
        "id": "tmUUZ18xf2o9",
        "outputId": "074450e2-f73a-4531-ebae-918587e8dc92"
      },
      "execution_count": 29,
      "outputs": [
        {
          "output_type": "stream",
          "name": "stdout",
          "text": [
            "tensor([[4., 5.],\n",
            "        [5., 6.]])\n"
          ]
        }
      ]
    },
    {
      "cell_type": "code",
      "source": [
        "# 브로드캐스팅 과정에서 실제로 두 텐서가 어떻게 변경되는지 보겠습니다.\n",
        "# [1, 2]\n",
        "# ==> [[1, 2],\n",
        "#      [1, 2]]\n",
        "# [3]\n",
        "# [4]\n",
        "# ==> [[3, 3],\n",
        "#      [4, 4]]"
      ],
      "metadata": {
        "id": "odxFnVJogG_r"
      },
      "execution_count": 32,
      "outputs": []
    },
    {
      "cell_type": "code",
      "source": [
        "m1 = torch.FloatTensor([[1, 2], [3, 4]])\n",
        "m2 = torch.FloatTensor([[1], [2]])\n",
        "print('Shape of Matrix 1: ', m1.shape) # 2 x 2\n",
        "print('Shape of Matrix 2: ', m2.shape) # 2 x 1\n",
        "print(m1.matmul(m2)) # 2 x 1"
      ],
      "metadata": {
        "colab": {
          "base_uri": "https://localhost:8080/"
        },
        "id": "EfIeM7u-g0EI",
        "outputId": "050967a2-2af9-40c5-b12d-0d6faad9c31a"
      },
      "execution_count": 33,
      "outputs": [
        {
          "output_type": "stream",
          "name": "stdout",
          "text": [
            "Shape of Matrix 1:  torch.Size([2, 2])\n",
            "Shape of Matrix 2:  torch.Size([2, 1])\n",
            "tensor([[ 5.],\n",
            "        [11.]])\n"
          ]
        }
      ]
    },
    {
      "cell_type": "code",
      "source": [
        "m1 = torch.FloatTensor([[1, 2], [3, 4]])\n",
        "m2 = torch.FloatTensor([[1], [2]])\n",
        "print('Shape of Matrix 1: ', m1.shape) # 2 x 2\n",
        "print('Shape of Matrix 2: ', m2.shape) # 2 x 1\n",
        "print(m1 * m2) # 2 x 2\n",
        "print(m1.mul(m2))"
      ],
      "metadata": {
        "colab": {
          "base_uri": "https://localhost:8080/"
        },
        "id": "LIvU6evshF12",
        "outputId": "1af1869b-c0bc-4a05-dfc1-c9c4ed1950d7"
      },
      "execution_count": 34,
      "outputs": [
        {
          "output_type": "stream",
          "name": "stdout",
          "text": [
            "Shape of Matrix 1:  torch.Size([2, 2])\n",
            "Shape of Matrix 2:  torch.Size([2, 1])\n",
            "tensor([[1., 2.],\n",
            "        [6., 8.]])\n",
            "tensor([[1., 2.],\n",
            "        [6., 8.]])\n"
          ]
        }
      ]
    },
    {
      "cell_type": "code",
      "source": [
        "# 브로드캐스팅 과정에서 m2 텐서가 어떻게 변경되는지 보겠습니다.\n",
        "# [1]\n",
        "# [2]\n",
        "# ==> [[1, 1],\n",
        "#      [2, 2]]"
      ],
      "metadata": {
        "id": "24BUj0PjhZVZ"
      },
      "execution_count": null,
      "outputs": []
    },
    {
      "cell_type": "code",
      "source": [
        "t = torch.FloatTensor([1, 2])\n",
        "print(t.mean())"
      ],
      "metadata": {
        "colab": {
          "base_uri": "https://localhost:8080/"
        },
        "id": "zgUaHh1phljQ",
        "outputId": "5b374bce-d414-4471-eef0-e1ffb9d640f3"
      },
      "execution_count": 35,
      "outputs": [
        {
          "output_type": "stream",
          "name": "stdout",
          "text": [
            "tensor(1.5000)\n"
          ]
        }
      ]
    },
    {
      "cell_type": "code",
      "source": [
        "t = torch.FloatTensor([[1, 2], [3, 4]])\n",
        "print(t)"
      ],
      "metadata": {
        "colab": {
          "base_uri": "https://localhost:8080/"
        },
        "id": "6-0TqtSJho5n",
        "outputId": "4f84eb35-d929-4669-87a0-9061197743c2"
      },
      "execution_count": 36,
      "outputs": [
        {
          "output_type": "stream",
          "name": "stdout",
          "text": [
            "tensor([[1., 2.],\n",
            "        [3., 4.]])\n"
          ]
        }
      ]
    },
    {
      "cell_type": "code",
      "source": [
        "print(t.mean())"
      ],
      "metadata": {
        "colab": {
          "base_uri": "https://localhost:8080/"
        },
        "id": "2MNZcMaOh00u",
        "outputId": "456c1cdb-084f-4013-d28c-0b16e03ff5fe"
      },
      "execution_count": 37,
      "outputs": [
        {
          "output_type": "stream",
          "name": "stdout",
          "text": [
            "tensor(2.5000)\n"
          ]
        }
      ]
    },
    {
      "cell_type": "code",
      "source": [
        "print(t.mean(dim=0))"
      ],
      "metadata": {
        "colab": {
          "base_uri": "https://localhost:8080/"
        },
        "id": "nohCnObah2sG",
        "outputId": "7fc23d17-e518-45e7-b531-d3694e18bd42"
      },
      "execution_count": 38,
      "outputs": [
        {
          "output_type": "stream",
          "name": "stdout",
          "text": [
            "tensor([2., 3.])\n"
          ]
        }
      ]
    },
    {
      "cell_type": "code",
      "source": [
        "# 실제 연산 과정\n",
        "# t.mean(dim=0)은 입력에서 첫번째 차원을 제거한다.\n",
        "\n",
        "# [[1., 2.],\n",
        "#  [3., 4.]]\n",
        "\n",
        "# 1과 3의 평균을 구하고, 2와 4의 평균을 구한다.\n",
        "# 결과 ==> [2., 3.]"
      ],
      "metadata": {
        "id": "T6zrw6B4h4m3"
      },
      "execution_count": 39,
      "outputs": []
    },
    {
      "cell_type": "code",
      "source": [
        "print(t.mean(dim=1))"
      ],
      "metadata": {
        "colab": {
          "base_uri": "https://localhost:8080/"
        },
        "id": "9gE1A-9kif_s",
        "outputId": "e96db2e0-9184-4b27-819d-bc2b52a6adff"
      },
      "execution_count": 40,
      "outputs": [
        {
          "output_type": "stream",
          "name": "stdout",
          "text": [
            "tensor([1.5000, 3.5000])\n"
          ]
        }
      ]
    },
    {
      "cell_type": "code",
      "source": [
        "# 실제 연산 결과는 (2 x 1)\n",
        "# [1. 5]\n",
        "# [3. 5]"
      ],
      "metadata": {
        "id": "POwkzbnNiiC7"
      },
      "execution_count": 41,
      "outputs": []
    },
    {
      "cell_type": "code",
      "source": [
        "print(t.mean(dim=-1))"
      ],
      "metadata": {
        "colab": {
          "base_uri": "https://localhost:8080/"
        },
        "id": "dt_Ck6oOiuFk",
        "outputId": "3e09b701-3e19-497e-9c0d-d5b5f3e3d8a3"
      },
      "execution_count": 42,
      "outputs": [
        {
          "output_type": "stream",
          "name": "stdout",
          "text": [
            "tensor([1.5000, 3.5000])\n"
          ]
        }
      ]
    },
    {
      "cell_type": "code",
      "source": [
        "t =torch.FloatTensor([[1, 2], [3, 4]])\n",
        "print(t)"
      ],
      "metadata": {
        "colab": {
          "base_uri": "https://localhost:8080/"
        },
        "id": "pZnVNhQxiwzR",
        "outputId": "86dbb54f-a3e9-4290-ee2c-5587b588b84e"
      },
      "execution_count": 43,
      "outputs": [
        {
          "output_type": "stream",
          "name": "stdout",
          "text": [
            "tensor([[1., 2.],\n",
            "        [3., 4.]])\n"
          ]
        }
      ]
    },
    {
      "cell_type": "code",
      "source": [
        "print(t.sum()) # 단순히 원소 전체의 덧셈을 수행\n",
        "print(t.sum(dim=0)) # 행을 제거\n",
        "print(t.sum(dim=1)) # 열을 제거\n",
        "print(t.sum(dim=-1)) # 열을 제거"
      ],
      "metadata": {
        "colab": {
          "base_uri": "https://localhost:8080/"
        },
        "id": "Mffk7GzIizsW",
        "outputId": "ba939282-8c42-4f0f-b361-c6a3192068da"
      },
      "execution_count": 44,
      "outputs": [
        {
          "output_type": "stream",
          "name": "stdout",
          "text": [
            "tensor(10.)\n",
            "tensor([4., 6.])\n",
            "tensor([3., 7.])\n",
            "tensor([3., 7.])\n"
          ]
        }
      ]
    },
    {
      "cell_type": "code",
      "source": [
        "t = torch.FloatTensor([[1, 2], [3, 4]])\n",
        "print(t)"
      ],
      "metadata": {
        "colab": {
          "base_uri": "https://localhost:8080/"
        },
        "id": "3ZREqe9ai9Kp",
        "outputId": "78afdfd8-689d-4b8a-8e28-bbd0256935c8"
      },
      "execution_count": 45,
      "outputs": [
        {
          "output_type": "stream",
          "name": "stdout",
          "text": [
            "tensor([[1., 2.],\n",
            "        [3., 4.]])\n"
          ]
        }
      ]
    },
    {
      "cell_type": "code",
      "source": [
        "print(t.max()) # Returns one value: max"
      ],
      "metadata": {
        "colab": {
          "base_uri": "https://localhost:8080/"
        },
        "id": "zTVEw143jBp6",
        "outputId": "2ab7ba6f-f802-4191-a057-cf98ec809891"
      },
      "execution_count": 46,
      "outputs": [
        {
          "output_type": "stream",
          "name": "stdout",
          "text": [
            "tensor(4.)\n"
          ]
        }
      ]
    },
    {
      "cell_type": "code",
      "source": [
        "print(t.max(dim=0)) # Returns two values: max and argmax"
      ],
      "metadata": {
        "colab": {
          "base_uri": "https://localhost:8080/"
        },
        "id": "Bg7j-CyZjIhe",
        "outputId": "ef90083f-bbbc-42e9-b21b-cb01fcb57a36"
      },
      "execution_count": 47,
      "outputs": [
        {
          "output_type": "stream",
          "name": "stdout",
          "text": [
            "torch.return_types.max(\n",
            "values=tensor([3., 4.]),\n",
            "indices=tensor([1, 1]))\n"
          ]
        }
      ]
    },
    {
      "cell_type": "code",
      "source": [
        "# [1, 1]가 무슨 의미인지 봅시다. 기존 행렬을 다시 상기해봅시다.\n",
        "# [[1, 2],\n",
        "#  [3, 4]]\n",
        "# 첫번째 열에서 0번 인덱스는 1, 1번 인덱스는 3입니다.\n",
        "# 두번째 열에서 0번 인덱스는 2, 1번 인덱스는 4입니다.\n",
        "# 다시 말해 3과 4의 인덱스는 [1, 1]입니다."
      ],
      "metadata": {
        "id": "UTBpSKSHjPXh"
      },
      "execution_count": null,
      "outputs": []
    },
    {
      "cell_type": "code",
      "source": [
        "print('Max: ', t.max(dim=0)[0])\n",
        "print('Argmax: ', t.max(dim=0)[1])"
      ],
      "metadata": {
        "colab": {
          "base_uri": "https://localhost:8080/"
        },
        "id": "fTEtCDtSjq-Z",
        "outputId": "abe1a0f3-5a60-4958-e676-f431ca66fc56"
      },
      "execution_count": 48,
      "outputs": [
        {
          "output_type": "stream",
          "name": "stdout",
          "text": [
            "Max:  tensor([3., 4.])\n",
            "Argmax:  tensor([1, 1])\n"
          ]
        }
      ]
    },
    {
      "cell_type": "code",
      "source": [
        "print(t.max(dim=1))\n",
        "print(t.max(dim=-1))"
      ],
      "metadata": {
        "colab": {
          "base_uri": "https://localhost:8080/"
        },
        "id": "HTtV4eHEjx1O",
        "outputId": "2f3bcef3-45f0-434b-d9e5-7a7061772e8a"
      },
      "execution_count": 49,
      "outputs": [
        {
          "output_type": "stream",
          "name": "stdout",
          "text": [
            "torch.return_types.max(\n",
            "values=tensor([2., 4.]),\n",
            "indices=tensor([1, 1]))\n",
            "torch.return_types.max(\n",
            "values=tensor([2., 4.]),\n",
            "indices=tensor([1, 1]))\n"
          ]
        }
      ]
    },
    {
      "cell_type": "code",
      "source": [
        "t = np.array([[[0, 1, 2],\n",
        "               [3, 4, 5]],\n",
        "              [[6, 7, 8],\n",
        "               [9, 10, 11]]])\n",
        "ft = torch.FloatTensor(t)"
      ],
      "metadata": {
        "id": "uS9aVCzAj308"
      },
      "execution_count": 50,
      "outputs": []
    },
    {
      "cell_type": "code",
      "source": [
        "print(ft.shape)"
      ],
      "metadata": {
        "colab": {
          "base_uri": "https://localhost:8080/"
        },
        "id": "njg7d6ankGxM",
        "outputId": "cb325705-8954-46a4-a9ca-d298c8b5c2a8"
      },
      "execution_count": 51,
      "outputs": [
        {
          "output_type": "stream",
          "name": "stdout",
          "text": [
            "torch.Size([2, 2, 3])\n"
          ]
        }
      ]
    },
    {
      "cell_type": "code",
      "source": [
        "print(ft.view([-1, 3])) # ft라는 텐서를 (?, 3)의 크기로 변경\n",
        "print(ft.view([-1, 3]).shape)"
      ],
      "metadata": {
        "colab": {
          "base_uri": "https://localhost:8080/"
        },
        "id": "g3diBmD9kIAj",
        "outputId": "2d9e3700-5b49-483e-bb88-d6b9eae064b7"
      },
      "execution_count": 52,
      "outputs": [
        {
          "output_type": "stream",
          "name": "stdout",
          "text": [
            "tensor([[ 0.,  1.,  2.],\n",
            "        [ 3.,  4.,  5.],\n",
            "        [ 6.,  7.,  8.],\n",
            "        [ 9., 10., 11.]])\n",
            "torch.Size([4, 3])\n"
          ]
        }
      ]
    },
    {
      "cell_type": "code",
      "source": [
        "print(ft.view([-1, 1, 3]))\n",
        "print(ft.view([-1, 1, 3]).shape)"
      ],
      "metadata": {
        "colab": {
          "base_uri": "https://localhost:8080/"
        },
        "id": "FT6xxkBtkR9Q",
        "outputId": "81d559b7-c0b6-4efe-f7c1-f7dc954fc816"
      },
      "execution_count": 53,
      "outputs": [
        {
          "output_type": "stream",
          "name": "stdout",
          "text": [
            "tensor([[[ 0.,  1.,  2.]],\n",
            "\n",
            "        [[ 3.,  4.,  5.]],\n",
            "\n",
            "        [[ 6.,  7.,  8.]],\n",
            "\n",
            "        [[ 9., 10., 11.]]])\n",
            "torch.Size([4, 1, 3])\n"
          ]
        }
      ]
    },
    {
      "cell_type": "code",
      "source": [
        "ft = torch.FloatTensor([[0], [1], [2]])\n",
        "print(ft)\n",
        "print(ft.shape)"
      ],
      "metadata": {
        "colab": {
          "base_uri": "https://localhost:8080/"
        },
        "id": "fp6EQ4nFko6-",
        "outputId": "421ce5f9-9b3a-41f1-9c13-886c876c588b"
      },
      "execution_count": 54,
      "outputs": [
        {
          "output_type": "stream",
          "name": "stdout",
          "text": [
            "tensor([[0.],\n",
            "        [1.],\n",
            "        [2.]])\n",
            "torch.Size([3, 1])\n"
          ]
        }
      ]
    },
    {
      "cell_type": "code",
      "source": [
        "print(ft.squeeze())\n",
        "print(ft.squeeze().shape)"
      ],
      "metadata": {
        "colab": {
          "base_uri": "https://localhost:8080/"
        },
        "id": "x_Yk0iYukvt3",
        "outputId": "4221551e-05b0-4226-d394-92cd08aa04b0"
      },
      "execution_count": 55,
      "outputs": [
        {
          "output_type": "stream",
          "name": "stdout",
          "text": [
            "tensor([0., 1., 2.])\n",
            "torch.Size([3])\n"
          ]
        }
      ]
    },
    {
      "cell_type": "code",
      "source": [
        "ft = torch.Tensor([0, 1, 2])\n",
        "print(ft.shape)"
      ],
      "metadata": {
        "colab": {
          "base_uri": "https://localhost:8080/"
        },
        "id": "hdjlsFB5k0ef",
        "outputId": "8573bb94-0b86-45fa-9453-c289ba04a16e"
      },
      "execution_count": 56,
      "outputs": [
        {
          "output_type": "stream",
          "name": "stdout",
          "text": [
            "torch.Size([3])\n"
          ]
        }
      ]
    },
    {
      "cell_type": "code",
      "source": [
        "print(ft.unsqueeze(0)) # 인덱스가 0부터 시작하므로 0은 첫번째 차원을 의미한다.\n",
        "print(ft.unsqueeze(0).shape)"
      ],
      "metadata": {
        "colab": {
          "base_uri": "https://localhost:8080/"
        },
        "id": "CNEasHCEk5kk",
        "outputId": "f3582f32-e460-4049-c7cf-1a33cbfd172d"
      },
      "execution_count": 57,
      "outputs": [
        {
          "output_type": "stream",
          "name": "stdout",
          "text": [
            "tensor([[0., 1., 2.]])\n",
            "torch.Size([1, 3])\n"
          ]
        }
      ]
    },
    {
      "cell_type": "code",
      "source": [
        "print(ft.view(1, -1))\n",
        "print(ft.view(1, -1).shape)"
      ],
      "metadata": {
        "colab": {
          "base_uri": "https://localhost:8080/"
        },
        "id": "TwwSzbtHlAlj",
        "outputId": "bdf6dc2b-bb26-4f37-f0ce-49375123ae95"
      },
      "execution_count": 58,
      "outputs": [
        {
          "output_type": "stream",
          "name": "stdout",
          "text": [
            "tensor([[0., 1., 2.]])\n",
            "torch.Size([1, 3])\n"
          ]
        }
      ]
    },
    {
      "cell_type": "code",
      "source": [
        "print(ft.unsqueeze(1))\n",
        "print(ft.unsqueeze(1).shape)"
      ],
      "metadata": {
        "colab": {
          "base_uri": "https://localhost:8080/"
        },
        "id": "3tWiV3xalEEV",
        "outputId": "a6fc20e5-bffd-4575-8c7c-5847d60cb725"
      },
      "execution_count": 59,
      "outputs": [
        {
          "output_type": "stream",
          "name": "stdout",
          "text": [
            "tensor([[0.],\n",
            "        [1.],\n",
            "        [2.]])\n",
            "torch.Size([3, 1])\n"
          ]
        }
      ]
    },
    {
      "cell_type": "code",
      "source": [
        "print(ft.unsqueeze(-1))\n",
        "print(ft.unsqueeze(-1).shape)"
      ],
      "metadata": {
        "colab": {
          "base_uri": "https://localhost:8080/"
        },
        "id": "2QTUXCgqlH8x",
        "outputId": "44f7d514-f907-459a-d903-1a94dbd6e600"
      },
      "execution_count": 60,
      "outputs": [
        {
          "output_type": "stream",
          "name": "stdout",
          "text": [
            "tensor([[0.],\n",
            "        [1.],\n",
            "        [2.]])\n",
            "torch.Size([3, 1])\n"
          ]
        }
      ]
    },
    {
      "cell_type": "code",
      "source": [
        "lt = torch.LongTensor([1, 2, 3, 4])\n",
        "print(lt)"
      ],
      "metadata": {
        "colab": {
          "base_uri": "https://localhost:8080/"
        },
        "id": "v9u-dyZ9lL_g",
        "outputId": "66fdb214-6da4-4468-ddc5-9d9cb6221b0d"
      },
      "execution_count": 61,
      "outputs": [
        {
          "output_type": "stream",
          "name": "stdout",
          "text": [
            "tensor([1, 2, 3, 4])\n"
          ]
        }
      ]
    },
    {
      "cell_type": "code",
      "source": [
        "print(lt.float())"
      ],
      "metadata": {
        "colab": {
          "base_uri": "https://localhost:8080/"
        },
        "id": "4yLnG49RlRIs",
        "outputId": "544f9b71-8c48-4a6e-fbe0-7019e10253c7"
      },
      "execution_count": 62,
      "outputs": [
        {
          "output_type": "stream",
          "name": "stdout",
          "text": [
            "tensor([1., 2., 3., 4.])\n"
          ]
        }
      ]
    },
    {
      "cell_type": "code",
      "source": [
        "bt = torch.ByteTensor([True, False, False, True])\n",
        "print(bt)"
      ],
      "metadata": {
        "colab": {
          "base_uri": "https://localhost:8080/"
        },
        "id": "tU5pqQZ6losJ",
        "outputId": "6c957d19-a956-4d0b-b000-cce48d81a2de"
      },
      "execution_count": 63,
      "outputs": [
        {
          "output_type": "stream",
          "name": "stdout",
          "text": [
            "tensor([1, 0, 0, 1], dtype=torch.uint8)\n"
          ]
        }
      ]
    },
    {
      "cell_type": "code",
      "source": [
        "print(bt.long())\n",
        "print(bt.float())"
      ],
      "metadata": {
        "colab": {
          "base_uri": "https://localhost:8080/"
        },
        "id": "-avhTAV7lsUn",
        "outputId": "10dd76ee-578a-4375-ca17-dbee37334e2d"
      },
      "execution_count": 64,
      "outputs": [
        {
          "output_type": "stream",
          "name": "stdout",
          "text": [
            "tensor([1, 0, 0, 1])\n",
            "tensor([1., 0., 0., 1.])\n"
          ]
        }
      ]
    },
    {
      "cell_type": "code",
      "source": [
        "x = torch.FloatTensor([[1, 2], [3, 4]])\n",
        "y = torch.FloatTensor([[5, 6], [7, 8]])"
      ],
      "metadata": {
        "id": "ESiTTivMluyZ"
      },
      "execution_count": 65,
      "outputs": []
    },
    {
      "cell_type": "code",
      "source": [
        "print(torch.cat([x, y], dim=0))"
      ],
      "metadata": {
        "colab": {
          "base_uri": "https://localhost:8080/"
        },
        "id": "GNTgMNlMl0Fy",
        "outputId": "3873fe7a-4b2b-4f9a-d115-c3802788f107"
      },
      "execution_count": 67,
      "outputs": [
        {
          "output_type": "stream",
          "name": "stdout",
          "text": [
            "tensor([[1., 2.],\n",
            "        [3., 4.],\n",
            "        [5., 6.],\n",
            "        [7., 8.]])\n"
          ]
        }
      ]
    },
    {
      "cell_type": "code",
      "source": [
        "x = torch.FloatTensor([1, 4])\n",
        "y = torch.FloatTensor([2, 5])\n",
        "z = torch.FloatTensor([3, 6])"
      ],
      "metadata": {
        "id": "uZBsSMyjl39v"
      },
      "execution_count": 68,
      "outputs": []
    },
    {
      "cell_type": "code",
      "source": [
        "print(torch.stack([x, y, z]))"
      ],
      "metadata": {
        "colab": {
          "base_uri": "https://localhost:8080/"
        },
        "id": "8uId0kCVl3B3",
        "outputId": "d89d63d6-4b03-4153-f37d-7491699e1739"
      },
      "execution_count": 69,
      "outputs": [
        {
          "output_type": "stream",
          "name": "stdout",
          "text": [
            "tensor([[1., 4.],\n",
            "        [2., 5.],\n",
            "        [3., 6.]])\n"
          ]
        }
      ]
    },
    {
      "cell_type": "code",
      "source": [
        "print(torch.cat([x.unsqueeze(0), y.unsqueeze(0), z.unsqueeze(0)], dim=0))"
      ],
      "metadata": {
        "colab": {
          "base_uri": "https://localhost:8080/"
        },
        "id": "pVWRtpKImCtG",
        "outputId": "ead978cb-999d-40a5-bb79-69d41f2d74d3"
      },
      "execution_count": 70,
      "outputs": [
        {
          "output_type": "stream",
          "name": "stdout",
          "text": [
            "tensor([[1., 4.],\n",
            "        [2., 5.],\n",
            "        [3., 6.]])\n"
          ]
        }
      ]
    },
    {
      "cell_type": "code",
      "source": [
        "print(torch.stack([x, y, z], dim=1))"
      ],
      "metadata": {
        "colab": {
          "base_uri": "https://localhost:8080/"
        },
        "id": "TbpHlRAGmIoD",
        "outputId": "627db709-84b0-4947-a42a-4cabfe94d274"
      },
      "execution_count": 71,
      "outputs": [
        {
          "output_type": "stream",
          "name": "stdout",
          "text": [
            "tensor([[1., 2., 3.],\n",
            "        [4., 5., 6.]])\n"
          ]
        }
      ]
    },
    {
      "cell_type": "code",
      "source": [
        "x = torch.FloatTensor([[0, 1, 2], [2, 1, 0]])\n",
        "print(x)"
      ],
      "metadata": {
        "colab": {
          "base_uri": "https://localhost:8080/"
        },
        "id": "qPd9lFIFmW2x",
        "outputId": "cbe22d50-63e0-48c5-83cb-c673e5f8988a"
      },
      "execution_count": 72,
      "outputs": [
        {
          "output_type": "stream",
          "name": "stdout",
          "text": [
            "tensor([[0., 1., 2.],\n",
            "        [2., 1., 0.]])\n"
          ]
        }
      ]
    },
    {
      "cell_type": "code",
      "source": [
        "print(torch.ones_like(x)) # 입력 텐서와 크기를 동일하게 하면서 값을 1로 채우기"
      ],
      "metadata": {
        "colab": {
          "base_uri": "https://localhost:8080/"
        },
        "id": "PlLb-bI8mbTu",
        "outputId": "dace6ba6-170a-41e3-fbf5-bc0fbec3f94f"
      },
      "execution_count": 73,
      "outputs": [
        {
          "output_type": "stream",
          "name": "stdout",
          "text": [
            "tensor([[1., 1., 1.],\n",
            "        [1., 1., 1.]])\n"
          ]
        }
      ]
    },
    {
      "cell_type": "code",
      "source": [
        "print(torch.zeros_like(x)) # 입력 텐서와 크기를 동일하게 하면서 값을 0으로 채우기"
      ],
      "metadata": {
        "colab": {
          "base_uri": "https://localhost:8080/"
        },
        "id": "yDJAluY-mg4y",
        "outputId": "4ed2578d-f077-492d-b124-7db2bb011cd5"
      },
      "execution_count": 74,
      "outputs": [
        {
          "output_type": "stream",
          "name": "stdout",
          "text": [
            "tensor([[0., 0., 0.],\n",
            "        [0., 0., 0.]])\n"
          ]
        }
      ]
    },
    {
      "cell_type": "code",
      "source": [
        "x = torch.FloatTensor([[1, 2], [3, 4]])"
      ],
      "metadata": {
        "id": "FZWELYiTmqmM"
      },
      "execution_count": 75,
      "outputs": []
    },
    {
      "cell_type": "code",
      "source": [
        "print(x.mul(2.)) # 곱하기 2를 수행한 결과를 출력\n",
        "print(x) # 기존의 값 출력"
      ],
      "metadata": {
        "colab": {
          "base_uri": "https://localhost:8080/"
        },
        "id": "9Gjwrk7kmtEo",
        "outputId": "be08b841-a307-4e7e-a564-75fa10cf92ce"
      },
      "execution_count": 76,
      "outputs": [
        {
          "output_type": "stream",
          "name": "stdout",
          "text": [
            "tensor([[2., 4.],\n",
            "        [6., 8.]])\n",
            "tensor([[1., 2.],\n",
            "        [3., 4.]])\n"
          ]
        }
      ]
    },
    {
      "cell_type": "code",
      "source": [
        "print(x.mul_(2.)) # 곱하기 2를 수행한 결과를 변수 x에 값을 저장하면서 결과를 출력\n",
        "print(x) # 기존의 값 출력"
      ],
      "metadata": {
        "colab": {
          "base_uri": "https://localhost:8080/"
        },
        "id": "hnZA8JONm0Du",
        "outputId": "1110c74f-237d-4f46-dd91-f894fca1b983"
      },
      "execution_count": 77,
      "outputs": [
        {
          "output_type": "stream",
          "name": "stdout",
          "text": [
            "tensor([[2., 4.],\n",
            "        [6., 8.]])\n",
            "tensor([[2., 4.],\n",
            "        [6., 8.]])\n"
          ]
        }
      ]
    },
    {
      "cell_type": "code",
      "source": [
        "result = 0"
      ],
      "metadata": {
        "id": "rOmNfib2m6ob"
      },
      "execution_count": 78,
      "outputs": []
    },
    {
      "cell_type": "code",
      "source": [
        "def add(num):\n",
        "    global result\n",
        "    result += num\n",
        "    return result"
      ],
      "metadata": {
        "id": "KXLlETy2nBBX"
      },
      "execution_count": 79,
      "outputs": []
    },
    {
      "cell_type": "code",
      "source": [
        "print(add(3))\n",
        "print(add(4))"
      ],
      "metadata": {
        "colab": {
          "base_uri": "https://localhost:8080/"
        },
        "id": "pxWiDju0nHeM",
        "outputId": "d5bab930-5e09-4278-cd93-34c14df4b0b9"
      },
      "execution_count": 80,
      "outputs": [
        {
          "output_type": "stream",
          "name": "stdout",
          "text": [
            "3\n",
            "7\n"
          ]
        }
      ]
    },
    {
      "cell_type": "code",
      "source": [
        "result1 = 0\n",
        "result2 = 0\n",
        "\n",
        "def add1(num):\n",
        "    global result1\n",
        "    result1 += num\n",
        "    return result1\n",
        "\n",
        "def add2(num):\n",
        "    global result2\n",
        "    result2 += num\n",
        "    return result2\n",
        "\n",
        "print(add1(3))\n",
        "print(add1(4))\n",
        "print(add2(3))\n",
        "print(add2(7))"
      ],
      "metadata": {
        "colab": {
          "base_uri": "https://localhost:8080/"
        },
        "id": "QiGxjWW8nJhv",
        "outputId": "29497b8c-ed43-4690-eb60-a2b6a33b034a"
      },
      "execution_count": 81,
      "outputs": [
        {
          "output_type": "stream",
          "name": "stdout",
          "text": [
            "3\n",
            "7\n",
            "3\n",
            "10\n"
          ]
        }
      ]
    },
    {
      "cell_type": "code",
      "source": [
        "class Calculator:\n",
        "    def __init__(self): # 객체 생성 시 호출될 때 실행되는 초기화 함수. 이를 생성자라고 한다.\n",
        "        self.result = 0\n",
        "\n",
        "    def add(self, num): # 객체 생성 후 사용할 수 있는 함수.\n",
        "        self.result += num\n",
        "        return self.result"
      ],
      "metadata": {
        "id": "MhN8LoWFnY1K"
      },
      "execution_count": 86,
      "outputs": []
    },
    {
      "cell_type": "code",
      "source": [
        "cal1 = Calculator()"
      ],
      "metadata": {
        "id": "ZduZdfPLoFHC"
      },
      "execution_count": 87,
      "outputs": []
    },
    {
      "cell_type": "code",
      "source": [
        "cal2 = Calculator()"
      ],
      "metadata": {
        "id": "RBWplmAroG7j"
      },
      "execution_count": 88,
      "outputs": []
    },
    {
      "cell_type": "code",
      "source": [
        "print(cal1.add(3))\n",
        "print(cal1.add(4))\n",
        "print(cal2.add(3))\n",
        "print(cal2.add(7))"
      ],
      "metadata": {
        "colab": {
          "base_uri": "https://localhost:8080/"
        },
        "id": "PrRp7JTSoIga",
        "outputId": "e999cf77-07fd-46ab-b92e-31813d394e7e"
      },
      "execution_count": 89,
      "outputs": [
        {
          "output_type": "stream",
          "name": "stdout",
          "text": [
            "3\n",
            "7\n",
            "3\n",
            "10\n"
          ]
        }
      ]
    },
    {
      "cell_type": "code",
      "source": [
        "x_train = torch.FloatTensor([[1], [2], [3]])\n",
        "y_train = torch.FloatTensor([[2], [4], [6]])"
      ],
      "metadata": {
        "id": "dZXjfKsPoPsS"
      },
      "execution_count": 90,
      "outputs": []
    },
    {
      "cell_type": "code",
      "source": [
        "import torch\n",
        "import torch.nn as nn\n",
        "import torch.nn.functional as F\n",
        "import torch.optim as optim"
      ],
      "metadata": {
        "id": "Hr-FsK1KokPI"
      },
      "execution_count": 91,
      "outputs": []
    },
    {
      "cell_type": "code",
      "source": [
        "# 현재 실습하고 있는 파이썬 코드를 재실행해도 다음에도 같은 결과가 나오도록 랜덤 시드(random seed)를 줍니다.\n",
        "torch.manual_seed(1)"
      ],
      "metadata": {
        "colab": {
          "base_uri": "https://localhost:8080/"
        },
        "id": "46TbWvSloshe",
        "outputId": "7c855c55-46f4-47db-9565-93679ee3c591"
      },
      "execution_count": 92,
      "outputs": [
        {
          "output_type": "execute_result",
          "data": {
            "text/plain": [
              "<torch._C.Generator at 0x7d0d41cd7c90>"
            ]
          },
          "metadata": {},
          "execution_count": 92
        }
      ]
    },
    {
      "cell_type": "code",
      "source": [
        "x_train = torch.FloatTensor([[1], [2], [3]])\n",
        "y_train = torch.FloatTensor([[2], [4], [6]])"
      ],
      "metadata": {
        "id": "pDahXEqQo0Ge"
      },
      "execution_count": 93,
      "outputs": []
    },
    {
      "cell_type": "code",
      "source": [
        "print(x_train)\n",
        "print(x_train.shape)"
      ],
      "metadata": {
        "colab": {
          "base_uri": "https://localhost:8080/"
        },
        "id": "t_HQgRJdo_dN",
        "outputId": "263446f4-4880-442a-d714-63fa3847b075"
      },
      "execution_count": 94,
      "outputs": [
        {
          "output_type": "stream",
          "name": "stdout",
          "text": [
            "tensor([[1.],\n",
            "        [2.],\n",
            "        [3.]])\n",
            "torch.Size([3, 1])\n"
          ]
        }
      ]
    },
    {
      "cell_type": "code",
      "source": [
        "print(y_train)\n",
        "print(y_train.shape)"
      ],
      "metadata": {
        "colab": {
          "base_uri": "https://localhost:8080/"
        },
        "id": "gXNpa68bpCpd",
        "outputId": "3744980e-3f4f-41e8-9024-8ce569dc790c"
      },
      "execution_count": 95,
      "outputs": [
        {
          "output_type": "stream",
          "name": "stdout",
          "text": [
            "tensor([[2.],\n",
            "        [4.],\n",
            "        [6.]])\n",
            "torch.Size([3, 1])\n"
          ]
        }
      ]
    },
    {
      "cell_type": "code",
      "source": [
        "# 가중치 W를 0으로 초기화하고 학습을 통해 값이 변경되는 변수임을 명시함.\n",
        "W = torch.zeros(1, requires_grad=True)\n",
        "# 가중치 W를 출력\n",
        "print(W)"
      ],
      "metadata": {
        "colab": {
          "base_uri": "https://localhost:8080/"
        },
        "id": "i5m3-akapFUu",
        "outputId": "690f28fb-5a0d-4290-9552-a18b9f4dd459"
      },
      "execution_count": 97,
      "outputs": [
        {
          "output_type": "stream",
          "name": "stdout",
          "text": [
            "tensor([0.], requires_grad=True)\n"
          ]
        }
      ]
    },
    {
      "cell_type": "code",
      "source": [
        "b = torch.zeros(1, requires_grad=True)\n",
        "print(b)"
      ],
      "metadata": {
        "colab": {
          "base_uri": "https://localhost:8080/"
        },
        "id": "8G7FQsLQpQ7R",
        "outputId": "95c2badf-8f22-4ccc-e636-8693bebd39f9"
      },
      "execution_count": 98,
      "outputs": [
        {
          "output_type": "stream",
          "name": "stdout",
          "text": [
            "tensor([0.], requires_grad=True)\n"
          ]
        }
      ]
    },
    {
      "cell_type": "code",
      "source": [
        "hypothesis = x_train * W + b\n",
        "print(hypothesis)"
      ],
      "metadata": {
        "colab": {
          "base_uri": "https://localhost:8080/"
        },
        "id": "AcK7efXzpP5c",
        "outputId": "2041341d-6013-49b6-e699-da301079d81b"
      },
      "execution_count": 99,
      "outputs": [
        {
          "output_type": "stream",
          "name": "stdout",
          "text": [
            "tensor([[0.],\n",
            "        [0.],\n",
            "        [0.]], grad_fn=<AddBackward0>)\n"
          ]
        }
      ]
    },
    {
      "cell_type": "code",
      "source": [
        "# 앞서 배운 torch.mean으로 평균을 구한다.\n",
        "cost = torch.mean((hypothesis - y_train) ** 2)\n",
        "print(cost)"
      ],
      "metadata": {
        "colab": {
          "base_uri": "https://localhost:8080/"
        },
        "id": "v7wc_OC8pq9x",
        "outputId": "55b4228d-a5cc-454c-ef69-84679245b11e"
      },
      "execution_count": 100,
      "outputs": [
        {
          "output_type": "stream",
          "name": "stdout",
          "text": [
            "tensor(18.6667, grad_fn=<MeanBackward0>)\n"
          ]
        }
      ]
    },
    {
      "cell_type": "code",
      "source": [
        "optimizer = optim.SGD([W, b], lr=0.01)"
      ],
      "metadata": {
        "id": "ZoVf0B9kpy05"
      },
      "execution_count": 101,
      "outputs": []
    },
    {
      "cell_type": "code",
      "source": [
        "# gradient를 0으로 초기화\n",
        "optimizer.zero_grad()\n",
        "# 비용 함수를 미분하여 gradient 계산\n",
        "cost.backward()\n",
        "# W와 b를 업데이트\n",
        "optimizer.step()"
      ],
      "metadata": {
        "id": "Oyz8Am35p2ma"
      },
      "execution_count": 102,
      "outputs": []
    },
    {
      "cell_type": "code",
      "source": [
        "# 데이터\n",
        "x_train = torch.FloatTensor([[1], [2], [3]])\n",
        "y_train = torch.FloatTensor([[2], [4], [6]])\n",
        "# 모델 초기화\n",
        "W = torch.zeros(1, requires_grad=True)\n",
        "b = torch.zeros(1, requires_grad=True)\n",
        "# optimizer 설정\n",
        "optimizer = optim.SGD([W, b], lr=0.01)\n",
        "\n",
        "nb_epochs = 1999 # 원하는만큼 경사 하강법을 반복\n",
        "for epoch in range(nb_epochs + 1):\n",
        "\n",
        "    # H(x) 계산\n",
        "    hypothesis = x_train * W + b\n",
        "\n",
        "    # cost 계산\n",
        "    cost = torch.mean((hypothesis - y_train) ** 2)\n",
        "\n",
        "    # cost로 H(x) 개선\n",
        "    optimizer.zero_grad()\n",
        "    cost.backward()\n",
        "    optimizer.step()\n",
        "\n",
        "    # 100번마다 로그 출력\n",
        "    if epoch % 100 == 0:\n",
        "        print('Epoch {:4d}/{} W: {:.3f}, b: {:.3f} Cost: {:.6f}'.format(\n",
        "            epoch, nb_epochs, W.item(), b.item(), cost.item()\n",
        "        ))"
      ],
      "metadata": {
        "colab": {
          "base_uri": "https://localhost:8080/"
        },
        "id": "J1qo-3n8qBRA",
        "outputId": "56a0a03f-4f45-4720-845c-b82e33b8aa45"
      },
      "execution_count": 103,
      "outputs": [
        {
          "output_type": "stream",
          "name": "stdout",
          "text": [
            "Epoch    0/1999 W: 0.187, b: 0.080 Cost: 18.666666\n",
            "Epoch  100/1999 W: 1.746, b: 0.578 Cost: 0.048171\n",
            "Epoch  200/1999 W: 1.800, b: 0.454 Cost: 0.029767\n",
            "Epoch  300/1999 W: 1.843, b: 0.357 Cost: 0.018394\n",
            "Epoch  400/1999 W: 1.876, b: 0.281 Cost: 0.011366\n",
            "Epoch  500/1999 W: 1.903, b: 0.221 Cost: 0.007024\n",
            "Epoch  600/1999 W: 1.924, b: 0.174 Cost: 0.004340\n",
            "Epoch  700/1999 W: 1.940, b: 0.136 Cost: 0.002682\n",
            "Epoch  800/1999 W: 1.953, b: 0.107 Cost: 0.001657\n",
            "Epoch  900/1999 W: 1.963, b: 0.084 Cost: 0.001024\n",
            "Epoch 1000/1999 W: 1.971, b: 0.066 Cost: 0.000633\n",
            "Epoch 1100/1999 W: 1.977, b: 0.052 Cost: 0.000391\n",
            "Epoch 1200/1999 W: 1.982, b: 0.041 Cost: 0.000242\n",
            "Epoch 1300/1999 W: 1.986, b: 0.032 Cost: 0.000149\n",
            "Epoch 1400/1999 W: 1.989, b: 0.025 Cost: 0.000092\n",
            "Epoch 1500/1999 W: 1.991, b: 0.020 Cost: 0.000057\n",
            "Epoch 1600/1999 W: 1.993, b: 0.016 Cost: 0.000035\n",
            "Epoch 1700/1999 W: 1.995, b: 0.012 Cost: 0.000022\n",
            "Epoch 1800/1999 W: 1.996, b: 0.010 Cost: 0.000013\n",
            "Epoch 1900/1999 W: 1.997, b: 0.008 Cost: 0.000008\n"
          ]
        }
      ]
    },
    {
      "cell_type": "code",
      "source": [
        "import torch\n",
        "w = torch.tensor(2.0, requires_grad=True)\n",
        "\n",
        "nb_epochs = 20\n",
        "for epoch in range(nb_epochs + 1):\n",
        "\n",
        "    z = 2*w\n",
        "\n",
        "    z.backward()\n",
        "    print('수식을 w로 미분한 값 : {}'.format(w.grad))"
      ],
      "metadata": {
        "colab": {
          "base_uri": "https://localhost:8080/"
        },
        "id": "uDbO039KrBe2",
        "outputId": "36c2f312-a7a9-441a-8f9b-e6c899e3c6cd"
      },
      "execution_count": 104,
      "outputs": [
        {
          "output_type": "stream",
          "name": "stdout",
          "text": [
            "수식을 w로 미분한 값 : 2.0\n",
            "수식을 w로 미분한 값 : 4.0\n",
            "수식을 w로 미분한 값 : 6.0\n",
            "수식을 w로 미분한 값 : 8.0\n",
            "수식을 w로 미분한 값 : 10.0\n",
            "수식을 w로 미분한 값 : 12.0\n",
            "수식을 w로 미분한 값 : 14.0\n",
            "수식을 w로 미분한 값 : 16.0\n",
            "수식을 w로 미분한 값 : 18.0\n",
            "수식을 w로 미분한 값 : 20.0\n",
            "수식을 w로 미분한 값 : 22.0\n",
            "수식을 w로 미분한 값 : 24.0\n",
            "수식을 w로 미분한 값 : 26.0\n",
            "수식을 w로 미분한 값 : 28.0\n",
            "수식을 w로 미분한 값 : 30.0\n",
            "수식을 w로 미분한 값 : 32.0\n",
            "수식을 w로 미분한 값 : 34.0\n",
            "수식을 w로 미분한 값 : 36.0\n",
            "수식을 w로 미분한 값 : 38.0\n",
            "수식을 w로 미분한 값 : 40.0\n",
            "수식을 w로 미분한 값 : 42.0\n"
          ]
        }
      ]
    },
    {
      "cell_type": "code",
      "source": [
        "import torch"
      ],
      "metadata": {
        "id": "5niRcTMjrScO"
      },
      "execution_count": 105,
      "outputs": []
    },
    {
      "cell_type": "code",
      "source": [
        "torch.manual_seed(3)\n",
        "print('랜덤 시드가 3일 때')\n",
        "for i in range(1,3):\n",
        "    print(torch.rand(1))"
      ],
      "metadata": {
        "colab": {
          "base_uri": "https://localhost:8080/"
        },
        "id": "iVmg13gtrUUY",
        "outputId": "b2dbde25-2a04-44a1-8812-2591971a2fa7"
      },
      "execution_count": 106,
      "outputs": [
        {
          "output_type": "stream",
          "name": "stdout",
          "text": [
            "랜덤 시드가 3일 때\n",
            "tensor([0.0043])\n",
            "tensor([0.1056])\n"
          ]
        }
      ]
    },
    {
      "cell_type": "code",
      "source": [
        "torch.manual_seed(5)\n",
        "print('랜덤 시드가 5일 때')\n",
        "for i in range(1,3):\n",
        "    print(torch.rand(1))"
      ],
      "metadata": {
        "colab": {
          "base_uri": "https://localhost:8080/"
        },
        "id": "MUZV5KBbsoUl",
        "outputId": "46294869-a13d-4df2-bda7-e49b0e8b6a4a"
      },
      "execution_count": 107,
      "outputs": [
        {
          "output_type": "stream",
          "name": "stdout",
          "text": [
            "랜덤 시드가 5일 때\n",
            "tensor([0.8303])\n",
            "tensor([0.1261])\n"
          ]
        }
      ]
    },
    {
      "cell_type": "code",
      "source": [
        "torch.manual_seed(3)\n",
        "print('랜덤 시드가 다시 3일 때')\n",
        "for i in range(1,3):\n",
        "    print(torch.rand(1))"
      ],
      "metadata": {
        "colab": {
          "base_uri": "https://localhost:8080/"
        },
        "id": "98XvWnSisvRX",
        "outputId": "3e3bfeb2-9a04-4a6f-b1fc-2f52e61810f1"
      },
      "execution_count": 108,
      "outputs": [
        {
          "output_type": "stream",
          "name": "stdout",
          "text": [
            "랜덤 시드가 다시 3일 때\n",
            "tensor([0.0043])\n",
            "tensor([0.1056])\n"
          ]
        }
      ]
    },
    {
      "cell_type": "code",
      "source": [
        "import torch"
      ],
      "metadata": {
        "id": "gVk1DMoSs6Dn"
      },
      "execution_count": 109,
      "outputs": []
    },
    {
      "cell_type": "code",
      "source": [
        "w = torch.tensor(2.0, requires_grad=True)"
      ],
      "metadata": {
        "id": "CZiEr1fXs7vL"
      },
      "execution_count": 110,
      "outputs": []
    },
    {
      "cell_type": "code",
      "source": [
        "y = w**2\n",
        "z = 2*y + 5"
      ],
      "metadata": {
        "id": "zfcGLEdIs-Eg"
      },
      "execution_count": 111,
      "outputs": []
    },
    {
      "cell_type": "code",
      "source": [
        "z.backward()"
      ],
      "metadata": {
        "id": "M-8tnb9stBZS"
      },
      "execution_count": 112,
      "outputs": []
    },
    {
      "cell_type": "code",
      "source": [
        "print('수식을 w로 미분한 값 : {}'.format(w.grad))"
      ],
      "metadata": {
        "colab": {
          "base_uri": "https://localhost:8080/"
        },
        "id": "YJ8HFitPtDPE",
        "outputId": "3776ef2f-e0f5-44d2-d868-e28d535b0db5"
      },
      "execution_count": 113,
      "outputs": [
        {
          "output_type": "stream",
          "name": "stdout",
          "text": [
            "수식을 w로 미분한 값 : 8.0\n"
          ]
        }
      ]
    },
    {
      "cell_type": "code",
      "source": [
        "import torch\n",
        "import torch.nn as nn\n",
        "import torch.nn.functional as F\n",
        "import torch.optim as optim"
      ],
      "metadata": {
        "id": "QEiGTz43tIhR"
      },
      "execution_count": 114,
      "outputs": []
    },
    {
      "cell_type": "code",
      "source": [
        "torch.manual_seed(1)"
      ],
      "metadata": {
        "colab": {
          "base_uri": "https://localhost:8080/"
        },
        "id": "0Dz60JEbtXFY",
        "outputId": "c460aa1c-e8b1-45b2-97e2-74d4bbc0ef50"
      },
      "execution_count": 115,
      "outputs": [
        {
          "output_type": "execute_result",
          "data": {
            "text/plain": [
              "<torch._C.Generator at 0x7d0d41cd7c90>"
            ]
          },
          "metadata": {},
          "execution_count": 115
        }
      ]
    },
    {
      "cell_type": "code",
      "source": [
        "# 훈련 데이터\n",
        "x1_train = torch.FloatTensor([[73], [93], [89], [96], [73]])\n",
        "x2_train = torch.FloatTensor([[80], [88], [91], [98], [66]])\n",
        "x3_train = torch.FloatTensor([[75], [93], [90], [100], [70]])\n",
        "y_train = torch.FloatTensor([[152], [185], [180], [196], [142]])"
      ],
      "metadata": {
        "id": "8prF4yGotYuB"
      },
      "execution_count": 116,
      "outputs": []
    },
    {
      "cell_type": "code",
      "source": [
        "# 가중치 w와 편향 b 초기화\n",
        "w1 = torch.zeros(1, requires_grad=True)\n",
        "w2 = torch.zeros(1, requires_grad=True)\n",
        "w3 = torch.zeros(1, requires_grad=True)\n",
        "b = torch.zeros(1, requires_grad=True)"
      ],
      "metadata": {
        "id": "HyUfNF9fuvzY"
      },
      "execution_count": 117,
      "outputs": []
    },
    {
      "cell_type": "code",
      "source": [
        "# optimizer 설정\n",
        "optimizer = optim.SGD([w1, w2, w3, b], lr=1e-5)\n",
        "\n",
        "nb_epochs = 1000\n",
        "for epoch in range(nb_epochs + 1):\n",
        "\n",
        "    # H(x) 계산 optimizer 설정\n",
        "    optimizer = optim.SGD([w1, w2, w3, b], lr=1e-5)\n",
        "\n",
        "    nb_epochs = 1000\n",
        "    for epoch in range(nb_epochs + 1):\n",
        "\n",
        "        # H(x) 계산\n",
        "        hypothesis = x1_train * w1 + x2_train * w2 + x3_train * w3 + b\n",
        "\n",
        "        # cost 계산\n",
        "        cost = torch.mean((hypothesis - y_train) ** 2)\n",
        "\n",
        "        # cost로 H(x) 개선\n",
        "        optimizer.zero_grad()\n",
        "        cost.backward()\n",
        "        optimizer.step()\n",
        "\n",
        "        # 100번마다 로그 출력\n",
        "        if epoch % 100 == 0:\n",
        "            print('Epoch {:4d}/{} w1: {:.3f} w2: {:.3f} b: {:.3f} Cost: {:.6f}'.format(epoch, nb_epochs, w1.item(), w2.item(), w3.item(), b.item(), cost.item()\n",
        "            ))"
      ],
      "metadata": {
        "colab": {
          "base_uri": "https://localhost:8080/"
        },
        "id": "A2JeY_w2u-Mo",
        "outputId": "125649c4-3654-4bc2-b31b-9af47183552f"
      },
      "execution_count": 118,
      "outputs": [
        {
          "output_type": "stream",
          "name": "stdout",
          "text": [
            "\u001b[1;30;43m스트리밍 출력 내용이 길어서 마지막 5000줄이 삭제되었습니다.\u001b[0m\n",
            "Epoch  500/1000 w1: 1.046 w2: 0.521 b: 0.444 Cost: 0.194190\n",
            "Epoch  600/1000 w1: 1.046 w2: 0.521 b: 0.444 Cost: 0.194217\n",
            "Epoch  700/1000 w1: 1.046 w2: 0.521 b: 0.444 Cost: 0.194244\n",
            "Epoch  800/1000 w1: 1.046 w2: 0.521 b: 0.444 Cost: 0.194271\n",
            "Epoch  900/1000 w1: 1.046 w2: 0.521 b: 0.444 Cost: 0.194297\n",
            "Epoch 1000/1000 w1: 1.046 w2: 0.521 b: 0.444 Cost: 0.194324\n",
            "Epoch    0/1000 w1: 1.046 w2: 0.521 b: 0.444 Cost: 0.194324\n",
            "Epoch  100/1000 w1: 1.046 w2: 0.521 b: 0.444 Cost: 0.194351\n",
            "Epoch  200/1000 w1: 1.046 w2: 0.521 b: 0.444 Cost: 0.194378\n",
            "Epoch  300/1000 w1: 1.046 w2: 0.521 b: 0.444 Cost: 0.194405\n",
            "Epoch  400/1000 w1: 1.046 w2: 0.521 b: 0.444 Cost: 0.194432\n",
            "Epoch  500/1000 w1: 1.046 w2: 0.521 b: 0.444 Cost: 0.194459\n",
            "Epoch  600/1000 w1: 1.046 w2: 0.521 b: 0.444 Cost: 0.194485\n",
            "Epoch  700/1000 w1: 1.046 w2: 0.521 b: 0.444 Cost: 0.194512\n",
            "Epoch  800/1000 w1: 1.046 w2: 0.521 b: 0.444 Cost: 0.194539\n",
            "Epoch  900/1000 w1: 1.046 w2: 0.521 b: 0.444 Cost: 0.194566\n",
            "Epoch 1000/1000 w1: 1.046 w2: 0.521 b: 0.444 Cost: 0.194593\n",
            "Epoch    0/1000 w1: 1.046 w2: 0.521 b: 0.444 Cost: 0.194593\n",
            "Epoch  100/1000 w1: 1.046 w2: 0.521 b: 0.444 Cost: 0.194620\n",
            "Epoch  200/1000 w1: 1.046 w2: 0.521 b: 0.444 Cost: 0.194647\n",
            "Epoch  300/1000 w1: 1.046 w2: 0.521 b: 0.444 Cost: 0.194673\n",
            "Epoch  400/1000 w1: 1.046 w2: 0.521 b: 0.444 Cost: 0.194700\n",
            "Epoch  500/1000 w1: 1.046 w2: 0.521 b: 0.444 Cost: 0.194727\n",
            "Epoch  600/1000 w1: 1.046 w2: 0.521 b: 0.444 Cost: 0.194754\n",
            "Epoch  700/1000 w1: 1.046 w2: 0.521 b: 0.444 Cost: 0.194781\n",
            "Epoch  800/1000 w1: 1.046 w2: 0.521 b: 0.444 Cost: 0.194807\n",
            "Epoch  900/1000 w1: 1.046 w2: 0.521 b: 0.444 Cost: 0.194834\n",
            "Epoch 1000/1000 w1: 1.046 w2: 0.521 b: 0.444 Cost: 0.194861\n",
            "Epoch    0/1000 w1: 1.046 w2: 0.521 b: 0.444 Cost: 0.194861\n",
            "Epoch  100/1000 w1: 1.046 w2: 0.521 b: 0.444 Cost: 0.194888\n",
            "Epoch  200/1000 w1: 1.046 w2: 0.521 b: 0.444 Cost: 0.194915\n",
            "Epoch  300/1000 w1: 1.046 w2: 0.521 b: 0.444 Cost: 0.194942\n",
            "Epoch  400/1000 w1: 1.046 w2: 0.521 b: 0.444 Cost: 0.194969\n",
            "Epoch  500/1000 w1: 1.046 w2: 0.521 b: 0.444 Cost: 0.194996\n",
            "Epoch  600/1000 w1: 1.046 w2: 0.521 b: 0.444 Cost: 0.195022\n",
            "Epoch  700/1000 w1: 1.046 w2: 0.521 b: 0.444 Cost: 0.195049\n",
            "Epoch  800/1000 w1: 1.046 w2: 0.521 b: 0.444 Cost: 0.195076\n",
            "Epoch  900/1000 w1: 1.046 w2: 0.521 b: 0.444 Cost: 0.195103\n",
            "Epoch 1000/1000 w1: 1.046 w2: 0.521 b: 0.444 Cost: 0.195130\n",
            "Epoch    0/1000 w1: 1.046 w2: 0.521 b: 0.444 Cost: 0.195130\n",
            "Epoch  100/1000 w1: 1.046 w2: 0.521 b: 0.444 Cost: 0.195157\n",
            "Epoch  200/1000 w1: 1.046 w2: 0.521 b: 0.444 Cost: 0.195184\n",
            "Epoch  300/1000 w1: 1.046 w2: 0.521 b: 0.444 Cost: 0.195210\n",
            "Epoch  400/1000 w1: 1.046 w2: 0.521 b: 0.444 Cost: 0.195237\n",
            "Epoch  500/1000 w1: 1.046 w2: 0.521 b: 0.444 Cost: 0.195264\n",
            "Epoch  600/1000 w1: 1.046 w2: 0.521 b: 0.444 Cost: 0.195291\n",
            "Epoch  700/1000 w1: 1.046 w2: 0.521 b: 0.444 Cost: 0.195318\n",
            "Epoch  800/1000 w1: 1.046 w2: 0.521 b: 0.444 Cost: 0.195344\n",
            "Epoch  900/1000 w1: 1.046 w2: 0.521 b: 0.444 Cost: 0.195371\n",
            "Epoch 1000/1000 w1: 1.046 w2: 0.521 b: 0.444 Cost: 0.195398\n",
            "Epoch    0/1000 w1: 1.046 w2: 0.521 b: 0.444 Cost: 0.195398\n",
            "Epoch  100/1000 w1: 1.046 w2: 0.521 b: 0.444 Cost: 0.195425\n",
            "Epoch  200/1000 w1: 1.046 w2: 0.521 b: 0.444 Cost: 0.195452\n",
            "Epoch  300/1000 w1: 1.046 w2: 0.521 b: 0.444 Cost: 0.195479\n",
            "Epoch  400/1000 w1: 1.046 w2: 0.521 b: 0.444 Cost: 0.195506\n",
            "Epoch  500/1000 w1: 1.046 w2: 0.521 b: 0.444 Cost: 0.195532\n",
            "Epoch  600/1000 w1: 1.046 w2: 0.521 b: 0.444 Cost: 0.195559\n",
            "Epoch  700/1000 w1: 1.046 w2: 0.521 b: 0.444 Cost: 0.195586\n",
            "Epoch  800/1000 w1: 1.046 w2: 0.521 b: 0.444 Cost: 0.195613\n",
            "Epoch  900/1000 w1: 1.046 w2: 0.521 b: 0.444 Cost: 0.195640\n",
            "Epoch 1000/1000 w1: 1.046 w2: 0.521 b: 0.444 Cost: 0.195667\n",
            "Epoch    0/1000 w1: 1.046 w2: 0.521 b: 0.444 Cost: 0.195667\n",
            "Epoch  100/1000 w1: 1.046 w2: 0.521 b: 0.444 Cost: 0.195694\n",
            "Epoch  200/1000 w1: 1.046 w2: 0.521 b: 0.444 Cost: 0.195721\n",
            "Epoch  300/1000 w1: 1.046 w2: 0.521 b: 0.444 Cost: 0.195747\n",
            "Epoch  400/1000 w1: 1.046 w2: 0.521 b: 0.444 Cost: 0.195774\n",
            "Epoch  500/1000 w1: 1.046 w2: 0.521 b: 0.444 Cost: 0.195801\n",
            "Epoch  600/1000 w1: 1.046 w2: 0.521 b: 0.444 Cost: 0.195828\n",
            "Epoch  700/1000 w1: 1.046 w2: 0.521 b: 0.444 Cost: 0.195855\n",
            "Epoch  800/1000 w1: 1.046 w2: 0.521 b: 0.444 Cost: 0.195881\n",
            "Epoch  900/1000 w1: 1.046 w2: 0.521 b: 0.444 Cost: 0.195908\n",
            "Epoch 1000/1000 w1: 1.046 w2: 0.521 b: 0.444 Cost: 0.195935\n",
            "Epoch    0/1000 w1: 1.046 w2: 0.521 b: 0.444 Cost: 0.195935\n",
            "Epoch  100/1000 w1: 1.046 w2: 0.521 b: 0.444 Cost: 0.195962\n",
            "Epoch  200/1000 w1: 1.046 w2: 0.521 b: 0.444 Cost: 0.195989\n",
            "Epoch  300/1000 w1: 1.046 w2: 0.521 b: 0.444 Cost: 0.196016\n",
            "Epoch  400/1000 w1: 1.046 w2: 0.521 b: 0.444 Cost: 0.196043\n",
            "Epoch  500/1000 w1: 1.046 w2: 0.521 b: 0.444 Cost: 0.196069\n",
            "Epoch  600/1000 w1: 1.046 w2: 0.521 b: 0.444 Cost: 0.196096\n",
            "Epoch  700/1000 w1: 1.046 w2: 0.521 b: 0.444 Cost: 0.196123\n",
            "Epoch  800/1000 w1: 1.046 w2: 0.521 b: 0.444 Cost: 0.196150\n",
            "Epoch  900/1000 w1: 1.046 w2: 0.521 b: 0.444 Cost: 0.196177\n",
            "Epoch 1000/1000 w1: 1.046 w2: 0.521 b: 0.444 Cost: 0.196204\n",
            "Epoch    0/1000 w1: 1.046 w2: 0.521 b: 0.444 Cost: 0.196204\n",
            "Epoch  100/1000 w1: 1.046 w2: 0.521 b: 0.444 Cost: 0.196231\n",
            "Epoch  200/1000 w1: 1.046 w2: 0.521 b: 0.444 Cost: 0.196257\n",
            "Epoch  300/1000 w1: 1.046 w2: 0.521 b: 0.444 Cost: 0.196284\n",
            "Epoch  400/1000 w1: 1.046 w2: 0.521 b: 0.444 Cost: 0.196311\n",
            "Epoch  500/1000 w1: 1.046 w2: 0.521 b: 0.444 Cost: 0.196338\n",
            "Epoch  600/1000 w1: 1.046 w2: 0.521 b: 0.444 Cost: 0.196365\n",
            "Epoch  700/1000 w1: 1.046 w2: 0.521 b: 0.444 Cost: 0.196392\n",
            "Epoch  800/1000 w1: 1.046 w2: 0.521 b: 0.444 Cost: 0.196418\n",
            "Epoch  900/1000 w1: 1.046 w2: 0.521 b: 0.444 Cost: 0.196445\n",
            "Epoch 1000/1000 w1: 1.046 w2: 0.521 b: 0.444 Cost: 0.196472\n",
            "Epoch    0/1000 w1: 1.046 w2: 0.521 b: 0.444 Cost: 0.196472\n",
            "Epoch  100/1000 w1: 1.046 w2: 0.521 b: 0.444 Cost: 0.196499\n",
            "Epoch  200/1000 w1: 1.046 w2: 0.521 b: 0.444 Cost: 0.196526\n",
            "Epoch  300/1000 w1: 1.046 w2: 0.521 b: 0.444 Cost: 0.196553\n",
            "Epoch  400/1000 w1: 1.046 w2: 0.521 b: 0.444 Cost: 0.196580\n",
            "Epoch  500/1000 w1: 1.046 w2: 0.521 b: 0.444 Cost: 0.196606\n",
            "Epoch  600/1000 w1: 1.046 w2: 0.521 b: 0.444 Cost: 0.196633\n",
            "Epoch  700/1000 w1: 1.046 w2: 0.521 b: 0.444 Cost: 0.196660\n",
            "Epoch  800/1000 w1: 1.046 w2: 0.521 b: 0.444 Cost: 0.196687\n",
            "Epoch  900/1000 w1: 1.046 w2: 0.521 b: 0.444 Cost: 0.196714\n",
            "Epoch 1000/1000 w1: 1.046 w2: 0.521 b: 0.444 Cost: 0.196741\n",
            "Epoch    0/1000 w1: 1.046 w2: 0.521 b: 0.444 Cost: 0.196741\n",
            "Epoch  100/1000 w1: 1.046 w2: 0.521 b: 0.444 Cost: 0.196768\n",
            "Epoch  200/1000 w1: 1.046 w2: 0.521 b: 0.444 Cost: 0.196794\n",
            "Epoch  300/1000 w1: 1.046 w2: 0.521 b: 0.444 Cost: 0.196821\n",
            "Epoch  400/1000 w1: 1.046 w2: 0.521 b: 0.444 Cost: 0.196848\n",
            "Epoch  500/1000 w1: 1.046 w2: 0.521 b: 0.444 Cost: 0.196875\n",
            "Epoch  600/1000 w1: 1.046 w2: 0.521 b: 0.444 Cost: 0.196902\n",
            "Epoch  700/1000 w1: 1.046 w2: 0.521 b: 0.444 Cost: 0.196929\n",
            "Epoch  800/1000 w1: 1.046 w2: 0.521 b: 0.444 Cost: 0.196955\n",
            "Epoch  900/1000 w1: 1.046 w2: 0.521 b: 0.444 Cost: 0.196982\n",
            "Epoch 1000/1000 w1: 1.046 w2: 0.521 b: 0.444 Cost: 0.197009\n",
            "Epoch    0/1000 w1: 1.046 w2: 0.521 b: 0.444 Cost: 0.197009\n",
            "Epoch  100/1000 w1: 1.046 w2: 0.521 b: 0.444 Cost: 0.197036\n",
            "Epoch  200/1000 w1: 1.046 w2: 0.521 b: 0.444 Cost: 0.197063\n",
            "Epoch  300/1000 w1: 1.046 w2: 0.521 b: 0.444 Cost: 0.197090\n",
            "Epoch  400/1000 w1: 1.046 w2: 0.521 b: 0.444 Cost: 0.197117\n",
            "Epoch  500/1000 w1: 1.046 w2: 0.521 b: 0.444 Cost: 0.197143\n",
            "Epoch  600/1000 w1: 1.046 w2: 0.521 b: 0.444 Cost: 0.197170\n",
            "Epoch  700/1000 w1: 1.046 w2: 0.521 b: 0.444 Cost: 0.197197\n",
            "Epoch  800/1000 w1: 1.046 w2: 0.521 b: 0.444 Cost: 0.197224\n",
            "Epoch  900/1000 w1: 1.046 w2: 0.521 b: 0.444 Cost: 0.197251\n",
            "Epoch 1000/1000 w1: 1.046 w2: 0.521 b: 0.444 Cost: 0.197278\n",
            "Epoch    0/1000 w1: 1.046 w2: 0.521 b: 0.444 Cost: 0.197278\n",
            "Epoch  100/1000 w1: 1.046 w2: 0.521 b: 0.444 Cost: 0.197305\n",
            "Epoch  200/1000 w1: 1.046 w2: 0.521 b: 0.444 Cost: 0.197331\n",
            "Epoch  300/1000 w1: 1.046 w2: 0.521 b: 0.444 Cost: 0.197358\n",
            "Epoch  400/1000 w1: 1.046 w2: 0.521 b: 0.444 Cost: 0.197385\n",
            "Epoch  500/1000 w1: 1.046 w2: 0.521 b: 0.444 Cost: 0.197412\n",
            "Epoch  600/1000 w1: 1.046 w2: 0.521 b: 0.444 Cost: 0.197439\n",
            "Epoch  700/1000 w1: 1.046 w2: 0.521 b: 0.444 Cost: 0.197466\n",
            "Epoch  800/1000 w1: 1.046 w2: 0.521 b: 0.444 Cost: 0.197492\n",
            "Epoch  900/1000 w1: 1.046 w2: 0.521 b: 0.444 Cost: 0.197519\n",
            "Epoch 1000/1000 w1: 1.046 w2: 0.521 b: 0.444 Cost: 0.197546\n",
            "Epoch    0/1000 w1: 1.046 w2: 0.521 b: 0.444 Cost: 0.197546\n",
            "Epoch  100/1000 w1: 1.046 w2: 0.521 b: 0.444 Cost: 0.197573\n",
            "Epoch  200/1000 w1: 1.046 w2: 0.521 b: 0.444 Cost: 0.197600\n",
            "Epoch  300/1000 w1: 1.046 w2: 0.521 b: 0.444 Cost: 0.197627\n",
            "Epoch  400/1000 w1: 1.046 w2: 0.521 b: 0.444 Cost: 0.197654\n",
            "Epoch  500/1000 w1: 1.046 w2: 0.521 b: 0.444 Cost: 0.197680\n",
            "Epoch  600/1000 w1: 1.046 w2: 0.521 b: 0.444 Cost: 0.197707\n",
            "Epoch  700/1000 w1: 1.046 w2: 0.521 b: 0.444 Cost: 0.197734\n",
            "Epoch  800/1000 w1: 1.046 w2: 0.521 b: 0.444 Cost: 0.197761\n",
            "Epoch  900/1000 w1: 1.046 w2: 0.521 b: 0.444 Cost: 0.197788\n",
            "Epoch 1000/1000 w1: 1.046 w2: 0.521 b: 0.444 Cost: 0.197815\n",
            "Epoch    0/1000 w1: 1.046 w2: 0.521 b: 0.444 Cost: 0.197815\n",
            "Epoch  100/1000 w1: 1.046 w2: 0.521 b: 0.444 Cost: 0.197842\n",
            "Epoch  200/1000 w1: 1.046 w2: 0.521 b: 0.444 Cost: 0.197868\n",
            "Epoch  300/1000 w1: 1.046 w2: 0.521 b: 0.444 Cost: 0.197895\n",
            "Epoch  400/1000 w1: 1.046 w2: 0.521 b: 0.444 Cost: 0.197922\n",
            "Epoch  500/1000 w1: 1.046 w2: 0.521 b: 0.444 Cost: 0.197949\n",
            "Epoch  600/1000 w1: 1.046 w2: 0.521 b: 0.444 Cost: 0.197976\n",
            "Epoch  700/1000 w1: 1.046 w2: 0.521 b: 0.444 Cost: 0.198003\n",
            "Epoch  800/1000 w1: 1.046 w2: 0.521 b: 0.444 Cost: 0.198029\n",
            "Epoch  900/1000 w1: 1.046 w2: 0.521 b: 0.444 Cost: 0.198056\n",
            "Epoch 1000/1000 w1: 1.046 w2: 0.521 b: 0.444 Cost: 0.198083\n",
            "Epoch    0/1000 w1: 1.046 w2: 0.521 b: 0.444 Cost: 0.198083\n",
            "Epoch  100/1000 w1: 1.046 w2: 0.521 b: 0.444 Cost: 0.198110\n",
            "Epoch  200/1000 w1: 1.046 w2: 0.521 b: 0.444 Cost: 0.198137\n",
            "Epoch  300/1000 w1: 1.046 w2: 0.521 b: 0.444 Cost: 0.198164\n",
            "Epoch  400/1000 w1: 1.046 w2: 0.521 b: 0.444 Cost: 0.198191\n",
            "Epoch  500/1000 w1: 1.046 w2: 0.521 b: 0.444 Cost: 0.198217\n",
            "Epoch  600/1000 w1: 1.046 w2: 0.521 b: 0.444 Cost: 0.198244\n",
            "Epoch  700/1000 w1: 1.046 w2: 0.521 b: 0.444 Cost: 0.198271\n",
            "Epoch  800/1000 w1: 1.046 w2: 0.521 b: 0.444 Cost: 0.198298\n",
            "Epoch  900/1000 w1: 1.046 w2: 0.521 b: 0.444 Cost: 0.198325\n",
            "Epoch 1000/1000 w1: 1.046 w2: 0.521 b: 0.444 Cost: 0.198351\n",
            "Epoch    0/1000 w1: 1.046 w2: 0.521 b: 0.444 Cost: 0.198352\n",
            "Epoch  100/1000 w1: 1.046 w2: 0.521 b: 0.444 Cost: 0.198379\n",
            "Epoch  200/1000 w1: 1.046 w2: 0.521 b: 0.444 Cost: 0.198405\n",
            "Epoch  300/1000 w1: 1.046 w2: 0.521 b: 0.444 Cost: 0.198432\n",
            "Epoch  400/1000 w1: 1.046 w2: 0.521 b: 0.444 Cost: 0.198459\n",
            "Epoch  500/1000 w1: 1.046 w2: 0.521 b: 0.444 Cost: 0.198486\n",
            "Epoch  600/1000 w1: 1.046 w2: 0.521 b: 0.444 Cost: 0.198513\n",
            "Epoch  700/1000 w1: 1.046 w2: 0.521 b: 0.444 Cost: 0.198540\n",
            "Epoch  800/1000 w1: 1.046 w2: 0.521 b: 0.444 Cost: 0.198566\n",
            "Epoch  900/1000 w1: 1.046 w2: 0.521 b: 0.444 Cost: 0.198593\n",
            "Epoch 1000/1000 w1: 1.046 w2: 0.521 b: 0.444 Cost: 0.198620\n",
            "Epoch    0/1000 w1: 1.046 w2: 0.521 b: 0.444 Cost: 0.198620\n",
            "Epoch  100/1000 w1: 1.046 w2: 0.521 b: 0.444 Cost: 0.198647\n",
            "Epoch  200/1000 w1: 1.046 w2: 0.521 b: 0.444 Cost: 0.198674\n",
            "Epoch  300/1000 w1: 1.046 w2: 0.521 b: 0.444 Cost: 0.198701\n",
            "Epoch  400/1000 w1: 1.046 w2: 0.521 b: 0.444 Cost: 0.198728\n",
            "Epoch  500/1000 w1: 1.046 w2: 0.521 b: 0.444 Cost: 0.198754\n",
            "Epoch  600/1000 w1: 1.046 w2: 0.521 b: 0.444 Cost: 0.198781\n",
            "Epoch  700/1000 w1: 1.046 w2: 0.521 b: 0.444 Cost: 0.198808\n",
            "Epoch  800/1000 w1: 1.046 w2: 0.521 b: 0.444 Cost: 0.198835\n",
            "Epoch  900/1000 w1: 1.046 w2: 0.521 b: 0.444 Cost: 0.198862\n",
            "Epoch 1000/1000 w1: 1.046 w2: 0.521 b: 0.444 Cost: 0.198888\n",
            "Epoch    0/1000 w1: 1.046 w2: 0.521 b: 0.444 Cost: 0.198889\n",
            "Epoch  100/1000 w1: 1.046 w2: 0.521 b: 0.444 Cost: 0.198916\n",
            "Epoch  200/1000 w1: 1.046 w2: 0.521 b: 0.444 Cost: 0.198942\n",
            "Epoch  300/1000 w1: 1.046 w2: 0.521 b: 0.444 Cost: 0.198969\n",
            "Epoch  400/1000 w1: 1.046 w2: 0.521 b: 0.444 Cost: 0.198996\n",
            "Epoch  500/1000 w1: 1.046 w2: 0.521 b: 0.444 Cost: 0.199023\n",
            "Epoch  600/1000 w1: 1.046 w2: 0.521 b: 0.444 Cost: 0.199050\n",
            "Epoch  700/1000 w1: 1.046 w2: 0.521 b: 0.444 Cost: 0.199076\n",
            "Epoch  800/1000 w1: 1.046 w2: 0.521 b: 0.444 Cost: 0.199103\n",
            "Epoch  900/1000 w1: 1.046 w2: 0.521 b: 0.444 Cost: 0.199130\n",
            "Epoch 1000/1000 w1: 1.046 w2: 0.521 b: 0.444 Cost: 0.199157\n",
            "Epoch    0/1000 w1: 1.046 w2: 0.521 b: 0.444 Cost: 0.199157\n",
            "Epoch  100/1000 w1: 1.046 w2: 0.521 b: 0.444 Cost: 0.199184\n",
            "Epoch  200/1000 w1: 1.046 w2: 0.521 b: 0.444 Cost: 0.199211\n",
            "Epoch  300/1000 w1: 1.046 w2: 0.521 b: 0.444 Cost: 0.199238\n",
            "Epoch  400/1000 w1: 1.046 w2: 0.521 b: 0.444 Cost: 0.199265\n",
            "Epoch  500/1000 w1: 1.046 w2: 0.521 b: 0.444 Cost: 0.199291\n",
            "Epoch  600/1000 w1: 1.046 w2: 0.521 b: 0.444 Cost: 0.199318\n",
            "Epoch  700/1000 w1: 1.046 w2: 0.521 b: 0.444 Cost: 0.199345\n",
            "Epoch  800/1000 w1: 1.046 w2: 0.521 b: 0.444 Cost: 0.199372\n",
            "Epoch  900/1000 w1: 1.046 w2: 0.521 b: 0.444 Cost: 0.199399\n",
            "Epoch 1000/1000 w1: 1.046 w2: 0.521 b: 0.444 Cost: 0.199425\n",
            "Epoch    0/1000 w1: 1.046 w2: 0.521 b: 0.444 Cost: 0.199426\n",
            "Epoch  100/1000 w1: 1.046 w2: 0.521 b: 0.444 Cost: 0.199453\n",
            "Epoch  200/1000 w1: 1.046 w2: 0.521 b: 0.444 Cost: 0.199479\n",
            "Epoch  300/1000 w1: 1.046 w2: 0.521 b: 0.444 Cost: 0.199506\n",
            "Epoch  400/1000 w1: 1.046 w2: 0.521 b: 0.444 Cost: 0.199533\n",
            "Epoch  500/1000 w1: 1.046 w2: 0.521 b: 0.444 Cost: 0.199560\n",
            "Epoch  600/1000 w1: 1.046 w2: 0.521 b: 0.444 Cost: 0.199587\n",
            "Epoch  700/1000 w1: 1.046 w2: 0.521 b: 0.444 Cost: 0.199613\n",
            "Epoch  800/1000 w1: 1.046 w2: 0.521 b: 0.444 Cost: 0.199640\n",
            "Epoch  900/1000 w1: 1.046 w2: 0.521 b: 0.444 Cost: 0.199667\n",
            "Epoch 1000/1000 w1: 1.046 w2: 0.521 b: 0.444 Cost: 0.199694\n",
            "Epoch    0/1000 w1: 1.046 w2: 0.521 b: 0.444 Cost: 0.199694\n",
            "Epoch  100/1000 w1: 1.046 w2: 0.521 b: 0.444 Cost: 0.199721\n",
            "Epoch  200/1000 w1: 1.046 w2: 0.521 b: 0.444 Cost: 0.199748\n",
            "Epoch  300/1000 w1: 1.046 w2: 0.521 b: 0.444 Cost: 0.199775\n",
            "Epoch  400/1000 w1: 1.046 w2: 0.521 b: 0.444 Cost: 0.199801\n",
            "Epoch  500/1000 w1: 1.046 w2: 0.521 b: 0.444 Cost: 0.199828\n",
            "Epoch  600/1000 w1: 1.046 w2: 0.521 b: 0.444 Cost: 0.199855\n",
            "Epoch  700/1000 w1: 1.046 w2: 0.521 b: 0.444 Cost: 0.199882\n",
            "Epoch  800/1000 w1: 1.046 w2: 0.521 b: 0.444 Cost: 0.199909\n",
            "Epoch  900/1000 w1: 1.046 w2: 0.521 b: 0.444 Cost: 0.199936\n",
            "Epoch 1000/1000 w1: 1.046 w2: 0.521 b: 0.444 Cost: 0.199962\n",
            "Epoch    0/1000 w1: 1.046 w2: 0.521 b: 0.444 Cost: 0.199963\n",
            "Epoch  100/1000 w1: 1.046 w2: 0.521 b: 0.444 Cost: 0.199990\n",
            "Epoch  200/1000 w1: 1.046 w2: 0.521 b: 0.444 Cost: 0.200016\n",
            "Epoch  300/1000 w1: 1.046 w2: 0.521 b: 0.444 Cost: 0.200043\n",
            "Epoch  400/1000 w1: 1.046 w2: 0.521 b: 0.444 Cost: 0.200070\n",
            "Epoch  500/1000 w1: 1.046 w2: 0.521 b: 0.444 Cost: 0.200097\n",
            "Epoch  600/1000 w1: 1.046 w2: 0.521 b: 0.444 Cost: 0.200124\n",
            "Epoch  700/1000 w1: 1.046 w2: 0.521 b: 0.444 Cost: 0.200150\n",
            "Epoch  800/1000 w1: 1.046 w2: 0.521 b: 0.444 Cost: 0.200177\n",
            "Epoch  900/1000 w1: 1.046 w2: 0.521 b: 0.444 Cost: 0.200204\n",
            "Epoch 1000/1000 w1: 1.046 w2: 0.521 b: 0.444 Cost: 0.200231\n",
            "Epoch    0/1000 w1: 1.046 w2: 0.521 b: 0.444 Cost: 0.200231\n",
            "Epoch  100/1000 w1: 1.046 w2: 0.521 b: 0.444 Cost: 0.200258\n",
            "Epoch  200/1000 w1: 1.046 w2: 0.521 b: 0.444 Cost: 0.200285\n",
            "Epoch  300/1000 w1: 1.046 w2: 0.521 b: 0.444 Cost: 0.200312\n",
            "Epoch  400/1000 w1: 1.046 w2: 0.521 b: 0.444 Cost: 0.200338\n",
            "Epoch  500/1000 w1: 1.046 w2: 0.521 b: 0.444 Cost: 0.200365\n",
            "Epoch  600/1000 w1: 1.046 w2: 0.521 b: 0.444 Cost: 0.200392\n",
            "Epoch  700/1000 w1: 1.046 w2: 0.521 b: 0.444 Cost: 0.200419\n",
            "Epoch  800/1000 w1: 1.046 w2: 0.521 b: 0.444 Cost: 0.200446\n",
            "Epoch  900/1000 w1: 1.046 w2: 0.521 b: 0.444 Cost: 0.200473\n",
            "Epoch 1000/1000 w1: 1.046 w2: 0.521 b: 0.444 Cost: 0.200499\n",
            "Epoch    0/1000 w1: 1.046 w2: 0.521 b: 0.444 Cost: 0.200500\n",
            "Epoch  100/1000 w1: 1.046 w2: 0.521 b: 0.444 Cost: 0.200526\n",
            "Epoch  200/1000 w1: 1.046 w2: 0.521 b: 0.444 Cost: 0.200553\n",
            "Epoch  300/1000 w1: 1.046 w2: 0.521 b: 0.444 Cost: 0.200580\n",
            "Epoch  400/1000 w1: 1.046 w2: 0.521 b: 0.444 Cost: 0.200607\n",
            "Epoch  500/1000 w1: 1.046 w2: 0.521 b: 0.444 Cost: 0.200634\n",
            "Epoch  600/1000 w1: 1.046 w2: 0.521 b: 0.444 Cost: 0.200661\n",
            "Epoch  700/1000 w1: 1.046 w2: 0.521 b: 0.444 Cost: 0.200687\n",
            "Epoch  800/1000 w1: 1.046 w2: 0.521 b: 0.444 Cost: 0.200714\n",
            "Epoch  900/1000 w1: 1.046 w2: 0.521 b: 0.444 Cost: 0.200741\n",
            "Epoch 1000/1000 w1: 1.046 w2: 0.521 b: 0.444 Cost: 0.200768\n",
            "Epoch    0/1000 w1: 1.046 w2: 0.521 b: 0.444 Cost: 0.200768\n",
            "Epoch  100/1000 w1: 1.046 w2: 0.521 b: 0.444 Cost: 0.200795\n",
            "Epoch  200/1000 w1: 1.046 w2: 0.521 b: 0.444 Cost: 0.200822\n",
            "Epoch  300/1000 w1: 1.046 w2: 0.521 b: 0.444 Cost: 0.200849\n",
            "Epoch  400/1000 w1: 1.046 w2: 0.521 b: 0.444 Cost: 0.200875\n",
            "Epoch  500/1000 w1: 1.046 w2: 0.521 b: 0.444 Cost: 0.200902\n",
            "Epoch  600/1000 w1: 1.046 w2: 0.521 b: 0.444 Cost: 0.200929\n",
            "Epoch  700/1000 w1: 1.046 w2: 0.521 b: 0.444 Cost: 0.200956\n",
            "Epoch  800/1000 w1: 1.046 w2: 0.521 b: 0.444 Cost: 0.200983\n",
            "Epoch  900/1000 w1: 1.046 w2: 0.521 b: 0.444 Cost: 0.201010\n",
            "Epoch 1000/1000 w1: 1.046 w2: 0.521 b: 0.444 Cost: 0.201036\n",
            "Epoch    0/1000 w1: 1.046 w2: 0.521 b: 0.444 Cost: 0.201037\n",
            "Epoch  100/1000 w1: 1.046 w2: 0.521 b: 0.444 Cost: 0.201063\n",
            "Epoch  200/1000 w1: 1.046 w2: 0.521 b: 0.444 Cost: 0.201090\n",
            "Epoch  300/1000 w1: 1.046 w2: 0.521 b: 0.444 Cost: 0.201117\n",
            "Epoch  400/1000 w1: 1.046 w2: 0.521 b: 0.444 Cost: 0.201144\n",
            "Epoch  500/1000 w1: 1.046 w2: 0.521 b: 0.444 Cost: 0.201171\n",
            "Epoch  600/1000 w1: 1.046 w2: 0.521 b: 0.444 Cost: 0.201198\n",
            "Epoch  700/1000 w1: 1.046 w2: 0.521 b: 0.444 Cost: 0.201224\n",
            "Epoch  800/1000 w1: 1.046 w2: 0.521 b: 0.444 Cost: 0.201251\n",
            "Epoch  900/1000 w1: 1.046 w2: 0.521 b: 0.444 Cost: 0.201278\n",
            "Epoch 1000/1000 w1: 1.046 w2: 0.521 b: 0.444 Cost: 0.201305\n",
            "Epoch    0/1000 w1: 1.046 w2: 0.521 b: 0.444 Cost: 0.201305\n",
            "Epoch  100/1000 w1: 1.046 w2: 0.521 b: 0.444 Cost: 0.201332\n",
            "Epoch  200/1000 w1: 1.046 w2: 0.521 b: 0.444 Cost: 0.201359\n",
            "Epoch  300/1000 w1: 1.046 w2: 0.521 b: 0.444 Cost: 0.201386\n",
            "Epoch  400/1000 w1: 1.046 w2: 0.521 b: 0.444 Cost: 0.201412\n",
            "Epoch  500/1000 w1: 1.046 w2: 0.521 b: 0.444 Cost: 0.201439\n",
            "Epoch  600/1000 w1: 1.046 w2: 0.521 b: 0.444 Cost: 0.201466\n",
            "Epoch  700/1000 w1: 1.046 w2: 0.521 b: 0.444 Cost: 0.201493\n",
            "Epoch  800/1000 w1: 1.046 w2: 0.521 b: 0.444 Cost: 0.201520\n",
            "Epoch  900/1000 w1: 1.046 w2: 0.521 b: 0.444 Cost: 0.201547\n",
            "Epoch 1000/1000 w1: 1.046 w2: 0.521 b: 0.444 Cost: 0.201573\n",
            "Epoch    0/1000 w1: 1.046 w2: 0.521 b: 0.444 Cost: 0.201574\n",
            "Epoch  100/1000 w1: 1.046 w2: 0.521 b: 0.444 Cost: 0.201600\n",
            "Epoch  200/1000 w1: 1.046 w2: 0.521 b: 0.444 Cost: 0.201627\n",
            "Epoch  300/1000 w1: 1.046 w2: 0.521 b: 0.444 Cost: 0.201654\n",
            "Epoch  400/1000 w1: 1.046 w2: 0.521 b: 0.444 Cost: 0.201681\n",
            "Epoch  500/1000 w1: 1.046 w2: 0.521 b: 0.444 Cost: 0.201708\n",
            "Epoch  600/1000 w1: 1.046 w2: 0.521 b: 0.444 Cost: 0.201735\n",
            "Epoch  700/1000 w1: 1.046 w2: 0.521 b: 0.444 Cost: 0.201761\n",
            "Epoch  800/1000 w1: 1.046 w2: 0.521 b: 0.444 Cost: 0.201788\n",
            "Epoch  900/1000 w1: 1.046 w2: 0.521 b: 0.444 Cost: 0.201815\n",
            "Epoch 1000/1000 w1: 1.046 w2: 0.521 b: 0.444 Cost: 0.201842\n",
            "Epoch    0/1000 w1: 1.046 w2: 0.521 b: 0.444 Cost: 0.201842\n",
            "Epoch  100/1000 w1: 1.046 w2: 0.521 b: 0.444 Cost: 0.201869\n",
            "Epoch  200/1000 w1: 1.046 w2: 0.521 b: 0.444 Cost: 0.201896\n",
            "Epoch  300/1000 w1: 1.046 w2: 0.521 b: 0.444 Cost: 0.201923\n",
            "Epoch  400/1000 w1: 1.046 w2: 0.521 b: 0.444 Cost: 0.201949\n",
            "Epoch  500/1000 w1: 1.046 w2: 0.521 b: 0.444 Cost: 0.201976\n",
            "Epoch  600/1000 w1: 1.046 w2: 0.521 b: 0.444 Cost: 0.202003\n",
            "Epoch  700/1000 w1: 1.046 w2: 0.521 b: 0.444 Cost: 0.202030\n",
            "Epoch  800/1000 w1: 1.046 w2: 0.521 b: 0.444 Cost: 0.202057\n",
            "Epoch  900/1000 w1: 1.046 w2: 0.521 b: 0.444 Cost: 0.202084\n",
            "Epoch 1000/1000 w1: 1.046 w2: 0.521 b: 0.444 Cost: 0.202110\n",
            "Epoch    0/1000 w1: 1.046 w2: 0.521 b: 0.444 Cost: 0.202111\n",
            "Epoch  100/1000 w1: 1.046 w2: 0.521 b: 0.444 Cost: 0.202137\n",
            "Epoch  200/1000 w1: 1.046 w2: 0.521 b: 0.444 Cost: 0.202164\n",
            "Epoch  300/1000 w1: 1.046 w2: 0.521 b: 0.444 Cost: 0.202191\n",
            "Epoch  400/1000 w1: 1.046 w2: 0.521 b: 0.444 Cost: 0.202218\n",
            "Epoch  500/1000 w1: 1.046 w2: 0.521 b: 0.444 Cost: 0.202245\n",
            "Epoch  600/1000 w1: 1.046 w2: 0.521 b: 0.444 Cost: 0.202272\n",
            "Epoch  700/1000 w1: 1.046 w2: 0.521 b: 0.444 Cost: 0.202298\n",
            "Epoch  800/1000 w1: 1.046 w2: 0.521 b: 0.444 Cost: 0.202325\n",
            "Epoch  900/1000 w1: 1.046 w2: 0.521 b: 0.444 Cost: 0.202352\n",
            "Epoch 1000/1000 w1: 1.046 w2: 0.521 b: 0.444 Cost: 0.202379\n",
            "Epoch    0/1000 w1: 1.046 w2: 0.521 b: 0.444 Cost: 0.202379\n",
            "Epoch  100/1000 w1: 1.046 w2: 0.521 b: 0.444 Cost: 0.202406\n",
            "Epoch  200/1000 w1: 1.046 w2: 0.521 b: 0.444 Cost: 0.202433\n",
            "Epoch  300/1000 w1: 1.046 w2: 0.521 b: 0.444 Cost: 0.202460\n",
            "Epoch  400/1000 w1: 1.046 w2: 0.521 b: 0.444 Cost: 0.202486\n",
            "Epoch  500/1000 w1: 1.046 w2: 0.521 b: 0.444 Cost: 0.202513\n",
            "Epoch  600/1000 w1: 1.046 w2: 0.521 b: 0.444 Cost: 0.202540\n",
            "Epoch  700/1000 w1: 1.046 w2: 0.521 b: 0.444 Cost: 0.202567\n",
            "Epoch  800/1000 w1: 1.046 w2: 0.521 b: 0.444 Cost: 0.202594\n",
            "Epoch  900/1000 w1: 1.046 w2: 0.521 b: 0.444 Cost: 0.202620\n",
            "Epoch 1000/1000 w1: 1.046 w2: 0.521 b: 0.444 Cost: 0.202647\n",
            "Epoch    0/1000 w1: 1.046 w2: 0.521 b: 0.444 Cost: 0.202648\n",
            "Epoch  100/1000 w1: 1.046 w2: 0.521 b: 0.444 Cost: 0.202674\n",
            "Epoch  200/1000 w1: 1.046 w2: 0.521 b: 0.444 Cost: 0.202701\n",
            "Epoch  300/1000 w1: 1.046 w2: 0.521 b: 0.444 Cost: 0.202728\n",
            "Epoch  400/1000 w1: 1.046 w2: 0.521 b: 0.444 Cost: 0.202755\n",
            "Epoch  500/1000 w1: 1.046 w2: 0.521 b: 0.444 Cost: 0.202782\n",
            "Epoch  600/1000 w1: 1.046 w2: 0.521 b: 0.444 Cost: 0.202809\n",
            "Epoch  700/1000 w1: 1.046 w2: 0.521 b: 0.444 Cost: 0.202835\n",
            "Epoch  800/1000 w1: 1.046 w2: 0.521 b: 0.444 Cost: 0.202862\n",
            "Epoch  900/1000 w1: 1.046 w2: 0.521 b: 0.444 Cost: 0.202889\n",
            "Epoch 1000/1000 w1: 1.046 w2: 0.521 b: 0.444 Cost: 0.202916\n",
            "Epoch    0/1000 w1: 1.046 w2: 0.521 b: 0.444 Cost: 0.202916\n",
            "Epoch  100/1000 w1: 1.046 w2: 0.521 b: 0.444 Cost: 0.202943\n",
            "Epoch  200/1000 w1: 1.046 w2: 0.521 b: 0.444 Cost: 0.202970\n",
            "Epoch  300/1000 w1: 1.046 w2: 0.521 b: 0.444 Cost: 0.202997\n",
            "Epoch  400/1000 w1: 1.046 w2: 0.521 b: 0.444 Cost: 0.203023\n",
            "Epoch  500/1000 w1: 1.046 w2: 0.521 b: 0.444 Cost: 0.203050\n",
            "Epoch  600/1000 w1: 1.046 w2: 0.521 b: 0.444 Cost: 0.203077\n",
            "Epoch  700/1000 w1: 1.046 w2: 0.521 b: 0.444 Cost: 0.203104\n",
            "Epoch  800/1000 w1: 1.046 w2: 0.521 b: 0.444 Cost: 0.203131\n",
            "Epoch  900/1000 w1: 1.046 w2: 0.521 b: 0.444 Cost: 0.203157\n",
            "Epoch 1000/1000 w1: 1.046 w2: 0.521 b: 0.444 Cost: 0.203184\n",
            "Epoch    0/1000 w1: 1.046 w2: 0.521 b: 0.444 Cost: 0.203185\n",
            "Epoch  100/1000 w1: 1.046 w2: 0.521 b: 0.444 Cost: 0.203211\n",
            "Epoch  200/1000 w1: 1.046 w2: 0.521 b: 0.444 Cost: 0.203238\n",
            "Epoch  300/1000 w1: 1.046 w2: 0.521 b: 0.444 Cost: 0.203265\n",
            "Epoch  400/1000 w1: 1.046 w2: 0.521 b: 0.444 Cost: 0.203292\n",
            "Epoch  500/1000 w1: 1.046 w2: 0.521 b: 0.444 Cost: 0.203319\n",
            "Epoch  600/1000 w1: 1.046 w2: 0.521 b: 0.444 Cost: 0.203345\n",
            "Epoch  700/1000 w1: 1.046 w2: 0.521 b: 0.444 Cost: 0.203372\n",
            "Epoch  800/1000 w1: 1.046 w2: 0.521 b: 0.444 Cost: 0.203399\n",
            "Epoch  900/1000 w1: 1.046 w2: 0.521 b: 0.444 Cost: 0.203426\n",
            "Epoch 1000/1000 w1: 1.046 w2: 0.521 b: 0.444 Cost: 0.203453\n",
            "Epoch    0/1000 w1: 1.046 w2: 0.521 b: 0.444 Cost: 0.203453\n",
            "Epoch  100/1000 w1: 1.046 w2: 0.521 b: 0.444 Cost: 0.203480\n",
            "Epoch  200/1000 w1: 1.046 w2: 0.521 b: 0.444 Cost: 0.203507\n",
            "Epoch  300/1000 w1: 1.046 w2: 0.521 b: 0.444 Cost: 0.203534\n",
            "Epoch  400/1000 w1: 1.046 w2: 0.521 b: 0.444 Cost: 0.203560\n",
            "Epoch  500/1000 w1: 1.046 w2: 0.521 b: 0.444 Cost: 0.203587\n",
            "Epoch  600/1000 w1: 1.046 w2: 0.521 b: 0.444 Cost: 0.203614\n",
            "Epoch  700/1000 w1: 1.046 w2: 0.521 b: 0.444 Cost: 0.203641\n",
            "Epoch  800/1000 w1: 1.046 w2: 0.521 b: 0.444 Cost: 0.203668\n",
            "Epoch  900/1000 w1: 1.046 w2: 0.521 b: 0.444 Cost: 0.203694\n",
            "Epoch 1000/1000 w1: 1.046 w2: 0.521 b: 0.444 Cost: 0.203721\n",
            "Epoch    0/1000 w1: 1.046 w2: 0.521 b: 0.444 Cost: 0.203722\n",
            "Epoch  100/1000 w1: 1.046 w2: 0.521 b: 0.444 Cost: 0.203748\n",
            "Epoch  200/1000 w1: 1.046 w2: 0.521 b: 0.444 Cost: 0.203775\n",
            "Epoch  300/1000 w1: 1.046 w2: 0.521 b: 0.444 Cost: 0.203802\n",
            "Epoch  400/1000 w1: 1.046 w2: 0.521 b: 0.444 Cost: 0.203829\n",
            "Epoch  500/1000 w1: 1.046 w2: 0.521 b: 0.444 Cost: 0.203856\n",
            "Epoch  600/1000 w1: 1.046 w2: 0.521 b: 0.444 Cost: 0.203882\n",
            "Epoch  700/1000 w1: 1.046 w2: 0.521 b: 0.444 Cost: 0.203909\n",
            "Epoch  800/1000 w1: 1.046 w2: 0.521 b: 0.444 Cost: 0.203936\n",
            "Epoch  900/1000 w1: 1.046 w2: 0.521 b: 0.444 Cost: 0.203963\n",
            "Epoch 1000/1000 w1: 1.046 w2: 0.521 b: 0.444 Cost: 0.203990\n",
            "Epoch    0/1000 w1: 1.046 w2: 0.521 b: 0.444 Cost: 0.203990\n",
            "Epoch  100/1000 w1: 1.046 w2: 0.521 b: 0.444 Cost: 0.204017\n",
            "Epoch  200/1000 w1: 1.046 w2: 0.521 b: 0.444 Cost: 0.204044\n",
            "Epoch  300/1000 w1: 1.046 w2: 0.521 b: 0.444 Cost: 0.204070\n",
            "Epoch  400/1000 w1: 1.046 w2: 0.521 b: 0.444 Cost: 0.204097\n",
            "Epoch  500/1000 w1: 1.046 w2: 0.521 b: 0.444 Cost: 0.204124\n",
            "Epoch  600/1000 w1: 1.046 w2: 0.521 b: 0.444 Cost: 0.204151\n",
            "Epoch  700/1000 w1: 1.046 w2: 0.521 b: 0.444 Cost: 0.204178\n",
            "Epoch  800/1000 w1: 1.046 w2: 0.521 b: 0.444 Cost: 0.204205\n",
            "Epoch  900/1000 w1: 1.046 w2: 0.521 b: 0.444 Cost: 0.204231\n",
            "Epoch 1000/1000 w1: 1.046 w2: 0.521 b: 0.444 Cost: 0.204258\n",
            "Epoch    0/1000 w1: 1.046 w2: 0.521 b: 0.444 Cost: 0.204259\n",
            "Epoch  100/1000 w1: 1.046 w2: 0.521 b: 0.444 Cost: 0.204285\n",
            "Epoch  200/1000 w1: 1.046 w2: 0.521 b: 0.444 Cost: 0.204312\n",
            "Epoch  300/1000 w1: 1.046 w2: 0.521 b: 0.444 Cost: 0.204339\n",
            "Epoch  400/1000 w1: 1.046 w2: 0.521 b: 0.444 Cost: 0.204366\n",
            "Epoch  500/1000 w1: 1.046 w2: 0.521 b: 0.444 Cost: 0.204393\n",
            "Epoch  600/1000 w1: 1.046 w2: 0.521 b: 0.444 Cost: 0.204419\n",
            "Epoch  700/1000 w1: 1.046 w2: 0.521 b: 0.444 Cost: 0.204446\n",
            "Epoch  800/1000 w1: 1.046 w2: 0.521 b: 0.444 Cost: 0.204473\n",
            "Epoch  900/1000 w1: 1.046 w2: 0.521 b: 0.444 Cost: 0.204500\n",
            "Epoch 1000/1000 w1: 1.046 w2: 0.521 b: 0.444 Cost: 0.204527\n",
            "Epoch    0/1000 w1: 1.046 w2: 0.521 b: 0.444 Cost: 0.204527\n",
            "Epoch  100/1000 w1: 1.046 w2: 0.521 b: 0.444 Cost: 0.204554\n",
            "Epoch  200/1000 w1: 1.046 w2: 0.521 b: 0.444 Cost: 0.204581\n",
            "Epoch  300/1000 w1: 1.046 w2: 0.521 b: 0.444 Cost: 0.204607\n",
            "Epoch  400/1000 w1: 1.046 w2: 0.521 b: 0.444 Cost: 0.204634\n",
            "Epoch  500/1000 w1: 1.046 w2: 0.521 b: 0.444 Cost: 0.204661\n",
            "Epoch  600/1000 w1: 1.046 w2: 0.521 b: 0.444 Cost: 0.204688\n",
            "Epoch  700/1000 w1: 1.046 w2: 0.521 b: 0.444 Cost: 0.204715\n",
            "Epoch  800/1000 w1: 1.046 w2: 0.521 b: 0.444 Cost: 0.204742\n",
            "Epoch  900/1000 w1: 1.046 w2: 0.521 b: 0.444 Cost: 0.204768\n",
            "Epoch 1000/1000 w1: 1.046 w2: 0.521 b: 0.444 Cost: 0.204795\n",
            "Epoch    0/1000 w1: 1.046 w2: 0.521 b: 0.444 Cost: 0.204795\n",
            "Epoch  100/1000 w1: 1.046 w2: 0.521 b: 0.444 Cost: 0.204822\n",
            "Epoch  200/1000 w1: 1.046 w2: 0.521 b: 0.444 Cost: 0.204849\n",
            "Epoch  300/1000 w1: 1.046 w2: 0.521 b: 0.444 Cost: 0.204876\n",
            "Epoch  400/1000 w1: 1.046 w2: 0.521 b: 0.444 Cost: 0.204903\n",
            "Epoch  500/1000 w1: 1.046 w2: 0.521 b: 0.444 Cost: 0.204930\n",
            "Epoch  600/1000 w1: 1.046 w2: 0.521 b: 0.444 Cost: 0.204956\n",
            "Epoch  700/1000 w1: 1.046 w2: 0.521 b: 0.444 Cost: 0.204983\n",
            "Epoch  800/1000 w1: 1.046 w2: 0.521 b: 0.444 Cost: 0.205010\n",
            "Epoch  900/1000 w1: 1.046 w2: 0.521 b: 0.444 Cost: 0.205037\n",
            "Epoch 1000/1000 w1: 1.046 w2: 0.521 b: 0.444 Cost: 0.205064\n",
            "Epoch    0/1000 w1: 1.046 w2: 0.521 b: 0.444 Cost: 0.205064\n",
            "Epoch  100/1000 w1: 1.046 w2: 0.521 b: 0.444 Cost: 0.205091\n",
            "Epoch  200/1000 w1: 1.046 w2: 0.521 b: 0.444 Cost: 0.205118\n",
            "Epoch  300/1000 w1: 1.046 w2: 0.521 b: 0.444 Cost: 0.205144\n",
            "Epoch  400/1000 w1: 1.046 w2: 0.521 b: 0.444 Cost: 0.205171\n",
            "Epoch  500/1000 w1: 1.046 w2: 0.521 b: 0.444 Cost: 0.205198\n",
            "Epoch  600/1000 w1: 1.046 w2: 0.521 b: 0.444 Cost: 0.205225\n",
            "Epoch  700/1000 w1: 1.046 w2: 0.521 b: 0.444 Cost: 0.205252\n",
            "Epoch  800/1000 w1: 1.046 w2: 0.521 b: 0.444 Cost: 0.205279\n",
            "Epoch  900/1000 w1: 1.046 w2: 0.521 b: 0.444 Cost: 0.205305\n",
            "Epoch 1000/1000 w1: 1.046 w2: 0.521 b: 0.444 Cost: 0.205332\n",
            "Epoch    0/1000 w1: 1.046 w2: 0.521 b: 0.444 Cost: 0.205332\n",
            "Epoch  100/1000 w1: 1.046 w2: 0.521 b: 0.444 Cost: 0.205359\n",
            "Epoch  200/1000 w1: 1.046 w2: 0.521 b: 0.444 Cost: 0.205386\n",
            "Epoch  300/1000 w1: 1.046 w2: 0.521 b: 0.444 Cost: 0.205413\n",
            "Epoch  400/1000 w1: 1.046 w2: 0.521 b: 0.444 Cost: 0.205440\n",
            "Epoch  500/1000 w1: 1.046 w2: 0.521 b: 0.444 Cost: 0.205467\n",
            "Epoch  600/1000 w1: 1.046 w2: 0.521 b: 0.444 Cost: 0.205493\n",
            "Epoch  700/1000 w1: 1.046 w2: 0.521 b: 0.444 Cost: 0.205520\n",
            "Epoch  800/1000 w1: 1.046 w2: 0.521 b: 0.444 Cost: 0.205547\n",
            "Epoch  900/1000 w1: 1.046 w2: 0.521 b: 0.444 Cost: 0.205574\n",
            "Epoch 1000/1000 w1: 1.046 w2: 0.521 b: 0.444 Cost: 0.205601\n",
            "Epoch    0/1000 w1: 1.046 w2: 0.521 b: 0.444 Cost: 0.205601\n",
            "Epoch  100/1000 w1: 1.046 w2: 0.521 b: 0.444 Cost: 0.205628\n",
            "Epoch  200/1000 w1: 1.046 w2: 0.521 b: 0.444 Cost: 0.205655\n",
            "Epoch  300/1000 w1: 1.046 w2: 0.521 b: 0.444 Cost: 0.205681\n",
            "Epoch  400/1000 w1: 1.046 w2: 0.521 b: 0.444 Cost: 0.205708\n",
            "Epoch  500/1000 w1: 1.046 w2: 0.521 b: 0.444 Cost: 0.205735\n",
            "Epoch  600/1000 w1: 1.046 w2: 0.521 b: 0.444 Cost: 0.205762\n",
            "Epoch  700/1000 w1: 1.046 w2: 0.521 b: 0.444 Cost: 0.205789\n",
            "Epoch  800/1000 w1: 1.046 w2: 0.521 b: 0.444 Cost: 0.205816\n",
            "Epoch  900/1000 w1: 1.046 w2: 0.521 b: 0.444 Cost: 0.205842\n",
            "Epoch 1000/1000 w1: 1.046 w2: 0.521 b: 0.444 Cost: 0.205869\n",
            "Epoch    0/1000 w1: 1.046 w2: 0.521 b: 0.444 Cost: 0.205869\n",
            "Epoch  100/1000 w1: 1.046 w2: 0.521 b: 0.444 Cost: 0.205896\n",
            "Epoch  200/1000 w1: 1.046 w2: 0.521 b: 0.444 Cost: 0.205923\n",
            "Epoch  300/1000 w1: 1.046 w2: 0.521 b: 0.444 Cost: 0.205950\n",
            "Epoch  400/1000 w1: 1.046 w2: 0.521 b: 0.444 Cost: 0.205977\n",
            "Epoch  500/1000 w1: 1.046 w2: 0.521 b: 0.444 Cost: 0.206004\n",
            "Epoch  600/1000 w1: 1.046 w2: 0.521 b: 0.444 Cost: 0.206030\n",
            "Epoch  700/1000 w1: 1.046 w2: 0.521 b: 0.444 Cost: 0.206057\n",
            "Epoch  800/1000 w1: 1.046 w2: 0.521 b: 0.444 Cost: 0.206084\n",
            "Epoch  900/1000 w1: 1.046 w2: 0.521 b: 0.444 Cost: 0.206111\n",
            "Epoch 1000/1000 w1: 1.046 w2: 0.521 b: 0.444 Cost: 0.206138\n",
            "Epoch    0/1000 w1: 1.046 w2: 0.521 b: 0.444 Cost: 0.206138\n",
            "Epoch  100/1000 w1: 1.046 w2: 0.521 b: 0.444 Cost: 0.206165\n",
            "Epoch  200/1000 w1: 1.046 w2: 0.521 b: 0.444 Cost: 0.206192\n",
            "Epoch  300/1000 w1: 1.046 w2: 0.521 b: 0.444 Cost: 0.206218\n",
            "Epoch  400/1000 w1: 1.046 w2: 0.521 b: 0.444 Cost: 0.206245\n",
            "Epoch  500/1000 w1: 1.046 w2: 0.521 b: 0.444 Cost: 0.206272\n",
            "Epoch  600/1000 w1: 1.046 w2: 0.521 b: 0.444 Cost: 0.206299\n",
            "Epoch  700/1000 w1: 1.046 w2: 0.521 b: 0.444 Cost: 0.206326\n",
            "Epoch  800/1000 w1: 1.046 w2: 0.521 b: 0.444 Cost: 0.206353\n",
            "Epoch  900/1000 w1: 1.046 w2: 0.521 b: 0.444 Cost: 0.206379\n",
            "Epoch 1000/1000 w1: 1.046 w2: 0.521 b: 0.444 Cost: 0.206406\n",
            "Epoch    0/1000 w1: 1.046 w2: 0.521 b: 0.444 Cost: 0.206406\n",
            "Epoch  100/1000 w1: 1.046 w2: 0.521 b: 0.444 Cost: 0.206433\n",
            "Epoch  200/1000 w1: 1.046 w2: 0.521 b: 0.444 Cost: 0.206460\n",
            "Epoch  300/1000 w1: 1.046 w2: 0.521 b: 0.444 Cost: 0.206487\n",
            "Epoch  400/1000 w1: 1.046 w2: 0.521 b: 0.444 Cost: 0.206514\n",
            "Epoch  500/1000 w1: 1.046 w2: 0.521 b: 0.444 Cost: 0.206541\n",
            "Epoch  600/1000 w1: 1.046 w2: 0.521 b: 0.444 Cost: 0.206567\n",
            "Epoch  700/1000 w1: 1.046 w2: 0.521 b: 0.444 Cost: 0.206594\n",
            "Epoch  800/1000 w1: 1.046 w2: 0.521 b: 0.444 Cost: 0.206621\n",
            "Epoch  900/1000 w1: 1.046 w2: 0.521 b: 0.444 Cost: 0.206648\n",
            "Epoch 1000/1000 w1: 1.046 w2: 0.521 b: 0.444 Cost: 0.206675\n",
            "Epoch    0/1000 w1: 1.046 w2: 0.521 b: 0.444 Cost: 0.206675\n",
            "Epoch  100/1000 w1: 1.046 w2: 0.521 b: 0.444 Cost: 0.206702\n",
            "Epoch  200/1000 w1: 1.046 w2: 0.521 b: 0.445 Cost: 0.206729\n",
            "Epoch  300/1000 w1: 1.046 w2: 0.521 b: 0.445 Cost: 0.206755\n",
            "Epoch  400/1000 w1: 1.046 w2: 0.521 b: 0.445 Cost: 0.206782\n",
            "Epoch  500/1000 w1: 1.046 w2: 0.521 b: 0.445 Cost: 0.206809\n",
            "Epoch  600/1000 w1: 1.046 w2: 0.521 b: 0.445 Cost: 0.206836\n",
            "Epoch  700/1000 w1: 1.046 w2: 0.521 b: 0.445 Cost: 0.206863\n",
            "Epoch  800/1000 w1: 1.046 w2: 0.521 b: 0.445 Cost: 0.206889\n",
            "Epoch  900/1000 w1: 1.046 w2: 0.521 b: 0.445 Cost: 0.206916\n",
            "Epoch 1000/1000 w1: 1.046 w2: 0.521 b: 0.445 Cost: 0.206943\n",
            "Epoch    0/1000 w1: 1.046 w2: 0.521 b: 0.445 Cost: 0.206943\n",
            "Epoch  100/1000 w1: 1.046 w2: 0.521 b: 0.445 Cost: 0.206970\n",
            "Epoch  200/1000 w1: 1.046 w2: 0.521 b: 0.445 Cost: 0.206997\n",
            "Epoch  300/1000 w1: 1.046 w2: 0.521 b: 0.445 Cost: 0.207024\n",
            "Epoch  400/1000 w1: 1.046 w2: 0.521 b: 0.445 Cost: 0.207051\n",
            "Epoch  500/1000 w1: 1.046 w2: 0.521 b: 0.445 Cost: 0.207078\n",
            "Epoch  600/1000 w1: 1.046 w2: 0.521 b: 0.445 Cost: 0.207104\n",
            "Epoch  700/1000 w1: 1.046 w2: 0.521 b: 0.445 Cost: 0.207131\n",
            "Epoch  800/1000 w1: 1.046 w2: 0.521 b: 0.445 Cost: 0.207158\n",
            "Epoch  900/1000 w1: 1.046 w2: 0.521 b: 0.445 Cost: 0.207185\n",
            "Epoch 1000/1000 w1: 1.046 w2: 0.521 b: 0.445 Cost: 0.207212\n",
            "Epoch    0/1000 w1: 1.046 w2: 0.521 b: 0.445 Cost: 0.207212\n",
            "Epoch  100/1000 w1: 1.046 w2: 0.521 b: 0.445 Cost: 0.207239\n",
            "Epoch  200/1000 w1: 1.046 w2: 0.521 b: 0.445 Cost: 0.207266\n",
            "Epoch  300/1000 w1: 1.046 w2: 0.521 b: 0.445 Cost: 0.207292\n",
            "Epoch  400/1000 w1: 1.046 w2: 0.521 b: 0.445 Cost: 0.207319\n",
            "Epoch  500/1000 w1: 1.046 w2: 0.521 b: 0.445 Cost: 0.207346\n",
            "Epoch  600/1000 w1: 1.046 w2: 0.521 b: 0.445 Cost: 0.207373\n",
            "Epoch  700/1000 w1: 1.046 w2: 0.521 b: 0.445 Cost: 0.207400\n",
            "Epoch  800/1000 w1: 1.046 w2: 0.521 b: 0.445 Cost: 0.207426\n",
            "Epoch  900/1000 w1: 1.046 w2: 0.521 b: 0.445 Cost: 0.207453\n",
            "Epoch 1000/1000 w1: 1.046 w2: 0.521 b: 0.445 Cost: 0.207480\n",
            "Epoch    0/1000 w1: 1.046 w2: 0.521 b: 0.445 Cost: 0.207480\n",
            "Epoch  100/1000 w1: 1.046 w2: 0.521 b: 0.445 Cost: 0.207507\n",
            "Epoch  200/1000 w1: 1.046 w2: 0.521 b: 0.445 Cost: 0.207534\n",
            "Epoch  300/1000 w1: 1.046 w2: 0.521 b: 0.445 Cost: 0.207561\n",
            "Epoch  400/1000 w1: 1.046 w2: 0.521 b: 0.445 Cost: 0.207588\n",
            "Epoch  500/1000 w1: 1.046 w2: 0.521 b: 0.445 Cost: 0.207614\n",
            "Epoch  600/1000 w1: 1.046 w2: 0.521 b: 0.445 Cost: 0.207641\n",
            "Epoch  700/1000 w1: 1.046 w2: 0.521 b: 0.445 Cost: 0.207668\n",
            "Epoch  800/1000 w1: 1.045 w2: 0.521 b: 0.445 Cost: 0.207695\n",
            "Epoch  900/1000 w1: 1.045 w2: 0.521 b: 0.445 Cost: 0.207722\n",
            "Epoch 1000/1000 w1: 1.045 w2: 0.521 b: 0.445 Cost: 0.207749\n",
            "Epoch    0/1000 w1: 1.045 w2: 0.521 b: 0.445 Cost: 0.207749\n",
            "Epoch  100/1000 w1: 1.045 w2: 0.521 b: 0.445 Cost: 0.207776\n",
            "Epoch  200/1000 w1: 1.045 w2: 0.521 b: 0.445 Cost: 0.207803\n",
            "Epoch  300/1000 w1: 1.045 w2: 0.521 b: 0.445 Cost: 0.207829\n",
            "Epoch  400/1000 w1: 1.045 w2: 0.521 b: 0.445 Cost: 0.207856\n",
            "Epoch  500/1000 w1: 1.045 w2: 0.521 b: 0.445 Cost: 0.207883\n",
            "Epoch  600/1000 w1: 1.045 w2: 0.521 b: 0.445 Cost: 0.207910\n",
            "Epoch  700/1000 w1: 1.045 w2: 0.521 b: 0.445 Cost: 0.207937\n",
            "Epoch  800/1000 w1: 1.045 w2: 0.521 b: 0.445 Cost: 0.207963\n",
            "Epoch  900/1000 w1: 1.045 w2: 0.521 b: 0.445 Cost: 0.207990\n",
            "Epoch 1000/1000 w1: 1.045 w2: 0.521 b: 0.445 Cost: 0.208017\n",
            "Epoch    0/1000 w1: 1.045 w2: 0.521 b: 0.445 Cost: 0.208017\n",
            "Epoch  100/1000 w1: 1.045 w2: 0.521 b: 0.445 Cost: 0.208044\n",
            "Epoch  200/1000 w1: 1.045 w2: 0.521 b: 0.445 Cost: 0.208071\n",
            "Epoch  300/1000 w1: 1.045 w2: 0.521 b: 0.445 Cost: 0.208098\n",
            "Epoch  400/1000 w1: 1.045 w2: 0.521 b: 0.445 Cost: 0.208125\n",
            "Epoch  500/1000 w1: 1.045 w2: 0.521 b: 0.445 Cost: 0.208151\n",
            "Epoch  600/1000 w1: 1.045 w2: 0.521 b: 0.445 Cost: 0.208178\n",
            "Epoch  700/1000 w1: 1.045 w2: 0.521 b: 0.445 Cost: 0.208205\n",
            "Epoch  800/1000 w1: 1.045 w2: 0.521 b: 0.445 Cost: 0.208232\n",
            "Epoch  900/1000 w1: 1.045 w2: 0.521 b: 0.445 Cost: 0.208259\n",
            "Epoch 1000/1000 w1: 1.045 w2: 0.521 b: 0.445 Cost: 0.208286\n",
            "Epoch    0/1000 w1: 1.045 w2: 0.521 b: 0.445 Cost: 0.208286\n",
            "Epoch  100/1000 w1: 1.045 w2: 0.521 b: 0.445 Cost: 0.208313\n",
            "Epoch  200/1000 w1: 1.045 w2: 0.521 b: 0.445 Cost: 0.208339\n",
            "Epoch  300/1000 w1: 1.045 w2: 0.521 b: 0.445 Cost: 0.208366\n",
            "Epoch  400/1000 w1: 1.045 w2: 0.521 b: 0.445 Cost: 0.208393\n",
            "Epoch  500/1000 w1: 1.045 w2: 0.521 b: 0.445 Cost: 0.208420\n",
            "Epoch  600/1000 w1: 1.045 w2: 0.521 b: 0.445 Cost: 0.208447\n",
            "Epoch  700/1000 w1: 1.045 w2: 0.521 b: 0.445 Cost: 0.208474\n",
            "Epoch  800/1000 w1: 1.045 w2: 0.521 b: 0.445 Cost: 0.208500\n",
            "Epoch  900/1000 w1: 1.045 w2: 0.521 b: 0.445 Cost: 0.208527\n",
            "Epoch 1000/1000 w1: 1.045 w2: 0.521 b: 0.445 Cost: 0.208554\n",
            "Epoch    0/1000 w1: 1.045 w2: 0.521 b: 0.445 Cost: 0.208554\n",
            "Epoch  100/1000 w1: 1.045 w2: 0.521 b: 0.445 Cost: 0.208581\n",
            "Epoch  200/1000 w1: 1.045 w2: 0.521 b: 0.445 Cost: 0.208608\n",
            "Epoch  300/1000 w1: 1.045 w2: 0.521 b: 0.445 Cost: 0.208635\n",
            "Epoch  400/1000 w1: 1.045 w2: 0.521 b: 0.445 Cost: 0.208662\n",
            "Epoch  500/1000 w1: 1.045 w2: 0.521 b: 0.445 Cost: 0.208688\n",
            "Epoch  600/1000 w1: 1.045 w2: 0.521 b: 0.445 Cost: 0.208715\n",
            "Epoch  700/1000 w1: 1.045 w2: 0.521 b: 0.445 Cost: 0.208742\n",
            "Epoch  800/1000 w1: 1.045 w2: 0.521 b: 0.445 Cost: 0.208769\n",
            "Epoch  900/1000 w1: 1.045 w2: 0.521 b: 0.445 Cost: 0.208796\n",
            "Epoch 1000/1000 w1: 1.045 w2: 0.521 b: 0.445 Cost: 0.208823\n",
            "Epoch    0/1000 w1: 1.045 w2: 0.521 b: 0.445 Cost: 0.208823\n",
            "Epoch  100/1000 w1: 1.045 w2: 0.521 b: 0.445 Cost: 0.208850\n",
            "Epoch  200/1000 w1: 1.045 w2: 0.521 b: 0.445 Cost: 0.208876\n",
            "Epoch  300/1000 w1: 1.045 w2: 0.521 b: 0.445 Cost: 0.208903\n",
            "Epoch  400/1000 w1: 1.045 w2: 0.521 b: 0.445 Cost: 0.208930\n",
            "Epoch  500/1000 w1: 1.045 w2: 0.521 b: 0.445 Cost: 0.208957\n",
            "Epoch  600/1000 w1: 1.045 w2: 0.521 b: 0.445 Cost: 0.208984\n",
            "Epoch  700/1000 w1: 1.045 w2: 0.521 b: 0.445 Cost: 0.209011\n",
            "Epoch  800/1000 w1: 1.045 w2: 0.521 b: 0.445 Cost: 0.209037\n",
            "Epoch  900/1000 w1: 1.045 w2: 0.521 b: 0.445 Cost: 0.209064\n",
            "Epoch 1000/1000 w1: 1.045 w2: 0.521 b: 0.445 Cost: 0.209091\n",
            "Epoch    0/1000 w1: 1.045 w2: 0.521 b: 0.445 Cost: 0.209091\n",
            "Epoch  100/1000 w1: 1.045 w2: 0.521 b: 0.445 Cost: 0.209118\n",
            "Epoch  200/1000 w1: 1.045 w2: 0.521 b: 0.445 Cost: 0.209145\n",
            "Epoch  300/1000 w1: 1.045 w2: 0.521 b: 0.445 Cost: 0.209172\n",
            "Epoch  400/1000 w1: 1.045 w2: 0.521 b: 0.445 Cost: 0.209199\n",
            "Epoch  500/1000 w1: 1.045 w2: 0.521 b: 0.445 Cost: 0.209225\n",
            "Epoch  600/1000 w1: 1.045 w2: 0.521 b: 0.445 Cost: 0.209252\n",
            "Epoch  700/1000 w1: 1.045 w2: 0.521 b: 0.445 Cost: 0.209279\n",
            "Epoch  800/1000 w1: 1.045 w2: 0.521 b: 0.445 Cost: 0.209306\n",
            "Epoch  900/1000 w1: 1.045 w2: 0.521 b: 0.445 Cost: 0.209333\n",
            "Epoch 1000/1000 w1: 1.045 w2: 0.521 b: 0.445 Cost: 0.209360\n",
            "Epoch    0/1000 w1: 1.045 w2: 0.521 b: 0.445 Cost: 0.209360\n",
            "Epoch  100/1000 w1: 1.045 w2: 0.521 b: 0.445 Cost: 0.209387\n",
            "Epoch  200/1000 w1: 1.045 w2: 0.521 b: 0.445 Cost: 0.209413\n",
            "Epoch  300/1000 w1: 1.045 w2: 0.521 b: 0.445 Cost: 0.209440\n",
            "Epoch  400/1000 w1: 1.045 w2: 0.521 b: 0.445 Cost: 0.209467\n",
            "Epoch  500/1000 w1: 1.045 w2: 0.521 b: 0.445 Cost: 0.209494\n",
            "Epoch  600/1000 w1: 1.045 w2: 0.521 b: 0.445 Cost: 0.209521\n",
            "Epoch  700/1000 w1: 1.045 w2: 0.521 b: 0.445 Cost: 0.209548\n",
            "Epoch  800/1000 w1: 1.045 w2: 0.521 b: 0.445 Cost: 0.209574\n",
            "Epoch  900/1000 w1: 1.045 w2: 0.521 b: 0.445 Cost: 0.209601\n",
            "Epoch 1000/1000 w1: 1.045 w2: 0.521 b: 0.445 Cost: 0.209628\n",
            "Epoch    0/1000 w1: 1.045 w2: 0.521 b: 0.445 Cost: 0.209628\n",
            "Epoch  100/1000 w1: 1.045 w2: 0.521 b: 0.445 Cost: 0.209655\n",
            "Epoch  200/1000 w1: 1.045 w2: 0.521 b: 0.445 Cost: 0.209682\n",
            "Epoch  300/1000 w1: 1.045 w2: 0.521 b: 0.445 Cost: 0.209709\n",
            "Epoch  400/1000 w1: 1.045 w2: 0.521 b: 0.445 Cost: 0.209736\n",
            "Epoch  500/1000 w1: 1.045 w2: 0.521 b: 0.445 Cost: 0.209762\n",
            "Epoch  600/1000 w1: 1.045 w2: 0.521 b: 0.445 Cost: 0.209789\n",
            "Epoch  700/1000 w1: 1.045 w2: 0.521 b: 0.445 Cost: 0.209816\n",
            "Epoch  800/1000 w1: 1.045 w2: 0.521 b: 0.445 Cost: 0.209843\n",
            "Epoch  900/1000 w1: 1.045 w2: 0.521 b: 0.445 Cost: 0.209870\n",
            "Epoch 1000/1000 w1: 1.045 w2: 0.521 b: 0.445 Cost: 0.209897\n",
            "Epoch    0/1000 w1: 1.045 w2: 0.521 b: 0.445 Cost: 0.209897\n",
            "Epoch  100/1000 w1: 1.045 w2: 0.521 b: 0.445 Cost: 0.209924\n",
            "Epoch  200/1000 w1: 1.045 w2: 0.521 b: 0.445 Cost: 0.209950\n",
            "Epoch  300/1000 w1: 1.045 w2: 0.521 b: 0.445 Cost: 0.209977\n",
            "Epoch  400/1000 w1: 1.045 w2: 0.521 b: 0.445 Cost: 0.210004\n",
            "Epoch  500/1000 w1: 1.045 w2: 0.521 b: 0.445 Cost: 0.210031\n",
            "Epoch  600/1000 w1: 1.045 w2: 0.521 b: 0.445 Cost: 0.210058\n",
            "Epoch  700/1000 w1: 1.045 w2: 0.521 b: 0.445 Cost: 0.210085\n",
            "Epoch  800/1000 w1: 1.045 w2: 0.521 b: 0.445 Cost: 0.210111\n",
            "Epoch  900/1000 w1: 1.045 w2: 0.521 b: 0.445 Cost: 0.210138\n",
            "Epoch 1000/1000 w1: 1.045 w2: 0.521 b: 0.445 Cost: 0.210165\n",
            "Epoch    0/1000 w1: 1.045 w2: 0.521 b: 0.445 Cost: 0.210165\n",
            "Epoch  100/1000 w1: 1.045 w2: 0.521 b: 0.445 Cost: 0.210192\n",
            "Epoch  200/1000 w1: 1.045 w2: 0.521 b: 0.445 Cost: 0.210219\n",
            "Epoch  300/1000 w1: 1.045 w2: 0.521 b: 0.445 Cost: 0.210246\n",
            "Epoch  400/1000 w1: 1.045 w2: 0.521 b: 0.445 Cost: 0.210273\n",
            "Epoch  500/1000 w1: 1.045 w2: 0.521 b: 0.445 Cost: 0.210299\n",
            "Epoch  600/1000 w1: 1.045 w2: 0.521 b: 0.445 Cost: 0.210326\n",
            "Epoch  700/1000 w1: 1.045 w2: 0.521 b: 0.445 Cost: 0.210353\n",
            "Epoch  800/1000 w1: 1.045 w2: 0.521 b: 0.445 Cost: 0.210380\n",
            "Epoch  900/1000 w1: 1.045 w2: 0.521 b: 0.445 Cost: 0.210407\n",
            "Epoch 1000/1000 w1: 1.045 w2: 0.521 b: 0.445 Cost: 0.210433\n",
            "Epoch    0/1000 w1: 1.045 w2: 0.521 b: 0.445 Cost: 0.210434\n",
            "Epoch  100/1000 w1: 1.045 w2: 0.521 b: 0.445 Cost: 0.210461\n",
            "Epoch  200/1000 w1: 1.045 w2: 0.521 b: 0.445 Cost: 0.210487\n",
            "Epoch  300/1000 w1: 1.045 w2: 0.521 b: 0.445 Cost: 0.210514\n",
            "Epoch  400/1000 w1: 1.045 w2: 0.521 b: 0.445 Cost: 0.210541\n",
            "Epoch  500/1000 w1: 1.045 w2: 0.521 b: 0.445 Cost: 0.210568\n",
            "Epoch  600/1000 w1: 1.045 w2: 0.521 b: 0.445 Cost: 0.210595\n",
            "Epoch  700/1000 w1: 1.045 w2: 0.521 b: 0.445 Cost: 0.210622\n",
            "Epoch  800/1000 w1: 1.045 w2: 0.521 b: 0.445 Cost: 0.210648\n",
            "Epoch  900/1000 w1: 1.045 w2: 0.521 b: 0.445 Cost: 0.210675\n",
            "Epoch 1000/1000 w1: 1.045 w2: 0.521 b: 0.445 Cost: 0.210702\n",
            "Epoch    0/1000 w1: 1.045 w2: 0.521 b: 0.445 Cost: 0.210702\n",
            "Epoch  100/1000 w1: 1.045 w2: 0.521 b: 0.445 Cost: 0.210729\n",
            "Epoch  200/1000 w1: 1.045 w2: 0.521 b: 0.445 Cost: 0.210756\n",
            "Epoch  300/1000 w1: 1.045 w2: 0.521 b: 0.445 Cost: 0.210783\n",
            "Epoch  400/1000 w1: 1.045 w2: 0.521 b: 0.445 Cost: 0.210810\n",
            "Epoch  500/1000 w1: 1.045 w2: 0.521 b: 0.445 Cost: 0.210836\n",
            "Epoch  600/1000 w1: 1.045 w2: 0.521 b: 0.445 Cost: 0.210863\n",
            "Epoch  700/1000 w1: 1.045 w2: 0.521 b: 0.445 Cost: 0.210890\n",
            "Epoch  800/1000 w1: 1.045 w2: 0.521 b: 0.445 Cost: 0.210917\n",
            "Epoch  900/1000 w1: 1.045 w2: 0.521 b: 0.445 Cost: 0.210944\n",
            "Epoch 1000/1000 w1: 1.045 w2: 0.521 b: 0.445 Cost: 0.210970\n",
            "Epoch    0/1000 w1: 1.045 w2: 0.521 b: 0.445 Cost: 0.210971\n",
            "Epoch  100/1000 w1: 1.045 w2: 0.521 b: 0.445 Cost: 0.210998\n",
            "Epoch  200/1000 w1: 1.045 w2: 0.521 b: 0.445 Cost: 0.211024\n",
            "Epoch  300/1000 w1: 1.045 w2: 0.521 b: 0.445 Cost: 0.211051\n",
            "Epoch  400/1000 w1: 1.045 w2: 0.521 b: 0.445 Cost: 0.211078\n",
            "Epoch  500/1000 w1: 1.045 w2: 0.521 b: 0.445 Cost: 0.211105\n",
            "Epoch  600/1000 w1: 1.045 w2: 0.521 b: 0.445 Cost: 0.211132\n",
            "Epoch  700/1000 w1: 1.045 w2: 0.521 b: 0.445 Cost: 0.211158\n",
            "Epoch  800/1000 w1: 1.045 w2: 0.521 b: 0.445 Cost: 0.211185\n",
            "Epoch  900/1000 w1: 1.045 w2: 0.521 b: 0.445 Cost: 0.211212\n",
            "Epoch 1000/1000 w1: 1.045 w2: 0.521 b: 0.445 Cost: 0.211239\n",
            "Epoch    0/1000 w1: 1.045 w2: 0.521 b: 0.445 Cost: 0.211239\n",
            "Epoch  100/1000 w1: 1.045 w2: 0.521 b: 0.445 Cost: 0.211266\n",
            "Epoch  200/1000 w1: 1.045 w2: 0.521 b: 0.445 Cost: 0.211293\n",
            "Epoch  300/1000 w1: 1.045 w2: 0.521 b: 0.445 Cost: 0.211320\n",
            "Epoch  400/1000 w1: 1.045 w2: 0.521 b: 0.445 Cost: 0.211347\n",
            "Epoch  500/1000 w1: 1.045 w2: 0.521 b: 0.445 Cost: 0.211373\n",
            "Epoch  600/1000 w1: 1.045 w2: 0.521 b: 0.445 Cost: 0.211400\n",
            "Epoch  700/1000 w1: 1.045 w2: 0.521 b: 0.445 Cost: 0.211427\n",
            "Epoch  800/1000 w1: 1.045 w2: 0.521 b: 0.445 Cost: 0.211454\n",
            "Epoch  900/1000 w1: 1.045 w2: 0.521 b: 0.445 Cost: 0.211481\n",
            "Epoch 1000/1000 w1: 1.045 w2: 0.521 b: 0.445 Cost: 0.211507\n",
            "Epoch    0/1000 w1: 1.045 w2: 0.521 b: 0.445 Cost: 0.211508\n",
            "Epoch  100/1000 w1: 1.045 w2: 0.521 b: 0.445 Cost: 0.211535\n",
            "Epoch  200/1000 w1: 1.045 w2: 0.521 b: 0.445 Cost: 0.211561\n",
            "Epoch  300/1000 w1: 1.045 w2: 0.521 b: 0.445 Cost: 0.211588\n",
            "Epoch  400/1000 w1: 1.045 w2: 0.521 b: 0.445 Cost: 0.211615\n",
            "Epoch  500/1000 w1: 1.045 w2: 0.521 b: 0.445 Cost: 0.211642\n",
            "Epoch  600/1000 w1: 1.045 w2: 0.521 b: 0.445 Cost: 0.211669\n",
            "Epoch  700/1000 w1: 1.045 w2: 0.521 b: 0.445 Cost: 0.211695\n",
            "Epoch  800/1000 w1: 1.045 w2: 0.521 b: 0.445 Cost: 0.211722\n",
            "Epoch  900/1000 w1: 1.045 w2: 0.521 b: 0.445 Cost: 0.211749\n",
            "Epoch 1000/1000 w1: 1.045 w2: 0.521 b: 0.445 Cost: 0.211776\n",
            "Epoch    0/1000 w1: 1.045 w2: 0.521 b: 0.445 Cost: 0.211776\n",
            "Epoch  100/1000 w1: 1.045 w2: 0.521 b: 0.445 Cost: 0.211803\n",
            "Epoch  200/1000 w1: 1.045 w2: 0.521 b: 0.445 Cost: 0.211830\n",
            "Epoch  300/1000 w1: 1.045 w2: 0.521 b: 0.445 Cost: 0.211857\n",
            "Epoch  400/1000 w1: 1.045 w2: 0.521 b: 0.445 Cost: 0.211884\n",
            "Epoch  500/1000 w1: 1.045 w2: 0.521 b: 0.445 Cost: 0.211910\n",
            "Epoch  600/1000 w1: 1.045 w2: 0.521 b: 0.445 Cost: 0.211937\n",
            "Epoch  700/1000 w1: 1.045 w2: 0.521 b: 0.445 Cost: 0.211964\n",
            "Epoch  800/1000 w1: 1.045 w2: 0.521 b: 0.445 Cost: 0.211991\n",
            "Epoch  900/1000 w1: 1.045 w2: 0.521 b: 0.445 Cost: 0.212018\n",
            "Epoch 1000/1000 w1: 1.045 w2: 0.521 b: 0.445 Cost: 0.212044\n",
            "Epoch    0/1000 w1: 1.045 w2: 0.521 b: 0.445 Cost: 0.212045\n",
            "Epoch  100/1000 w1: 1.045 w2: 0.521 b: 0.445 Cost: 0.212072\n",
            "Epoch  200/1000 w1: 1.045 w2: 0.521 b: 0.445 Cost: 0.212098\n",
            "Epoch  300/1000 w1: 1.045 w2: 0.521 b: 0.445 Cost: 0.212125\n",
            "Epoch  400/1000 w1: 1.045 w2: 0.521 b: 0.445 Cost: 0.212152\n",
            "Epoch  500/1000 w1: 1.045 w2: 0.521 b: 0.445 Cost: 0.212179\n",
            "Epoch  600/1000 w1: 1.045 w2: 0.521 b: 0.445 Cost: 0.212206\n",
            "Epoch  700/1000 w1: 1.045 w2: 0.521 b: 0.445 Cost: 0.212232\n",
            "Epoch  800/1000 w1: 1.045 w2: 0.521 b: 0.445 Cost: 0.212259\n",
            "Epoch  900/1000 w1: 1.045 w2: 0.521 b: 0.445 Cost: 0.212286\n",
            "Epoch 1000/1000 w1: 1.045 w2: 0.521 b: 0.445 Cost: 0.212313\n",
            "Epoch    0/1000 w1: 1.045 w2: 0.521 b: 0.445 Cost: 0.212313\n",
            "Epoch  100/1000 w1: 1.045 w2: 0.521 b: 0.445 Cost: 0.212340\n",
            "Epoch  200/1000 w1: 1.045 w2: 0.521 b: 0.445 Cost: 0.212367\n",
            "Epoch  300/1000 w1: 1.045 w2: 0.521 b: 0.445 Cost: 0.212394\n",
            "Epoch  400/1000 w1: 1.045 w2: 0.521 b: 0.445 Cost: 0.212420\n",
            "Epoch  500/1000 w1: 1.045 w2: 0.521 b: 0.445 Cost: 0.212447\n",
            "Epoch  600/1000 w1: 1.045 w2: 0.521 b: 0.445 Cost: 0.212474\n",
            "Epoch  700/1000 w1: 1.045 w2: 0.521 b: 0.445 Cost: 0.212501\n",
            "Epoch  800/1000 w1: 1.045 w2: 0.521 b: 0.445 Cost: 0.212528\n",
            "Epoch  900/1000 w1: 1.045 w2: 0.521 b: 0.445 Cost: 0.212555\n",
            "Epoch 1000/1000 w1: 1.045 w2: 0.521 b: 0.445 Cost: 0.212581\n",
            "Epoch    0/1000 w1: 1.045 w2: 0.521 b: 0.445 Cost: 0.212582\n",
            "Epoch  100/1000 w1: 1.045 w2: 0.521 b: 0.445 Cost: 0.212609\n",
            "Epoch  200/1000 w1: 1.045 w2: 0.521 b: 0.445 Cost: 0.212635\n",
            "Epoch  300/1000 w1: 1.045 w2: 0.521 b: 0.445 Cost: 0.212662\n",
            "Epoch  400/1000 w1: 1.045 w2: 0.521 b: 0.445 Cost: 0.212689\n",
            "Epoch  500/1000 w1: 1.045 w2: 0.521 b: 0.445 Cost: 0.212716\n",
            "Epoch  600/1000 w1: 1.045 w2: 0.521 b: 0.445 Cost: 0.212743\n",
            "Epoch  700/1000 w1: 1.045 w2: 0.521 b: 0.445 Cost: 0.212769\n",
            "Epoch  800/1000 w1: 1.045 w2: 0.521 b: 0.445 Cost: 0.212796\n",
            "Epoch  900/1000 w1: 1.045 w2: 0.521 b: 0.445 Cost: 0.212823\n",
            "Epoch 1000/1000 w1: 1.045 w2: 0.521 b: 0.445 Cost: 0.212850\n",
            "Epoch    0/1000 w1: 1.045 w2: 0.521 b: 0.445 Cost: 0.212850\n",
            "Epoch  100/1000 w1: 1.045 w2: 0.521 b: 0.445 Cost: 0.212877\n",
            "Epoch  200/1000 w1: 1.045 w2: 0.521 b: 0.445 Cost: 0.212904\n",
            "Epoch  300/1000 w1: 1.045 w2: 0.521 b: 0.445 Cost: 0.212931\n",
            "Epoch  400/1000 w1: 1.045 w2: 0.521 b: 0.445 Cost: 0.212957\n",
            "Epoch  500/1000 w1: 1.045 w2: 0.521 b: 0.445 Cost: 0.212984\n",
            "Epoch  600/1000 w1: 1.045 w2: 0.521 b: 0.445 Cost: 0.213011\n",
            "Epoch  700/1000 w1: 1.045 w2: 0.521 b: 0.445 Cost: 0.213038\n",
            "Epoch  800/1000 w1: 1.045 w2: 0.521 b: 0.445 Cost: 0.213065\n",
            "Epoch  900/1000 w1: 1.045 w2: 0.521 b: 0.445 Cost: 0.213092\n",
            "Epoch 1000/1000 w1: 1.045 w2: 0.521 b: 0.445 Cost: 0.213118\n",
            "Epoch    0/1000 w1: 1.045 w2: 0.521 b: 0.445 Cost: 0.213119\n",
            "Epoch  100/1000 w1: 1.045 w2: 0.521 b: 0.445 Cost: 0.213145\n",
            "Epoch  200/1000 w1: 1.045 w2: 0.521 b: 0.445 Cost: 0.213172\n",
            "Epoch  300/1000 w1: 1.045 w2: 0.521 b: 0.445 Cost: 0.213199\n",
            "Epoch  400/1000 w1: 1.045 w2: 0.521 b: 0.445 Cost: 0.213226\n",
            "Epoch  500/1000 w1: 1.045 w2: 0.521 b: 0.445 Cost: 0.213253\n",
            "Epoch  600/1000 w1: 1.045 w2: 0.521 b: 0.445 Cost: 0.213280\n",
            "Epoch  700/1000 w1: 1.045 w2: 0.521 b: 0.445 Cost: 0.213306\n",
            "Epoch  800/1000 w1: 1.045 w2: 0.521 b: 0.445 Cost: 0.213333\n",
            "Epoch  900/1000 w1: 1.045 w2: 0.521 b: 0.445 Cost: 0.213360\n",
            "Epoch 1000/1000 w1: 1.045 w2: 0.521 b: 0.445 Cost: 0.213387\n",
            "Epoch    0/1000 w1: 1.045 w2: 0.521 b: 0.445 Cost: 0.213387\n",
            "Epoch  100/1000 w1: 1.045 w2: 0.521 b: 0.445 Cost: 0.213414\n",
            "Epoch  200/1000 w1: 1.045 w2: 0.521 b: 0.445 Cost: 0.213441\n",
            "Epoch  300/1000 w1: 1.045 w2: 0.521 b: 0.445 Cost: 0.213468\n",
            "Epoch  400/1000 w1: 1.045 w2: 0.521 b: 0.445 Cost: 0.213494\n",
            "Epoch  500/1000 w1: 1.045 w2: 0.521 b: 0.445 Cost: 0.213521\n",
            "Epoch  600/1000 w1: 1.045 w2: 0.521 b: 0.445 Cost: 0.213548\n",
            "Epoch  700/1000 w1: 1.045 w2: 0.521 b: 0.445 Cost: 0.213575\n",
            "Epoch  800/1000 w1: 1.045 w2: 0.521 b: 0.445 Cost: 0.213602\n",
            "Epoch  900/1000 w1: 1.045 w2: 0.521 b: 0.445 Cost: 0.213629\n",
            "Epoch 1000/1000 w1: 1.045 w2: 0.521 b: 0.445 Cost: 0.213655\n",
            "Epoch    0/1000 w1: 1.045 w2: 0.521 b: 0.445 Cost: 0.213656\n",
            "Epoch  100/1000 w1: 1.045 w2: 0.521 b: 0.445 Cost: 0.213682\n",
            "Epoch  200/1000 w1: 1.045 w2: 0.521 b: 0.445 Cost: 0.213709\n",
            "Epoch  300/1000 w1: 1.045 w2: 0.521 b: 0.445 Cost: 0.213736\n",
            "Epoch  400/1000 w1: 1.045 w2: 0.521 b: 0.445 Cost: 0.213763\n",
            "Epoch  500/1000 w1: 1.045 w2: 0.521 b: 0.445 Cost: 0.213790\n",
            "Epoch  600/1000 w1: 1.045 w2: 0.521 b: 0.445 Cost: 0.213817\n",
            "Epoch  700/1000 w1: 1.045 w2: 0.521 b: 0.445 Cost: 0.213843\n",
            "Epoch  800/1000 w1: 1.045 w2: 0.521 b: 0.445 Cost: 0.213870\n",
            "Epoch  900/1000 w1: 1.045 w2: 0.521 b: 0.445 Cost: 0.213897\n",
            "Epoch 1000/1000 w1: 1.045 w2: 0.521 b: 0.445 Cost: 0.213924\n",
            "Epoch    0/1000 w1: 1.045 w2: 0.521 b: 0.445 Cost: 0.213924\n",
            "Epoch  100/1000 w1: 1.045 w2: 0.521 b: 0.445 Cost: 0.213951\n",
            "Epoch  200/1000 w1: 1.045 w2: 0.521 b: 0.445 Cost: 0.213978\n",
            "Epoch  300/1000 w1: 1.045 w2: 0.521 b: 0.445 Cost: 0.214005\n",
            "Epoch  400/1000 w1: 1.045 w2: 0.521 b: 0.445 Cost: 0.214031\n",
            "Epoch  500/1000 w1: 1.045 w2: 0.521 b: 0.445 Cost: 0.214058\n",
            "Epoch  600/1000 w1: 1.045 w2: 0.521 b: 0.445 Cost: 0.214085\n",
            "Epoch  700/1000 w1: 1.045 w2: 0.521 b: 0.445 Cost: 0.214112\n",
            "Epoch  800/1000 w1: 1.045 w2: 0.521 b: 0.445 Cost: 0.214139\n",
            "Epoch  900/1000 w1: 1.045 w2: 0.521 b: 0.445 Cost: 0.214166\n",
            "Epoch 1000/1000 w1: 1.045 w2: 0.521 b: 0.445 Cost: 0.214192\n",
            "Epoch    0/1000 w1: 1.045 w2: 0.521 b: 0.445 Cost: 0.214193\n",
            "Epoch  100/1000 w1: 1.045 w2: 0.521 b: 0.445 Cost: 0.214219\n",
            "Epoch  200/1000 w1: 1.045 w2: 0.521 b: 0.445 Cost: 0.214246\n",
            "Epoch  300/1000 w1: 1.045 w2: 0.521 b: 0.445 Cost: 0.214273\n",
            "Epoch  400/1000 w1: 1.045 w2: 0.521 b: 0.445 Cost: 0.214300\n",
            "Epoch  500/1000 w1: 1.045 w2: 0.521 b: 0.445 Cost: 0.214327\n",
            "Epoch  600/1000 w1: 1.045 w2: 0.521 b: 0.445 Cost: 0.214354\n",
            "Epoch  700/1000 w1: 1.045 w2: 0.521 b: 0.445 Cost: 0.214380\n",
            "Epoch  800/1000 w1: 1.045 w2: 0.521 b: 0.445 Cost: 0.214407\n",
            "Epoch  900/1000 w1: 1.045 w2: 0.521 b: 0.445 Cost: 0.214434\n",
            "Epoch 1000/1000 w1: 1.045 w2: 0.521 b: 0.445 Cost: 0.214461\n",
            "Epoch    0/1000 w1: 1.045 w2: 0.521 b: 0.445 Cost: 0.214461\n",
            "Epoch  100/1000 w1: 1.045 w2: 0.521 b: 0.445 Cost: 0.214488\n",
            "Epoch  200/1000 w1: 1.045 w2: 0.521 b: 0.445 Cost: 0.214515\n",
            "Epoch  300/1000 w1: 1.045 w2: 0.521 b: 0.445 Cost: 0.214542\n",
            "Epoch  400/1000 w1: 1.045 w2: 0.521 b: 0.445 Cost: 0.214568\n",
            "Epoch  500/1000 w1: 1.045 w2: 0.521 b: 0.445 Cost: 0.214595\n",
            "Epoch  600/1000 w1: 1.045 w2: 0.521 b: 0.445 Cost: 0.214622\n",
            "Epoch  700/1000 w1: 1.045 w2: 0.521 b: 0.445 Cost: 0.214649\n",
            "Epoch  800/1000 w1: 1.045 w2: 0.521 b: 0.445 Cost: 0.214676\n",
            "Epoch  900/1000 w1: 1.045 w2: 0.521 b: 0.445 Cost: 0.214703\n",
            "Epoch 1000/1000 w1: 1.045 w2: 0.521 b: 0.445 Cost: 0.214729\n",
            "Epoch    0/1000 w1: 1.045 w2: 0.521 b: 0.445 Cost: 0.214730\n",
            "Epoch  100/1000 w1: 1.045 w2: 0.521 b: 0.445 Cost: 0.214756\n",
            "Epoch  200/1000 w1: 1.045 w2: 0.521 b: 0.445 Cost: 0.214783\n",
            "Epoch  300/1000 w1: 1.045 w2: 0.521 b: 0.445 Cost: 0.214810\n",
            "Epoch  400/1000 w1: 1.045 w2: 0.521 b: 0.445 Cost: 0.214837\n",
            "Epoch  500/1000 w1: 1.045 w2: 0.521 b: 0.445 Cost: 0.214864\n",
            "Epoch  600/1000 w1: 1.045 w2: 0.521 b: 0.445 Cost: 0.214891\n",
            "Epoch  700/1000 w1: 1.045 w2: 0.521 b: 0.445 Cost: 0.214917\n",
            "Epoch  800/1000 w1: 1.045 w2: 0.521 b: 0.445 Cost: 0.214944\n",
            "Epoch  900/1000 w1: 1.045 w2: 0.521 b: 0.445 Cost: 0.214971\n",
            "Epoch 1000/1000 w1: 1.045 w2: 0.521 b: 0.445 Cost: 0.214998\n",
            "Epoch    0/1000 w1: 1.045 w2: 0.521 b: 0.445 Cost: 0.214998\n",
            "Epoch  100/1000 w1: 1.045 w2: 0.521 b: 0.445 Cost: 0.215025\n",
            "Epoch  200/1000 w1: 1.045 w2: 0.521 b: 0.445 Cost: 0.215052\n",
            "Epoch  300/1000 w1: 1.045 w2: 0.521 b: 0.445 Cost: 0.215079\n",
            "Epoch  400/1000 w1: 1.045 w2: 0.521 b: 0.445 Cost: 0.215105\n",
            "Epoch  500/1000 w1: 1.045 w2: 0.521 b: 0.445 Cost: 0.215132\n",
            "Epoch  600/1000 w1: 1.045 w2: 0.521 b: 0.445 Cost: 0.215159\n",
            "Epoch  700/1000 w1: 1.045 w2: 0.521 b: 0.445 Cost: 0.215186\n",
            "Epoch  800/1000 w1: 1.045 w2: 0.521 b: 0.445 Cost: 0.215213\n",
            "Epoch  900/1000 w1: 1.045 w2: 0.521 b: 0.445 Cost: 0.215239\n",
            "Epoch 1000/1000 w1: 1.045 w2: 0.521 b: 0.445 Cost: 0.215266\n",
            "Epoch    0/1000 w1: 1.045 w2: 0.521 b: 0.445 Cost: 0.215267\n",
            "Epoch  100/1000 w1: 1.045 w2: 0.521 b: 0.445 Cost: 0.215293\n",
            "Epoch  200/1000 w1: 1.045 w2: 0.521 b: 0.445 Cost: 0.215320\n",
            "Epoch  300/1000 w1: 1.045 w2: 0.521 b: 0.445 Cost: 0.215347\n",
            "Epoch  400/1000 w1: 1.045 w2: 0.521 b: 0.445 Cost: 0.215374\n",
            "Epoch  500/1000 w1: 1.045 w2: 0.521 b: 0.445 Cost: 0.215401\n",
            "Epoch  600/1000 w1: 1.045 w2: 0.521 b: 0.445 Cost: 0.215428\n",
            "Epoch  700/1000 w1: 1.045 w2: 0.521 b: 0.445 Cost: 0.215454\n",
            "Epoch  800/1000 w1: 1.045 w2: 0.521 b: 0.445 Cost: 0.215481\n",
            "Epoch  900/1000 w1: 1.045 w2: 0.521 b: 0.445 Cost: 0.215508\n",
            "Epoch 1000/1000 w1: 1.045 w2: 0.521 b: 0.445 Cost: 0.215535\n",
            "Epoch    0/1000 w1: 1.045 w2: 0.521 b: 0.445 Cost: 0.215535\n",
            "Epoch  100/1000 w1: 1.045 w2: 0.521 b: 0.445 Cost: 0.215562\n",
            "Epoch  200/1000 w1: 1.045 w2: 0.521 b: 0.445 Cost: 0.215589\n",
            "Epoch  300/1000 w1: 1.045 w2: 0.521 b: 0.445 Cost: 0.215616\n",
            "Epoch  400/1000 w1: 1.045 w2: 0.521 b: 0.445 Cost: 0.215642\n",
            "Epoch  500/1000 w1: 1.045 w2: 0.521 b: 0.445 Cost: 0.215669\n",
            "Epoch  600/1000 w1: 1.045 w2: 0.521 b: 0.445 Cost: 0.215696\n",
            "Epoch  700/1000 w1: 1.045 w2: 0.521 b: 0.445 Cost: 0.215723\n",
            "Epoch  800/1000 w1: 1.045 w2: 0.521 b: 0.445 Cost: 0.215750\n",
            "Epoch  900/1000 w1: 1.045 w2: 0.521 b: 0.445 Cost: 0.215776\n",
            "Epoch 1000/1000 w1: 1.045 w2: 0.521 b: 0.445 Cost: 0.215803\n",
            "Epoch    0/1000 w1: 1.045 w2: 0.521 b: 0.445 Cost: 0.215804\n",
            "Epoch  100/1000 w1: 1.045 w2: 0.521 b: 0.445 Cost: 0.215830\n",
            "Epoch  200/1000 w1: 1.045 w2: 0.521 b: 0.445 Cost: 0.215857\n",
            "Epoch  300/1000 w1: 1.045 w2: 0.521 b: 0.445 Cost: 0.215884\n",
            "Epoch  400/1000 w1: 1.045 w2: 0.521 b: 0.445 Cost: 0.215911\n",
            "Epoch  500/1000 w1: 1.045 w2: 0.521 b: 0.445 Cost: 0.215938\n",
            "Epoch  600/1000 w1: 1.045 w2: 0.521 b: 0.445 Cost: 0.215964\n",
            "Epoch  700/1000 w1: 1.045 w2: 0.521 b: 0.445 Cost: 0.215991\n",
            "Epoch  800/1000 w1: 1.045 w2: 0.521 b: 0.445 Cost: 0.216018\n",
            "Epoch  900/1000 w1: 1.045 w2: 0.521 b: 0.445 Cost: 0.216045\n",
            "Epoch 1000/1000 w1: 1.045 w2: 0.521 b: 0.445 Cost: 0.216072\n",
            "Epoch    0/1000 w1: 1.045 w2: 0.521 b: 0.445 Cost: 0.216072\n",
            "Epoch  100/1000 w1: 1.045 w2: 0.521 b: 0.445 Cost: 0.216099\n",
            "Epoch  200/1000 w1: 1.045 w2: 0.521 b: 0.445 Cost: 0.216126\n",
            "Epoch  300/1000 w1: 1.045 w2: 0.521 b: 0.445 Cost: 0.216153\n",
            "Epoch  400/1000 w1: 1.045 w2: 0.521 b: 0.445 Cost: 0.216179\n",
            "Epoch  500/1000 w1: 1.045 w2: 0.521 b: 0.445 Cost: 0.216206\n",
            "Epoch  600/1000 w1: 1.045 w2: 0.521 b: 0.445 Cost: 0.216233\n",
            "Epoch  700/1000 w1: 1.045 w2: 0.521 b: 0.445 Cost: 0.216260\n",
            "Epoch  800/1000 w1: 1.045 w2: 0.521 b: 0.445 Cost: 0.216287\n",
            "Epoch  900/1000 w1: 1.045 w2: 0.521 b: 0.445 Cost: 0.216313\n",
            "Epoch 1000/1000 w1: 1.045 w2: 0.521 b: 0.445 Cost: 0.216340\n",
            "Epoch    0/1000 w1: 1.045 w2: 0.521 b: 0.445 Cost: 0.216341\n",
            "Epoch  100/1000 w1: 1.045 w2: 0.521 b: 0.445 Cost: 0.216367\n",
            "Epoch  200/1000 w1: 1.045 w2: 0.521 b: 0.445 Cost: 0.216394\n",
            "Epoch  300/1000 w1: 1.045 w2: 0.521 b: 0.445 Cost: 0.216421\n",
            "Epoch  400/1000 w1: 1.045 w2: 0.521 b: 0.445 Cost: 0.216448\n",
            "Epoch  500/1000 w1: 1.045 w2: 0.521 b: 0.445 Cost: 0.216475\n",
            "Epoch  600/1000 w1: 1.045 w2: 0.521 b: 0.445 Cost: 0.216501\n",
            "Epoch  700/1000 w1: 1.045 w2: 0.521 b: 0.445 Cost: 0.216528\n",
            "Epoch  800/1000 w1: 1.045 w2: 0.521 b: 0.445 Cost: 0.216555\n",
            "Epoch  900/1000 w1: 1.045 w2: 0.521 b: 0.445 Cost: 0.216582\n",
            "Epoch 1000/1000 w1: 1.045 w2: 0.521 b: 0.445 Cost: 0.216609\n",
            "Epoch    0/1000 w1: 1.045 w2: 0.521 b: 0.445 Cost: 0.216609\n",
            "Epoch  100/1000 w1: 1.045 w2: 0.521 b: 0.445 Cost: 0.216636\n",
            "Epoch  200/1000 w1: 1.045 w2: 0.521 b: 0.445 Cost: 0.216663\n",
            "Epoch  300/1000 w1: 1.045 w2: 0.521 b: 0.445 Cost: 0.216689\n",
            "Epoch  400/1000 w1: 1.045 w2: 0.521 b: 0.445 Cost: 0.216716\n",
            "Epoch  500/1000 w1: 1.045 w2: 0.521 b: 0.445 Cost: 0.216743\n",
            "Epoch  600/1000 w1: 1.045 w2: 0.521 b: 0.445 Cost: 0.216770\n",
            "Epoch  700/1000 w1: 1.045 w2: 0.521 b: 0.445 Cost: 0.216797\n",
            "Epoch  800/1000 w1: 1.045 w2: 0.521 b: 0.445 Cost: 0.216824\n",
            "Epoch  900/1000 w1: 1.045 w2: 0.521 b: 0.445 Cost: 0.216850\n",
            "Epoch 1000/1000 w1: 1.045 w2: 0.521 b: 0.445 Cost: 0.216877\n",
            "Epoch    0/1000 w1: 1.045 w2: 0.521 b: 0.445 Cost: 0.216878\n",
            "Epoch  100/1000 w1: 1.045 w2: 0.521 b: 0.445 Cost: 0.216904\n",
            "Epoch  200/1000 w1: 1.045 w2: 0.521 b: 0.445 Cost: 0.216931\n",
            "Epoch  300/1000 w1: 1.045 w2: 0.521 b: 0.445 Cost: 0.216958\n",
            "Epoch  400/1000 w1: 1.045 w2: 0.521 b: 0.445 Cost: 0.216985\n",
            "Epoch  500/1000 w1: 1.045 w2: 0.521 b: 0.445 Cost: 0.217012\n",
            "Epoch  600/1000 w1: 1.045 w2: 0.521 b: 0.445 Cost: 0.217038\n",
            "Epoch  700/1000 w1: 1.045 w2: 0.521 b: 0.445 Cost: 0.217065\n",
            "Epoch  800/1000 w1: 1.045 w2: 0.521 b: 0.445 Cost: 0.217092\n",
            "Epoch  900/1000 w1: 1.045 w2: 0.521 b: 0.445 Cost: 0.217119\n",
            "Epoch 1000/1000 w1: 1.045 w2: 0.521 b: 0.445 Cost: 0.217146\n",
            "Epoch    0/1000 w1: 1.045 w2: 0.521 b: 0.445 Cost: 0.217146\n",
            "Epoch  100/1000 w1: 1.045 w2: 0.521 b: 0.445 Cost: 0.217173\n",
            "Epoch  200/1000 w1: 1.045 w2: 0.521 b: 0.445 Cost: 0.217200\n",
            "Epoch  300/1000 w1: 1.045 w2: 0.521 b: 0.445 Cost: 0.217226\n",
            "Epoch  400/1000 w1: 1.045 w2: 0.521 b: 0.445 Cost: 0.217253\n",
            "Epoch  500/1000 w1: 1.045 w2: 0.521 b: 0.445 Cost: 0.217280\n",
            "Epoch  600/1000 w1: 1.045 w2: 0.521 b: 0.445 Cost: 0.217307\n",
            "Epoch  700/1000 w1: 1.045 w2: 0.521 b: 0.445 Cost: 0.217334\n",
            "Epoch  800/1000 w1: 1.045 w2: 0.521 b: 0.445 Cost: 0.217361\n",
            "Epoch  900/1000 w1: 1.045 w2: 0.521 b: 0.445 Cost: 0.217387\n",
            "Epoch 1000/1000 w1: 1.045 w2: 0.521 b: 0.445 Cost: 0.217414\n",
            "Epoch    0/1000 w1: 1.045 w2: 0.521 b: 0.445 Cost: 0.217414\n",
            "Epoch  100/1000 w1: 1.045 w2: 0.521 b: 0.445 Cost: 0.217441\n",
            "Epoch  200/1000 w1: 1.045 w2: 0.521 b: 0.445 Cost: 0.217468\n",
            "Epoch  300/1000 w1: 1.045 w2: 0.521 b: 0.445 Cost: 0.217495\n",
            "Epoch  400/1000 w1: 1.045 w2: 0.521 b: 0.445 Cost: 0.217522\n",
            "Epoch  500/1000 w1: 1.045 w2: 0.521 b: 0.445 Cost: 0.217549\n",
            "Epoch  600/1000 w1: 1.045 w2: 0.521 b: 0.445 Cost: 0.217575\n",
            "Epoch  700/1000 w1: 1.045 w2: 0.521 b: 0.445 Cost: 0.217602\n",
            "Epoch  800/1000 w1: 1.045 w2: 0.521 b: 0.445 Cost: 0.217629\n",
            "Epoch  900/1000 w1: 1.045 w2: 0.521 b: 0.445 Cost: 0.217656\n",
            "Epoch 1000/1000 w1: 1.045 w2: 0.521 b: 0.445 Cost: 0.217683\n",
            "Epoch    0/1000 w1: 1.045 w2: 0.521 b: 0.445 Cost: 0.217683\n",
            "Epoch  100/1000 w1: 1.045 w2: 0.521 b: 0.445 Cost: 0.217710\n",
            "Epoch  200/1000 w1: 1.045 w2: 0.521 b: 0.445 Cost: 0.217737\n",
            "Epoch  300/1000 w1: 1.045 w2: 0.521 b: 0.445 Cost: 0.217763\n",
            "Epoch  400/1000 w1: 1.045 w2: 0.521 b: 0.445 Cost: 0.217790\n",
            "Epoch  500/1000 w1: 1.045 w2: 0.521 b: 0.445 Cost: 0.217817\n",
            "Epoch  600/1000 w1: 1.045 w2: 0.521 b: 0.445 Cost: 0.217844\n",
            "Epoch  700/1000 w1: 1.045 w2: 0.521 b: 0.445 Cost: 0.217871\n",
            "Epoch  800/1000 w1: 1.045 w2: 0.521 b: 0.445 Cost: 0.217898\n",
            "Epoch  900/1000 w1: 1.045 w2: 0.521 b: 0.445 Cost: 0.217924\n",
            "Epoch 1000/1000 w1: 1.045 w2: 0.521 b: 0.445 Cost: 0.217951\n",
            "Epoch    0/1000 w1: 1.045 w2: 0.521 b: 0.445 Cost: 0.217951\n",
            "Epoch  100/1000 w1: 1.045 w2: 0.521 b: 0.445 Cost: 0.217978\n",
            "Epoch  200/1000 w1: 1.045 w2: 0.521 b: 0.445 Cost: 0.218005\n",
            "Epoch  300/1000 w1: 1.045 w2: 0.521 b: 0.445 Cost: 0.218032\n",
            "Epoch  400/1000 w1: 1.045 w2: 0.521 b: 0.445 Cost: 0.218059\n",
            "Epoch  500/1000 w1: 1.045 w2: 0.521 b: 0.445 Cost: 0.218086\n",
            "Epoch  600/1000 w1: 1.045 w2: 0.521 b: 0.445 Cost: 0.218112\n",
            "Epoch  700/1000 w1: 1.045 w2: 0.521 b: 0.445 Cost: 0.218139\n",
            "Epoch  800/1000 w1: 1.045 w2: 0.521 b: 0.445 Cost: 0.218166\n",
            "Epoch  900/1000 w1: 1.045 w2: 0.521 b: 0.445 Cost: 0.218193\n",
            "Epoch 1000/1000 w1: 1.045 w2: 0.521 b: 0.445 Cost: 0.218220\n",
            "Epoch    0/1000 w1: 1.045 w2: 0.521 b: 0.445 Cost: 0.218220\n",
            "Epoch  100/1000 w1: 1.045 w2: 0.521 b: 0.445 Cost: 0.218247\n",
            "Epoch  200/1000 w1: 1.045 w2: 0.521 b: 0.445 Cost: 0.218274\n",
            "Epoch  300/1000 w1: 1.045 w2: 0.521 b: 0.445 Cost: 0.218300\n",
            "Epoch  400/1000 w1: 1.045 w2: 0.521 b: 0.445 Cost: 0.218327\n",
            "Epoch  500/1000 w1: 1.045 w2: 0.521 b: 0.445 Cost: 0.218354\n",
            "Epoch  600/1000 w1: 1.045 w2: 0.521 b: 0.445 Cost: 0.218381\n",
            "Epoch  700/1000 w1: 1.045 w2: 0.521 b: 0.445 Cost: 0.218408\n",
            "Epoch  800/1000 w1: 1.045 w2: 0.521 b: 0.445 Cost: 0.218435\n",
            "Epoch  900/1000 w1: 1.045 w2: 0.521 b: 0.445 Cost: 0.218461\n",
            "Epoch 1000/1000 w1: 1.045 w2: 0.521 b: 0.445 Cost: 0.218488\n",
            "Epoch    0/1000 w1: 1.045 w2: 0.521 b: 0.445 Cost: 0.218488\n",
            "Epoch  100/1000 w1: 1.045 w2: 0.521 b: 0.445 Cost: 0.218515\n",
            "Epoch  200/1000 w1: 1.045 w2: 0.521 b: 0.445 Cost: 0.218542\n",
            "Epoch  300/1000 w1: 1.045 w2: 0.521 b: 0.445 Cost: 0.218569\n",
            "Epoch  400/1000 w1: 1.045 w2: 0.521 b: 0.445 Cost: 0.218596\n",
            "Epoch  500/1000 w1: 1.045 w2: 0.521 b: 0.445 Cost: 0.218623\n",
            "Epoch  600/1000 w1: 1.045 w2: 0.521 b: 0.445 Cost: 0.218649\n",
            "Epoch  700/1000 w1: 1.045 w2: 0.521 b: 0.445 Cost: 0.218676\n",
            "Epoch  800/1000 w1: 1.045 w2: 0.521 b: 0.445 Cost: 0.218703\n",
            "Epoch  900/1000 w1: 1.045 w2: 0.521 b: 0.445 Cost: 0.218730\n",
            "Epoch 1000/1000 w1: 1.045 w2: 0.521 b: 0.445 Cost: 0.218757\n",
            "Epoch    0/1000 w1: 1.045 w2: 0.521 b: 0.445 Cost: 0.218757\n",
            "Epoch  100/1000 w1: 1.045 w2: 0.521 b: 0.445 Cost: 0.218784\n",
            "Epoch  200/1000 w1: 1.045 w2: 0.521 b: 0.445 Cost: 0.218811\n",
            "Epoch  300/1000 w1: 1.045 w2: 0.521 b: 0.445 Cost: 0.218837\n",
            "Epoch  400/1000 w1: 1.045 w2: 0.521 b: 0.445 Cost: 0.218864\n",
            "Epoch  500/1000 w1: 1.045 w2: 0.521 b: 0.445 Cost: 0.218891\n",
            "Epoch  600/1000 w1: 1.045 w2: 0.521 b: 0.445 Cost: 0.218918\n",
            "Epoch  700/1000 w1: 1.045 w2: 0.521 b: 0.445 Cost: 0.218945\n",
            "Epoch  800/1000 w1: 1.045 w2: 0.521 b: 0.445 Cost: 0.218972\n",
            "Epoch  900/1000 w1: 1.045 w2: 0.521 b: 0.445 Cost: 0.218998\n",
            "Epoch 1000/1000 w1: 1.045 w2: 0.521 b: 0.445 Cost: 0.219025\n",
            "Epoch    0/1000 w1: 1.045 w2: 0.521 b: 0.445 Cost: 0.219025\n",
            "Epoch  100/1000 w1: 1.045 w2: 0.521 b: 0.445 Cost: 0.219052\n",
            "Epoch  200/1000 w1: 1.045 w2: 0.521 b: 0.445 Cost: 0.219079\n",
            "Epoch  300/1000 w1: 1.045 w2: 0.521 b: 0.445 Cost: 0.219106\n",
            "Epoch  400/1000 w1: 1.045 w2: 0.521 b: 0.445 Cost: 0.219133\n",
            "Epoch  500/1000 w1: 1.045 w2: 0.521 b: 0.445 Cost: 0.219160\n",
            "Epoch  600/1000 w1: 1.045 w2: 0.521 b: 0.445 Cost: 0.219186\n",
            "Epoch  700/1000 w1: 1.045 w2: 0.521 b: 0.445 Cost: 0.219213\n",
            "Epoch  800/1000 w1: 1.045 w2: 0.521 b: 0.445 Cost: 0.219240\n",
            "Epoch  900/1000 w1: 1.045 w2: 0.521 b: 0.445 Cost: 0.219267\n",
            "Epoch 1000/1000 w1: 1.045 w2: 0.521 b: 0.445 Cost: 0.219294\n",
            "Epoch    0/1000 w1: 1.045 w2: 0.521 b: 0.445 Cost: 0.219294\n",
            "Epoch  100/1000 w1: 1.045 w2: 0.521 b: 0.445 Cost: 0.219321\n",
            "Epoch  200/1000 w1: 1.045 w2: 0.521 b: 0.445 Cost: 0.219348\n",
            "Epoch  300/1000 w1: 1.045 w2: 0.521 b: 0.445 Cost: 0.219374\n",
            "Epoch  400/1000 w1: 1.045 w2: 0.521 b: 0.445 Cost: 0.219401\n",
            "Epoch  500/1000 w1: 1.045 w2: 0.521 b: 0.445 Cost: 0.219428\n",
            "Epoch  600/1000 w1: 1.045 w2: 0.521 b: 0.445 Cost: 0.219455\n",
            "Epoch  700/1000 w1: 1.045 w2: 0.521 b: 0.445 Cost: 0.219482\n",
            "Epoch  800/1000 w1: 1.045 w2: 0.521 b: 0.445 Cost: 0.219508\n",
            "Epoch  900/1000 w1: 1.045 w2: 0.521 b: 0.445 Cost: 0.219535\n",
            "Epoch 1000/1000 w1: 1.045 w2: 0.521 b: 0.445 Cost: 0.219562\n",
            "Epoch    0/1000 w1: 1.045 w2: 0.521 b: 0.445 Cost: 0.219562\n",
            "Epoch  100/1000 w1: 1.045 w2: 0.521 b: 0.445 Cost: 0.219589\n",
            "Epoch  200/1000 w1: 1.045 w2: 0.521 b: 0.445 Cost: 0.219616\n",
            "Epoch  300/1000 w1: 1.045 w2: 0.521 b: 0.445 Cost: 0.219643\n",
            "Epoch  400/1000 w1: 1.045 w2: 0.521 b: 0.445 Cost: 0.219670\n",
            "Epoch  500/1000 w1: 1.045 w2: 0.521 b: 0.445 Cost: 0.219697\n",
            "Epoch  600/1000 w1: 1.045 w2: 0.521 b: 0.445 Cost: 0.219723\n",
            "Epoch  700/1000 w1: 1.045 w2: 0.521 b: 0.445 Cost: 0.219750\n",
            "Epoch  800/1000 w1: 1.045 w2: 0.521 b: 0.445 Cost: 0.219777\n",
            "Epoch  900/1000 w1: 1.045 w2: 0.521 b: 0.445 Cost: 0.219804\n",
            "Epoch 1000/1000 w1: 1.045 w2: 0.521 b: 0.445 Cost: 0.219831\n",
            "Epoch    0/1000 w1: 1.045 w2: 0.521 b: 0.445 Cost: 0.219831\n",
            "Epoch  100/1000 w1: 1.045 w2: 0.521 b: 0.445 Cost: 0.219858\n",
            "Epoch  200/1000 w1: 1.045 w2: 0.521 b: 0.445 Cost: 0.219885\n",
            "Epoch  300/1000 w1: 1.045 w2: 0.521 b: 0.445 Cost: 0.219911\n",
            "Epoch  400/1000 w1: 1.045 w2: 0.521 b: 0.445 Cost: 0.219938\n",
            "Epoch  500/1000 w1: 1.045 w2: 0.521 b: 0.445 Cost: 0.219965\n",
            "Epoch  600/1000 w1: 1.045 w2: 0.521 b: 0.445 Cost: 0.219992\n",
            "Epoch  700/1000 w1: 1.045 w2: 0.521 b: 0.445 Cost: 0.220019\n",
            "Epoch  800/1000 w1: 1.045 w2: 0.521 b: 0.445 Cost: 0.220045\n",
            "Epoch  900/1000 w1: 1.045 w2: 0.521 b: 0.445 Cost: 0.220072\n",
            "Epoch 1000/1000 w1: 1.045 w2: 0.521 b: 0.445 Cost: 0.220099\n",
            "Epoch    0/1000 w1: 1.045 w2: 0.521 b: 0.445 Cost: 0.220099\n",
            "Epoch  100/1000 w1: 1.045 w2: 0.521 b: 0.445 Cost: 0.220126\n",
            "Epoch  200/1000 w1: 1.045 w2: 0.521 b: 0.445 Cost: 0.220153\n",
            "Epoch  300/1000 w1: 1.045 w2: 0.521 b: 0.445 Cost: 0.220180\n",
            "Epoch  400/1000 w1: 1.045 w2: 0.521 b: 0.445 Cost: 0.220207\n",
            "Epoch  500/1000 w1: 1.045 w2: 0.521 b: 0.446 Cost: 0.220233\n",
            "Epoch  600/1000 w1: 1.045 w2: 0.521 b: 0.446 Cost: 0.220260\n",
            "Epoch  700/1000 w1: 1.045 w2: 0.521 b: 0.446 Cost: 0.220287\n",
            "Epoch  800/1000 w1: 1.045 w2: 0.521 b: 0.446 Cost: 0.220314\n",
            "Epoch  900/1000 w1: 1.045 w2: 0.521 b: 0.446 Cost: 0.220341\n",
            "Epoch 1000/1000 w1: 1.045 w2: 0.521 b: 0.446 Cost: 0.220368\n",
            "Epoch    0/1000 w1: 1.045 w2: 0.521 b: 0.446 Cost: 0.220368\n",
            "Epoch  100/1000 w1: 1.045 w2: 0.521 b: 0.446 Cost: 0.220395\n",
            "Epoch  200/1000 w1: 1.045 w2: 0.521 b: 0.446 Cost: 0.220422\n",
            "Epoch  300/1000 w1: 1.045 w2: 0.521 b: 0.446 Cost: 0.220448\n",
            "Epoch  400/1000 w1: 1.045 w2: 0.521 b: 0.446 Cost: 0.220475\n",
            "Epoch  500/1000 w1: 1.045 w2: 0.521 b: 0.446 Cost: 0.220502\n",
            "Epoch  600/1000 w1: 1.045 w2: 0.521 b: 0.446 Cost: 0.220529\n",
            "Epoch  700/1000 w1: 1.045 w2: 0.521 b: 0.446 Cost: 0.220556\n",
            "Epoch  800/1000 w1: 1.045 w2: 0.521 b: 0.446 Cost: 0.220582\n",
            "Epoch  900/1000 w1: 1.045 w2: 0.521 b: 0.446 Cost: 0.220609\n",
            "Epoch 1000/1000 w1: 1.045 w2: 0.521 b: 0.446 Cost: 0.220636\n",
            "Epoch    0/1000 w1: 1.045 w2: 0.521 b: 0.446 Cost: 0.220636\n",
            "Epoch  100/1000 w1: 1.045 w2: 0.521 b: 0.446 Cost: 0.220663\n",
            "Epoch  200/1000 w1: 1.045 w2: 0.521 b: 0.446 Cost: 0.220690\n",
            "Epoch  300/1000 w1: 1.045 w2: 0.521 b: 0.446 Cost: 0.220717\n",
            "Epoch  400/1000 w1: 1.045 w2: 0.521 b: 0.446 Cost: 0.220744\n",
            "Epoch  500/1000 w1: 1.045 w2: 0.521 b: 0.446 Cost: 0.220770\n",
            "Epoch  600/1000 w1: 1.045 w2: 0.521 b: 0.446 Cost: 0.220797\n",
            "Epoch  700/1000 w1: 1.045 w2: 0.521 b: 0.446 Cost: 0.220824\n",
            "Epoch  800/1000 w1: 1.045 w2: 0.521 b: 0.446 Cost: 0.220851\n",
            "Epoch  900/1000 w1: 1.045 w2: 0.521 b: 0.446 Cost: 0.220878\n",
            "Epoch 1000/1000 w1: 1.045 w2: 0.521 b: 0.446 Cost: 0.220905\n",
            "Epoch    0/1000 w1: 1.045 w2: 0.521 b: 0.446 Cost: 0.220905\n",
            "Epoch  100/1000 w1: 1.045 w2: 0.521 b: 0.446 Cost: 0.220932\n",
            "Epoch  200/1000 w1: 1.045 w2: 0.521 b: 0.446 Cost: 0.220958\n",
            "Epoch  300/1000 w1: 1.045 w2: 0.521 b: 0.446 Cost: 0.220985\n",
            "Epoch  400/1000 w1: 1.045 w2: 0.521 b: 0.446 Cost: 0.221012\n",
            "Epoch  500/1000 w1: 1.045 w2: 0.521 b: 0.446 Cost: 0.221039\n",
            "Epoch  600/1000 w1: 1.045 w2: 0.521 b: 0.446 Cost: 0.221066\n",
            "Epoch  700/1000 w1: 1.045 w2: 0.521 b: 0.446 Cost: 0.221093\n",
            "Epoch  800/1000 w1: 1.045 w2: 0.521 b: 0.446 Cost: 0.221119\n",
            "Epoch  900/1000 w1: 1.045 w2: 0.521 b: 0.446 Cost: 0.221146\n",
            "Epoch 1000/1000 w1: 1.045 w2: 0.521 b: 0.446 Cost: 0.221173\n",
            "Epoch    0/1000 w1: 1.045 w2: 0.521 b: 0.446 Cost: 0.221173\n",
            "Epoch  100/1000 w1: 1.045 w2: 0.521 b: 0.446 Cost: 0.221200\n",
            "Epoch  200/1000 w1: 1.045 w2: 0.521 b: 0.446 Cost: 0.221227\n",
            "Epoch  300/1000 w1: 1.045 w2: 0.521 b: 0.446 Cost: 0.221254\n",
            "Epoch  400/1000 w1: 1.045 w2: 0.521 b: 0.446 Cost: 0.221281\n",
            "Epoch  500/1000 w1: 1.045 w2: 0.521 b: 0.446 Cost: 0.221307\n",
            "Epoch  600/1000 w1: 1.045 w2: 0.521 b: 0.446 Cost: 0.221334\n",
            "Epoch  700/1000 w1: 1.045 w2: 0.521 b: 0.446 Cost: 0.221361\n",
            "Epoch  800/1000 w1: 1.045 w2: 0.521 b: 0.446 Cost: 0.221388\n",
            "Epoch  900/1000 w1: 1.045 w2: 0.521 b: 0.446 Cost: 0.221415\n",
            "Epoch 1000/1000 w1: 1.045 w2: 0.521 b: 0.446 Cost: 0.221442\n",
            "Epoch    0/1000 w1: 1.045 w2: 0.521 b: 0.446 Cost: 0.221442\n",
            "Epoch  100/1000 w1: 1.045 w2: 0.520 b: 0.446 Cost: 0.221469\n",
            "Epoch  200/1000 w1: 1.045 w2: 0.520 b: 0.446 Cost: 0.221495\n",
            "Epoch  300/1000 w1: 1.045 w2: 0.520 b: 0.446 Cost: 0.221522\n",
            "Epoch  400/1000 w1: 1.045 w2: 0.520 b: 0.446 Cost: 0.221549\n",
            "Epoch  500/1000 w1: 1.045 w2: 0.520 b: 0.446 Cost: 0.221576\n",
            "Epoch  600/1000 w1: 1.045 w2: 0.520 b: 0.446 Cost: 0.221603\n",
            "Epoch  700/1000 w1: 1.045 w2: 0.520 b: 0.446 Cost: 0.221630\n",
            "Epoch  800/1000 w1: 1.045 w2: 0.520 b: 0.446 Cost: 0.221656\n",
            "Epoch  900/1000 w1: 1.045 w2: 0.520 b: 0.446 Cost: 0.221683\n",
            "Epoch 1000/1000 w1: 1.045 w2: 0.520 b: 0.446 Cost: 0.221710\n",
            "Epoch    0/1000 w1: 1.045 w2: 0.520 b: 0.446 Cost: 0.221710\n",
            "Epoch  100/1000 w1: 1.045 w2: 0.520 b: 0.446 Cost: 0.221737\n",
            "Epoch  200/1000 w1: 1.045 w2: 0.520 b: 0.446 Cost: 0.221764\n",
            "Epoch  300/1000 w1: 1.045 w2: 0.520 b: 0.446 Cost: 0.221791\n",
            "Epoch  400/1000 w1: 1.045 w2: 0.520 b: 0.446 Cost: 0.221818\n",
            "Epoch  500/1000 w1: 1.045 w2: 0.520 b: 0.446 Cost: 0.221844\n",
            "Epoch  600/1000 w1: 1.045 w2: 0.520 b: 0.446 Cost: 0.221871\n",
            "Epoch  700/1000 w1: 1.045 w2: 0.520 b: 0.446 Cost: 0.221898\n",
            "Epoch  800/1000 w1: 1.045 w2: 0.520 b: 0.446 Cost: 0.221925\n",
            "Epoch  900/1000 w1: 1.045 w2: 0.520 b: 0.446 Cost: 0.221952\n",
            "Epoch 1000/1000 w1: 1.045 w2: 0.520 b: 0.446 Cost: 0.221979\n",
            "Epoch    0/1000 w1: 1.045 w2: 0.520 b: 0.446 Cost: 0.221979\n",
            "Epoch  100/1000 w1: 1.045 w2: 0.520 b: 0.446 Cost: 0.222006\n",
            "Epoch  200/1000 w1: 1.045 w2: 0.520 b: 0.446 Cost: 0.222032\n",
            "Epoch  300/1000 w1: 1.045 w2: 0.520 b: 0.446 Cost: 0.222059\n",
            "Epoch  400/1000 w1: 1.045 w2: 0.520 b: 0.446 Cost: 0.222086\n",
            "Epoch  500/1000 w1: 1.045 w2: 0.520 b: 0.446 Cost: 0.222113\n",
            "Epoch  600/1000 w1: 1.045 w2: 0.520 b: 0.446 Cost: 0.222140\n",
            "Epoch  700/1000 w1: 1.045 w2: 0.520 b: 0.446 Cost: 0.222167\n",
            "Epoch  800/1000 w1: 1.045 w2: 0.520 b: 0.446 Cost: 0.222193\n",
            "Epoch  900/1000 w1: 1.045 w2: 0.520 b: 0.446 Cost: 0.222220\n",
            "Epoch 1000/1000 w1: 1.045 w2: 0.520 b: 0.446 Cost: 0.222247\n",
            "Epoch    0/1000 w1: 1.045 w2: 0.520 b: 0.446 Cost: 0.222247\n",
            "Epoch  100/1000 w1: 1.045 w2: 0.520 b: 0.446 Cost: 0.222274\n",
            "Epoch  200/1000 w1: 1.045 w2: 0.520 b: 0.446 Cost: 0.222301\n",
            "Epoch  300/1000 w1: 1.045 w2: 0.520 b: 0.446 Cost: 0.222328\n",
            "Epoch  400/1000 w1: 1.045 w2: 0.520 b: 0.446 Cost: 0.222355\n",
            "Epoch  500/1000 w1: 1.045 w2: 0.520 b: 0.446 Cost: 0.222381\n",
            "Epoch  600/1000 w1: 1.045 w2: 0.520 b: 0.446 Cost: 0.222408\n",
            "Epoch  700/1000 w1: 1.045 w2: 0.520 b: 0.446 Cost: 0.222435\n",
            "Epoch  800/1000 w1: 1.045 w2: 0.520 b: 0.446 Cost: 0.222462\n",
            "Epoch  900/1000 w1: 1.045 w2: 0.520 b: 0.446 Cost: 0.222489\n",
            "Epoch 1000/1000 w1: 1.045 w2: 0.520 b: 0.446 Cost: 0.222516\n",
            "Epoch    0/1000 w1: 1.045 w2: 0.520 b: 0.446 Cost: 0.222516\n",
            "Epoch  100/1000 w1: 1.045 w2: 0.520 b: 0.446 Cost: 0.222543\n",
            "Epoch  200/1000 w1: 1.045 w2: 0.520 b: 0.446 Cost: 0.222569\n",
            "Epoch  300/1000 w1: 1.045 w2: 0.520 b: 0.446 Cost: 0.222596\n",
            "Epoch  400/1000 w1: 1.045 w2: 0.520 b: 0.446 Cost: 0.222623\n",
            "Epoch  500/1000 w1: 1.045 w2: 0.520 b: 0.446 Cost: 0.222650\n",
            "Epoch  600/1000 w1: 1.045 w2: 0.520 b: 0.446 Cost: 0.222677\n",
            "Epoch  700/1000 w1: 1.045 w2: 0.520 b: 0.446 Cost: 0.222704\n",
            "Epoch  800/1000 w1: 1.045 w2: 0.520 b: 0.446 Cost: 0.222730\n",
            "Epoch  900/1000 w1: 1.045 w2: 0.520 b: 0.446 Cost: 0.222757\n",
            "Epoch 1000/1000 w1: 1.045 w2: 0.520 b: 0.446 Cost: 0.222784\n",
            "Epoch    0/1000 w1: 1.045 w2: 0.520 b: 0.446 Cost: 0.222784\n",
            "Epoch  100/1000 w1: 1.045 w2: 0.520 b: 0.446 Cost: 0.222811\n",
            "Epoch  200/1000 w1: 1.045 w2: 0.520 b: 0.446 Cost: 0.222838\n",
            "Epoch  300/1000 w1: 1.045 w2: 0.520 b: 0.446 Cost: 0.222865\n",
            "Epoch  400/1000 w1: 1.045 w2: 0.520 b: 0.446 Cost: 0.222892\n",
            "Epoch  500/1000 w1: 1.045 w2: 0.520 b: 0.446 Cost: 0.222918\n",
            "Epoch  600/1000 w1: 1.045 w2: 0.520 b: 0.446 Cost: 0.222945\n",
            "Epoch  700/1000 w1: 1.045 w2: 0.520 b: 0.446 Cost: 0.222972\n",
            "Epoch  800/1000 w1: 1.045 w2: 0.520 b: 0.446 Cost: 0.222999\n",
            "Epoch  900/1000 w1: 1.045 w2: 0.520 b: 0.446 Cost: 0.223026\n",
            "Epoch 1000/1000 w1: 1.045 w2: 0.520 b: 0.446 Cost: 0.223052\n",
            "Epoch    0/1000 w1: 1.045 w2: 0.520 b: 0.446 Cost: 0.223053\n",
            "Epoch  100/1000 w1: 1.045 w2: 0.520 b: 0.446 Cost: 0.223080\n",
            "Epoch  200/1000 w1: 1.045 w2: 0.520 b: 0.446 Cost: 0.223106\n",
            "Epoch  300/1000 w1: 1.045 w2: 0.520 b: 0.446 Cost: 0.223133\n",
            "Epoch  400/1000 w1: 1.045 w2: 0.520 b: 0.446 Cost: 0.223160\n",
            "Epoch  500/1000 w1: 1.045 w2: 0.520 b: 0.446 Cost: 0.223187\n",
            "Epoch  600/1000 w1: 1.045 w2: 0.520 b: 0.446 Cost: 0.223214\n",
            "Epoch  700/1000 w1: 1.045 w2: 0.520 b: 0.446 Cost: 0.223241\n",
            "Epoch  800/1000 w1: 1.045 w2: 0.520 b: 0.446 Cost: 0.223267\n",
            "Epoch  900/1000 w1: 1.045 w2: 0.520 b: 0.446 Cost: 0.223294\n",
            "Epoch 1000/1000 w1: 1.045 w2: 0.520 b: 0.446 Cost: 0.223321\n",
            "Epoch    0/1000 w1: 1.045 w2: 0.520 b: 0.446 Cost: 0.223321\n",
            "Epoch  100/1000 w1: 1.045 w2: 0.520 b: 0.446 Cost: 0.223348\n",
            "Epoch  200/1000 w1: 1.045 w2: 0.520 b: 0.446 Cost: 0.223375\n",
            "Epoch  300/1000 w1: 1.045 w2: 0.520 b: 0.446 Cost: 0.223402\n",
            "Epoch  400/1000 w1: 1.045 w2: 0.520 b: 0.446 Cost: 0.223429\n",
            "Epoch  500/1000 w1: 1.045 w2: 0.520 b: 0.446 Cost: 0.223455\n",
            "Epoch  600/1000 w1: 1.045 w2: 0.520 b: 0.446 Cost: 0.223482\n",
            "Epoch  700/1000 w1: 1.045 w2: 0.520 b: 0.446 Cost: 0.223509\n",
            "Epoch  800/1000 w1: 1.045 w2: 0.520 b: 0.446 Cost: 0.223536\n",
            "Epoch  900/1000 w1: 1.045 w2: 0.520 b: 0.446 Cost: 0.223563\n",
            "Epoch 1000/1000 w1: 1.045 w2: 0.520 b: 0.446 Cost: 0.223589\n",
            "Epoch    0/1000 w1: 1.045 w2: 0.520 b: 0.446 Cost: 0.223590\n",
            "Epoch  100/1000 w1: 1.045 w2: 0.520 b: 0.446 Cost: 0.223617\n",
            "Epoch  200/1000 w1: 1.045 w2: 0.520 b: 0.446 Cost: 0.223643\n",
            "Epoch  300/1000 w1: 1.045 w2: 0.520 b: 0.446 Cost: 0.223670\n",
            "Epoch  400/1000 w1: 1.045 w2: 0.520 b: 0.446 Cost: 0.223697\n",
            "Epoch  500/1000 w1: 1.045 w2: 0.520 b: 0.446 Cost: 0.223724\n",
            "Epoch  600/1000 w1: 1.045 w2: 0.520 b: 0.446 Cost: 0.223751\n",
            "Epoch  700/1000 w1: 1.045 w2: 0.520 b: 0.446 Cost: 0.223777\n",
            "Epoch  800/1000 w1: 1.045 w2: 0.520 b: 0.446 Cost: 0.223804\n",
            "Epoch  900/1000 w1: 1.045 w2: 0.520 b: 0.446 Cost: 0.223831\n",
            "Epoch 1000/1000 w1: 1.045 w2: 0.520 b: 0.446 Cost: 0.223858\n",
            "Epoch    0/1000 w1: 1.045 w2: 0.520 b: 0.446 Cost: 0.223858\n",
            "Epoch  100/1000 w1: 1.045 w2: 0.520 b: 0.446 Cost: 0.223885\n",
            "Epoch  200/1000 w1: 1.045 w2: 0.520 b: 0.446 Cost: 0.223912\n",
            "Epoch  300/1000 w1: 1.045 w2: 0.520 b: 0.446 Cost: 0.223939\n",
            "Epoch  400/1000 w1: 1.045 w2: 0.520 b: 0.446 Cost: 0.223966\n",
            "Epoch  500/1000 w1: 1.045 w2: 0.520 b: 0.446 Cost: 0.223992\n",
            "Epoch  600/1000 w1: 1.045 w2: 0.520 b: 0.446 Cost: 0.224019\n",
            "Epoch  700/1000 w1: 1.045 w2: 0.520 b: 0.446 Cost: 0.224046\n",
            "Epoch  800/1000 w1: 1.045 w2: 0.520 b: 0.446 Cost: 0.224073\n",
            "Epoch  900/1000 w1: 1.045 w2: 0.520 b: 0.446 Cost: 0.224100\n",
            "Epoch 1000/1000 w1: 1.045 w2: 0.520 b: 0.446 Cost: 0.224126\n",
            "Epoch    0/1000 w1: 1.045 w2: 0.520 b: 0.446 Cost: 0.224127\n",
            "Epoch  100/1000 w1: 1.045 w2: 0.520 b: 0.446 Cost: 0.224154\n",
            "Epoch  200/1000 w1: 1.045 w2: 0.520 b: 0.446 Cost: 0.224180\n",
            "Epoch  300/1000 w1: 1.045 w2: 0.520 b: 0.446 Cost: 0.224207\n",
            "Epoch  400/1000 w1: 1.045 w2: 0.520 b: 0.446 Cost: 0.224234\n",
            "Epoch  500/1000 w1: 1.045 w2: 0.520 b: 0.446 Cost: 0.224261\n",
            "Epoch  600/1000 w1: 1.045 w2: 0.520 b: 0.446 Cost: 0.224288\n",
            "Epoch  700/1000 w1: 1.045 w2: 0.520 b: 0.446 Cost: 0.224314\n",
            "Epoch  800/1000 w1: 1.045 w2: 0.520 b: 0.446 Cost: 0.224341\n",
            "Epoch  900/1000 w1: 1.045 w2: 0.520 b: 0.446 Cost: 0.224368\n",
            "Epoch 1000/1000 w1: 1.045 w2: 0.520 b: 0.446 Cost: 0.224395\n",
            "Epoch    0/1000 w1: 1.045 w2: 0.520 b: 0.446 Cost: 0.224395\n",
            "Epoch  100/1000 w1: 1.045 w2: 0.520 b: 0.446 Cost: 0.224422\n",
            "Epoch  200/1000 w1: 1.045 w2: 0.520 b: 0.446 Cost: 0.224449\n",
            "Epoch  300/1000 w1: 1.045 w2: 0.520 b: 0.446 Cost: 0.224476\n",
            "Epoch  400/1000 w1: 1.045 w2: 0.520 b: 0.446 Cost: 0.224502\n",
            "Epoch  500/1000 w1: 1.045 w2: 0.520 b: 0.446 Cost: 0.224529\n",
            "Epoch  600/1000 w1: 1.044 w2: 0.520 b: 0.446 Cost: 0.224556\n",
            "Epoch  700/1000 w1: 1.044 w2: 0.520 b: 0.446 Cost: 0.224583\n",
            "Epoch  800/1000 w1: 1.044 w2: 0.520 b: 0.446 Cost: 0.224610\n",
            "Epoch  900/1000 w1: 1.044 w2: 0.520 b: 0.446 Cost: 0.224637\n",
            "Epoch 1000/1000 w1: 1.044 w2: 0.520 b: 0.446 Cost: 0.224663\n",
            "Epoch    0/1000 w1: 1.044 w2: 0.520 b: 0.446 Cost: 0.224664\n",
            "Epoch  100/1000 w1: 1.044 w2: 0.520 b: 0.446 Cost: 0.224691\n",
            "Epoch  200/1000 w1: 1.044 w2: 0.520 b: 0.446 Cost: 0.224717\n",
            "Epoch  300/1000 w1: 1.044 w2: 0.520 b: 0.446 Cost: 0.224744\n",
            "Epoch  400/1000 w1: 1.044 w2: 0.520 b: 0.446 Cost: 0.224771\n",
            "Epoch  500/1000 w1: 1.044 w2: 0.520 b: 0.446 Cost: 0.224798\n",
            "Epoch  600/1000 w1: 1.044 w2: 0.520 b: 0.446 Cost: 0.224825\n",
            "Epoch  700/1000 w1: 1.044 w2: 0.520 b: 0.446 Cost: 0.224851\n",
            "Epoch  800/1000 w1: 1.044 w2: 0.520 b: 0.446 Cost: 0.224878\n",
            "Epoch  900/1000 w1: 1.044 w2: 0.520 b: 0.446 Cost: 0.224905\n",
            "Epoch 1000/1000 w1: 1.044 w2: 0.520 b: 0.446 Cost: 0.224932\n",
            "Epoch    0/1000 w1: 1.044 w2: 0.520 b: 0.446 Cost: 0.224932\n",
            "Epoch  100/1000 w1: 1.044 w2: 0.520 b: 0.446 Cost: 0.224959\n",
            "Epoch  200/1000 w1: 1.044 w2: 0.520 b: 0.446 Cost: 0.224986\n",
            "Epoch  300/1000 w1: 1.044 w2: 0.520 b: 0.446 Cost: 0.225013\n",
            "Epoch  400/1000 w1: 1.044 w2: 0.520 b: 0.446 Cost: 0.225039\n",
            "Epoch  500/1000 w1: 1.044 w2: 0.520 b: 0.446 Cost: 0.225066\n",
            "Epoch  600/1000 w1: 1.044 w2: 0.520 b: 0.446 Cost: 0.225093\n",
            "Epoch  700/1000 w1: 1.044 w2: 0.520 b: 0.446 Cost: 0.225120\n",
            "Epoch  800/1000 w1: 1.044 w2: 0.520 b: 0.446 Cost: 0.225147\n",
            "Epoch  900/1000 w1: 1.044 w2: 0.520 b: 0.446 Cost: 0.225174\n",
            "Epoch 1000/1000 w1: 1.044 w2: 0.520 b: 0.446 Cost: 0.225200\n",
            "Epoch    0/1000 w1: 1.044 w2: 0.520 b: 0.446 Cost: 0.225201\n",
            "Epoch  100/1000 w1: 1.044 w2: 0.520 b: 0.446 Cost: 0.225227\n",
            "Epoch  200/1000 w1: 1.044 w2: 0.520 b: 0.446 Cost: 0.225254\n",
            "Epoch  300/1000 w1: 1.044 w2: 0.520 b: 0.446 Cost: 0.225281\n",
            "Epoch  400/1000 w1: 1.044 w2: 0.520 b: 0.446 Cost: 0.225308\n",
            "Epoch  500/1000 w1: 1.044 w2: 0.520 b: 0.446 Cost: 0.225335\n",
            "Epoch  600/1000 w1: 1.044 w2: 0.520 b: 0.446 Cost: 0.225362\n",
            "Epoch  700/1000 w1: 1.044 w2: 0.520 b: 0.446 Cost: 0.225388\n",
            "Epoch  800/1000 w1: 1.044 w2: 0.520 b: 0.446 Cost: 0.225415\n",
            "Epoch  900/1000 w1: 1.044 w2: 0.520 b: 0.446 Cost: 0.225442\n",
            "Epoch 1000/1000 w1: 1.044 w2: 0.520 b: 0.446 Cost: 0.225469\n",
            "Epoch    0/1000 w1: 1.044 w2: 0.520 b: 0.446 Cost: 0.225469\n",
            "Epoch  100/1000 w1: 1.044 w2: 0.520 b: 0.446 Cost: 0.225496\n",
            "Epoch  200/1000 w1: 1.044 w2: 0.520 b: 0.446 Cost: 0.225523\n",
            "Epoch  300/1000 w1: 1.044 w2: 0.520 b: 0.446 Cost: 0.225550\n",
            "Epoch  400/1000 w1: 1.044 w2: 0.520 b: 0.446 Cost: 0.225576\n",
            "Epoch  500/1000 w1: 1.044 w2: 0.520 b: 0.446 Cost: 0.225603\n",
            "Epoch  600/1000 w1: 1.044 w2: 0.520 b: 0.446 Cost: 0.225630\n",
            "Epoch  700/1000 w1: 1.044 w2: 0.520 b: 0.446 Cost: 0.225657\n",
            "Epoch  800/1000 w1: 1.044 w2: 0.520 b: 0.446 Cost: 0.225684\n",
            "Epoch  900/1000 w1: 1.044 w2: 0.520 b: 0.446 Cost: 0.225711\n",
            "Epoch 1000/1000 w1: 1.044 w2: 0.520 b: 0.446 Cost: 0.225737\n",
            "Epoch    0/1000 w1: 1.044 w2: 0.520 b: 0.446 Cost: 0.225738\n",
            "Epoch  100/1000 w1: 1.044 w2: 0.520 b: 0.446 Cost: 0.225764\n",
            "Epoch  200/1000 w1: 1.044 w2: 0.520 b: 0.446 Cost: 0.225791\n",
            "Epoch  300/1000 w1: 1.044 w2: 0.520 b: 0.446 Cost: 0.225818\n",
            "Epoch  400/1000 w1: 1.044 w2: 0.520 b: 0.446 Cost: 0.225845\n",
            "Epoch  500/1000 w1: 1.044 w2: 0.520 b: 0.446 Cost: 0.225872\n",
            "Epoch  600/1000 w1: 1.044 w2: 0.520 b: 0.446 Cost: 0.225899\n",
            "Epoch  700/1000 w1: 1.044 w2: 0.520 b: 0.446 Cost: 0.225925\n",
            "Epoch  800/1000 w1: 1.044 w2: 0.520 b: 0.446 Cost: 0.225952\n",
            "Epoch  900/1000 w1: 1.044 w2: 0.520 b: 0.446 Cost: 0.225979\n",
            "Epoch 1000/1000 w1: 1.044 w2: 0.520 b: 0.446 Cost: 0.226006\n",
            "Epoch    0/1000 w1: 1.044 w2: 0.520 b: 0.446 Cost: 0.226006\n",
            "Epoch  100/1000 w1: 1.044 w2: 0.520 b: 0.446 Cost: 0.226033\n",
            "Epoch  200/1000 w1: 1.044 w2: 0.520 b: 0.446 Cost: 0.226060\n",
            "Epoch  300/1000 w1: 1.044 w2: 0.520 b: 0.446 Cost: 0.226087\n",
            "Epoch  400/1000 w1: 1.044 w2: 0.520 b: 0.446 Cost: 0.226113\n",
            "Epoch  500/1000 w1: 1.044 w2: 0.520 b: 0.446 Cost: 0.226140\n",
            "Epoch  600/1000 w1: 1.044 w2: 0.520 b: 0.446 Cost: 0.226167\n",
            "Epoch  700/1000 w1: 1.044 w2: 0.520 b: 0.446 Cost: 0.226194\n",
            "Epoch  800/1000 w1: 1.044 w2: 0.520 b: 0.446 Cost: 0.226221\n",
            "Epoch  900/1000 w1: 1.044 w2: 0.520 b: 0.446 Cost: 0.226248\n",
            "Epoch 1000/1000 w1: 1.044 w2: 0.520 b: 0.446 Cost: 0.226274\n",
            "Epoch    0/1000 w1: 1.044 w2: 0.520 b: 0.446 Cost: 0.226275\n",
            "Epoch  100/1000 w1: 1.044 w2: 0.520 b: 0.446 Cost: 0.226301\n",
            "Epoch  200/1000 w1: 1.044 w2: 0.520 b: 0.446 Cost: 0.226328\n",
            "Epoch  300/1000 w1: 1.044 w2: 0.520 b: 0.446 Cost: 0.226355\n",
            "Epoch  400/1000 w1: 1.044 w2: 0.520 b: 0.446 Cost: 0.226382\n",
            "Epoch  500/1000 w1: 1.044 w2: 0.520 b: 0.446 Cost: 0.226409\n",
            "Epoch  600/1000 w1: 1.044 w2: 0.520 b: 0.446 Cost: 0.226436\n",
            "Epoch  700/1000 w1: 1.044 w2: 0.520 b: 0.446 Cost: 0.226462\n",
            "Epoch  800/1000 w1: 1.044 w2: 0.520 b: 0.446 Cost: 0.226489\n",
            "Epoch  900/1000 w1: 1.044 w2: 0.520 b: 0.446 Cost: 0.226516\n",
            "Epoch 1000/1000 w1: 1.044 w2: 0.520 b: 0.446 Cost: 0.226543\n",
            "Epoch    0/1000 w1: 1.044 w2: 0.520 b: 0.446 Cost: 0.226543\n",
            "Epoch  100/1000 w1: 1.044 w2: 0.520 b: 0.446 Cost: 0.226570\n",
            "Epoch  200/1000 w1: 1.044 w2: 0.520 b: 0.446 Cost: 0.226597\n",
            "Epoch  300/1000 w1: 1.044 w2: 0.520 b: 0.446 Cost: 0.226624\n",
            "Epoch  400/1000 w1: 1.044 w2: 0.520 b: 0.446 Cost: 0.226650\n",
            "Epoch  500/1000 w1: 1.044 w2: 0.520 b: 0.446 Cost: 0.226677\n",
            "Epoch  600/1000 w1: 1.044 w2: 0.520 b: 0.446 Cost: 0.226704\n",
            "Epoch  700/1000 w1: 1.044 w2: 0.520 b: 0.446 Cost: 0.226731\n",
            "Epoch  800/1000 w1: 1.044 w2: 0.520 b: 0.446 Cost: 0.226758\n",
            "Epoch  900/1000 w1: 1.044 w2: 0.520 b: 0.446 Cost: 0.226785\n",
            "Epoch 1000/1000 w1: 1.044 w2: 0.520 b: 0.446 Cost: 0.226811\n",
            "Epoch    0/1000 w1: 1.044 w2: 0.520 b: 0.446 Cost: 0.226812\n",
            "Epoch  100/1000 w1: 1.044 w2: 0.520 b: 0.446 Cost: 0.226838\n",
            "Epoch  200/1000 w1: 1.044 w2: 0.520 b: 0.446 Cost: 0.226865\n",
            "Epoch  300/1000 w1: 1.044 w2: 0.520 b: 0.446 Cost: 0.226892\n",
            "Epoch  400/1000 w1: 1.044 w2: 0.520 b: 0.446 Cost: 0.226919\n",
            "Epoch  500/1000 w1: 1.044 w2: 0.520 b: 0.446 Cost: 0.226946\n",
            "Epoch  600/1000 w1: 1.044 w2: 0.520 b: 0.446 Cost: 0.226973\n",
            "Epoch  700/1000 w1: 1.044 w2: 0.520 b: 0.446 Cost: 0.226999\n",
            "Epoch  800/1000 w1: 1.044 w2: 0.520 b: 0.446 Cost: 0.227026\n",
            "Epoch  900/1000 w1: 1.044 w2: 0.520 b: 0.446 Cost: 0.227053\n",
            "Epoch 1000/1000 w1: 1.044 w2: 0.520 b: 0.446 Cost: 0.227080\n",
            "Epoch    0/1000 w1: 1.044 w2: 0.520 b: 0.446 Cost: 0.227080\n",
            "Epoch  100/1000 w1: 1.044 w2: 0.520 b: 0.446 Cost: 0.227107\n",
            "Epoch  200/1000 w1: 1.044 w2: 0.520 b: 0.446 Cost: 0.227134\n",
            "Epoch  300/1000 w1: 1.044 w2: 0.520 b: 0.446 Cost: 0.227161\n",
            "Epoch  400/1000 w1: 1.044 w2: 0.520 b: 0.446 Cost: 0.227187\n",
            "Epoch  500/1000 w1: 1.044 w2: 0.520 b: 0.446 Cost: 0.227214\n",
            "Epoch  600/1000 w1: 1.044 w2: 0.520 b: 0.446 Cost: 0.227241\n",
            "Epoch  700/1000 w1: 1.044 w2: 0.520 b: 0.446 Cost: 0.227268\n",
            "Epoch  800/1000 w1: 1.044 w2: 0.520 b: 0.446 Cost: 0.227295\n",
            "Epoch  900/1000 w1: 1.044 w2: 0.520 b: 0.446 Cost: 0.227321\n",
            "Epoch 1000/1000 w1: 1.044 w2: 0.520 b: 0.446 Cost: 0.227348\n",
            "Epoch    0/1000 w1: 1.044 w2: 0.520 b: 0.446 Cost: 0.227349\n",
            "Epoch  100/1000 w1: 1.044 w2: 0.520 b: 0.446 Cost: 0.227375\n",
            "Epoch  200/1000 w1: 1.044 w2: 0.520 b: 0.446 Cost: 0.227402\n",
            "Epoch  300/1000 w1: 1.044 w2: 0.520 b: 0.446 Cost: 0.227429\n",
            "Epoch  400/1000 w1: 1.044 w2: 0.520 b: 0.446 Cost: 0.227456\n",
            "Epoch  500/1000 w1: 1.044 w2: 0.520 b: 0.446 Cost: 0.227483\n",
            "Epoch  600/1000 w1: 1.044 w2: 0.520 b: 0.446 Cost: 0.227510\n",
            "Epoch  700/1000 w1: 1.044 w2: 0.520 b: 0.446 Cost: 0.227536\n",
            "Epoch  800/1000 w1: 1.044 w2: 0.520 b: 0.446 Cost: 0.227563\n",
            "Epoch  900/1000 w1: 1.044 w2: 0.520 b: 0.446 Cost: 0.227590\n",
            "Epoch 1000/1000 w1: 1.044 w2: 0.520 b: 0.446 Cost: 0.227617\n",
            "Epoch    0/1000 w1: 1.044 w2: 0.520 b: 0.446 Cost: 0.227617\n",
            "Epoch  100/1000 w1: 1.044 w2: 0.520 b: 0.446 Cost: 0.227644\n",
            "Epoch  200/1000 w1: 1.044 w2: 0.520 b: 0.446 Cost: 0.227671\n",
            "Epoch  300/1000 w1: 1.044 w2: 0.520 b: 0.446 Cost: 0.227698\n",
            "Epoch  400/1000 w1: 1.044 w2: 0.520 b: 0.446 Cost: 0.227724\n",
            "Epoch  500/1000 w1: 1.044 w2: 0.520 b: 0.446 Cost: 0.227751\n",
            "Epoch  600/1000 w1: 1.044 w2: 0.520 b: 0.446 Cost: 0.227778\n",
            "Epoch  700/1000 w1: 1.044 w2: 0.520 b: 0.446 Cost: 0.227805\n",
            "Epoch  800/1000 w1: 1.044 w2: 0.520 b: 0.446 Cost: 0.227832\n",
            "Epoch  900/1000 w1: 1.044 w2: 0.520 b: 0.446 Cost: 0.227858\n",
            "Epoch 1000/1000 w1: 1.044 w2: 0.520 b: 0.446 Cost: 0.227885\n",
            "Epoch    0/1000 w1: 1.044 w2: 0.520 b: 0.446 Cost: 0.227886\n",
            "Epoch  100/1000 w1: 1.044 w2: 0.520 b: 0.446 Cost: 0.227912\n",
            "Epoch  200/1000 w1: 1.044 w2: 0.520 b: 0.446 Cost: 0.227939\n",
            "Epoch  300/1000 w1: 1.044 w2: 0.520 b: 0.446 Cost: 0.227966\n",
            "Epoch  400/1000 w1: 1.044 w2: 0.520 b: 0.446 Cost: 0.227993\n",
            "Epoch  500/1000 w1: 1.044 w2: 0.520 b: 0.446 Cost: 0.228020\n",
            "Epoch  600/1000 w1: 1.044 w2: 0.520 b: 0.446 Cost: 0.228046\n",
            "Epoch  700/1000 w1: 1.044 w2: 0.520 b: 0.446 Cost: 0.228073\n",
            "Epoch  800/1000 w1: 1.044 w2: 0.520 b: 0.446 Cost: 0.228100\n",
            "Epoch  900/1000 w1: 1.044 w2: 0.520 b: 0.446 Cost: 0.228127\n",
            "Epoch 1000/1000 w1: 1.044 w2: 0.520 b: 0.446 Cost: 0.228154\n",
            "Epoch    0/1000 w1: 1.044 w2: 0.520 b: 0.446 Cost: 0.228154\n",
            "Epoch  100/1000 w1: 1.044 w2: 0.520 b: 0.446 Cost: 0.228181\n",
            "Epoch  200/1000 w1: 1.044 w2: 0.520 b: 0.446 Cost: 0.228208\n",
            "Epoch  300/1000 w1: 1.044 w2: 0.520 b: 0.446 Cost: 0.228235\n",
            "Epoch  400/1000 w1: 1.044 w2: 0.520 b: 0.446 Cost: 0.228261\n",
            "Epoch  500/1000 w1: 1.044 w2: 0.520 b: 0.446 Cost: 0.228288\n",
            "Epoch  600/1000 w1: 1.044 w2: 0.520 b: 0.446 Cost: 0.228315\n",
            "Epoch  700/1000 w1: 1.044 w2: 0.520 b: 0.446 Cost: 0.228342\n",
            "Epoch  800/1000 w1: 1.044 w2: 0.520 b: 0.446 Cost: 0.228369\n",
            "Epoch  900/1000 w1: 1.044 w2: 0.520 b: 0.446 Cost: 0.228395\n",
            "Epoch 1000/1000 w1: 1.044 w2: 0.520 b: 0.446 Cost: 0.228422\n",
            "Epoch    0/1000 w1: 1.044 w2: 0.520 b: 0.446 Cost: 0.228423\n",
            "Epoch  100/1000 w1: 1.044 w2: 0.520 b: 0.446 Cost: 0.228449\n",
            "Epoch  200/1000 w1: 1.044 w2: 0.520 b: 0.446 Cost: 0.228476\n",
            "Epoch  300/1000 w1: 1.044 w2: 0.520 b: 0.446 Cost: 0.228503\n",
            "Epoch  400/1000 w1: 1.044 w2: 0.520 b: 0.446 Cost: 0.228530\n",
            "Epoch  500/1000 w1: 1.044 w2: 0.520 b: 0.446 Cost: 0.228557\n",
            "Epoch  600/1000 w1: 1.044 w2: 0.520 b: 0.446 Cost: 0.228583\n",
            "Epoch  700/1000 w1: 1.044 w2: 0.520 b: 0.446 Cost: 0.228610\n",
            "Epoch  800/1000 w1: 1.044 w2: 0.520 b: 0.446 Cost: 0.228637\n",
            "Epoch  900/1000 w1: 1.044 w2: 0.520 b: 0.446 Cost: 0.228664\n",
            "Epoch 1000/1000 w1: 1.044 w2: 0.520 b: 0.446 Cost: 0.228691\n",
            "Epoch    0/1000 w1: 1.044 w2: 0.520 b: 0.446 Cost: 0.228691\n",
            "Epoch  100/1000 w1: 1.044 w2: 0.520 b: 0.446 Cost: 0.228718\n",
            "Epoch  200/1000 w1: 1.044 w2: 0.520 b: 0.446 Cost: 0.228745\n",
            "Epoch  300/1000 w1: 1.044 w2: 0.520 b: 0.446 Cost: 0.228771\n",
            "Epoch  400/1000 w1: 1.044 w2: 0.520 b: 0.446 Cost: 0.228798\n",
            "Epoch  500/1000 w1: 1.044 w2: 0.520 b: 0.446 Cost: 0.228825\n",
            "Epoch  600/1000 w1: 1.044 w2: 0.520 b: 0.446 Cost: 0.228852\n",
            "Epoch  700/1000 w1: 1.044 w2: 0.520 b: 0.446 Cost: 0.228879\n",
            "Epoch  800/1000 w1: 1.044 w2: 0.520 b: 0.446 Cost: 0.228906\n",
            "Epoch  900/1000 w1: 1.044 w2: 0.520 b: 0.446 Cost: 0.228932\n",
            "Epoch 1000/1000 w1: 1.044 w2: 0.520 b: 0.446 Cost: 0.228959\n",
            "Epoch    0/1000 w1: 1.044 w2: 0.520 b: 0.446 Cost: 0.228960\n",
            "Epoch  100/1000 w1: 1.044 w2: 0.520 b: 0.446 Cost: 0.228986\n",
            "Epoch  200/1000 w1: 1.044 w2: 0.520 b: 0.446 Cost: 0.229013\n",
            "Epoch  300/1000 w1: 1.044 w2: 0.520 b: 0.446 Cost: 0.229040\n",
            "Epoch  400/1000 w1: 1.044 w2: 0.520 b: 0.446 Cost: 0.229067\n",
            "Epoch  500/1000 w1: 1.044 w2: 0.520 b: 0.446 Cost: 0.229094\n",
            "Epoch  600/1000 w1: 1.044 w2: 0.520 b: 0.446 Cost: 0.229120\n",
            "Epoch  700/1000 w1: 1.044 w2: 0.520 b: 0.446 Cost: 0.229147\n",
            "Epoch  800/1000 w1: 1.044 w2: 0.520 b: 0.446 Cost: 0.229174\n",
            "Epoch  900/1000 w1: 1.044 w2: 0.520 b: 0.446 Cost: 0.229201\n",
            "Epoch 1000/1000 w1: 1.044 w2: 0.520 b: 0.446 Cost: 0.229228\n",
            "Epoch    0/1000 w1: 1.044 w2: 0.520 b: 0.446 Cost: 0.229228\n",
            "Epoch  100/1000 w1: 1.044 w2: 0.520 b: 0.446 Cost: 0.229255\n",
            "Epoch  200/1000 w1: 1.044 w2: 0.520 b: 0.446 Cost: 0.229282\n",
            "Epoch  300/1000 w1: 1.044 w2: 0.520 b: 0.446 Cost: 0.229308\n",
            "Epoch  400/1000 w1: 1.044 w2: 0.520 b: 0.446 Cost: 0.229335\n",
            "Epoch  500/1000 w1: 1.044 w2: 0.520 b: 0.446 Cost: 0.229362\n",
            "Epoch  600/1000 w1: 1.044 w2: 0.520 b: 0.446 Cost: 0.229389\n",
            "Epoch  700/1000 w1: 1.044 w2: 0.520 b: 0.446 Cost: 0.229416\n",
            "Epoch  800/1000 w1: 1.044 w2: 0.520 b: 0.446 Cost: 0.229443\n",
            "Epoch  900/1000 w1: 1.044 w2: 0.520 b: 0.446 Cost: 0.229469\n",
            "Epoch 1000/1000 w1: 1.044 w2: 0.520 b: 0.446 Cost: 0.229496\n",
            "Epoch    0/1000 w1: 1.044 w2: 0.520 b: 0.446 Cost: 0.229496\n",
            "Epoch  100/1000 w1: 1.044 w2: 0.520 b: 0.446 Cost: 0.229523\n",
            "Epoch  200/1000 w1: 1.044 w2: 0.520 b: 0.446 Cost: 0.229550\n",
            "Epoch  300/1000 w1: 1.044 w2: 0.520 b: 0.446 Cost: 0.229577\n",
            "Epoch  400/1000 w1: 1.044 w2: 0.520 b: 0.446 Cost: 0.229604\n",
            "Epoch  500/1000 w1: 1.044 w2: 0.520 b: 0.446 Cost: 0.229631\n",
            "Epoch  600/1000 w1: 1.044 w2: 0.520 b: 0.446 Cost: 0.229657\n",
            "Epoch  700/1000 w1: 1.044 w2: 0.520 b: 0.446 Cost: 0.229684\n",
            "Epoch  800/1000 w1: 1.044 w2: 0.520 b: 0.446 Cost: 0.229711\n",
            "Epoch  900/1000 w1: 1.044 w2: 0.520 b: 0.446 Cost: 0.229738\n",
            "Epoch 1000/1000 w1: 1.044 w2: 0.520 b: 0.446 Cost: 0.229765\n",
            "Epoch    0/1000 w1: 1.044 w2: 0.520 b: 0.446 Cost: 0.229765\n",
            "Epoch  100/1000 w1: 1.044 w2: 0.520 b: 0.446 Cost: 0.229792\n",
            "Epoch  200/1000 w1: 1.044 w2: 0.520 b: 0.446 Cost: 0.229819\n",
            "Epoch  300/1000 w1: 1.044 w2: 0.520 b: 0.446 Cost: 0.229845\n",
            "Epoch  400/1000 w1: 1.044 w2: 0.520 b: 0.446 Cost: 0.229872\n",
            "Epoch  500/1000 w1: 1.044 w2: 0.520 b: 0.446 Cost: 0.229899\n",
            "Epoch  600/1000 w1: 1.044 w2: 0.520 b: 0.446 Cost: 0.229926\n",
            "Epoch  700/1000 w1: 1.044 w2: 0.520 b: 0.446 Cost: 0.229953\n",
            "Epoch  800/1000 w1: 1.044 w2: 0.520 b: 0.446 Cost: 0.229980\n",
            "Epoch  900/1000 w1: 1.044 w2: 0.520 b: 0.446 Cost: 0.230006\n",
            "Epoch 1000/1000 w1: 1.044 w2: 0.520 b: 0.446 Cost: 0.230033\n",
            "Epoch    0/1000 w1: 1.044 w2: 0.520 b: 0.446 Cost: 0.230033\n",
            "Epoch  100/1000 w1: 1.044 w2: 0.520 b: 0.446 Cost: 0.230060\n",
            "Epoch  200/1000 w1: 1.044 w2: 0.520 b: 0.446 Cost: 0.230087\n",
            "Epoch  300/1000 w1: 1.044 w2: 0.520 b: 0.446 Cost: 0.230114\n",
            "Epoch  400/1000 w1: 1.044 w2: 0.520 b: 0.446 Cost: 0.230141\n",
            "Epoch  500/1000 w1: 1.044 w2: 0.520 b: 0.446 Cost: 0.230168\n",
            "Epoch  600/1000 w1: 1.044 w2: 0.520 b: 0.446 Cost: 0.230194\n",
            "Epoch  700/1000 w1: 1.044 w2: 0.520 b: 0.446 Cost: 0.230221\n",
            "Epoch  800/1000 w1: 1.044 w2: 0.520 b: 0.446 Cost: 0.230248\n",
            "Epoch  900/1000 w1: 1.044 w2: 0.520 b: 0.446 Cost: 0.230275\n",
            "Epoch 1000/1000 w1: 1.044 w2: 0.520 b: 0.446 Cost: 0.230302\n",
            "Epoch    0/1000 w1: 1.044 w2: 0.520 b: 0.446 Cost: 0.230302\n",
            "Epoch  100/1000 w1: 1.044 w2: 0.520 b: 0.446 Cost: 0.230329\n",
            "Epoch  200/1000 w1: 1.044 w2: 0.520 b: 0.446 Cost: 0.230356\n",
            "Epoch  300/1000 w1: 1.044 w2: 0.520 b: 0.446 Cost: 0.230382\n",
            "Epoch  400/1000 w1: 1.044 w2: 0.520 b: 0.446 Cost: 0.230409\n",
            "Epoch  500/1000 w1: 1.044 w2: 0.520 b: 0.446 Cost: 0.230436\n",
            "Epoch  600/1000 w1: 1.044 w2: 0.520 b: 0.446 Cost: 0.230463\n",
            "Epoch  700/1000 w1: 1.044 w2: 0.520 b: 0.446 Cost: 0.230490\n",
            "Epoch  800/1000 w1: 1.044 w2: 0.520 b: 0.446 Cost: 0.230517\n",
            "Epoch  900/1000 w1: 1.044 w2: 0.520 b: 0.446 Cost: 0.230543\n",
            "Epoch 1000/1000 w1: 1.044 w2: 0.520 b: 0.446 Cost: 0.230570\n",
            "Epoch    0/1000 w1: 1.044 w2: 0.520 b: 0.446 Cost: 0.230570\n",
            "Epoch  100/1000 w1: 1.044 w2: 0.520 b: 0.446 Cost: 0.230597\n",
            "Epoch  200/1000 w1: 1.044 w2: 0.520 b: 0.446 Cost: 0.230624\n",
            "Epoch  300/1000 w1: 1.044 w2: 0.520 b: 0.446 Cost: 0.230651\n",
            "Epoch  400/1000 w1: 1.044 w2: 0.520 b: 0.446 Cost: 0.230678\n",
            "Epoch  500/1000 w1: 1.044 w2: 0.520 b: 0.446 Cost: 0.230705\n",
            "Epoch  600/1000 w1: 1.044 w2: 0.520 b: 0.446 Cost: 0.230731\n",
            "Epoch  700/1000 w1: 1.044 w2: 0.520 b: 0.446 Cost: 0.230758\n",
            "Epoch  800/1000 w1: 1.044 w2: 0.520 b: 0.446 Cost: 0.230785\n",
            "Epoch  900/1000 w1: 1.044 w2: 0.520 b: 0.446 Cost: 0.230812\n",
            "Epoch 1000/1000 w1: 1.044 w2: 0.520 b: 0.446 Cost: 0.230839\n",
            "Epoch    0/1000 w1: 1.044 w2: 0.520 b: 0.446 Cost: 0.230839\n",
            "Epoch  100/1000 w1: 1.044 w2: 0.520 b: 0.446 Cost: 0.230866\n",
            "Epoch  200/1000 w1: 1.044 w2: 0.520 b: 0.446 Cost: 0.230893\n",
            "Epoch  300/1000 w1: 1.044 w2: 0.520 b: 0.446 Cost: 0.230919\n",
            "Epoch  400/1000 w1: 1.044 w2: 0.520 b: 0.446 Cost: 0.230946\n",
            "Epoch  500/1000 w1: 1.044 w2: 0.520 b: 0.446 Cost: 0.230973\n",
            "Epoch  600/1000 w1: 1.044 w2: 0.520 b: 0.446 Cost: 0.231000\n",
            "Epoch  700/1000 w1: 1.044 w2: 0.520 b: 0.446 Cost: 0.231027\n",
            "Epoch  800/1000 w1: 1.044 w2: 0.520 b: 0.446 Cost: 0.231054\n",
            "Epoch  900/1000 w1: 1.044 w2: 0.520 b: 0.446 Cost: 0.231080\n",
            "Epoch 1000/1000 w1: 1.044 w2: 0.520 b: 0.446 Cost: 0.231107\n",
            "Epoch    0/1000 w1: 1.044 w2: 0.520 b: 0.446 Cost: 0.231107\n",
            "Epoch  100/1000 w1: 1.044 w2: 0.520 b: 0.446 Cost: 0.231134\n",
            "Epoch  200/1000 w1: 1.044 w2: 0.520 b: 0.446 Cost: 0.231161\n",
            "Epoch  300/1000 w1: 1.044 w2: 0.520 b: 0.446 Cost: 0.231188\n",
            "Epoch  400/1000 w1: 1.044 w2: 0.520 b: 0.446 Cost: 0.231215\n",
            "Epoch  500/1000 w1: 1.044 w2: 0.520 b: 0.446 Cost: 0.231242\n",
            "Epoch  600/1000 w1: 1.044 w2: 0.520 b: 0.446 Cost: 0.231268\n",
            "Epoch  700/1000 w1: 1.044 w2: 0.520 b: 0.446 Cost: 0.231295\n",
            "Epoch  800/1000 w1: 1.044 w2: 0.520 b: 0.446 Cost: 0.231322\n",
            "Epoch  900/1000 w1: 1.044 w2: 0.520 b: 0.446 Cost: 0.231349\n",
            "Epoch 1000/1000 w1: 1.044 w2: 0.520 b: 0.446 Cost: 0.231376\n",
            "Epoch    0/1000 w1: 1.044 w2: 0.520 b: 0.446 Cost: 0.231376\n",
            "Epoch  100/1000 w1: 1.044 w2: 0.520 b: 0.446 Cost: 0.231403\n",
            "Epoch  200/1000 w1: 1.044 w2: 0.520 b: 0.446 Cost: 0.231430\n",
            "Epoch  300/1000 w1: 1.044 w2: 0.520 b: 0.446 Cost: 0.231456\n",
            "Epoch  400/1000 w1: 1.044 w2: 0.520 b: 0.446 Cost: 0.231483\n",
            "Epoch  500/1000 w1: 1.044 w2: 0.520 b: 0.446 Cost: 0.231510\n",
            "Epoch  600/1000 w1: 1.044 w2: 0.520 b: 0.446 Cost: 0.231537\n",
            "Epoch  700/1000 w1: 1.044 w2: 0.520 b: 0.446 Cost: 0.231564\n",
            "Epoch  800/1000 w1: 1.044 w2: 0.520 b: 0.446 Cost: 0.231590\n",
            "Epoch  900/1000 w1: 1.044 w2: 0.520 b: 0.446 Cost: 0.231617\n",
            "Epoch 1000/1000 w1: 1.044 w2: 0.520 b: 0.446 Cost: 0.231644\n",
            "Epoch    0/1000 w1: 1.044 w2: 0.520 b: 0.446 Cost: 0.231644\n",
            "Epoch  100/1000 w1: 1.044 w2: 0.520 b: 0.446 Cost: 0.231671\n",
            "Epoch  200/1000 w1: 1.044 w2: 0.520 b: 0.446 Cost: 0.231698\n",
            "Epoch  300/1000 w1: 1.044 w2: 0.520 b: 0.446 Cost: 0.231725\n",
            "Epoch  400/1000 w1: 1.044 w2: 0.520 b: 0.446 Cost: 0.231752\n",
            "Epoch  500/1000 w1: 1.044 w2: 0.520 b: 0.446 Cost: 0.231779\n",
            "Epoch  600/1000 w1: 1.044 w2: 0.520 b: 0.446 Cost: 0.231805\n",
            "Epoch  700/1000 w1: 1.044 w2: 0.520 b: 0.446 Cost: 0.231832\n",
            "Epoch  800/1000 w1: 1.044 w2: 0.520 b: 0.446 Cost: 0.231859\n",
            "Epoch  900/1000 w1: 1.044 w2: 0.520 b: 0.446 Cost: 0.231886\n",
            "Epoch 1000/1000 w1: 1.044 w2: 0.520 b: 0.446 Cost: 0.231913\n",
            "Epoch    0/1000 w1: 1.044 w2: 0.520 b: 0.446 Cost: 0.231913\n",
            "Epoch  100/1000 w1: 1.044 w2: 0.520 b: 0.446 Cost: 0.231940\n",
            "Epoch  200/1000 w1: 1.044 w2: 0.520 b: 0.446 Cost: 0.231967\n",
            "Epoch  300/1000 w1: 1.044 w2: 0.520 b: 0.446 Cost: 0.231993\n",
            "Epoch  400/1000 w1: 1.044 w2: 0.520 b: 0.446 Cost: 0.232020\n",
            "Epoch  500/1000 w1: 1.044 w2: 0.520 b: 0.446 Cost: 0.232047\n",
            "Epoch  600/1000 w1: 1.044 w2: 0.520 b: 0.446 Cost: 0.232074\n",
            "Epoch  700/1000 w1: 1.044 w2: 0.520 b: 0.446 Cost: 0.232101\n",
            "Epoch  800/1000 w1: 1.044 w2: 0.520 b: 0.446 Cost: 0.232127\n",
            "Epoch  900/1000 w1: 1.044 w2: 0.520 b: 0.446 Cost: 0.232154\n",
            "Epoch 1000/1000 w1: 1.044 w2: 0.520 b: 0.446 Cost: 0.232181\n",
            "Epoch    0/1000 w1: 1.044 w2: 0.520 b: 0.446 Cost: 0.232181\n",
            "Epoch  100/1000 w1: 1.044 w2: 0.520 b: 0.446 Cost: 0.232208\n",
            "Epoch  200/1000 w1: 1.044 w2: 0.520 b: 0.446 Cost: 0.232235\n",
            "Epoch  300/1000 w1: 1.044 w2: 0.520 b: 0.446 Cost: 0.232262\n",
            "Epoch  400/1000 w1: 1.044 w2: 0.520 b: 0.446 Cost: 0.232289\n",
            "Epoch  500/1000 w1: 1.044 w2: 0.520 b: 0.446 Cost: 0.232315\n",
            "Epoch  600/1000 w1: 1.044 w2: 0.520 b: 0.446 Cost: 0.232342\n",
            "Epoch  700/1000 w1: 1.044 w2: 0.520 b: 0.446 Cost: 0.232369\n",
            "Epoch  800/1000 w1: 1.044 w2: 0.520 b: 0.446 Cost: 0.232396\n",
            "Epoch  900/1000 w1: 1.044 w2: 0.520 b: 0.446 Cost: 0.232423\n",
            "Epoch 1000/1000 w1: 1.044 w2: 0.520 b: 0.446 Cost: 0.232450\n",
            "Epoch    0/1000 w1: 1.044 w2: 0.520 b: 0.446 Cost: 0.232450\n",
            "Epoch  100/1000 w1: 1.044 w2: 0.520 b: 0.446 Cost: 0.232477\n",
            "Epoch  200/1000 w1: 1.044 w2: 0.520 b: 0.446 Cost: 0.232504\n",
            "Epoch  300/1000 w1: 1.044 w2: 0.520 b: 0.446 Cost: 0.232530\n",
            "Epoch  400/1000 w1: 1.044 w2: 0.520 b: 0.446 Cost: 0.232557\n",
            "Epoch  500/1000 w1: 1.044 w2: 0.520 b: 0.446 Cost: 0.232584\n",
            "Epoch  600/1000 w1: 1.044 w2: 0.520 b: 0.446 Cost: 0.232611\n",
            "Epoch  700/1000 w1: 1.044 w2: 0.520 b: 0.446 Cost: 0.232638\n",
            "Epoch  800/1000 w1: 1.044 w2: 0.520 b: 0.446 Cost: 0.232664\n",
            "Epoch  900/1000 w1: 1.044 w2: 0.520 b: 0.446 Cost: 0.232691\n",
            "Epoch 1000/1000 w1: 1.044 w2: 0.520 b: 0.446 Cost: 0.232718\n",
            "Epoch    0/1000 w1: 1.044 w2: 0.520 b: 0.446 Cost: 0.232718\n",
            "Epoch  100/1000 w1: 1.044 w2: 0.520 b: 0.446 Cost: 0.232745\n",
            "Epoch  200/1000 w1: 1.044 w2: 0.520 b: 0.446 Cost: 0.232772\n",
            "Epoch  300/1000 w1: 1.044 w2: 0.520 b: 0.446 Cost: 0.232799\n",
            "Epoch  400/1000 w1: 1.044 w2: 0.520 b: 0.446 Cost: 0.232826\n",
            "Epoch  500/1000 w1: 1.044 w2: 0.520 b: 0.446 Cost: 0.232852\n",
            "Epoch  600/1000 w1: 1.044 w2: 0.520 b: 0.446 Cost: 0.232879\n",
            "Epoch  700/1000 w1: 1.044 w2: 0.520 b: 0.446 Cost: 0.232906\n",
            "Epoch  800/1000 w1: 1.044 w2: 0.520 b: 0.446 Cost: 0.232933\n",
            "Epoch  900/1000 w1: 1.044 w2: 0.520 b: 0.446 Cost: 0.232960\n",
            "Epoch 1000/1000 w1: 1.044 w2: 0.520 b: 0.446 Cost: 0.232987\n",
            "Epoch    0/1000 w1: 1.044 w2: 0.520 b: 0.446 Cost: 0.232987\n",
            "Epoch  100/1000 w1: 1.044 w2: 0.520 b: 0.446 Cost: 0.233014\n",
            "Epoch  200/1000 w1: 1.044 w2: 0.520 b: 0.446 Cost: 0.233040\n",
            "Epoch  300/1000 w1: 1.044 w2: 0.520 b: 0.446 Cost: 0.233067\n",
            "Epoch  400/1000 w1: 1.044 w2: 0.520 b: 0.446 Cost: 0.233094\n",
            "Epoch  500/1000 w1: 1.044 w2: 0.520 b: 0.446 Cost: 0.233121\n",
            "Epoch  600/1000 w1: 1.044 w2: 0.520 b: 0.446 Cost: 0.233148\n",
            "Epoch  700/1000 w1: 1.044 w2: 0.520 b: 0.446 Cost: 0.233175\n",
            "Epoch  800/1000 w1: 1.044 w2: 0.520 b: 0.446 Cost: 0.233201\n",
            "Epoch  900/1000 w1: 1.044 w2: 0.520 b: 0.446 Cost: 0.233228\n",
            "Epoch 1000/1000 w1: 1.044 w2: 0.520 b: 0.446 Cost: 0.233255\n",
            "Epoch    0/1000 w1: 1.044 w2: 0.520 b: 0.446 Cost: 0.233255\n",
            "Epoch  100/1000 w1: 1.044 w2: 0.520 b: 0.446 Cost: 0.233282\n",
            "Epoch  200/1000 w1: 1.044 w2: 0.520 b: 0.446 Cost: 0.233309\n",
            "Epoch  300/1000 w1: 1.044 w2: 0.520 b: 0.446 Cost: 0.233336\n",
            "Epoch  400/1000 w1: 1.044 w2: 0.520 b: 0.446 Cost: 0.233363\n",
            "Epoch  500/1000 w1: 1.044 w2: 0.520 b: 0.446 Cost: 0.233389\n",
            "Epoch  600/1000 w1: 1.044 w2: 0.520 b: 0.446 Cost: 0.233416\n",
            "Epoch  700/1000 w1: 1.044 w2: 0.520 b: 0.446 Cost: 0.233443\n",
            "Epoch  800/1000 w1: 1.044 w2: 0.520 b: 0.446 Cost: 0.233470\n",
            "Epoch  900/1000 w1: 1.044 w2: 0.520 b: 0.446 Cost: 0.233497\n",
            "Epoch 1000/1000 w1: 1.044 w2: 0.520 b: 0.446 Cost: 0.233524\n",
            "Epoch    0/1000 w1: 1.044 w2: 0.520 b: 0.446 Cost: 0.233524\n",
            "Epoch  100/1000 w1: 1.044 w2: 0.520 b: 0.446 Cost: 0.233551\n",
            "Epoch  200/1000 w1: 1.044 w2: 0.520 b: 0.446 Cost: 0.233577\n",
            "Epoch  300/1000 w1: 1.044 w2: 0.520 b: 0.446 Cost: 0.233604\n",
            "Epoch  400/1000 w1: 1.044 w2: 0.520 b: 0.446 Cost: 0.233631\n",
            "Epoch  500/1000 w1: 1.044 w2: 0.520 b: 0.446 Cost: 0.233658\n",
            "Epoch  600/1000 w1: 1.044 w2: 0.520 b: 0.446 Cost: 0.233685\n",
            "Epoch  700/1000 w1: 1.044 w2: 0.520 b: 0.446 Cost: 0.233712\n",
            "Epoch  800/1000 w1: 1.044 w2: 0.520 b: 0.446 Cost: 0.233738\n",
            "Epoch  900/1000 w1: 1.044 w2: 0.520 b: 0.446 Cost: 0.233765\n",
            "Epoch 1000/1000 w1: 1.044 w2: 0.520 b: 0.446 Cost: 0.233792\n",
            "Epoch    0/1000 w1: 1.044 w2: 0.520 b: 0.446 Cost: 0.233792\n",
            "Epoch  100/1000 w1: 1.044 w2: 0.520 b: 0.446 Cost: 0.233819\n",
            "Epoch  200/1000 w1: 1.044 w2: 0.520 b: 0.446 Cost: 0.233846\n",
            "Epoch  300/1000 w1: 1.044 w2: 0.520 b: 0.446 Cost: 0.233873\n",
            "Epoch  400/1000 w1: 1.044 w2: 0.520 b: 0.446 Cost: 0.233900\n",
            "Epoch  500/1000 w1: 1.044 w2: 0.520 b: 0.446 Cost: 0.233926\n",
            "Epoch  600/1000 w1: 1.044 w2: 0.520 b: 0.447 Cost: 0.233953\n",
            "Epoch  700/1000 w1: 1.044 w2: 0.520 b: 0.447 Cost: 0.233980\n",
            "Epoch  800/1000 w1: 1.044 w2: 0.520 b: 0.447 Cost: 0.234007\n",
            "Epoch  900/1000 w1: 1.044 w2: 0.520 b: 0.447 Cost: 0.234034\n",
            "Epoch 1000/1000 w1: 1.044 w2: 0.520 b: 0.447 Cost: 0.234061\n",
            "Epoch    0/1000 w1: 1.044 w2: 0.520 b: 0.447 Cost: 0.234061\n",
            "Epoch  100/1000 w1: 1.044 w2: 0.520 b: 0.447 Cost: 0.234088\n",
            "Epoch  200/1000 w1: 1.044 w2: 0.520 b: 0.447 Cost: 0.234114\n",
            "Epoch  300/1000 w1: 1.044 w2: 0.520 b: 0.447 Cost: 0.234141\n",
            "Epoch  400/1000 w1: 1.044 w2: 0.520 b: 0.447 Cost: 0.234168\n",
            "Epoch  500/1000 w1: 1.044 w2: 0.520 b: 0.447 Cost: 0.234195\n",
            "Epoch  600/1000 w1: 1.044 w2: 0.520 b: 0.447 Cost: 0.234222\n",
            "Epoch  700/1000 w1: 1.044 w2: 0.520 b: 0.447 Cost: 0.234249\n",
            "Epoch  800/1000 w1: 1.044 w2: 0.520 b: 0.447 Cost: 0.234275\n",
            "Epoch  900/1000 w1: 1.044 w2: 0.520 b: 0.447 Cost: 0.234302\n",
            "Epoch 1000/1000 w1: 1.044 w2: 0.520 b: 0.447 Cost: 0.234329\n",
            "Epoch    0/1000 w1: 1.044 w2: 0.520 b: 0.447 Cost: 0.234329\n",
            "Epoch  100/1000 w1: 1.044 w2: 0.520 b: 0.447 Cost: 0.234356\n",
            "Epoch  200/1000 w1: 1.044 w2: 0.520 b: 0.447 Cost: 0.234383\n",
            "Epoch  300/1000 w1: 1.044 w2: 0.520 b: 0.447 Cost: 0.234410\n",
            "Epoch  400/1000 w1: 1.044 w2: 0.520 b: 0.447 Cost: 0.234437\n",
            "Epoch  500/1000 w1: 1.044 w2: 0.520 b: 0.447 Cost: 0.234463\n",
            "Epoch  600/1000 w1: 1.044 w2: 0.520 b: 0.447 Cost: 0.234490\n",
            "Epoch  700/1000 w1: 1.044 w2: 0.520 b: 0.447 Cost: 0.234517\n",
            "Epoch  800/1000 w1: 1.044 w2: 0.520 b: 0.447 Cost: 0.234544\n",
            "Epoch  900/1000 w1: 1.044 w2: 0.520 b: 0.447 Cost: 0.234571\n",
            "Epoch 1000/1000 w1: 1.044 w2: 0.520 b: 0.447 Cost: 0.234598\n",
            "Epoch    0/1000 w1: 1.044 w2: 0.520 b: 0.447 Cost: 0.234598\n",
            "Epoch  100/1000 w1: 1.044 w2: 0.520 b: 0.447 Cost: 0.234625\n",
            "Epoch  200/1000 w1: 1.044 w2: 0.520 b: 0.447 Cost: 0.234651\n",
            "Epoch  300/1000 w1: 1.044 w2: 0.520 b: 0.447 Cost: 0.234678\n",
            "Epoch  400/1000 w1: 1.044 w2: 0.520 b: 0.447 Cost: 0.234705\n",
            "Epoch  500/1000 w1: 1.044 w2: 0.520 b: 0.447 Cost: 0.234732\n",
            "Epoch  600/1000 w1: 1.044 w2: 0.520 b: 0.447 Cost: 0.234759\n",
            "Epoch  700/1000 w1: 1.044 w2: 0.520 b: 0.447 Cost: 0.234786\n",
            "Epoch  800/1000 w1: 1.044 w2: 0.520 b: 0.447 Cost: 0.234812\n",
            "Epoch  900/1000 w1: 1.044 w2: 0.520 b: 0.447 Cost: 0.234839\n",
            "Epoch 1000/1000 w1: 1.044 w2: 0.520 b: 0.447 Cost: 0.234866\n",
            "Epoch    0/1000 w1: 1.044 w2: 0.520 b: 0.447 Cost: 0.234866\n",
            "Epoch  100/1000 w1: 1.044 w2: 0.520 b: 0.447 Cost: 0.234893\n",
            "Epoch  200/1000 w1: 1.044 w2: 0.520 b: 0.447 Cost: 0.234920\n",
            "Epoch  300/1000 w1: 1.044 w2: 0.520 b: 0.447 Cost: 0.234947\n",
            "Epoch  400/1000 w1: 1.044 w2: 0.520 b: 0.447 Cost: 0.234974\n",
            "Epoch  500/1000 w1: 1.044 w2: 0.520 b: 0.447 Cost: 0.235000\n",
            "Epoch  600/1000 w1: 1.044 w2: 0.520 b: 0.447 Cost: 0.235027\n",
            "Epoch  700/1000 w1: 1.044 w2: 0.520 b: 0.447 Cost: 0.235054\n",
            "Epoch  800/1000 w1: 1.044 w2: 0.520 b: 0.447 Cost: 0.235081\n",
            "Epoch  900/1000 w1: 1.044 w2: 0.520 b: 0.447 Cost: 0.235108\n",
            "Epoch 1000/1000 w1: 1.044 w2: 0.520 b: 0.447 Cost: 0.235134\n",
            "Epoch    0/1000 w1: 1.044 w2: 0.520 b: 0.447 Cost: 0.235135\n",
            "Epoch  100/1000 w1: 1.044 w2: 0.520 b: 0.447 Cost: 0.235162\n",
            "Epoch  200/1000 w1: 1.044 w2: 0.520 b: 0.447 Cost: 0.235188\n",
            "Epoch  300/1000 w1: 1.044 w2: 0.520 b: 0.447 Cost: 0.235215\n",
            "Epoch  400/1000 w1: 1.044 w2: 0.520 b: 0.447 Cost: 0.235242\n",
            "Epoch  500/1000 w1: 1.044 w2: 0.520 b: 0.447 Cost: 0.235269\n",
            "Epoch  600/1000 w1: 1.044 w2: 0.520 b: 0.447 Cost: 0.235296\n",
            "Epoch  700/1000 w1: 1.044 w2: 0.520 b: 0.447 Cost: 0.235323\n",
            "Epoch  800/1000 w1: 1.044 w2: 0.520 b: 0.447 Cost: 0.235349\n",
            "Epoch  900/1000 w1: 1.044 w2: 0.520 b: 0.447 Cost: 0.235376\n",
            "Epoch 1000/1000 w1: 1.044 w2: 0.520 b: 0.447 Cost: 0.235403\n",
            "Epoch    0/1000 w1: 1.044 w2: 0.520 b: 0.447 Cost: 0.235403\n",
            "Epoch  100/1000 w1: 1.044 w2: 0.520 b: 0.447 Cost: 0.235430\n",
            "Epoch  200/1000 w1: 1.044 w2: 0.520 b: 0.447 Cost: 0.235457\n",
            "Epoch  300/1000 w1: 1.044 w2: 0.520 b: 0.447 Cost: 0.235484\n",
            "Epoch  400/1000 w1: 1.044 w2: 0.520 b: 0.447 Cost: 0.235511\n",
            "Epoch  500/1000 w1: 1.044 w2: 0.520 b: 0.447 Cost: 0.235537\n",
            "Epoch  600/1000 w1: 1.044 w2: 0.520 b: 0.447 Cost: 0.235564\n",
            "Epoch  700/1000 w1: 1.044 w2: 0.520 b: 0.447 Cost: 0.235591\n",
            "Epoch  800/1000 w1: 1.044 w2: 0.520 b: 0.447 Cost: 0.235618\n",
            "Epoch  900/1000 w1: 1.044 w2: 0.520 b: 0.447 Cost: 0.235645\n",
            "Epoch 1000/1000 w1: 1.044 w2: 0.520 b: 0.447 Cost: 0.235671\n",
            "Epoch    0/1000 w1: 1.044 w2: 0.520 b: 0.447 Cost: 0.235672\n",
            "Epoch  100/1000 w1: 1.044 w2: 0.520 b: 0.447 Cost: 0.235699\n",
            "Epoch  200/1000 w1: 1.044 w2: 0.520 b: 0.447 Cost: 0.235725\n",
            "Epoch  300/1000 w1: 1.044 w2: 0.520 b: 0.447 Cost: 0.235752\n",
            "Epoch  400/1000 w1: 1.044 w2: 0.520 b: 0.447 Cost: 0.235779\n",
            "Epoch  500/1000 w1: 1.044 w2: 0.520 b: 0.447 Cost: 0.235806\n",
            "Epoch  600/1000 w1: 1.044 w2: 0.520 b: 0.447 Cost: 0.235833\n",
            "Epoch  700/1000 w1: 1.044 w2: 0.520 b: 0.447 Cost: 0.235859\n",
            "Epoch  800/1000 w1: 1.044 w2: 0.520 b: 0.447 Cost: 0.235886\n",
            "Epoch  900/1000 w1: 1.044 w2: 0.520 b: 0.447 Cost: 0.235913\n",
            "Epoch 1000/1000 w1: 1.044 w2: 0.520 b: 0.447 Cost: 0.235940\n",
            "Epoch    0/1000 w1: 1.044 w2: 0.520 b: 0.447 Cost: 0.235940\n",
            "Epoch  100/1000 w1: 1.044 w2: 0.520 b: 0.447 Cost: 0.235967\n",
            "Epoch  200/1000 w1: 1.044 w2: 0.520 b: 0.447 Cost: 0.235994\n",
            "Epoch  300/1000 w1: 1.044 w2: 0.520 b: 0.447 Cost: 0.236021\n",
            "Epoch  400/1000 w1: 1.044 w2: 0.520 b: 0.447 Cost: 0.236048\n",
            "Epoch  500/1000 w1: 1.044 w2: 0.520 b: 0.447 Cost: 0.236074\n",
            "Epoch  600/1000 w1: 1.044 w2: 0.520 b: 0.447 Cost: 0.236101\n",
            "Epoch  700/1000 w1: 1.044 w2: 0.520 b: 0.447 Cost: 0.236128\n",
            "Epoch  800/1000 w1: 1.044 w2: 0.520 b: 0.447 Cost: 0.236155\n",
            "Epoch  900/1000 w1: 1.044 w2: 0.520 b: 0.447 Cost: 0.236182\n",
            "Epoch 1000/1000 w1: 1.044 w2: 0.520 b: 0.447 Cost: 0.236208\n",
            "Epoch    0/1000 w1: 1.044 w2: 0.520 b: 0.447 Cost: 0.236209\n",
            "Epoch  100/1000 w1: 1.044 w2: 0.520 b: 0.447 Cost: 0.236236\n",
            "Epoch  200/1000 w1: 1.044 w2: 0.520 b: 0.447 Cost: 0.236262\n",
            "Epoch  300/1000 w1: 1.044 w2: 0.520 b: 0.447 Cost: 0.236289\n",
            "Epoch  400/1000 w1: 1.044 w2: 0.520 b: 0.447 Cost: 0.236316\n",
            "Epoch  500/1000 w1: 1.044 w2: 0.520 b: 0.447 Cost: 0.236343\n",
            "Epoch  600/1000 w1: 1.044 w2: 0.520 b: 0.447 Cost: 0.236370\n",
            "Epoch  700/1000 w1: 1.044 w2: 0.520 b: 0.447 Cost: 0.236396\n",
            "Epoch  800/1000 w1: 1.044 w2: 0.520 b: 0.447 Cost: 0.236423\n",
            "Epoch  900/1000 w1: 1.044 w2: 0.520 b: 0.447 Cost: 0.236450\n",
            "Epoch 1000/1000 w1: 1.044 w2: 0.520 b: 0.447 Cost: 0.236477\n",
            "Epoch    0/1000 w1: 1.044 w2: 0.520 b: 0.447 Cost: 0.236477\n",
            "Epoch  100/1000 w1: 1.044 w2: 0.520 b: 0.447 Cost: 0.236504\n",
            "Epoch  200/1000 w1: 1.044 w2: 0.520 b: 0.447 Cost: 0.236531\n",
            "Epoch  300/1000 w1: 1.044 w2: 0.520 b: 0.447 Cost: 0.236558\n",
            "Epoch  400/1000 w1: 1.044 w2: 0.520 b: 0.447 Cost: 0.236584\n",
            "Epoch  500/1000 w1: 1.044 w2: 0.520 b: 0.447 Cost: 0.236611\n",
            "Epoch  600/1000 w1: 1.044 w2: 0.520 b: 0.447 Cost: 0.236638\n",
            "Epoch  700/1000 w1: 1.044 w2: 0.520 b: 0.447 Cost: 0.236665\n",
            "Epoch  800/1000 w1: 1.044 w2: 0.520 b: 0.447 Cost: 0.236692\n",
            "Epoch  900/1000 w1: 1.044 w2: 0.520 b: 0.447 Cost: 0.236719\n",
            "Epoch 1000/1000 w1: 1.044 w2: 0.520 b: 0.447 Cost: 0.236745\n",
            "Epoch    0/1000 w1: 1.044 w2: 0.520 b: 0.447 Cost: 0.236746\n",
            "Epoch  100/1000 w1: 1.044 w2: 0.520 b: 0.447 Cost: 0.236773\n",
            "Epoch  200/1000 w1: 1.044 w2: 0.520 b: 0.447 Cost: 0.236799\n",
            "Epoch  300/1000 w1: 1.044 w2: 0.520 b: 0.447 Cost: 0.236826\n",
            "Epoch  400/1000 w1: 1.044 w2: 0.520 b: 0.447 Cost: 0.236853\n",
            "Epoch  500/1000 w1: 1.044 w2: 0.520 b: 0.447 Cost: 0.236880\n",
            "Epoch  600/1000 w1: 1.044 w2: 0.520 b: 0.447 Cost: 0.236907\n",
            "Epoch  700/1000 w1: 1.044 w2: 0.520 b: 0.447 Cost: 0.236933\n",
            "Epoch  800/1000 w1: 1.044 w2: 0.520 b: 0.447 Cost: 0.236960\n",
            "Epoch  900/1000 w1: 1.044 w2: 0.520 b: 0.447 Cost: 0.236987\n",
            "Epoch 1000/1000 w1: 1.044 w2: 0.520 b: 0.447 Cost: 0.237014\n",
            "Epoch    0/1000 w1: 1.044 w2: 0.520 b: 0.447 Cost: 0.237014\n",
            "Epoch  100/1000 w1: 1.044 w2: 0.520 b: 0.447 Cost: 0.237041\n",
            "Epoch  200/1000 w1: 1.044 w2: 0.520 b: 0.447 Cost: 0.237068\n",
            "Epoch  300/1000 w1: 1.044 w2: 0.520 b: 0.447 Cost: 0.237095\n",
            "Epoch  400/1000 w1: 1.044 w2: 0.520 b: 0.447 Cost: 0.237121\n",
            "Epoch  500/1000 w1: 1.044 w2: 0.520 b: 0.447 Cost: 0.237148\n",
            "Epoch  600/1000 w1: 1.044 w2: 0.520 b: 0.447 Cost: 0.237175\n",
            "Epoch  700/1000 w1: 1.044 w2: 0.520 b: 0.447 Cost: 0.237202\n",
            "Epoch  800/1000 w1: 1.044 w2: 0.520 b: 0.447 Cost: 0.237229\n",
            "Epoch  900/1000 w1: 1.044 w2: 0.520 b: 0.447 Cost: 0.237256\n",
            "Epoch 1000/1000 w1: 1.044 w2: 0.520 b: 0.447 Cost: 0.237282\n",
            "Epoch    0/1000 w1: 1.044 w2: 0.520 b: 0.447 Cost: 0.237283\n",
            "Epoch  100/1000 w1: 1.044 w2: 0.520 b: 0.447 Cost: 0.237310\n",
            "Epoch  200/1000 w1: 1.044 w2: 0.520 b: 0.447 Cost: 0.237336\n",
            "Epoch  300/1000 w1: 1.044 w2: 0.520 b: 0.447 Cost: 0.237363\n",
            "Epoch  400/1000 w1: 1.044 w2: 0.520 b: 0.447 Cost: 0.237390\n",
            "Epoch  500/1000 w1: 1.044 w2: 0.520 b: 0.447 Cost: 0.237417\n",
            "Epoch  600/1000 w1: 1.044 w2: 0.520 b: 0.447 Cost: 0.237444\n",
            "Epoch  700/1000 w1: 1.044 w2: 0.520 b: 0.447 Cost: 0.237470\n",
            "Epoch  800/1000 w1: 1.044 w2: 0.520 b: 0.447 Cost: 0.237497\n",
            "Epoch  900/1000 w1: 1.044 w2: 0.520 b: 0.447 Cost: 0.237524\n",
            "Epoch 1000/1000 w1: 1.044 w2: 0.520 b: 0.447 Cost: 0.237551\n",
            "Epoch    0/1000 w1: 1.044 w2: 0.520 b: 0.447 Cost: 0.237551\n",
            "Epoch  100/1000 w1: 1.044 w2: 0.520 b: 0.447 Cost: 0.237578\n",
            "Epoch  200/1000 w1: 1.044 w2: 0.520 b: 0.447 Cost: 0.237605\n",
            "Epoch  300/1000 w1: 1.044 w2: 0.520 b: 0.447 Cost: 0.237632\n",
            "Epoch  400/1000 w1: 1.044 w2: 0.520 b: 0.447 Cost: 0.237658\n",
            "Epoch  500/1000 w1: 1.044 w2: 0.520 b: 0.447 Cost: 0.237685\n",
            "Epoch  600/1000 w1: 1.044 w2: 0.520 b: 0.447 Cost: 0.237712\n",
            "Epoch  700/1000 w1: 1.044 w2: 0.520 b: 0.447 Cost: 0.237739\n",
            "Epoch  800/1000 w1: 1.044 w2: 0.520 b: 0.447 Cost: 0.237766\n",
            "Epoch  900/1000 w1: 1.044 w2: 0.520 b: 0.447 Cost: 0.237793\n",
            "Epoch 1000/1000 w1: 1.044 w2: 0.520 b: 0.447 Cost: 0.237819\n",
            "Epoch    0/1000 w1: 1.044 w2: 0.520 b: 0.447 Cost: 0.237820\n",
            "Epoch  100/1000 w1: 1.044 w2: 0.520 b: 0.447 Cost: 0.237846\n",
            "Epoch  200/1000 w1: 1.044 w2: 0.520 b: 0.447 Cost: 0.237873\n",
            "Epoch  300/1000 w1: 1.044 w2: 0.520 b: 0.447 Cost: 0.237900\n",
            "Epoch  400/1000 w1: 1.044 w2: 0.520 b: 0.447 Cost: 0.237927\n",
            "Epoch  500/1000 w1: 1.044 w2: 0.520 b: 0.447 Cost: 0.237954\n",
            "Epoch  600/1000 w1: 1.044 w2: 0.520 b: 0.447 Cost: 0.237981\n",
            "Epoch  700/1000 w1: 1.044 w2: 0.520 b: 0.447 Cost: 0.238007\n",
            "Epoch  800/1000 w1: 1.044 w2: 0.520 b: 0.447 Cost: 0.238034\n",
            "Epoch  900/1000 w1: 1.044 w2: 0.520 b: 0.447 Cost: 0.238061\n",
            "Epoch 1000/1000 w1: 1.044 w2: 0.520 b: 0.447 Cost: 0.238088\n",
            "Epoch    0/1000 w1: 1.044 w2: 0.520 b: 0.447 Cost: 0.238088\n",
            "Epoch  100/1000 w1: 1.044 w2: 0.520 b: 0.447 Cost: 0.238115\n",
            "Epoch  200/1000 w1: 1.044 w2: 0.520 b: 0.447 Cost: 0.238142\n",
            "Epoch  300/1000 w1: 1.044 w2: 0.520 b: 0.447 Cost: 0.238169\n",
            "Epoch  400/1000 w1: 1.044 w2: 0.520 b: 0.447 Cost: 0.238195\n",
            "Epoch  500/1000 w1: 1.044 w2: 0.520 b: 0.447 Cost: 0.238222\n",
            "Epoch  600/1000 w1: 1.044 w2: 0.520 b: 0.447 Cost: 0.238249\n",
            "Epoch  700/1000 w1: 1.044 w2: 0.520 b: 0.447 Cost: 0.238276\n",
            "Epoch  800/1000 w1: 1.044 w2: 0.520 b: 0.447 Cost: 0.238303\n",
            "Epoch  900/1000 w1: 1.044 w2: 0.520 b: 0.447 Cost: 0.238330\n",
            "Epoch 1000/1000 w1: 1.044 w2: 0.520 b: 0.447 Cost: 0.238356\n",
            "Epoch    0/1000 w1: 1.044 w2: 0.520 b: 0.447 Cost: 0.238357\n",
            "Epoch  100/1000 w1: 1.044 w2: 0.520 b: 0.447 Cost: 0.238383\n",
            "Epoch  200/1000 w1: 1.044 w2: 0.520 b: 0.447 Cost: 0.238410\n",
            "Epoch  300/1000 w1: 1.044 w2: 0.520 b: 0.447 Cost: 0.238437\n",
            "Epoch  400/1000 w1: 1.044 w2: 0.520 b: 0.447 Cost: 0.238464\n",
            "Epoch  500/1000 w1: 1.044 w2: 0.520 b: 0.447 Cost: 0.238491\n",
            "Epoch  600/1000 w1: 1.044 w2: 0.520 b: 0.447 Cost: 0.238518\n",
            "Epoch  700/1000 w1: 1.044 w2: 0.520 b: 0.447 Cost: 0.238544\n",
            "Epoch  800/1000 w1: 1.044 w2: 0.520 b: 0.447 Cost: 0.238571\n",
            "Epoch  900/1000 w1: 1.044 w2: 0.520 b: 0.447 Cost: 0.238598\n",
            "Epoch 1000/1000 w1: 1.044 w2: 0.520 b: 0.447 Cost: 0.238625\n",
            "Epoch    0/1000 w1: 1.044 w2: 0.520 b: 0.447 Cost: 0.238625\n",
            "Epoch  100/1000 w1: 1.044 w2: 0.520 b: 0.447 Cost: 0.238652\n",
            "Epoch  200/1000 w1: 1.044 w2: 0.520 b: 0.447 Cost: 0.238679\n",
            "Epoch  300/1000 w1: 1.044 w2: 0.520 b: 0.447 Cost: 0.238706\n",
            "Epoch  400/1000 w1: 1.044 w2: 0.520 b: 0.447 Cost: 0.238732\n",
            "Epoch  500/1000 w1: 1.044 w2: 0.520 b: 0.447 Cost: 0.238759\n",
            "Epoch  600/1000 w1: 1.044 w2: 0.520 b: 0.447 Cost: 0.238786\n",
            "Epoch  700/1000 w1: 1.044 w2: 0.520 b: 0.447 Cost: 0.238813\n",
            "Epoch  800/1000 w1: 1.044 w2: 0.520 b: 0.447 Cost: 0.238840\n",
            "Epoch  900/1000 w1: 1.044 w2: 0.520 b: 0.447 Cost: 0.238867\n",
            "Epoch 1000/1000 w1: 1.044 w2: 0.520 b: 0.447 Cost: 0.238893\n",
            "Epoch    0/1000 w1: 1.044 w2: 0.520 b: 0.447 Cost: 0.238894\n",
            "Epoch  100/1000 w1: 1.044 w2: 0.520 b: 0.447 Cost: 0.238920\n",
            "Epoch  200/1000 w1: 1.044 w2: 0.520 b: 0.447 Cost: 0.238947\n",
            "Epoch  300/1000 w1: 1.044 w2: 0.520 b: 0.447 Cost: 0.238974\n",
            "Epoch  400/1000 w1: 1.044 w2: 0.520 b: 0.447 Cost: 0.239001\n",
            "Epoch  500/1000 w1: 1.044 w2: 0.520 b: 0.447 Cost: 0.239028\n",
            "Epoch  600/1000 w1: 1.044 w2: 0.520 b: 0.447 Cost: 0.239055\n",
            "Epoch  700/1000 w1: 1.044 w2: 0.520 b: 0.447 Cost: 0.239081\n",
            "Epoch  800/1000 w1: 1.044 w2: 0.520 b: 0.447 Cost: 0.239108\n",
            "Epoch  900/1000 w1: 1.044 w2: 0.520 b: 0.447 Cost: 0.239135\n",
            "Epoch 1000/1000 w1: 1.044 w2: 0.520 b: 0.447 Cost: 0.239162\n",
            "Epoch    0/1000 w1: 1.044 w2: 0.520 b: 0.447 Cost: 0.239162\n",
            "Epoch  100/1000 w1: 1.044 w2: 0.520 b: 0.447 Cost: 0.239189\n",
            "Epoch  200/1000 w1: 1.044 w2: 0.520 b: 0.447 Cost: 0.239216\n",
            "Epoch  300/1000 w1: 1.044 w2: 0.520 b: 0.447 Cost: 0.239243\n",
            "Epoch  400/1000 w1: 1.044 w2: 0.520 b: 0.447 Cost: 0.239269\n",
            "Epoch  500/1000 w1: 1.044 w2: 0.520 b: 0.447 Cost: 0.239296\n",
            "Epoch  600/1000 w1: 1.044 w2: 0.520 b: 0.447 Cost: 0.239323\n",
            "Epoch  700/1000 w1: 1.044 w2: 0.520 b: 0.447 Cost: 0.239350\n",
            "Epoch  800/1000 w1: 1.044 w2: 0.520 b: 0.447 Cost: 0.239377\n",
            "Epoch  900/1000 w1: 1.044 w2: 0.520 b: 0.447 Cost: 0.239404\n",
            "Epoch 1000/1000 w1: 1.044 w2: 0.520 b: 0.447 Cost: 0.239430\n",
            "Epoch    0/1000 w1: 1.044 w2: 0.520 b: 0.447 Cost: 0.239431\n",
            "Epoch  100/1000 w1: 1.044 w2: 0.520 b: 0.447 Cost: 0.239457\n",
            "Epoch  200/1000 w1: 1.044 w2: 0.520 b: 0.447 Cost: 0.239484\n",
            "Epoch  300/1000 w1: 1.044 w2: 0.520 b: 0.447 Cost: 0.239511\n",
            "Epoch  400/1000 w1: 1.044 w2: 0.520 b: 0.447 Cost: 0.239538\n",
            "Epoch  500/1000 w1: 1.044 w2: 0.520 b: 0.447 Cost: 0.239565\n",
            "Epoch  600/1000 w1: 1.044 w2: 0.520 b: 0.447 Cost: 0.239592\n",
            "Epoch  700/1000 w1: 1.044 w2: 0.520 b: 0.447 Cost: 0.239618\n",
            "Epoch  800/1000 w1: 1.044 w2: 0.520 b: 0.447 Cost: 0.239645\n",
            "Epoch  900/1000 w1: 1.044 w2: 0.520 b: 0.447 Cost: 0.239672\n",
            "Epoch 1000/1000 w1: 1.044 w2: 0.520 b: 0.447 Cost: 0.239699\n",
            "Epoch    0/1000 w1: 1.044 w2: 0.520 b: 0.447 Cost: 0.239699\n",
            "Epoch  100/1000 w1: 1.044 w2: 0.520 b: 0.447 Cost: 0.239726\n",
            "Epoch  200/1000 w1: 1.044 w2: 0.520 b: 0.447 Cost: 0.239753\n",
            "Epoch  300/1000 w1: 1.044 w2: 0.520 b: 0.447 Cost: 0.239780\n",
            "Epoch  400/1000 w1: 1.044 w2: 0.520 b: 0.447 Cost: 0.239806\n",
            "Epoch  500/1000 w1: 1.044 w2: 0.520 b: 0.447 Cost: 0.239833\n",
            "Epoch  600/1000 w1: 1.044 w2: 0.520 b: 0.447 Cost: 0.239860\n",
            "Epoch  700/1000 w1: 1.044 w2: 0.520 b: 0.447 Cost: 0.239887\n",
            "Epoch  800/1000 w1: 1.044 w2: 0.520 b: 0.447 Cost: 0.239914\n",
            "Epoch  900/1000 w1: 1.044 w2: 0.520 b: 0.447 Cost: 0.239940\n",
            "Epoch 1000/1000 w1: 1.044 w2: 0.520 b: 0.447 Cost: 0.239967\n",
            "Epoch    0/1000 w1: 1.044 w2: 0.520 b: 0.447 Cost: 0.239968\n",
            "Epoch  100/1000 w1: 1.044 w2: 0.520 b: 0.447 Cost: 0.239994\n",
            "Epoch  200/1000 w1: 1.044 w2: 0.520 b: 0.447 Cost: 0.240021\n",
            "Epoch  300/1000 w1: 1.044 w2: 0.520 b: 0.447 Cost: 0.240048\n",
            "Epoch  400/1000 w1: 1.044 w2: 0.520 b: 0.447 Cost: 0.240075\n",
            "Epoch  500/1000 w1: 1.044 w2: 0.520 b: 0.447 Cost: 0.240102\n",
            "Epoch  600/1000 w1: 1.044 w2: 0.520 b: 0.447 Cost: 0.240129\n",
            "Epoch  700/1000 w1: 1.044 w2: 0.520 b: 0.447 Cost: 0.240155\n",
            "Epoch  800/1000 w1: 1.044 w2: 0.520 b: 0.447 Cost: 0.240182\n",
            "Epoch  900/1000 w1: 1.044 w2: 0.520 b: 0.447 Cost: 0.240209\n",
            "Epoch 1000/1000 w1: 1.044 w2: 0.520 b: 0.447 Cost: 0.240236\n",
            "Epoch    0/1000 w1: 1.044 w2: 0.520 b: 0.447 Cost: 0.240236\n",
            "Epoch  100/1000 w1: 1.044 w2: 0.520 b: 0.447 Cost: 0.240263\n",
            "Epoch  200/1000 w1: 1.044 w2: 0.520 b: 0.447 Cost: 0.240290\n",
            "Epoch  300/1000 w1: 1.044 w2: 0.520 b: 0.447 Cost: 0.240317\n",
            "Epoch  400/1000 w1: 1.044 w2: 0.520 b: 0.447 Cost: 0.240343\n",
            "Epoch  500/1000 w1: 1.044 w2: 0.520 b: 0.447 Cost: 0.240370\n",
            "Epoch  600/1000 w1: 1.044 w2: 0.520 b: 0.447 Cost: 0.240397\n",
            "Epoch  700/1000 w1: 1.044 w2: 0.520 b: 0.447 Cost: 0.240424\n",
            "Epoch  800/1000 w1: 1.044 w2: 0.520 b: 0.447 Cost: 0.240451\n",
            "Epoch  900/1000 w1: 1.044 w2: 0.520 b: 0.447 Cost: 0.240477\n",
            "Epoch 1000/1000 w1: 1.044 w2: 0.520 b: 0.447 Cost: 0.240504\n",
            "Epoch    0/1000 w1: 1.044 w2: 0.520 b: 0.447 Cost: 0.240505\n",
            "Epoch  100/1000 w1: 1.044 w2: 0.520 b: 0.447 Cost: 0.240531\n",
            "Epoch  200/1000 w1: 1.044 w2: 0.520 b: 0.447 Cost: 0.240558\n",
            "Epoch  300/1000 w1: 1.044 w2: 0.520 b: 0.447 Cost: 0.240585\n",
            "Epoch  400/1000 w1: 1.044 w2: 0.520 b: 0.447 Cost: 0.240612\n",
            "Epoch  500/1000 w1: 1.044 w2: 0.520 b: 0.447 Cost: 0.240639\n",
            "Epoch  600/1000 w1: 1.044 w2: 0.520 b: 0.447 Cost: 0.240665\n",
            "Epoch  700/1000 w1: 1.044 w2: 0.520 b: 0.447 Cost: 0.240692\n",
            "Epoch  800/1000 w1: 1.044 w2: 0.520 b: 0.447 Cost: 0.240719\n",
            "Epoch  900/1000 w1: 1.044 w2: 0.520 b: 0.447 Cost: 0.240746\n",
            "Epoch 1000/1000 w1: 1.044 w2: 0.520 b: 0.447 Cost: 0.240773\n",
            "Epoch    0/1000 w1: 1.044 w2: 0.520 b: 0.447 Cost: 0.240773\n",
            "Epoch  100/1000 w1: 1.044 w2: 0.520 b: 0.447 Cost: 0.240800\n",
            "Epoch  200/1000 w1: 1.044 w2: 0.520 b: 0.447 Cost: 0.240827\n",
            "Epoch  300/1000 w1: 1.044 w2: 0.520 b: 0.447 Cost: 0.240854\n",
            "Epoch  400/1000 w1: 1.044 w2: 0.520 b: 0.447 Cost: 0.240880\n",
            "Epoch  500/1000 w1: 1.044 w2: 0.520 b: 0.447 Cost: 0.240907\n",
            "Epoch  600/1000 w1: 1.044 w2: 0.520 b: 0.447 Cost: 0.240934\n",
            "Epoch  700/1000 w1: 1.044 w2: 0.520 b: 0.447 Cost: 0.240961\n",
            "Epoch  800/1000 w1: 1.044 w2: 0.520 b: 0.447 Cost: 0.240988\n",
            "Epoch  900/1000 w1: 1.044 w2: 0.520 b: 0.447 Cost: 0.241014\n",
            "Epoch 1000/1000 w1: 1.044 w2: 0.520 b: 0.447 Cost: 0.241041\n",
            "Epoch    0/1000 w1: 1.044 w2: 0.520 b: 0.447 Cost: 0.241042\n",
            "Epoch  100/1000 w1: 1.044 w2: 0.520 b: 0.447 Cost: 0.241068\n",
            "Epoch  200/1000 w1: 1.044 w2: 0.520 b: 0.447 Cost: 0.241095\n",
            "Epoch  300/1000 w1: 1.044 w2: 0.520 b: 0.447 Cost: 0.241122\n",
            "Epoch  400/1000 w1: 1.044 w2: 0.520 b: 0.447 Cost: 0.241149\n",
            "Epoch  500/1000 w1: 1.044 w2: 0.520 b: 0.447 Cost: 0.241176\n",
            "Epoch  600/1000 w1: 1.044 w2: 0.520 b: 0.447 Cost: 0.241202\n",
            "Epoch  700/1000 w1: 1.044 w2: 0.520 b: 0.447 Cost: 0.241229\n",
            "Epoch  800/1000 w1: 1.044 w2: 0.520 b: 0.447 Cost: 0.241256\n",
            "Epoch  900/1000 w1: 1.043 w2: 0.520 b: 0.447 Cost: 0.241283\n",
            "Epoch 1000/1000 w1: 1.043 w2: 0.520 b: 0.447 Cost: 0.241310\n",
            "Epoch    0/1000 w1: 1.043 w2: 0.520 b: 0.447 Cost: 0.241310\n",
            "Epoch  100/1000 w1: 1.043 w2: 0.520 b: 0.447 Cost: 0.241337\n",
            "Epoch  200/1000 w1: 1.043 w2: 0.520 b: 0.447 Cost: 0.241364\n",
            "Epoch  300/1000 w1: 1.043 w2: 0.520 b: 0.447 Cost: 0.241390\n",
            "Epoch  400/1000 w1: 1.043 w2: 0.520 b: 0.447 Cost: 0.241417\n",
            "Epoch  500/1000 w1: 1.043 w2: 0.520 b: 0.447 Cost: 0.241444\n",
            "Epoch  600/1000 w1: 1.043 w2: 0.520 b: 0.447 Cost: 0.241471\n",
            "Epoch  700/1000 w1: 1.043 w2: 0.520 b: 0.447 Cost: 0.241498\n",
            "Epoch  800/1000 w1: 1.043 w2: 0.520 b: 0.447 Cost: 0.241525\n",
            "Epoch  900/1000 w1: 1.043 w2: 0.520 b: 0.447 Cost: 0.241551\n",
            "Epoch 1000/1000 w1: 1.043 w2: 0.520 b: 0.447 Cost: 0.241578\n",
            "Epoch    0/1000 w1: 1.043 w2: 0.520 b: 0.447 Cost: 0.241579\n",
            "Epoch  100/1000 w1: 1.043 w2: 0.520 b: 0.447 Cost: 0.241605\n",
            "Epoch  200/1000 w1: 1.043 w2: 0.520 b: 0.447 Cost: 0.241632\n",
            "Epoch  300/1000 w1: 1.043 w2: 0.520 b: 0.447 Cost: 0.241659\n",
            "Epoch  400/1000 w1: 1.043 w2: 0.520 b: 0.447 Cost: 0.241686\n",
            "Epoch  500/1000 w1: 1.043 w2: 0.520 b: 0.447 Cost: 0.241713\n",
            "Epoch  600/1000 w1: 1.043 w2: 0.520 b: 0.447 Cost: 0.241739\n",
            "Epoch  700/1000 w1: 1.043 w2: 0.520 b: 0.447 Cost: 0.241766\n",
            "Epoch  800/1000 w1: 1.043 w2: 0.520 b: 0.447 Cost: 0.241793\n",
            "Epoch  900/1000 w1: 1.043 w2: 0.520 b: 0.447 Cost: 0.241820\n",
            "Epoch 1000/1000 w1: 1.043 w2: 0.520 b: 0.447 Cost: 0.241847\n",
            "Epoch    0/1000 w1: 1.043 w2: 0.520 b: 0.447 Cost: 0.241847\n",
            "Epoch  100/1000 w1: 1.043 w2: 0.520 b: 0.447 Cost: 0.241874\n",
            "Epoch  200/1000 w1: 1.043 w2: 0.520 b: 0.447 Cost: 0.241901\n",
            "Epoch  300/1000 w1: 1.043 w2: 0.520 b: 0.447 Cost: 0.241927\n",
            "Epoch  400/1000 w1: 1.043 w2: 0.520 b: 0.447 Cost: 0.241954\n",
            "Epoch  500/1000 w1: 1.043 w2: 0.520 b: 0.447 Cost: 0.241981\n",
            "Epoch  600/1000 w1: 1.043 w2: 0.520 b: 0.447 Cost: 0.242008\n",
            "Epoch  700/1000 w1: 1.043 w2: 0.520 b: 0.447 Cost: 0.242035\n",
            "Epoch  800/1000 w1: 1.043 w2: 0.520 b: 0.447 Cost: 0.242062\n",
            "Epoch  900/1000 w1: 1.043 w2: 0.520 b: 0.447 Cost: 0.242088\n",
            "Epoch 1000/1000 w1: 1.043 w2: 0.520 b: 0.447 Cost: 0.242115\n",
            "Epoch    0/1000 w1: 1.043 w2: 0.520 b: 0.447 Cost: 0.242115\n",
            "Epoch  100/1000 w1: 1.043 w2: 0.520 b: 0.447 Cost: 0.242142\n",
            "Epoch  200/1000 w1: 1.043 w2: 0.520 b: 0.447 Cost: 0.242169\n",
            "Epoch  300/1000 w1: 1.043 w2: 0.520 b: 0.447 Cost: 0.242196\n",
            "Epoch  400/1000 w1: 1.043 w2: 0.520 b: 0.447 Cost: 0.242223\n",
            "Epoch  500/1000 w1: 1.043 w2: 0.520 b: 0.447 Cost: 0.242250\n",
            "Epoch  600/1000 w1: 1.043 w2: 0.520 b: 0.447 Cost: 0.242276\n",
            "Epoch  700/1000 w1: 1.043 w2: 0.520 b: 0.447 Cost: 0.242303\n",
            "Epoch  800/1000 w1: 1.043 w2: 0.520 b: 0.447 Cost: 0.242330\n",
            "Epoch  900/1000 w1: 1.043 w2: 0.520 b: 0.447 Cost: 0.242357\n",
            "Epoch 1000/1000 w1: 1.043 w2: 0.520 b: 0.447 Cost: 0.242384\n",
            "Epoch    0/1000 w1: 1.043 w2: 0.520 b: 0.447 Cost: 0.242384\n",
            "Epoch  100/1000 w1: 1.043 w2: 0.520 b: 0.447 Cost: 0.242411\n",
            "Epoch  200/1000 w1: 1.043 w2: 0.520 b: 0.447 Cost: 0.242438\n",
            "Epoch  300/1000 w1: 1.043 w2: 0.520 b: 0.447 Cost: 0.242464\n",
            "Epoch  400/1000 w1: 1.043 w2: 0.520 b: 0.447 Cost: 0.242491\n",
            "Epoch  500/1000 w1: 1.043 w2: 0.520 b: 0.447 Cost: 0.242518\n",
            "Epoch  600/1000 w1: 1.043 w2: 0.520 b: 0.447 Cost: 0.242545\n",
            "Epoch  700/1000 w1: 1.043 w2: 0.520 b: 0.447 Cost: 0.242572\n",
            "Epoch  800/1000 w1: 1.043 w2: 0.520 b: 0.447 Cost: 0.242599\n",
            "Epoch  900/1000 w1: 1.043 w2: 0.520 b: 0.447 Cost: 0.242625\n",
            "Epoch 1000/1000 w1: 1.043 w2: 0.520 b: 0.447 Cost: 0.242652\n",
            "Epoch    0/1000 w1: 1.043 w2: 0.520 b: 0.447 Cost: 0.242652\n",
            "Epoch  100/1000 w1: 1.043 w2: 0.520 b: 0.447 Cost: 0.242679\n",
            "Epoch  200/1000 w1: 1.043 w2: 0.520 b: 0.447 Cost: 0.242706\n",
            "Epoch  300/1000 w1: 1.043 w2: 0.520 b: 0.447 Cost: 0.242733\n",
            "Epoch  400/1000 w1: 1.043 w2: 0.520 b: 0.447 Cost: 0.242760\n",
            "Epoch  500/1000 w1: 1.043 w2: 0.520 b: 0.447 Cost: 0.242787\n",
            "Epoch  600/1000 w1: 1.043 w2: 0.520 b: 0.447 Cost: 0.242813\n",
            "Epoch  700/1000 w1: 1.043 w2: 0.520 b: 0.447 Cost: 0.242840\n",
            "Epoch  800/1000 w1: 1.043 w2: 0.520 b: 0.447 Cost: 0.242867\n",
            "Epoch  900/1000 w1: 1.043 w2: 0.520 b: 0.447 Cost: 0.242894\n",
            "Epoch 1000/1000 w1: 1.043 w2: 0.520 b: 0.447 Cost: 0.242921\n",
            "Epoch    0/1000 w1: 1.043 w2: 0.520 b: 0.447 Cost: 0.242921\n",
            "Epoch  100/1000 w1: 1.043 w2: 0.520 b: 0.447 Cost: 0.242948\n",
            "Epoch  200/1000 w1: 1.043 w2: 0.520 b: 0.447 Cost: 0.242975\n",
            "Epoch  300/1000 w1: 1.043 w2: 0.520 b: 0.447 Cost: 0.243001\n",
            "Epoch  400/1000 w1: 1.043 w2: 0.520 b: 0.447 Cost: 0.243028\n",
            "Epoch  500/1000 w1: 1.043 w2: 0.520 b: 0.447 Cost: 0.243055\n",
            "Epoch  600/1000 w1: 1.043 w2: 0.520 b: 0.447 Cost: 0.243082\n",
            "Epoch  700/1000 w1: 1.043 w2: 0.520 b: 0.447 Cost: 0.243109\n",
            "Epoch  800/1000 w1: 1.043 w2: 0.520 b: 0.447 Cost: 0.243136\n",
            "Epoch  900/1000 w1: 1.043 w2: 0.520 b: 0.447 Cost: 0.243162\n",
            "Epoch 1000/1000 w1: 1.043 w2: 0.520 b: 0.447 Cost: 0.243189\n",
            "Epoch    0/1000 w1: 1.043 w2: 0.520 b: 0.447 Cost: 0.243189\n",
            "Epoch  100/1000 w1: 1.043 w2: 0.520 b: 0.447 Cost: 0.243216\n",
            "Epoch  200/1000 w1: 1.043 w2: 0.520 b: 0.447 Cost: 0.243243\n",
            "Epoch  300/1000 w1: 1.043 w2: 0.520 b: 0.447 Cost: 0.243270\n",
            "Epoch  400/1000 w1: 1.043 w2: 0.520 b: 0.447 Cost: 0.243297\n",
            "Epoch  500/1000 w1: 1.043 w2: 0.520 b: 0.447 Cost: 0.243324\n",
            "Epoch  600/1000 w1: 1.043 w2: 0.520 b: 0.447 Cost: 0.243350\n",
            "Epoch  700/1000 w1: 1.043 w2: 0.520 b: 0.447 Cost: 0.243377\n",
            "Epoch  800/1000 w1: 1.043 w2: 0.520 b: 0.447 Cost: 0.243404\n",
            "Epoch  900/1000 w1: 1.043 w2: 0.520 b: 0.447 Cost: 0.243431\n",
            "Epoch 1000/1000 w1: 1.043 w2: 0.520 b: 0.447 Cost: 0.243458\n",
            "Epoch    0/1000 w1: 1.043 w2: 0.520 b: 0.447 Cost: 0.243458\n",
            "Epoch  100/1000 w1: 1.043 w2: 0.520 b: 0.447 Cost: 0.243485\n",
            "Epoch  200/1000 w1: 1.043 w2: 0.520 b: 0.447 Cost: 0.243512\n",
            "Epoch  300/1000 w1: 1.043 w2: 0.520 b: 0.447 Cost: 0.243538\n",
            "Epoch  400/1000 w1: 1.043 w2: 0.520 b: 0.447 Cost: 0.243565\n",
            "Epoch  500/1000 w1: 1.043 w2: 0.520 b: 0.447 Cost: 0.243592\n",
            "Epoch  600/1000 w1: 1.043 w2: 0.520 b: 0.447 Cost: 0.243619\n",
            "Epoch  700/1000 w1: 1.043 w2: 0.520 b: 0.447 Cost: 0.243646\n",
            "Epoch  800/1000 w1: 1.043 w2: 0.520 b: 0.447 Cost: 0.243673\n",
            "Epoch  900/1000 w1: 1.043 w2: 0.520 b: 0.447 Cost: 0.243699\n",
            "Epoch 1000/1000 w1: 1.043 w2: 0.520 b: 0.447 Cost: 0.243726\n",
            "Epoch    0/1000 w1: 1.043 w2: 0.520 b: 0.447 Cost: 0.243726\n",
            "Epoch  100/1000 w1: 1.043 w2: 0.520 b: 0.447 Cost: 0.243753\n",
            "Epoch  200/1000 w1: 1.043 w2: 0.520 b: 0.447 Cost: 0.243780\n",
            "Epoch  300/1000 w1: 1.043 w2: 0.520 b: 0.447 Cost: 0.243807\n",
            "Epoch  400/1000 w1: 1.043 w2: 0.520 b: 0.447 Cost: 0.243834\n",
            "Epoch  500/1000 w1: 1.043 w2: 0.520 b: 0.447 Cost: 0.243861\n",
            "Epoch  600/1000 w1: 1.043 w2: 0.520 b: 0.447 Cost: 0.243887\n",
            "Epoch  700/1000 w1: 1.043 w2: 0.520 b: 0.447 Cost: 0.243914\n",
            "Epoch  800/1000 w1: 1.043 w2: 0.520 b: 0.447 Cost: 0.243941\n",
            "Epoch  900/1000 w1: 1.043 w2: 0.520 b: 0.447 Cost: 0.243968\n",
            "Epoch 1000/1000 w1: 1.043 w2: 0.520 b: 0.447 Cost: 0.243995\n",
            "Epoch    0/1000 w1: 1.043 w2: 0.520 b: 0.447 Cost: 0.243995\n",
            "Epoch  100/1000 w1: 1.043 w2: 0.520 b: 0.447 Cost: 0.244022\n",
            "Epoch  200/1000 w1: 1.043 w2: 0.520 b: 0.447 Cost: 0.244049\n",
            "Epoch  300/1000 w1: 1.043 w2: 0.520 b: 0.447 Cost: 0.244075\n",
            "Epoch  400/1000 w1: 1.043 w2: 0.520 b: 0.447 Cost: 0.244102\n",
            "Epoch  500/1000 w1: 1.043 w2: 0.520 b: 0.447 Cost: 0.244129\n",
            "Epoch  600/1000 w1: 1.043 w2: 0.520 b: 0.447 Cost: 0.244156\n",
            "Epoch  700/1000 w1: 1.043 w2: 0.520 b: 0.447 Cost: 0.244183\n",
            "Epoch  800/1000 w1: 1.043 w2: 0.520 b: 0.447 Cost: 0.244209\n",
            "Epoch  900/1000 w1: 1.043 w2: 0.520 b: 0.447 Cost: 0.244236\n",
            "Epoch 1000/1000 w1: 1.043 w2: 0.520 b: 0.447 Cost: 0.244263\n",
            "Epoch    0/1000 w1: 1.043 w2: 0.520 b: 0.447 Cost: 0.244263\n",
            "Epoch  100/1000 w1: 1.043 w2: 0.520 b: 0.447 Cost: 0.244290\n",
            "Epoch  200/1000 w1: 1.043 w2: 0.520 b: 0.447 Cost: 0.244317\n",
            "Epoch  300/1000 w1: 1.043 w2: 0.520 b: 0.447 Cost: 0.244344\n",
            "Epoch  400/1000 w1: 1.043 w2: 0.520 b: 0.447 Cost: 0.244371\n",
            "Epoch  500/1000 w1: 1.043 w2: 0.520 b: 0.447 Cost: 0.244398\n",
            "Epoch  600/1000 w1: 1.043 w2: 0.520 b: 0.447 Cost: 0.244424\n",
            "Epoch  700/1000 w1: 1.043 w2: 0.520 b: 0.447 Cost: 0.244451\n",
            "Epoch  800/1000 w1: 1.043 w2: 0.520 b: 0.447 Cost: 0.244478\n",
            "Epoch  900/1000 w1: 1.043 w2: 0.520 b: 0.447 Cost: 0.244505\n",
            "Epoch 1000/1000 w1: 1.043 w2: 0.520 b: 0.447 Cost: 0.244532\n",
            "Epoch    0/1000 w1: 1.043 w2: 0.520 b: 0.447 Cost: 0.244532\n",
            "Epoch  100/1000 w1: 1.043 w2: 0.520 b: 0.447 Cost: 0.244559\n",
            "Epoch  200/1000 w1: 1.043 w2: 0.520 b: 0.447 Cost: 0.244586\n",
            "Epoch  300/1000 w1: 1.043 w2: 0.520 b: 0.447 Cost: 0.244612\n",
            "Epoch  400/1000 w1: 1.043 w2: 0.520 b: 0.447 Cost: 0.244639\n",
            "Epoch  500/1000 w1: 1.043 w2: 0.520 b: 0.447 Cost: 0.244666\n",
            "Epoch  600/1000 w1: 1.043 w2: 0.520 b: 0.447 Cost: 0.244693\n",
            "Epoch  700/1000 w1: 1.043 w2: 0.520 b: 0.447 Cost: 0.244720\n",
            "Epoch  800/1000 w1: 1.043 w2: 0.520 b: 0.447 Cost: 0.244746\n",
            "Epoch  900/1000 w1: 1.043 w2: 0.520 b: 0.447 Cost: 0.244773\n",
            "Epoch 1000/1000 w1: 1.043 w2: 0.520 b: 0.447 Cost: 0.244800\n",
            "Epoch    0/1000 w1: 1.043 w2: 0.520 b: 0.447 Cost: 0.244800\n",
            "Epoch  100/1000 w1: 1.043 w2: 0.520 b: 0.447 Cost: 0.244827\n",
            "Epoch  200/1000 w1: 1.043 w2: 0.520 b: 0.447 Cost: 0.244854\n",
            "Epoch  300/1000 w1: 1.043 w2: 0.520 b: 0.447 Cost: 0.244881\n",
            "Epoch  400/1000 w1: 1.043 w2: 0.520 b: 0.447 Cost: 0.244908\n",
            "Epoch  500/1000 w1: 1.043 w2: 0.520 b: 0.447 Cost: 0.244934\n",
            "Epoch  600/1000 w1: 1.043 w2: 0.520 b: 0.447 Cost: 0.244961\n",
            "Epoch  700/1000 w1: 1.043 w2: 0.520 b: 0.447 Cost: 0.244988\n",
            "Epoch  800/1000 w1: 1.043 w2: 0.520 b: 0.447 Cost: 0.245015\n",
            "Epoch  900/1000 w1: 1.043 w2: 0.520 b: 0.447 Cost: 0.245042\n",
            "Epoch 1000/1000 w1: 1.043 w2: 0.520 b: 0.447 Cost: 0.245069\n",
            "Epoch    0/1000 w1: 1.043 w2: 0.520 b: 0.447 Cost: 0.245069\n",
            "Epoch  100/1000 w1: 1.043 w2: 0.520 b: 0.447 Cost: 0.245096\n",
            "Epoch  200/1000 w1: 1.043 w2: 0.520 b: 0.447 Cost: 0.245123\n",
            "Epoch  300/1000 w1: 1.043 w2: 0.520 b: 0.447 Cost: 0.245149\n",
            "Epoch  400/1000 w1: 1.043 w2: 0.520 b: 0.447 Cost: 0.245176\n",
            "Epoch  500/1000 w1: 1.043 w2: 0.520 b: 0.447 Cost: 0.245203\n",
            "Epoch  600/1000 w1: 1.043 w2: 0.520 b: 0.447 Cost: 0.245230\n",
            "Epoch  700/1000 w1: 1.043 w2: 0.520 b: 0.447 Cost: 0.245257\n",
            "Epoch  800/1000 w1: 1.043 w2: 0.520 b: 0.447 Cost: 0.245283\n",
            "Epoch  900/1000 w1: 1.043 w2: 0.520 b: 0.447 Cost: 0.245310\n",
            "Epoch 1000/1000 w1: 1.043 w2: 0.520 b: 0.447 Cost: 0.245337\n",
            "Epoch    0/1000 w1: 1.043 w2: 0.520 b: 0.447 Cost: 0.245337\n",
            "Epoch  100/1000 w1: 1.043 w2: 0.520 b: 0.447 Cost: 0.245364\n",
            "Epoch  200/1000 w1: 1.043 w2: 0.520 b: 0.447 Cost: 0.245391\n",
            "Epoch  300/1000 w1: 1.043 w2: 0.520 b: 0.447 Cost: 0.245418\n",
            "Epoch  400/1000 w1: 1.043 w2: 0.520 b: 0.447 Cost: 0.245445\n",
            "Epoch  500/1000 w1: 1.043 w2: 0.520 b: 0.447 Cost: 0.245471\n",
            "Epoch  600/1000 w1: 1.043 w2: 0.520 b: 0.447 Cost: 0.245498\n",
            "Epoch  700/1000 w1: 1.043 w2: 0.520 b: 0.447 Cost: 0.245525\n",
            "Epoch  800/1000 w1: 1.043 w2: 0.520 b: 0.447 Cost: 0.245552\n",
            "Epoch  900/1000 w1: 1.043 w2: 0.520 b: 0.447 Cost: 0.245579\n",
            "Epoch 1000/1000 w1: 1.043 w2: 0.520 b: 0.447 Cost: 0.245606\n",
            "Epoch    0/1000 w1: 1.043 w2: 0.520 b: 0.447 Cost: 0.245606\n",
            "Epoch  100/1000 w1: 1.043 w2: 0.520 b: 0.447 Cost: 0.245633\n",
            "Epoch  200/1000 w1: 1.043 w2: 0.520 b: 0.447 Cost: 0.245659\n",
            "Epoch  300/1000 w1: 1.043 w2: 0.520 b: 0.447 Cost: 0.245686\n",
            "Epoch  400/1000 w1: 1.043 w2: 0.520 b: 0.447 Cost: 0.245713\n",
            "Epoch  500/1000 w1: 1.043 w2: 0.520 b: 0.447 Cost: 0.245740\n",
            "Epoch  600/1000 w1: 1.043 w2: 0.520 b: 0.447 Cost: 0.245767\n",
            "Epoch  700/1000 w1: 1.043 w2: 0.520 b: 0.447 Cost: 0.245794\n",
            "Epoch  800/1000 w1: 1.043 w2: 0.520 b: 0.447 Cost: 0.245820\n",
            "Epoch  900/1000 w1: 1.043 w2: 0.520 b: 0.447 Cost: 0.245847\n",
            "Epoch 1000/1000 w1: 1.043 w2: 0.520 b: 0.447 Cost: 0.245874\n",
            "Epoch    0/1000 w1: 1.043 w2: 0.520 b: 0.447 Cost: 0.245874\n",
            "Epoch  100/1000 w1: 1.043 w2: 0.520 b: 0.447 Cost: 0.245901\n",
            "Epoch  200/1000 w1: 1.043 w2: 0.520 b: 0.447 Cost: 0.245928\n",
            "Epoch  300/1000 w1: 1.043 w2: 0.520 b: 0.447 Cost: 0.245955\n",
            "Epoch  400/1000 w1: 1.043 w2: 0.520 b: 0.447 Cost: 0.245982\n",
            "Epoch  500/1000 w1: 1.043 w2: 0.520 b: 0.447 Cost: 0.246008\n",
            "Epoch  600/1000 w1: 1.043 w2: 0.520 b: 0.447 Cost: 0.246035\n",
            "Epoch  700/1000 w1: 1.043 w2: 0.520 b: 0.447 Cost: 0.246062\n",
            "Epoch  800/1000 w1: 1.043 w2: 0.520 b: 0.447 Cost: 0.246089\n",
            "Epoch  900/1000 w1: 1.043 w2: 0.520 b: 0.447 Cost: 0.246116\n",
            "Epoch 1000/1000 w1: 1.043 w2: 0.520 b: 0.447 Cost: 0.246143\n",
            "Epoch    0/1000 w1: 1.043 w2: 0.520 b: 0.447 Cost: 0.246143\n",
            "Epoch  100/1000 w1: 1.043 w2: 0.520 b: 0.447 Cost: 0.246170\n",
            "Epoch  200/1000 w1: 1.043 w2: 0.520 b: 0.447 Cost: 0.246196\n",
            "Epoch  300/1000 w1: 1.043 w2: 0.520 b: 0.447 Cost: 0.246223\n",
            "Epoch  400/1000 w1: 1.043 w2: 0.520 b: 0.447 Cost: 0.246250\n",
            "Epoch  500/1000 w1: 1.043 w2: 0.520 b: 0.447 Cost: 0.246277\n",
            "Epoch  600/1000 w1: 1.043 w2: 0.520 b: 0.447 Cost: 0.246304\n",
            "Epoch  700/1000 w1: 1.043 w2: 0.520 b: 0.447 Cost: 0.246331\n",
            "Epoch  800/1000 w1: 1.043 w2: 0.520 b: 0.447 Cost: 0.246357\n",
            "Epoch  900/1000 w1: 1.043 w2: 0.520 b: 0.447 Cost: 0.246384\n",
            "Epoch 1000/1000 w1: 1.043 w2: 0.520 b: 0.447 Cost: 0.246411\n",
            "Epoch    0/1000 w1: 1.043 w2: 0.520 b: 0.447 Cost: 0.246411\n",
            "Epoch  100/1000 w1: 1.043 w2: 0.520 b: 0.447 Cost: 0.246438\n",
            "Epoch  200/1000 w1: 1.043 w2: 0.520 b: 0.447 Cost: 0.246465\n",
            "Epoch  300/1000 w1: 1.043 w2: 0.520 b: 0.447 Cost: 0.246492\n",
            "Epoch  400/1000 w1: 1.043 w2: 0.520 b: 0.447 Cost: 0.246519\n",
            "Epoch  500/1000 w1: 1.043 w2: 0.520 b: 0.447 Cost: 0.246545\n",
            "Epoch  600/1000 w1: 1.043 w2: 0.520 b: 0.447 Cost: 0.246572\n",
            "Epoch  700/1000 w1: 1.043 w2: 0.520 b: 0.447 Cost: 0.246599\n",
            "Epoch  800/1000 w1: 1.043 w2: 0.520 b: 0.447 Cost: 0.246626\n",
            "Epoch  900/1000 w1: 1.043 w2: 0.520 b: 0.447 Cost: 0.246653\n",
            "Epoch 1000/1000 w1: 1.043 w2: 0.520 b: 0.447 Cost: 0.246680\n",
            "Epoch    0/1000 w1: 1.043 w2: 0.520 b: 0.447 Cost: 0.246680\n",
            "Epoch  100/1000 w1: 1.043 w2: 0.520 b: 0.447 Cost: 0.246707\n",
            "Epoch  200/1000 w1: 1.043 w2: 0.520 b: 0.447 Cost: 0.246733\n",
            "Epoch  300/1000 w1: 1.043 w2: 0.520 b: 0.447 Cost: 0.246760\n",
            "Epoch  400/1000 w1: 1.043 w2: 0.520 b: 0.447 Cost: 0.246787\n",
            "Epoch  500/1000 w1: 1.043 w2: 0.520 b: 0.447 Cost: 0.246814\n",
            "Epoch  600/1000 w1: 1.043 w2: 0.520 b: 0.447 Cost: 0.246841\n",
            "Epoch  700/1000 w1: 1.043 w2: 0.520 b: 0.447 Cost: 0.246868\n",
            "Epoch  800/1000 w1: 1.043 w2: 0.520 b: 0.447 Cost: 0.246894\n",
            "Epoch  900/1000 w1: 1.043 w2: 0.520 b: 0.447 Cost: 0.246921\n",
            "Epoch 1000/1000 w1: 1.043 w2: 0.520 b: 0.447 Cost: 0.246948\n",
            "Epoch    0/1000 w1: 1.043 w2: 0.520 b: 0.447 Cost: 0.246948\n",
            "Epoch  100/1000 w1: 1.043 w2: 0.520 b: 0.447 Cost: 0.246975\n",
            "Epoch  200/1000 w1: 1.043 w2: 0.520 b: 0.447 Cost: 0.247002\n",
            "Epoch  300/1000 w1: 1.043 w2: 0.520 b: 0.447 Cost: 0.247029\n",
            "Epoch  400/1000 w1: 1.043 w2: 0.520 b: 0.447 Cost: 0.247056\n",
            "Epoch  500/1000 w1: 1.043 w2: 0.520 b: 0.447 Cost: 0.247082\n",
            "Epoch  600/1000 w1: 1.043 w2: 0.520 b: 0.447 Cost: 0.247109\n",
            "Epoch  700/1000 w1: 1.043 w2: 0.520 b: 0.447 Cost: 0.247136\n",
            "Epoch  800/1000 w1: 1.043 w2: 0.520 b: 0.447 Cost: 0.247163\n",
            "Epoch  900/1000 w1: 1.043 w2: 0.520 b: 0.447 Cost: 0.247190\n",
            "Epoch 1000/1000 w1: 1.043 w2: 0.520 b: 0.447 Cost: 0.247217\n",
            "Epoch    0/1000 w1: 1.043 w2: 0.520 b: 0.447 Cost: 0.247217\n",
            "Epoch  100/1000 w1: 1.043 w2: 0.520 b: 0.447 Cost: 0.247244\n",
            "Epoch  200/1000 w1: 1.043 w2: 0.520 b: 0.447 Cost: 0.247270\n",
            "Epoch  300/1000 w1: 1.043 w2: 0.520 b: 0.447 Cost: 0.247297\n",
            "Epoch  400/1000 w1: 1.043 w2: 0.520 b: 0.447 Cost: 0.247324\n",
            "Epoch  500/1000 w1: 1.043 w2: 0.520 b: 0.447 Cost: 0.247351\n",
            "Epoch  600/1000 w1: 1.043 w2: 0.520 b: 0.447 Cost: 0.247378\n",
            "Epoch  700/1000 w1: 1.043 w2: 0.520 b: 0.447 Cost: 0.247405\n",
            "Epoch  800/1000 w1: 1.043 w2: 0.520 b: 0.447 Cost: 0.247431\n",
            "Epoch  900/1000 w1: 1.043 w2: 0.520 b: 0.447 Cost: 0.247458\n",
            "Epoch 1000/1000 w1: 1.043 w2: 0.520 b: 0.448 Cost: 0.247485\n",
            "Epoch    0/1000 w1: 1.043 w2: 0.520 b: 0.448 Cost: 0.247485\n",
            "Epoch  100/1000 w1: 1.043 w2: 0.520 b: 0.448 Cost: 0.247512\n",
            "Epoch  200/1000 w1: 1.043 w2: 0.520 b: 0.448 Cost: 0.247539\n",
            "Epoch  300/1000 w1: 1.043 w2: 0.520 b: 0.448 Cost: 0.247566\n",
            "Epoch  400/1000 w1: 1.043 w2: 0.520 b: 0.448 Cost: 0.247593\n",
            "Epoch  500/1000 w1: 1.043 w2: 0.520 b: 0.448 Cost: 0.247619\n",
            "Epoch  600/1000 w1: 1.043 w2: 0.520 b: 0.448 Cost: 0.247646\n",
            "Epoch  700/1000 w1: 1.043 w2: 0.520 b: 0.448 Cost: 0.247673\n",
            "Epoch  800/1000 w1: 1.043 w2: 0.520 b: 0.448 Cost: 0.247700\n",
            "Epoch  900/1000 w1: 1.043 w2: 0.520 b: 0.448 Cost: 0.247727\n",
            "Epoch 1000/1000 w1: 1.043 w2: 0.520 b: 0.448 Cost: 0.247753\n",
            "Epoch    0/1000 w1: 1.043 w2: 0.520 b: 0.448 Cost: 0.247754\n",
            "Epoch  100/1000 w1: 1.043 w2: 0.520 b: 0.448 Cost: 0.247781\n",
            "Epoch  200/1000 w1: 1.043 w2: 0.520 b: 0.448 Cost: 0.247807\n",
            "Epoch  300/1000 w1: 1.043 w2: 0.520 b: 0.448 Cost: 0.247834\n",
            "Epoch  400/1000 w1: 1.043 w2: 0.520 b: 0.448 Cost: 0.247861\n",
            "Epoch  500/1000 w1: 1.043 w2: 0.520 b: 0.448 Cost: 0.247888\n",
            "Epoch  600/1000 w1: 1.043 w2: 0.520 b: 0.448 Cost: 0.247915\n",
            "Epoch  700/1000 w1: 1.043 w2: 0.520 b: 0.448 Cost: 0.247942\n",
            "Epoch  800/1000 w1: 1.043 w2: 0.520 b: 0.448 Cost: 0.247968\n",
            "Epoch  900/1000 w1: 1.043 w2: 0.520 b: 0.448 Cost: 0.247995\n",
            "Epoch 1000/1000 w1: 1.043 w2: 0.520 b: 0.448 Cost: 0.248022\n",
            "Epoch    0/1000 w1: 1.043 w2: 0.520 b: 0.448 Cost: 0.248022\n",
            "Epoch  100/1000 w1: 1.043 w2: 0.520 b: 0.448 Cost: 0.248049\n",
            "Epoch  200/1000 w1: 1.043 w2: 0.520 b: 0.448 Cost: 0.248076\n",
            "Epoch  300/1000 w1: 1.043 w2: 0.520 b: 0.448 Cost: 0.248103\n",
            "Epoch  400/1000 w1: 1.043 w2: 0.520 b: 0.448 Cost: 0.248130\n",
            "Epoch  500/1000 w1: 1.043 w2: 0.520 b: 0.448 Cost: 0.248156\n",
            "Epoch  600/1000 w1: 1.043 w2: 0.520 b: 0.448 Cost: 0.248183\n",
            "Epoch  700/1000 w1: 1.043 w2: 0.520 b: 0.448 Cost: 0.248210\n",
            "Epoch  800/1000 w1: 1.043 w2: 0.520 b: 0.448 Cost: 0.248237\n",
            "Epoch  900/1000 w1: 1.043 w2: 0.520 b: 0.448 Cost: 0.248264\n",
            "Epoch 1000/1000 w1: 1.043 w2: 0.520 b: 0.448 Cost: 0.248290\n",
            "Epoch    0/1000 w1: 1.043 w2: 0.520 b: 0.448 Cost: 0.248291\n",
            "Epoch  100/1000 w1: 1.043 w2: 0.520 b: 0.448 Cost: 0.248318\n",
            "Epoch  200/1000 w1: 1.043 w2: 0.520 b: 0.448 Cost: 0.248344\n",
            "Epoch  300/1000 w1: 1.043 w2: 0.520 b: 0.448 Cost: 0.248371\n",
            "Epoch  400/1000 w1: 1.043 w2: 0.520 b: 0.448 Cost: 0.248398\n",
            "Epoch  500/1000 w1: 1.043 w2: 0.520 b: 0.448 Cost: 0.248425\n",
            "Epoch  600/1000 w1: 1.043 w2: 0.520 b: 0.448 Cost: 0.248452\n",
            "Epoch  700/1000 w1: 1.043 w2: 0.520 b: 0.448 Cost: 0.248478\n",
            "Epoch  800/1000 w1: 1.043 w2: 0.520 b: 0.448 Cost: 0.248505\n",
            "Epoch  900/1000 w1: 1.043 w2: 0.520 b: 0.448 Cost: 0.248532\n",
            "Epoch 1000/1000 w1: 1.043 w2: 0.520 b: 0.448 Cost: 0.248559\n",
            "Epoch    0/1000 w1: 1.043 w2: 0.520 b: 0.448 Cost: 0.248559\n",
            "Epoch  100/1000 w1: 1.043 w2: 0.520 b: 0.448 Cost: 0.248586\n",
            "Epoch  200/1000 w1: 1.043 w2: 0.520 b: 0.448 Cost: 0.248613\n",
            "Epoch  300/1000 w1: 1.043 w2: 0.520 b: 0.448 Cost: 0.248640\n",
            "Epoch  400/1000 w1: 1.043 w2: 0.520 b: 0.448 Cost: 0.248667\n",
            "Epoch  500/1000 w1: 1.043 w2: 0.520 b: 0.448 Cost: 0.248693\n",
            "Epoch  600/1000 w1: 1.043 w2: 0.520 b: 0.448 Cost: 0.248720\n",
            "Epoch  700/1000 w1: 1.043 w2: 0.520 b: 0.448 Cost: 0.248747\n",
            "Epoch  800/1000 w1: 1.043 w2: 0.520 b: 0.448 Cost: 0.248774\n",
            "Epoch  900/1000 w1: 1.043 w2: 0.520 b: 0.448 Cost: 0.248801\n",
            "Epoch 1000/1000 w1: 1.043 w2: 0.520 b: 0.448 Cost: 0.248827\n",
            "Epoch    0/1000 w1: 1.043 w2: 0.520 b: 0.448 Cost: 0.248828\n",
            "Epoch  100/1000 w1: 1.043 w2: 0.520 b: 0.448 Cost: 0.248855\n",
            "Epoch  200/1000 w1: 1.043 w2: 0.520 b: 0.448 Cost: 0.248881\n",
            "Epoch  300/1000 w1: 1.043 w2: 0.520 b: 0.448 Cost: 0.248908\n",
            "Epoch  400/1000 w1: 1.043 w2: 0.520 b: 0.448 Cost: 0.248935\n",
            "Epoch  500/1000 w1: 1.043 w2: 0.520 b: 0.448 Cost: 0.248962\n",
            "Epoch  600/1000 w1: 1.043 w2: 0.520 b: 0.448 Cost: 0.248989\n",
            "Epoch  700/1000 w1: 1.043 w2: 0.520 b: 0.448 Cost: 0.249015\n",
            "Epoch  800/1000 w1: 1.043 w2: 0.520 b: 0.448 Cost: 0.249042\n",
            "Epoch  900/1000 w1: 1.043 w2: 0.520 b: 0.448 Cost: 0.249069\n",
            "Epoch 1000/1000 w1: 1.043 w2: 0.520 b: 0.448 Cost: 0.249096\n",
            "Epoch    0/1000 w1: 1.043 w2: 0.520 b: 0.448 Cost: 0.249096\n",
            "Epoch  100/1000 w1: 1.043 w2: 0.520 b: 0.448 Cost: 0.249123\n",
            "Epoch  200/1000 w1: 1.043 w2: 0.520 b: 0.448 Cost: 0.249150\n",
            "Epoch  300/1000 w1: 1.043 w2: 0.520 b: 0.448 Cost: 0.249177\n",
            "Epoch  400/1000 w1: 1.043 w2: 0.520 b: 0.448 Cost: 0.249203\n",
            "Epoch  500/1000 w1: 1.043 w2: 0.520 b: 0.448 Cost: 0.249230\n",
            "Epoch  600/1000 w1: 1.043 w2: 0.520 b: 0.448 Cost: 0.249257\n",
            "Epoch  700/1000 w1: 1.043 w2: 0.520 b: 0.448 Cost: 0.249284\n",
            "Epoch  800/1000 w1: 1.043 w2: 0.520 b: 0.448 Cost: 0.249311\n",
            "Epoch  900/1000 w1: 1.043 w2: 0.520 b: 0.448 Cost: 0.249338\n",
            "Epoch 1000/1000 w1: 1.043 w2: 0.520 b: 0.448 Cost: 0.249364\n",
            "Epoch    0/1000 w1: 1.043 w2: 0.520 b: 0.448 Cost: 0.249365\n",
            "Epoch  100/1000 w1: 1.043 w2: 0.520 b: 0.448 Cost: 0.249392\n",
            "Epoch  200/1000 w1: 1.043 w2: 0.520 b: 0.448 Cost: 0.249418\n",
            "Epoch  300/1000 w1: 1.043 w2: 0.520 b: 0.448 Cost: 0.249445\n",
            "Epoch  400/1000 w1: 1.043 w2: 0.520 b: 0.448 Cost: 0.249472\n",
            "Epoch  500/1000 w1: 1.043 w2: 0.520 b: 0.448 Cost: 0.249499\n",
            "Epoch  600/1000 w1: 1.043 w2: 0.520 b: 0.448 Cost: 0.249526\n",
            "Epoch  700/1000 w1: 1.043 w2: 0.520 b: 0.448 Cost: 0.249552\n",
            "Epoch  800/1000 w1: 1.043 w2: 0.520 b: 0.448 Cost: 0.249579\n",
            "Epoch  900/1000 w1: 1.043 w2: 0.520 b: 0.448 Cost: 0.249606\n",
            "Epoch 1000/1000 w1: 1.043 w2: 0.520 b: 0.448 Cost: 0.249633\n",
            "Epoch    0/1000 w1: 1.043 w2: 0.520 b: 0.448 Cost: 0.249633\n",
            "Epoch  100/1000 w1: 1.043 w2: 0.520 b: 0.448 Cost: 0.249660\n",
            "Epoch  200/1000 w1: 1.043 w2: 0.520 b: 0.448 Cost: 0.249687\n",
            "Epoch  300/1000 w1: 1.043 w2: 0.520 b: 0.448 Cost: 0.249714\n",
            "Epoch  400/1000 w1: 1.043 w2: 0.520 b: 0.448 Cost: 0.249740\n",
            "Epoch  500/1000 w1: 1.043 w2: 0.520 b: 0.448 Cost: 0.249767\n",
            "Epoch  600/1000 w1: 1.043 w2: 0.520 b: 0.448 Cost: 0.249794\n",
            "Epoch  700/1000 w1: 1.043 w2: 0.520 b: 0.448 Cost: 0.249821\n",
            "Epoch  800/1000 w1: 1.043 w2: 0.520 b: 0.448 Cost: 0.249848\n",
            "Epoch  900/1000 w1: 1.043 w2: 0.520 b: 0.448 Cost: 0.249875\n",
            "Epoch 1000/1000 w1: 1.043 w2: 0.520 b: 0.448 Cost: 0.249901\n",
            "Epoch    0/1000 w1: 1.043 w2: 0.520 b: 0.448 Cost: 0.249902\n",
            "Epoch  100/1000 w1: 1.043 w2: 0.520 b: 0.448 Cost: 0.249928\n",
            "Epoch  200/1000 w1: 1.043 w2: 0.520 b: 0.448 Cost: 0.249955\n",
            "Epoch  300/1000 w1: 1.043 w2: 0.520 b: 0.448 Cost: 0.249982\n",
            "Epoch  400/1000 w1: 1.043 w2: 0.520 b: 0.448 Cost: 0.250009\n",
            "Epoch  500/1000 w1: 1.043 w2: 0.520 b: 0.448 Cost: 0.250036\n",
            "Epoch  600/1000 w1: 1.043 w2: 0.520 b: 0.448 Cost: 0.250063\n",
            "Epoch  700/1000 w1: 1.043 w2: 0.520 b: 0.448 Cost: 0.250089\n",
            "Epoch  800/1000 w1: 1.043 w2: 0.520 b: 0.448 Cost: 0.250116\n",
            "Epoch  900/1000 w1: 1.043 w2: 0.520 b: 0.448 Cost: 0.250143\n",
            "Epoch 1000/1000 w1: 1.043 w2: 0.520 b: 0.448 Cost: 0.250170\n",
            "Epoch    0/1000 w1: 1.043 w2: 0.520 b: 0.448 Cost: 0.250170\n",
            "Epoch  100/1000 w1: 1.043 w2: 0.520 b: 0.448 Cost: 0.250197\n",
            "Epoch  200/1000 w1: 1.043 w2: 0.520 b: 0.448 Cost: 0.250224\n",
            "Epoch  300/1000 w1: 1.043 w2: 0.520 b: 0.448 Cost: 0.250251\n",
            "Epoch  400/1000 w1: 1.043 w2: 0.520 b: 0.448 Cost: 0.250277\n",
            "Epoch  500/1000 w1: 1.043 w2: 0.520 b: 0.448 Cost: 0.250304\n",
            "Epoch  600/1000 w1: 1.043 w2: 0.520 b: 0.448 Cost: 0.250331\n",
            "Epoch  700/1000 w1: 1.043 w2: 0.520 b: 0.448 Cost: 0.250358\n",
            "Epoch  800/1000 w1: 1.043 w2: 0.520 b: 0.448 Cost: 0.250385\n",
            "Epoch  900/1000 w1: 1.043 w2: 0.520 b: 0.448 Cost: 0.250412\n",
            "Epoch 1000/1000 w1: 1.043 w2: 0.520 b: 0.448 Cost: 0.250438\n",
            "Epoch    0/1000 w1: 1.043 w2: 0.520 b: 0.448 Cost: 0.250439\n",
            "Epoch  100/1000 w1: 1.043 w2: 0.520 b: 0.448 Cost: 0.250465\n",
            "Epoch  200/1000 w1: 1.043 w2: 0.520 b: 0.448 Cost: 0.250492\n",
            "Epoch  300/1000 w1: 1.043 w2: 0.520 b: 0.448 Cost: 0.250519\n",
            "Epoch  400/1000 w1: 1.043 w2: 0.520 b: 0.448 Cost: 0.250546\n",
            "Epoch  500/1000 w1: 1.043 w2: 0.520 b: 0.448 Cost: 0.250573\n",
            "Epoch  600/1000 w1: 1.043 w2: 0.520 b: 0.448 Cost: 0.250600\n",
            "Epoch  700/1000 w1: 1.043 w2: 0.520 b: 0.448 Cost: 0.250626\n",
            "Epoch  800/1000 w1: 1.043 w2: 0.520 b: 0.448 Cost: 0.250653\n",
            "Epoch  900/1000 w1: 1.043 w2: 0.520 b: 0.448 Cost: 0.250680\n",
            "Epoch 1000/1000 w1: 1.043 w2: 0.520 b: 0.448 Cost: 0.250707\n",
            "Epoch    0/1000 w1: 1.043 w2: 0.520 b: 0.448 Cost: 0.250707\n",
            "Epoch  100/1000 w1: 1.043 w2: 0.520 b: 0.448 Cost: 0.250734\n",
            "Epoch  200/1000 w1: 1.043 w2: 0.520 b: 0.448 Cost: 0.250761\n",
            "Epoch  300/1000 w1: 1.043 w2: 0.520 b: 0.448 Cost: 0.250788\n",
            "Epoch  400/1000 w1: 1.043 w2: 0.520 b: 0.448 Cost: 0.250814\n",
            "Epoch  500/1000 w1: 1.043 w2: 0.520 b: 0.448 Cost: 0.250841\n",
            "Epoch  600/1000 w1: 1.043 w2: 0.520 b: 0.448 Cost: 0.250868\n",
            "Epoch  700/1000 w1: 1.043 w2: 0.520 b: 0.448 Cost: 0.250895\n",
            "Epoch  800/1000 w1: 1.043 w2: 0.520 b: 0.448 Cost: 0.250922\n",
            "Epoch  900/1000 w1: 1.043 w2: 0.520 b: 0.448 Cost: 0.250949\n",
            "Epoch 1000/1000 w1: 1.043 w2: 0.520 b: 0.448 Cost: 0.250975\n",
            "Epoch    0/1000 w1: 1.043 w2: 0.520 b: 0.448 Cost: 0.250976\n",
            "Epoch  100/1000 w1: 1.043 w2: 0.520 b: 0.448 Cost: 0.251002\n",
            "Epoch  200/1000 w1: 1.043 w2: 0.520 b: 0.448 Cost: 0.251029\n",
            "Epoch  300/1000 w1: 1.043 w2: 0.520 b: 0.448 Cost: 0.251056\n",
            "Epoch  400/1000 w1: 1.043 w2: 0.520 b: 0.448 Cost: 0.251083\n",
            "Epoch  500/1000 w1: 1.043 w2: 0.520 b: 0.448 Cost: 0.251110\n",
            "Epoch  600/1000 w1: 1.043 w2: 0.520 b: 0.448 Cost: 0.251137\n",
            "Epoch  700/1000 w1: 1.043 w2: 0.520 b: 0.448 Cost: 0.251163\n",
            "Epoch  800/1000 w1: 1.043 w2: 0.520 b: 0.448 Cost: 0.251190\n",
            "Epoch  900/1000 w1: 1.043 w2: 0.520 b: 0.448 Cost: 0.251217\n",
            "Epoch 1000/1000 w1: 1.043 w2: 0.520 b: 0.448 Cost: 0.251244\n",
            "Epoch    0/1000 w1: 1.043 w2: 0.520 b: 0.448 Cost: 0.251244\n",
            "Epoch  100/1000 w1: 1.043 w2: 0.520 b: 0.448 Cost: 0.251271\n",
            "Epoch  200/1000 w1: 1.043 w2: 0.520 b: 0.448 Cost: 0.251298\n",
            "Epoch  300/1000 w1: 1.043 w2: 0.520 b: 0.448 Cost: 0.251325\n",
            "Epoch  400/1000 w1: 1.043 w2: 0.520 b: 0.448 Cost: 0.251351\n",
            "Epoch  500/1000 w1: 1.043 w2: 0.520 b: 0.448 Cost: 0.251378\n",
            "Epoch  600/1000 w1: 1.043 w2: 0.520 b: 0.448 Cost: 0.251405\n",
            "Epoch  700/1000 w1: 1.043 w2: 0.520 b: 0.448 Cost: 0.251432\n",
            "Epoch  800/1000 w1: 1.043 w2: 0.520 b: 0.448 Cost: 0.251459\n",
            "Epoch  900/1000 w1: 1.043 w2: 0.520 b: 0.448 Cost: 0.251485\n",
            "Epoch 1000/1000 w1: 1.043 w2: 0.520 b: 0.448 Cost: 0.251512\n",
            "Epoch    0/1000 w1: 1.043 w2: 0.520 b: 0.448 Cost: 0.251513\n",
            "Epoch  100/1000 w1: 1.043 w2: 0.520 b: 0.448 Cost: 0.251539\n",
            "Epoch  200/1000 w1: 1.043 w2: 0.520 b: 0.448 Cost: 0.251566\n",
            "Epoch  300/1000 w1: 1.043 w2: 0.520 b: 0.448 Cost: 0.251593\n",
            "Epoch  400/1000 w1: 1.043 w2: 0.520 b: 0.448 Cost: 0.251620\n",
            "Epoch  500/1000 w1: 1.043 w2: 0.520 b: 0.448 Cost: 0.251647\n",
            "Epoch  600/1000 w1: 1.043 w2: 0.520 b: 0.448 Cost: 0.251674\n",
            "Epoch  700/1000 w1: 1.043 w2: 0.520 b: 0.448 Cost: 0.251700\n",
            "Epoch  800/1000 w1: 1.043 w2: 0.520 b: 0.448 Cost: 0.251727\n",
            "Epoch  900/1000 w1: 1.043 w2: 0.520 b: 0.448 Cost: 0.251754\n",
            "Epoch 1000/1000 w1: 1.043 w2: 0.520 b: 0.448 Cost: 0.251781\n",
            "Epoch    0/1000 w1: 1.043 w2: 0.520 b: 0.448 Cost: 0.251781\n",
            "Epoch  100/1000 w1: 1.043 w2: 0.520 b: 0.448 Cost: 0.251808\n",
            "Epoch  200/1000 w1: 1.043 w2: 0.520 b: 0.448 Cost: 0.251835\n",
            "Epoch  300/1000 w1: 1.043 w2: 0.520 b: 0.448 Cost: 0.251862\n",
            "Epoch  400/1000 w1: 1.043 w2: 0.520 b: 0.448 Cost: 0.251888\n",
            "Epoch  500/1000 w1: 1.043 w2: 0.520 b: 0.448 Cost: 0.251915\n",
            "Epoch  600/1000 w1: 1.043 w2: 0.520 b: 0.448 Cost: 0.251942\n",
            "Epoch  700/1000 w1: 1.043 w2: 0.520 b: 0.448 Cost: 0.251969\n",
            "Epoch  800/1000 w1: 1.043 w2: 0.520 b: 0.448 Cost: 0.251996\n",
            "Epoch  900/1000 w1: 1.043 w2: 0.520 b: 0.448 Cost: 0.252022\n",
            "Epoch 1000/1000 w1: 1.043 w2: 0.520 b: 0.448 Cost: 0.252049\n",
            "Epoch    0/1000 w1: 1.043 w2: 0.520 b: 0.448 Cost: 0.252050\n",
            "Epoch  100/1000 w1: 1.043 w2: 0.520 b: 0.448 Cost: 0.252076\n",
            "Epoch  200/1000 w1: 1.043 w2: 0.520 b: 0.448 Cost: 0.252103\n",
            "Epoch  300/1000 w1: 1.043 w2: 0.520 b: 0.448 Cost: 0.252130\n",
            "Epoch  400/1000 w1: 1.043 w2: 0.520 b: 0.448 Cost: 0.252157\n",
            "Epoch  500/1000 w1: 1.043 w2: 0.520 b: 0.448 Cost: 0.252184\n",
            "Epoch  600/1000 w1: 1.043 w2: 0.520 b: 0.448 Cost: 0.252210\n",
            "Epoch  700/1000 w1: 1.043 w2: 0.520 b: 0.448 Cost: 0.252237\n",
            "Epoch  800/1000 w1: 1.043 w2: 0.520 b: 0.448 Cost: 0.252264\n",
            "Epoch  900/1000 w1: 1.043 w2: 0.520 b: 0.448 Cost: 0.252291\n",
            "Epoch 1000/1000 w1: 1.043 w2: 0.520 b: 0.448 Cost: 0.252318\n",
            "Epoch    0/1000 w1: 1.043 w2: 0.520 b: 0.448 Cost: 0.252318\n",
            "Epoch  100/1000 w1: 1.043 w2: 0.520 b: 0.448 Cost: 0.252345\n",
            "Epoch  200/1000 w1: 1.043 w2: 0.520 b: 0.448 Cost: 0.252372\n",
            "Epoch  300/1000 w1: 1.043 w2: 0.520 b: 0.448 Cost: 0.252399\n",
            "Epoch  400/1000 w1: 1.043 w2: 0.520 b: 0.448 Cost: 0.252425\n",
            "Epoch  500/1000 w1: 1.043 w2: 0.520 b: 0.448 Cost: 0.252452\n",
            "Epoch  600/1000 w1: 1.043 w2: 0.520 b: 0.448 Cost: 0.252479\n",
            "Epoch  700/1000 w1: 1.043 w2: 0.520 b: 0.448 Cost: 0.252506\n",
            "Epoch  800/1000 w1: 1.043 w2: 0.520 b: 0.448 Cost: 0.252533\n",
            "Epoch  900/1000 w1: 1.043 w2: 0.520 b: 0.448 Cost: 0.252559\n",
            "Epoch 1000/1000 w1: 1.043 w2: 0.520 b: 0.448 Cost: 0.252586\n",
            "Epoch    0/1000 w1: 1.043 w2: 0.520 b: 0.448 Cost: 0.252587\n",
            "Epoch  100/1000 w1: 1.043 w2: 0.520 b: 0.448 Cost: 0.252613\n",
            "Epoch  200/1000 w1: 1.043 w2: 0.520 b: 0.448 Cost: 0.252640\n",
            "Epoch  300/1000 w1: 1.043 w2: 0.520 b: 0.448 Cost: 0.252667\n",
            "Epoch  400/1000 w1: 1.043 w2: 0.520 b: 0.448 Cost: 0.252694\n",
            "Epoch  500/1000 w1: 1.043 w2: 0.520 b: 0.448 Cost: 0.252721\n",
            "Epoch  600/1000 w1: 1.043 w2: 0.520 b: 0.448 Cost: 0.252747\n",
            "Epoch  700/1000 w1: 1.043 w2: 0.520 b: 0.448 Cost: 0.252774\n",
            "Epoch  800/1000 w1: 1.043 w2: 0.520 b: 0.448 Cost: 0.252801\n",
            "Epoch  900/1000 w1: 1.043 w2: 0.520 b: 0.448 Cost: 0.252828\n",
            "Epoch 1000/1000 w1: 1.043 w2: 0.520 b: 0.448 Cost: 0.252855\n",
            "Epoch    0/1000 w1: 1.043 w2: 0.520 b: 0.448 Cost: 0.252855\n",
            "Epoch  100/1000 w1: 1.043 w2: 0.520 b: 0.448 Cost: 0.252882\n",
            "Epoch  200/1000 w1: 1.043 w2: 0.520 b: 0.448 Cost: 0.252909\n",
            "Epoch  300/1000 w1: 1.043 w2: 0.520 b: 0.448 Cost: 0.252935\n",
            "Epoch  400/1000 w1: 1.043 w2: 0.520 b: 0.448 Cost: 0.252962\n",
            "Epoch  500/1000 w1: 1.043 w2: 0.520 b: 0.448 Cost: 0.252989\n",
            "Epoch  600/1000 w1: 1.043 w2: 0.520 b: 0.448 Cost: 0.253016\n",
            "Epoch  700/1000 w1: 1.043 w2: 0.520 b: 0.448 Cost: 0.253043\n",
            "Epoch  800/1000 w1: 1.043 w2: 0.520 b: 0.448 Cost: 0.253070\n",
            "Epoch  900/1000 w1: 1.043 w2: 0.520 b: 0.448 Cost: 0.253096\n",
            "Epoch 1000/1000 w1: 1.043 w2: 0.520 b: 0.448 Cost: 0.253123\n",
            "Epoch    0/1000 w1: 1.043 w2: 0.520 b: 0.448 Cost: 0.253124\n",
            "Epoch  100/1000 w1: 1.043 w2: 0.520 b: 0.448 Cost: 0.253150\n",
            "Epoch  200/1000 w1: 1.043 w2: 0.520 b: 0.448 Cost: 0.253177\n",
            "Epoch  300/1000 w1: 1.043 w2: 0.520 b: 0.448 Cost: 0.253204\n",
            "Epoch  400/1000 w1: 1.043 w2: 0.520 b: 0.448 Cost: 0.253231\n",
            "Epoch  500/1000 w1: 1.043 w2: 0.520 b: 0.448 Cost: 0.253258\n",
            "Epoch  600/1000 w1: 1.043 w2: 0.520 b: 0.448 Cost: 0.253284\n",
            "Epoch  700/1000 w1: 1.043 w2: 0.520 b: 0.448 Cost: 0.253311\n",
            "Epoch  800/1000 w1: 1.043 w2: 0.520 b: 0.448 Cost: 0.253338\n",
            "Epoch  900/1000 w1: 1.043 w2: 0.520 b: 0.448 Cost: 0.253365\n",
            "Epoch 1000/1000 w1: 1.043 w2: 0.520 b: 0.448 Cost: 0.253392\n",
            "Epoch    0/1000 w1: 1.043 w2: 0.520 b: 0.448 Cost: 0.253392\n",
            "Epoch  100/1000 w1: 1.043 w2: 0.520 b: 0.448 Cost: 0.253419\n",
            "Epoch  200/1000 w1: 1.043 w2: 0.520 b: 0.448 Cost: 0.253446\n",
            "Epoch  300/1000 w1: 1.043 w2: 0.520 b: 0.448 Cost: 0.253472\n",
            "Epoch  400/1000 w1: 1.043 w2: 0.520 b: 0.448 Cost: 0.253499\n",
            "Epoch  500/1000 w1: 1.043 w2: 0.520 b: 0.448 Cost: 0.253526\n",
            "Epoch  600/1000 w1: 1.043 w2: 0.520 b: 0.448 Cost: 0.253553\n",
            "Epoch  700/1000 w1: 1.043 w2: 0.520 b: 0.448 Cost: 0.253580\n",
            "Epoch  800/1000 w1: 1.043 w2: 0.520 b: 0.448 Cost: 0.253607\n",
            "Epoch  900/1000 w1: 1.043 w2: 0.520 b: 0.448 Cost: 0.253633\n",
            "Epoch 1000/1000 w1: 1.043 w2: 0.520 b: 0.448 Cost: 0.253660\n",
            "Epoch    0/1000 w1: 1.043 w2: 0.520 b: 0.448 Cost: 0.253661\n",
            "Epoch  100/1000 w1: 1.043 w2: 0.520 b: 0.448 Cost: 0.253687\n",
            "Epoch  200/1000 w1: 1.043 w2: 0.520 b: 0.448 Cost: 0.253714\n",
            "Epoch  300/1000 w1: 1.043 w2: 0.520 b: 0.448 Cost: 0.253741\n",
            "Epoch  400/1000 w1: 1.043 w2: 0.520 b: 0.448 Cost: 0.253768\n",
            "Epoch  500/1000 w1: 1.043 w2: 0.520 b: 0.448 Cost: 0.253795\n",
            "Epoch  600/1000 w1: 1.043 w2: 0.520 b: 0.448 Cost: 0.253821\n",
            "Epoch  700/1000 w1: 1.043 w2: 0.520 b: 0.448 Cost: 0.253848\n",
            "Epoch  800/1000 w1: 1.043 w2: 0.520 b: 0.448 Cost: 0.253875\n",
            "Epoch  900/1000 w1: 1.043 w2: 0.520 b: 0.448 Cost: 0.253902\n",
            "Epoch 1000/1000 w1: 1.043 w2: 0.520 b: 0.448 Cost: 0.253929\n",
            "Epoch    0/1000 w1: 1.043 w2: 0.520 b: 0.448 Cost: 0.253929\n",
            "Epoch  100/1000 w1: 1.043 w2: 0.520 b: 0.448 Cost: 0.253956\n",
            "Epoch  200/1000 w1: 1.043 w2: 0.520 b: 0.448 Cost: 0.253983\n",
            "Epoch  300/1000 w1: 1.043 w2: 0.520 b: 0.448 Cost: 0.254009\n",
            "Epoch  400/1000 w1: 1.043 w2: 0.520 b: 0.448 Cost: 0.254036\n",
            "Epoch  500/1000 w1: 1.043 w2: 0.520 b: 0.448 Cost: 0.254063\n",
            "Epoch  600/1000 w1: 1.043 w2: 0.520 b: 0.448 Cost: 0.254090\n",
            "Epoch  700/1000 w1: 1.043 w2: 0.520 b: 0.448 Cost: 0.254117\n",
            "Epoch  800/1000 w1: 1.043 w2: 0.520 b: 0.448 Cost: 0.254144\n",
            "Epoch  900/1000 w1: 1.043 w2: 0.520 b: 0.448 Cost: 0.254170\n",
            "Epoch 1000/1000 w1: 1.043 w2: 0.520 b: 0.448 Cost: 0.254197\n",
            "Epoch    0/1000 w1: 1.043 w2: 0.520 b: 0.448 Cost: 0.254197\n",
            "Epoch  100/1000 w1: 1.043 w2: 0.520 b: 0.448 Cost: 0.254224\n",
            "Epoch  200/1000 w1: 1.043 w2: 0.520 b: 0.448 Cost: 0.254251\n",
            "Epoch  300/1000 w1: 1.043 w2: 0.520 b: 0.448 Cost: 0.254278\n",
            "Epoch  400/1000 w1: 1.043 w2: 0.520 b: 0.448 Cost: 0.254305\n",
            "Epoch  500/1000 w1: 1.043 w2: 0.520 b: 0.448 Cost: 0.254332\n",
            "Epoch  600/1000 w1: 1.043 w2: 0.520 b: 0.448 Cost: 0.254358\n",
            "Epoch  700/1000 w1: 1.043 w2: 0.520 b: 0.448 Cost: 0.254385\n",
            "Epoch  800/1000 w1: 1.043 w2: 0.520 b: 0.448 Cost: 0.254412\n",
            "Epoch  900/1000 w1: 1.043 w2: 0.520 b: 0.448 Cost: 0.254439\n",
            "Epoch 1000/1000 w1: 1.043 w2: 0.520 b: 0.448 Cost: 0.254466\n",
            "Epoch    0/1000 w1: 1.043 w2: 0.520 b: 0.448 Cost: 0.254466\n",
            "Epoch  100/1000 w1: 1.043 w2: 0.520 b: 0.448 Cost: 0.254493\n",
            "Epoch  200/1000 w1: 1.043 w2: 0.520 b: 0.448 Cost: 0.254520\n",
            "Epoch  300/1000 w1: 1.043 w2: 0.520 b: 0.448 Cost: 0.254546\n",
            "Epoch  400/1000 w1: 1.043 w2: 0.520 b: 0.448 Cost: 0.254573\n",
            "Epoch  500/1000 w1: 1.043 w2: 0.520 b: 0.448 Cost: 0.254600\n",
            "Epoch  600/1000 w1: 1.043 w2: 0.520 b: 0.448 Cost: 0.254627\n",
            "Epoch  700/1000 w1: 1.043 w2: 0.520 b: 0.448 Cost: 0.254654\n",
            "Epoch  800/1000 w1: 1.043 w2: 0.520 b: 0.448 Cost: 0.254681\n",
            "Epoch  900/1000 w1: 1.043 w2: 0.520 b: 0.448 Cost: 0.254707\n",
            "Epoch 1000/1000 w1: 1.043 w2: 0.520 b: 0.448 Cost: 0.254734\n",
            "Epoch    0/1000 w1: 1.043 w2: 0.520 b: 0.448 Cost: 0.254734\n",
            "Epoch  100/1000 w1: 1.043 w2: 0.520 b: 0.448 Cost: 0.254761\n",
            "Epoch  200/1000 w1: 1.043 w2: 0.520 b: 0.448 Cost: 0.254788\n",
            "Epoch  300/1000 w1: 1.043 w2: 0.520 b: 0.448 Cost: 0.254815\n",
            "Epoch  400/1000 w1: 1.043 w2: 0.520 b: 0.448 Cost: 0.254842\n",
            "Epoch  500/1000 w1: 1.043 w2: 0.520 b: 0.448 Cost: 0.254869\n",
            "Epoch  600/1000 w1: 1.043 w2: 0.520 b: 0.448 Cost: 0.254895\n",
            "Epoch  700/1000 w1: 1.043 w2: 0.520 b: 0.448 Cost: 0.254922\n",
            "Epoch  800/1000 w1: 1.043 w2: 0.520 b: 0.448 Cost: 0.254949\n",
            "Epoch  900/1000 w1: 1.043 w2: 0.520 b: 0.448 Cost: 0.254976\n",
            "Epoch 1000/1000 w1: 1.043 w2: 0.520 b: 0.448 Cost: 0.255003\n",
            "Epoch    0/1000 w1: 1.043 w2: 0.520 b: 0.448 Cost: 0.255003\n",
            "Epoch  100/1000 w1: 1.043 w2: 0.520 b: 0.448 Cost: 0.255030\n",
            "Epoch  200/1000 w1: 1.043 w2: 0.520 b: 0.448 Cost: 0.255057\n",
            "Epoch  300/1000 w1: 1.043 w2: 0.520 b: 0.448 Cost: 0.255083\n",
            "Epoch  400/1000 w1: 1.043 w2: 0.520 b: 0.448 Cost: 0.255110\n",
            "Epoch  500/1000 w1: 1.043 w2: 0.520 b: 0.448 Cost: 0.255137\n",
            "Epoch  600/1000 w1: 1.043 w2: 0.520 b: 0.448 Cost: 0.255164\n",
            "Epoch  700/1000 w1: 1.043 w2: 0.520 b: 0.448 Cost: 0.255191\n",
            "Epoch  800/1000 w1: 1.043 w2: 0.520 b: 0.448 Cost: 0.255218\n",
            "Epoch  900/1000 w1: 1.043 w2: 0.520 b: 0.448 Cost: 0.255244\n",
            "Epoch 1000/1000 w1: 1.043 w2: 0.520 b: 0.448 Cost: 0.255271\n",
            "Epoch    0/1000 w1: 1.043 w2: 0.520 b: 0.448 Cost: 0.255271\n",
            "Epoch  100/1000 w1: 1.043 w2: 0.520 b: 0.448 Cost: 0.255298\n",
            "Epoch  200/1000 w1: 1.043 w2: 0.520 b: 0.448 Cost: 0.255325\n",
            "Epoch  300/1000 w1: 1.043 w2: 0.520 b: 0.448 Cost: 0.255352\n",
            "Epoch  400/1000 w1: 1.043 w2: 0.520 b: 0.448 Cost: 0.255379\n",
            "Epoch  500/1000 w1: 1.043 w2: 0.520 b: 0.448 Cost: 0.255406\n",
            "Epoch  600/1000 w1: 1.043 w2: 0.520 b: 0.448 Cost: 0.255432\n",
            "Epoch  700/1000 w1: 1.043 w2: 0.520 b: 0.448 Cost: 0.255459\n",
            "Epoch  800/1000 w1: 1.043 w2: 0.520 b: 0.448 Cost: 0.255486\n",
            "Epoch  900/1000 w1: 1.043 w2: 0.520 b: 0.448 Cost: 0.255513\n",
            "Epoch 1000/1000 w1: 1.043 w2: 0.520 b: 0.448 Cost: 0.255540\n",
            "Epoch    0/1000 w1: 1.043 w2: 0.520 b: 0.448 Cost: 0.255540\n",
            "Epoch  100/1000 w1: 1.043 w2: 0.520 b: 0.448 Cost: 0.255567\n",
            "Epoch  200/1000 w1: 1.043 w2: 0.520 b: 0.448 Cost: 0.255594\n",
            "Epoch  300/1000 w1: 1.043 w2: 0.520 b: 0.448 Cost: 0.255620\n",
            "Epoch  400/1000 w1: 1.043 w2: 0.520 b: 0.448 Cost: 0.255647\n",
            "Epoch  500/1000 w1: 1.043 w2: 0.520 b: 0.448 Cost: 0.255674\n",
            "Epoch  600/1000 w1: 1.043 w2: 0.520 b: 0.448 Cost: 0.255701\n",
            "Epoch  700/1000 w1: 1.043 w2: 0.520 b: 0.448 Cost: 0.255728\n",
            "Epoch  800/1000 w1: 1.043 w2: 0.520 b: 0.448 Cost: 0.255755\n",
            "Epoch  900/1000 w1: 1.043 w2: 0.520 b: 0.448 Cost: 0.255781\n",
            "Epoch 1000/1000 w1: 1.043 w2: 0.520 b: 0.448 Cost: 0.255808\n",
            "Epoch    0/1000 w1: 1.043 w2: 0.520 b: 0.448 Cost: 0.255808\n",
            "Epoch  100/1000 w1: 1.043 w2: 0.520 b: 0.448 Cost: 0.255835\n",
            "Epoch  200/1000 w1: 1.043 w2: 0.520 b: 0.448 Cost: 0.255862\n",
            "Epoch  300/1000 w1: 1.043 w2: 0.520 b: 0.448 Cost: 0.255889\n",
            "Epoch  400/1000 w1: 1.043 w2: 0.520 b: 0.448 Cost: 0.255916\n",
            "Epoch  500/1000 w1: 1.043 w2: 0.520 b: 0.448 Cost: 0.255943\n",
            "Epoch  600/1000 w1: 1.043 w2: 0.520 b: 0.448 Cost: 0.255969\n",
            "Epoch  700/1000 w1: 1.043 w2: 0.520 b: 0.448 Cost: 0.255996\n",
            "Epoch  800/1000 w1: 1.043 w2: 0.520 b: 0.448 Cost: 0.256023\n",
            "Epoch  900/1000 w1: 1.043 w2: 0.520 b: 0.448 Cost: 0.256050\n",
            "Epoch 1000/1000 w1: 1.043 w2: 0.520 b: 0.448 Cost: 0.256077\n",
            "Epoch    0/1000 w1: 1.043 w2: 0.520 b: 0.448 Cost: 0.256077\n",
            "Epoch  100/1000 w1: 1.043 w2: 0.520 b: 0.448 Cost: 0.256104\n",
            "Epoch  200/1000 w1: 1.043 w2: 0.520 b: 0.448 Cost: 0.256131\n",
            "Epoch  300/1000 w1: 1.043 w2: 0.520 b: 0.448 Cost: 0.256157\n",
            "Epoch  400/1000 w1: 1.043 w2: 0.520 b: 0.448 Cost: 0.256184\n",
            "Epoch  500/1000 w1: 1.043 w2: 0.520 b: 0.448 Cost: 0.256211\n",
            "Epoch  600/1000 w1: 1.043 w2: 0.520 b: 0.448 Cost: 0.256238\n",
            "Epoch  700/1000 w1: 1.043 w2: 0.520 b: 0.448 Cost: 0.256265\n",
            "Epoch  800/1000 w1: 1.043 w2: 0.520 b: 0.448 Cost: 0.256291\n",
            "Epoch  900/1000 w1: 1.043 w2: 0.520 b: 0.448 Cost: 0.256318\n",
            "Epoch 1000/1000 w1: 1.043 w2: 0.520 b: 0.448 Cost: 0.256345\n",
            "Epoch    0/1000 w1: 1.043 w2: 0.520 b: 0.448 Cost: 0.256345\n",
            "Epoch  100/1000 w1: 1.043 w2: 0.520 b: 0.448 Cost: 0.256372\n",
            "Epoch  200/1000 w1: 1.043 w2: 0.520 b: 0.448 Cost: 0.256399\n",
            "Epoch  300/1000 w1: 1.043 w2: 0.520 b: 0.448 Cost: 0.256426\n",
            "Epoch  400/1000 w1: 1.043 w2: 0.520 b: 0.448 Cost: 0.256453\n",
            "Epoch  500/1000 w1: 1.043 w2: 0.520 b: 0.448 Cost: 0.256480\n",
            "Epoch  600/1000 w1: 1.043 w2: 0.520 b: 0.448 Cost: 0.256506\n",
            "Epoch  700/1000 w1: 1.043 w2: 0.520 b: 0.448 Cost: 0.256533\n",
            "Epoch  800/1000 w1: 1.043 w2: 0.520 b: 0.448 Cost: 0.256560\n",
            "Epoch  900/1000 w1: 1.043 w2: 0.520 b: 0.448 Cost: 0.256587\n",
            "Epoch 1000/1000 w1: 1.043 w2: 0.520 b: 0.448 Cost: 0.256614\n",
            "Epoch    0/1000 w1: 1.043 w2: 0.520 b: 0.448 Cost: 0.256614\n",
            "Epoch  100/1000 w1: 1.043 w2: 0.520 b: 0.448 Cost: 0.256641\n",
            "Epoch  200/1000 w1: 1.043 w2: 0.520 b: 0.448 Cost: 0.256668\n",
            "Epoch  300/1000 w1: 1.043 w2: 0.520 b: 0.448 Cost: 0.256694\n",
            "Epoch  400/1000 w1: 1.043 w2: 0.520 b: 0.448 Cost: 0.256721\n",
            "Epoch  500/1000 w1: 1.043 w2: 0.520 b: 0.448 Cost: 0.256748\n",
            "Epoch  600/1000 w1: 1.043 w2: 0.520 b: 0.448 Cost: 0.256775\n",
            "Epoch  700/1000 w1: 1.043 w2: 0.520 b: 0.448 Cost: 0.256802\n",
            "Epoch  800/1000 w1: 1.043 w2: 0.520 b: 0.448 Cost: 0.256828\n",
            "Epoch  900/1000 w1: 1.043 w2: 0.520 b: 0.448 Cost: 0.256855\n",
            "Epoch 1000/1000 w1: 1.043 w2: 0.520 b: 0.448 Cost: 0.256882\n",
            "Epoch    0/1000 w1: 1.043 w2: 0.520 b: 0.448 Cost: 0.256882\n",
            "Epoch  100/1000 w1: 1.043 w2: 0.520 b: 0.448 Cost: 0.256909\n",
            "Epoch  200/1000 w1: 1.043 w2: 0.520 b: 0.448 Cost: 0.256936\n",
            "Epoch  300/1000 w1: 1.043 w2: 0.520 b: 0.448 Cost: 0.256963\n",
            "Epoch  400/1000 w1: 1.043 w2: 0.520 b: 0.448 Cost: 0.256990\n",
            "Epoch  500/1000 w1: 1.043 w2: 0.520 b: 0.448 Cost: 0.257016\n",
            "Epoch  600/1000 w1: 1.043 w2: 0.520 b: 0.448 Cost: 0.257043\n",
            "Epoch  700/1000 w1: 1.043 w2: 0.520 b: 0.448 Cost: 0.257070\n",
            "Epoch  800/1000 w1: 1.043 w2: 0.520 b: 0.448 Cost: 0.257097\n",
            "Epoch  900/1000 w1: 1.043 w2: 0.520 b: 0.448 Cost: 0.257124\n",
            "Epoch 1000/1000 w1: 1.043 w2: 0.520 b: 0.448 Cost: 0.257151\n",
            "Epoch    0/1000 w1: 1.043 w2: 0.520 b: 0.448 Cost: 0.257151\n",
            "Epoch  100/1000 w1: 1.043 w2: 0.520 b: 0.448 Cost: 0.257178\n",
            "Epoch  200/1000 w1: 1.043 w2: 0.520 b: 0.448 Cost: 0.257205\n",
            "Epoch  300/1000 w1: 1.043 w2: 0.520 b: 0.448 Cost: 0.257231\n",
            "Epoch  400/1000 w1: 1.043 w2: 0.520 b: 0.448 Cost: 0.257258\n",
            "Epoch  500/1000 w1: 1.043 w2: 0.520 b: 0.448 Cost: 0.257285\n",
            "Epoch  600/1000 w1: 1.043 w2: 0.520 b: 0.448 Cost: 0.257312\n",
            "Epoch  700/1000 w1: 1.043 w2: 0.520 b: 0.448 Cost: 0.257339\n",
            "Epoch  800/1000 w1: 1.043 w2: 0.520 b: 0.448 Cost: 0.257365\n",
            "Epoch  900/1000 w1: 1.043 w2: 0.520 b: 0.448 Cost: 0.257392\n",
            "Epoch 1000/1000 w1: 1.043 w2: 0.520 b: 0.448 Cost: 0.257419\n",
            "Epoch    0/1000 w1: 1.043 w2: 0.520 b: 0.448 Cost: 0.257419\n",
            "Epoch  100/1000 w1: 1.043 w2: 0.520 b: 0.448 Cost: 0.257446\n",
            "Epoch  200/1000 w1: 1.043 w2: 0.520 b: 0.448 Cost: 0.257473\n",
            "Epoch  300/1000 w1: 1.043 w2: 0.520 b: 0.448 Cost: 0.257500\n",
            "Epoch  400/1000 w1: 1.043 w2: 0.520 b: 0.448 Cost: 0.257527\n",
            "Epoch  500/1000 w1: 1.043 w2: 0.520 b: 0.448 Cost: 0.257553\n",
            "Epoch  600/1000 w1: 1.043 w2: 0.520 b: 0.448 Cost: 0.257580\n",
            "Epoch  700/1000 w1: 1.043 w2: 0.520 b: 0.448 Cost: 0.257607\n",
            "Epoch  800/1000 w1: 1.043 w2: 0.520 b: 0.448 Cost: 0.257634\n",
            "Epoch  900/1000 w1: 1.043 w2: 0.520 b: 0.448 Cost: 0.257661\n",
            "Epoch 1000/1000 w1: 1.043 w2: 0.520 b: 0.448 Cost: 0.257688\n",
            "Epoch    0/1000 w1: 1.043 w2: 0.520 b: 0.448 Cost: 0.257688\n",
            "Epoch  100/1000 w1: 1.043 w2: 0.520 b: 0.448 Cost: 0.257715\n",
            "Epoch  200/1000 w1: 1.043 w2: 0.520 b: 0.448 Cost: 0.257741\n",
            "Epoch  300/1000 w1: 1.043 w2: 0.520 b: 0.448 Cost: 0.257768\n",
            "Epoch  400/1000 w1: 1.043 w2: 0.520 b: 0.448 Cost: 0.257795\n",
            "Epoch  500/1000 w1: 1.043 w2: 0.520 b: 0.448 Cost: 0.257822\n",
            "Epoch  600/1000 w1: 1.043 w2: 0.520 b: 0.448 Cost: 0.257849\n",
            "Epoch  700/1000 w1: 1.043 w2: 0.520 b: 0.448 Cost: 0.257876\n",
            "Epoch  800/1000 w1: 1.043 w2: 0.520 b: 0.448 Cost: 0.257902\n",
            "Epoch  900/1000 w1: 1.043 w2: 0.520 b: 0.448 Cost: 0.257929\n",
            "Epoch 1000/1000 w1: 1.043 w2: 0.520 b: 0.448 Cost: 0.257956\n",
            "Epoch    0/1000 w1: 1.043 w2: 0.520 b: 0.448 Cost: 0.257956\n",
            "Epoch  100/1000 w1: 1.043 w2: 0.520 b: 0.448 Cost: 0.257983\n",
            "Epoch  200/1000 w1: 1.043 w2: 0.520 b: 0.448 Cost: 0.258010\n",
            "Epoch  300/1000 w1: 1.043 w2: 0.520 b: 0.448 Cost: 0.258037\n",
            "Epoch  400/1000 w1: 1.043 w2: 0.520 b: 0.448 Cost: 0.258064\n",
            "Epoch  500/1000 w1: 1.043 w2: 0.520 b: 0.448 Cost: 0.258090\n",
            "Epoch  600/1000 w1: 1.043 w2: 0.520 b: 0.448 Cost: 0.258117\n",
            "Epoch  700/1000 w1: 1.042 w2: 0.520 b: 0.448 Cost: 0.258144\n",
            "Epoch  800/1000 w1: 1.042 w2: 0.520 b: 0.448 Cost: 0.258171\n",
            "Epoch  900/1000 w1: 1.042 w2: 0.520 b: 0.448 Cost: 0.258198\n",
            "Epoch 1000/1000 w1: 1.042 w2: 0.520 b: 0.448 Cost: 0.258225\n",
            "Epoch    0/1000 w1: 1.042 w2: 0.520 b: 0.448 Cost: 0.258225\n",
            "Epoch  100/1000 w1: 1.042 w2: 0.520 b: 0.448 Cost: 0.258252\n",
            "Epoch  200/1000 w1: 1.042 w2: 0.520 b: 0.448 Cost: 0.258278\n",
            "Epoch  300/1000 w1: 1.042 w2: 0.520 b: 0.448 Cost: 0.258305\n",
            "Epoch  400/1000 w1: 1.042 w2: 0.520 b: 0.448 Cost: 0.258332\n",
            "Epoch  500/1000 w1: 1.042 w2: 0.520 b: 0.448 Cost: 0.258359\n",
            "Epoch  600/1000 w1: 1.042 w2: 0.520 b: 0.448 Cost: 0.258386\n",
            "Epoch  700/1000 w1: 1.042 w2: 0.520 b: 0.448 Cost: 0.258413\n",
            "Epoch  800/1000 w1: 1.042 w2: 0.520 b: 0.448 Cost: 0.258439\n",
            "Epoch  900/1000 w1: 1.042 w2: 0.520 b: 0.448 Cost: 0.258466\n",
            "Epoch 1000/1000 w1: 1.042 w2: 0.520 b: 0.448 Cost: 0.258493\n",
            "Epoch    0/1000 w1: 1.042 w2: 0.520 b: 0.448 Cost: 0.258493\n",
            "Epoch  100/1000 w1: 1.042 w2: 0.520 b: 0.448 Cost: 0.258520\n",
            "Epoch  200/1000 w1: 1.042 w2: 0.520 b: 0.448 Cost: 0.258547\n",
            "Epoch  300/1000 w1: 1.042 w2: 0.520 b: 0.448 Cost: 0.258574\n",
            "Epoch  400/1000 w1: 1.042 w2: 0.520 b: 0.448 Cost: 0.258601\n",
            "Epoch  500/1000 w1: 1.042 w2: 0.520 b: 0.448 Cost: 0.258627\n",
            "Epoch  600/1000 w1: 1.042 w2: 0.520 b: 0.448 Cost: 0.258654\n",
            "Epoch  700/1000 w1: 1.042 w2: 0.520 b: 0.448 Cost: 0.258681\n",
            "Epoch  800/1000 w1: 1.042 w2: 0.520 b: 0.448 Cost: 0.258708\n",
            "Epoch  900/1000 w1: 1.042 w2: 0.520 b: 0.448 Cost: 0.258735\n",
            "Epoch 1000/1000 w1: 1.042 w2: 0.520 b: 0.448 Cost: 0.258762\n",
            "Epoch    0/1000 w1: 1.042 w2: 0.520 b: 0.448 Cost: 0.258762\n",
            "Epoch  100/1000 w1: 1.042 w2: 0.519 b: 0.448 Cost: 0.258789\n",
            "Epoch  200/1000 w1: 1.042 w2: 0.519 b: 0.448 Cost: 0.258815\n",
            "Epoch  300/1000 w1: 1.042 w2: 0.519 b: 0.448 Cost: 0.258842\n",
            "Epoch  400/1000 w1: 1.042 w2: 0.519 b: 0.448 Cost: 0.258869\n",
            "Epoch  500/1000 w1: 1.042 w2: 0.519 b: 0.448 Cost: 0.258896\n",
            "Epoch  600/1000 w1: 1.042 w2: 0.519 b: 0.448 Cost: 0.258923\n",
            "Epoch  700/1000 w1: 1.042 w2: 0.519 b: 0.448 Cost: 0.258950\n",
            "Epoch  800/1000 w1: 1.042 w2: 0.519 b: 0.448 Cost: 0.258976\n",
            "Epoch  900/1000 w1: 1.042 w2: 0.519 b: 0.448 Cost: 0.259003\n",
            "Epoch 1000/1000 w1: 1.042 w2: 0.519 b: 0.448 Cost: 0.259030\n",
            "Epoch    0/1000 w1: 1.042 w2: 0.519 b: 0.448 Cost: 0.259030\n",
            "Epoch  100/1000 w1: 1.042 w2: 0.519 b: 0.448 Cost: 0.259057\n",
            "Epoch  200/1000 w1: 1.042 w2: 0.519 b: 0.448 Cost: 0.259084\n",
            "Epoch  300/1000 w1: 1.042 w2: 0.519 b: 0.448 Cost: 0.259111\n",
            "Epoch  400/1000 w1: 1.042 w2: 0.519 b: 0.448 Cost: 0.259138\n",
            "Epoch  500/1000 w1: 1.042 w2: 0.519 b: 0.448 Cost: 0.259164\n",
            "Epoch  600/1000 w1: 1.042 w2: 0.519 b: 0.448 Cost: 0.259191\n",
            "Epoch  700/1000 w1: 1.042 w2: 0.519 b: 0.448 Cost: 0.259218\n",
            "Epoch  800/1000 w1: 1.042 w2: 0.519 b: 0.448 Cost: 0.259245\n",
            "Epoch  900/1000 w1: 1.042 w2: 0.519 b: 0.448 Cost: 0.259272\n",
            "Epoch 1000/1000 w1: 1.042 w2: 0.519 b: 0.448 Cost: 0.259299\n",
            "Epoch    0/1000 w1: 1.042 w2: 0.519 b: 0.448 Cost: 0.259299\n",
            "Epoch  100/1000 w1: 1.042 w2: 0.519 b: 0.448 Cost: 0.259326\n",
            "Epoch  200/1000 w1: 1.042 w2: 0.519 b: 0.448 Cost: 0.259352\n",
            "Epoch  300/1000 w1: 1.042 w2: 0.519 b: 0.448 Cost: 0.259379\n",
            "Epoch  400/1000 w1: 1.042 w2: 0.519 b: 0.448 Cost: 0.259406\n",
            "Epoch  500/1000 w1: 1.042 w2: 0.519 b: 0.448 Cost: 0.259433\n",
            "Epoch  600/1000 w1: 1.042 w2: 0.519 b: 0.448 Cost: 0.259460\n",
            "Epoch  700/1000 w1: 1.042 w2: 0.519 b: 0.448 Cost: 0.259487\n",
            "Epoch  800/1000 w1: 1.042 w2: 0.519 b: 0.448 Cost: 0.259513\n",
            "Epoch  900/1000 w1: 1.042 w2: 0.519 b: 0.448 Cost: 0.259540\n",
            "Epoch 1000/1000 w1: 1.042 w2: 0.519 b: 0.448 Cost: 0.259567\n",
            "Epoch    0/1000 w1: 1.042 w2: 0.519 b: 0.448 Cost: 0.259567\n",
            "Epoch  100/1000 w1: 1.042 w2: 0.519 b: 0.448 Cost: 0.259594\n",
            "Epoch  200/1000 w1: 1.042 w2: 0.519 b: 0.448 Cost: 0.259621\n",
            "Epoch  300/1000 w1: 1.042 w2: 0.519 b: 0.448 Cost: 0.259648\n",
            "Epoch  400/1000 w1: 1.042 w2: 0.519 b: 0.448 Cost: 0.259675\n",
            "Epoch  500/1000 w1: 1.042 w2: 0.519 b: 0.448 Cost: 0.259701\n",
            "Epoch  600/1000 w1: 1.042 w2: 0.519 b: 0.448 Cost: 0.259728\n",
            "Epoch  700/1000 w1: 1.042 w2: 0.519 b: 0.448 Cost: 0.259755\n",
            "Epoch  800/1000 w1: 1.042 w2: 0.519 b: 0.448 Cost: 0.259782\n",
            "Epoch  900/1000 w1: 1.042 w2: 0.519 b: 0.448 Cost: 0.259809\n",
            "Epoch 1000/1000 w1: 1.042 w2: 0.519 b: 0.448 Cost: 0.259835\n",
            "Epoch    0/1000 w1: 1.042 w2: 0.519 b: 0.448 Cost: 0.259836\n",
            "Epoch  100/1000 w1: 1.042 w2: 0.519 b: 0.448 Cost: 0.259863\n",
            "Epoch  200/1000 w1: 1.042 w2: 0.519 b: 0.448 Cost: 0.259889\n",
            "Epoch  300/1000 w1: 1.042 w2: 0.519 b: 0.448 Cost: 0.259916\n",
            "Epoch  400/1000 w1: 1.042 w2: 0.519 b: 0.448 Cost: 0.259943\n",
            "Epoch  500/1000 w1: 1.042 w2: 0.519 b: 0.448 Cost: 0.259970\n",
            "Epoch  600/1000 w1: 1.042 w2: 0.519 b: 0.448 Cost: 0.259997\n",
            "Epoch  700/1000 w1: 1.042 w2: 0.519 b: 0.448 Cost: 0.260024\n",
            "Epoch  800/1000 w1: 1.042 w2: 0.519 b: 0.448 Cost: 0.260050\n",
            "Epoch  900/1000 w1: 1.042 w2: 0.519 b: 0.448 Cost: 0.260077\n",
            "Epoch 1000/1000 w1: 1.042 w2: 0.519 b: 0.448 Cost: 0.260104\n",
            "Epoch    0/1000 w1: 1.042 w2: 0.519 b: 0.448 Cost: 0.260104\n",
            "Epoch  100/1000 w1: 1.042 w2: 0.519 b: 0.448 Cost: 0.260131\n",
            "Epoch  200/1000 w1: 1.042 w2: 0.519 b: 0.448 Cost: 0.260158\n",
            "Epoch  300/1000 w1: 1.042 w2: 0.519 b: 0.448 Cost: 0.260185\n",
            "Epoch  400/1000 w1: 1.042 w2: 0.519 b: 0.448 Cost: 0.260212\n",
            "Epoch  500/1000 w1: 1.042 w2: 0.519 b: 0.448 Cost: 0.260238\n",
            "Epoch  600/1000 w1: 1.042 w2: 0.519 b: 0.448 Cost: 0.260265\n",
            "Epoch  700/1000 w1: 1.042 w2: 0.519 b: 0.448 Cost: 0.260292\n",
            "Epoch  800/1000 w1: 1.042 w2: 0.519 b: 0.448 Cost: 0.260319\n",
            "Epoch  900/1000 w1: 1.042 w2: 0.519 b: 0.448 Cost: 0.260346\n",
            "Epoch 1000/1000 w1: 1.042 w2: 0.519 b: 0.448 Cost: 0.260372\n",
            "Epoch    0/1000 w1: 1.042 w2: 0.519 b: 0.448 Cost: 0.260373\n",
            "Epoch  100/1000 w1: 1.042 w2: 0.519 b: 0.448 Cost: 0.260400\n",
            "Epoch  200/1000 w1: 1.042 w2: 0.519 b: 0.448 Cost: 0.260426\n",
            "Epoch  300/1000 w1: 1.042 w2: 0.519 b: 0.448 Cost: 0.260453\n",
            "Epoch  400/1000 w1: 1.042 w2: 0.519 b: 0.448 Cost: 0.260480\n",
            "Epoch  500/1000 w1: 1.042 w2: 0.519 b: 0.448 Cost: 0.260507\n",
            "Epoch  600/1000 w1: 1.042 w2: 0.519 b: 0.448 Cost: 0.260534\n",
            "Epoch  700/1000 w1: 1.042 w2: 0.519 b: 0.448 Cost: 0.260560\n",
            "Epoch  800/1000 w1: 1.042 w2: 0.519 b: 0.448 Cost: 0.260587\n",
            "Epoch  900/1000 w1: 1.042 w2: 0.519 b: 0.448 Cost: 0.260614\n",
            "Epoch 1000/1000 w1: 1.042 w2: 0.519 b: 0.448 Cost: 0.260641\n",
            "Epoch    0/1000 w1: 1.042 w2: 0.519 b: 0.448 Cost: 0.260641\n",
            "Epoch  100/1000 w1: 1.042 w2: 0.519 b: 0.448 Cost: 0.260668\n",
            "Epoch  200/1000 w1: 1.042 w2: 0.519 b: 0.448 Cost: 0.260695\n",
            "Epoch  300/1000 w1: 1.042 w2: 0.519 b: 0.448 Cost: 0.260722\n",
            "Epoch  400/1000 w1: 1.042 w2: 0.519 b: 0.448 Cost: 0.260749\n",
            "Epoch  500/1000 w1: 1.042 w2: 0.519 b: 0.448 Cost: 0.260775\n",
            "Epoch  600/1000 w1: 1.042 w2: 0.519 b: 0.448 Cost: 0.260802\n",
            "Epoch  700/1000 w1: 1.042 w2: 0.519 b: 0.448 Cost: 0.260829\n",
            "Epoch  800/1000 w1: 1.042 w2: 0.519 b: 0.448 Cost: 0.260856\n",
            "Epoch  900/1000 w1: 1.042 w2: 0.519 b: 0.448 Cost: 0.260883\n",
            "Epoch 1000/1000 w1: 1.042 w2: 0.519 b: 0.448 Cost: 0.260909\n",
            "Epoch    0/1000 w1: 1.042 w2: 0.519 b: 0.448 Cost: 0.260910\n",
            "Epoch  100/1000 w1: 1.042 w2: 0.519 b: 0.448 Cost: 0.260937\n",
            "Epoch  200/1000 w1: 1.042 w2: 0.519 b: 0.448 Cost: 0.260963\n",
            "Epoch  300/1000 w1: 1.042 w2: 0.519 b: 0.448 Cost: 0.260990\n",
            "Epoch  400/1000 w1: 1.042 w2: 0.519 b: 0.448 Cost: 0.261017\n",
            "Epoch  500/1000 w1: 1.042 w2: 0.519 b: 0.448 Cost: 0.261044\n",
            "Epoch  600/1000 w1: 1.042 w2: 0.519 b: 0.448 Cost: 0.261071\n",
            "Epoch  700/1000 w1: 1.042 w2: 0.519 b: 0.448 Cost: 0.261097\n",
            "Epoch  800/1000 w1: 1.042 w2: 0.519 b: 0.448 Cost: 0.261124\n",
            "Epoch  900/1000 w1: 1.042 w2: 0.519 b: 0.448 Cost: 0.261151\n",
            "Epoch 1000/1000 w1: 1.042 w2: 0.519 b: 0.449 Cost: 0.261178\n",
            "Epoch    0/1000 w1: 1.042 w2: 0.519 b: 0.449 Cost: 0.261178\n",
            "Epoch  100/1000 w1: 1.042 w2: 0.519 b: 0.449 Cost: 0.261205\n",
            "Epoch  200/1000 w1: 1.042 w2: 0.519 b: 0.449 Cost: 0.261232\n",
            "Epoch  300/1000 w1: 1.042 w2: 0.519 b: 0.449 Cost: 0.261259\n",
            "Epoch  400/1000 w1: 1.042 w2: 0.519 b: 0.449 Cost: 0.261285\n",
            "Epoch  500/1000 w1: 1.042 w2: 0.519 b: 0.449 Cost: 0.261312\n",
            "Epoch  600/1000 w1: 1.042 w2: 0.519 b: 0.449 Cost: 0.261339\n",
            "Epoch  700/1000 w1: 1.042 w2: 0.519 b: 0.449 Cost: 0.261366\n",
            "Epoch  800/1000 w1: 1.042 w2: 0.519 b: 0.449 Cost: 0.261393\n",
            "Epoch  900/1000 w1: 1.042 w2: 0.519 b: 0.449 Cost: 0.261420\n",
            "Epoch 1000/1000 w1: 1.042 w2: 0.519 b: 0.449 Cost: 0.261446\n",
            "Epoch    0/1000 w1: 1.042 w2: 0.519 b: 0.449 Cost: 0.261447\n",
            "Epoch  100/1000 w1: 1.042 w2: 0.519 b: 0.449 Cost: 0.261474\n",
            "Epoch  200/1000 w1: 1.042 w2: 0.519 b: 0.449 Cost: 0.261500\n",
            "Epoch  300/1000 w1: 1.042 w2: 0.519 b: 0.449 Cost: 0.261527\n",
            "Epoch  400/1000 w1: 1.042 w2: 0.519 b: 0.449 Cost: 0.261554\n",
            "Epoch  500/1000 w1: 1.042 w2: 0.519 b: 0.449 Cost: 0.261581\n",
            "Epoch  600/1000 w1: 1.042 w2: 0.519 b: 0.449 Cost: 0.261608\n",
            "Epoch  700/1000 w1: 1.042 w2: 0.519 b: 0.449 Cost: 0.261634\n",
            "Epoch  800/1000 w1: 1.042 w2: 0.519 b: 0.449 Cost: 0.261661\n",
            "Epoch  900/1000 w1: 1.042 w2: 0.519 b: 0.449 Cost: 0.261688\n",
            "Epoch 1000/1000 w1: 1.042 w2: 0.519 b: 0.449 Cost: 0.261715\n",
            "Epoch    0/1000 w1: 1.042 w2: 0.519 b: 0.449 Cost: 0.261715\n",
            "Epoch  100/1000 w1: 1.042 w2: 0.519 b: 0.449 Cost: 0.261742\n",
            "Epoch  200/1000 w1: 1.042 w2: 0.519 b: 0.449 Cost: 0.261769\n",
            "Epoch  300/1000 w1: 1.042 w2: 0.519 b: 0.449 Cost: 0.261796\n",
            "Epoch  400/1000 w1: 1.042 w2: 0.519 b: 0.449 Cost: 0.261822\n",
            "Epoch  500/1000 w1: 1.042 w2: 0.519 b: 0.449 Cost: 0.261849\n",
            "Epoch  600/1000 w1: 1.042 w2: 0.519 b: 0.449 Cost: 0.261876\n",
            "Epoch  700/1000 w1: 1.042 w2: 0.519 b: 0.449 Cost: 0.261903\n",
            "Epoch  800/1000 w1: 1.042 w2: 0.519 b: 0.449 Cost: 0.261930\n",
            "Epoch  900/1000 w1: 1.042 w2: 0.519 b: 0.449 Cost: 0.261957\n",
            "Epoch 1000/1000 w1: 1.042 w2: 0.519 b: 0.449 Cost: 0.261983\n",
            "Epoch    0/1000 w1: 1.042 w2: 0.519 b: 0.449 Cost: 0.261984\n",
            "Epoch  100/1000 w1: 1.042 w2: 0.519 b: 0.449 Cost: 0.262010\n",
            "Epoch  200/1000 w1: 1.042 w2: 0.519 b: 0.449 Cost: 0.262037\n",
            "Epoch  300/1000 w1: 1.042 w2: 0.519 b: 0.449 Cost: 0.262064\n",
            "Epoch  400/1000 w1: 1.042 w2: 0.519 b: 0.449 Cost: 0.262091\n",
            "Epoch  500/1000 w1: 1.042 w2: 0.519 b: 0.449 Cost: 0.262118\n",
            "Epoch  600/1000 w1: 1.042 w2: 0.519 b: 0.449 Cost: 0.262145\n",
            "Epoch  700/1000 w1: 1.042 w2: 0.519 b: 0.449 Cost: 0.262171\n",
            "Epoch  800/1000 w1: 1.042 w2: 0.519 b: 0.449 Cost: 0.262198\n",
            "Epoch  900/1000 w1: 1.042 w2: 0.519 b: 0.449 Cost: 0.262225\n",
            "Epoch 1000/1000 w1: 1.042 w2: 0.519 b: 0.449 Cost: 0.262252\n",
            "Epoch    0/1000 w1: 1.042 w2: 0.519 b: 0.449 Cost: 0.262252\n",
            "Epoch  100/1000 w1: 1.042 w2: 0.519 b: 0.449 Cost: 0.262279\n",
            "Epoch  200/1000 w1: 1.042 w2: 0.519 b: 0.449 Cost: 0.262306\n",
            "Epoch  300/1000 w1: 1.042 w2: 0.519 b: 0.449 Cost: 0.262333\n",
            "Epoch  400/1000 w1: 1.042 w2: 0.519 b: 0.449 Cost: 0.262359\n",
            "Epoch  500/1000 w1: 1.042 w2: 0.519 b: 0.449 Cost: 0.262386\n",
            "Epoch  600/1000 w1: 1.042 w2: 0.519 b: 0.449 Cost: 0.262413\n",
            "Epoch  700/1000 w1: 1.042 w2: 0.519 b: 0.449 Cost: 0.262440\n",
            "Epoch  800/1000 w1: 1.042 w2: 0.519 b: 0.449 Cost: 0.262467\n",
            "Epoch  900/1000 w1: 1.042 w2: 0.519 b: 0.449 Cost: 0.262494\n",
            "Epoch 1000/1000 w1: 1.042 w2: 0.519 b: 0.449 Cost: 0.262520\n",
            "Epoch    0/1000 w1: 1.042 w2: 0.519 b: 0.449 Cost: 0.262521\n",
            "Epoch  100/1000 w1: 1.042 w2: 0.519 b: 0.449 Cost: 0.262547\n",
            "Epoch  200/1000 w1: 1.042 w2: 0.519 b: 0.449 Cost: 0.262574\n",
            "Epoch  300/1000 w1: 1.042 w2: 0.519 b: 0.449 Cost: 0.262601\n",
            "Epoch  400/1000 w1: 1.042 w2: 0.519 b: 0.449 Cost: 0.262628\n",
            "Epoch  500/1000 w1: 1.042 w2: 0.519 b: 0.449 Cost: 0.262655\n",
            "Epoch  600/1000 w1: 1.042 w2: 0.519 b: 0.449 Cost: 0.262682\n",
            "Epoch  700/1000 w1: 1.042 w2: 0.519 b: 0.449 Cost: 0.262708\n",
            "Epoch  800/1000 w1: 1.042 w2: 0.519 b: 0.449 Cost: 0.262735\n",
            "Epoch  900/1000 w1: 1.042 w2: 0.519 b: 0.449 Cost: 0.262762\n",
            "Epoch 1000/1000 w1: 1.042 w2: 0.519 b: 0.449 Cost: 0.262789\n",
            "Epoch    0/1000 w1: 1.042 w2: 0.519 b: 0.449 Cost: 0.262789\n",
            "Epoch  100/1000 w1: 1.042 w2: 0.519 b: 0.449 Cost: 0.262816\n",
            "Epoch  200/1000 w1: 1.042 w2: 0.519 b: 0.449 Cost: 0.262843\n",
            "Epoch  300/1000 w1: 1.042 w2: 0.519 b: 0.449 Cost: 0.262870\n",
            "Epoch  400/1000 w1: 1.042 w2: 0.519 b: 0.449 Cost: 0.262896\n",
            "Epoch  500/1000 w1: 1.042 w2: 0.519 b: 0.449 Cost: 0.262923\n",
            "Epoch  600/1000 w1: 1.042 w2: 0.519 b: 0.449 Cost: 0.262950\n",
            "Epoch  700/1000 w1: 1.042 w2: 0.519 b: 0.449 Cost: 0.262977\n",
            "Epoch  800/1000 w1: 1.042 w2: 0.519 b: 0.449 Cost: 0.263004\n",
            "Epoch  900/1000 w1: 1.042 w2: 0.519 b: 0.449 Cost: 0.263031\n",
            "Epoch 1000/1000 w1: 1.042 w2: 0.519 b: 0.449 Cost: 0.263057\n",
            "Epoch    0/1000 w1: 1.042 w2: 0.519 b: 0.449 Cost: 0.263058\n",
            "Epoch  100/1000 w1: 1.042 w2: 0.519 b: 0.449 Cost: 0.263084\n",
            "Epoch  200/1000 w1: 1.042 w2: 0.519 b: 0.449 Cost: 0.263111\n",
            "Epoch  300/1000 w1: 1.042 w2: 0.519 b: 0.449 Cost: 0.263138\n",
            "Epoch  400/1000 w1: 1.042 w2: 0.519 b: 0.449 Cost: 0.263165\n",
            "Epoch  500/1000 w1: 1.042 w2: 0.519 b: 0.449 Cost: 0.263192\n",
            "Epoch  600/1000 w1: 1.042 w2: 0.519 b: 0.449 Cost: 0.263219\n",
            "Epoch  700/1000 w1: 1.042 w2: 0.519 b: 0.449 Cost: 0.263245\n",
            "Epoch  800/1000 w1: 1.042 w2: 0.519 b: 0.449 Cost: 0.263272\n",
            "Epoch  900/1000 w1: 1.042 w2: 0.519 b: 0.449 Cost: 0.263299\n",
            "Epoch 1000/1000 w1: 1.042 w2: 0.519 b: 0.449 Cost: 0.263326\n",
            "Epoch    0/1000 w1: 1.042 w2: 0.519 b: 0.449 Cost: 0.263326\n",
            "Epoch  100/1000 w1: 1.042 w2: 0.519 b: 0.449 Cost: 0.263353\n",
            "Epoch  200/1000 w1: 1.042 w2: 0.519 b: 0.449 Cost: 0.263380\n",
            "Epoch  300/1000 w1: 1.042 w2: 0.519 b: 0.449 Cost: 0.263407\n",
            "Epoch  400/1000 w1: 1.042 w2: 0.519 b: 0.449 Cost: 0.263433\n",
            "Epoch  500/1000 w1: 1.042 w2: 0.519 b: 0.449 Cost: 0.263460\n",
            "Epoch  600/1000 w1: 1.042 w2: 0.519 b: 0.449 Cost: 0.263487\n",
            "Epoch  700/1000 w1: 1.042 w2: 0.519 b: 0.449 Cost: 0.263514\n",
            "Epoch  800/1000 w1: 1.042 w2: 0.519 b: 0.449 Cost: 0.263541\n",
            "Epoch  900/1000 w1: 1.042 w2: 0.519 b: 0.449 Cost: 0.263568\n",
            "Epoch 1000/1000 w1: 1.042 w2: 0.519 b: 0.449 Cost: 0.263594\n",
            "Epoch    0/1000 w1: 1.042 w2: 0.519 b: 0.449 Cost: 0.263595\n",
            "Epoch  100/1000 w1: 1.042 w2: 0.519 b: 0.449 Cost: 0.263621\n",
            "Epoch  200/1000 w1: 1.042 w2: 0.519 b: 0.449 Cost: 0.263648\n",
            "Epoch  300/1000 w1: 1.042 w2: 0.519 b: 0.449 Cost: 0.263675\n",
            "Epoch  400/1000 w1: 1.042 w2: 0.519 b: 0.449 Cost: 0.263702\n",
            "Epoch  500/1000 w1: 1.042 w2: 0.519 b: 0.449 Cost: 0.263729\n",
            "Epoch  600/1000 w1: 1.042 w2: 0.519 b: 0.449 Cost: 0.263756\n",
            "Epoch  700/1000 w1: 1.042 w2: 0.519 b: 0.449 Cost: 0.263782\n",
            "Epoch  800/1000 w1: 1.042 w2: 0.519 b: 0.449 Cost: 0.263809\n",
            "Epoch  900/1000 w1: 1.042 w2: 0.519 b: 0.449 Cost: 0.263836\n",
            "Epoch 1000/1000 w1: 1.042 w2: 0.519 b: 0.449 Cost: 0.263863\n",
            "Epoch    0/1000 w1: 1.042 w2: 0.519 b: 0.449 Cost: 0.263863\n",
            "Epoch  100/1000 w1: 1.042 w2: 0.519 b: 0.449 Cost: 0.263890\n",
            "Epoch  200/1000 w1: 1.042 w2: 0.519 b: 0.449 Cost: 0.263917\n",
            "Epoch  300/1000 w1: 1.042 w2: 0.519 b: 0.449 Cost: 0.263944\n",
            "Epoch  400/1000 w1: 1.042 w2: 0.519 b: 0.449 Cost: 0.263970\n",
            "Epoch  500/1000 w1: 1.042 w2: 0.519 b: 0.449 Cost: 0.263997\n",
            "Epoch  600/1000 w1: 1.042 w2: 0.519 b: 0.449 Cost: 0.264024\n",
            "Epoch  700/1000 w1: 1.042 w2: 0.519 b: 0.449 Cost: 0.264051\n",
            "Epoch  800/1000 w1: 1.042 w2: 0.519 b: 0.449 Cost: 0.264078\n",
            "Epoch  900/1000 w1: 1.042 w2: 0.519 b: 0.449 Cost: 0.264104\n",
            "Epoch 1000/1000 w1: 1.042 w2: 0.519 b: 0.449 Cost: 0.264131\n",
            "Epoch    0/1000 w1: 1.042 w2: 0.519 b: 0.449 Cost: 0.264132\n",
            "Epoch  100/1000 w1: 1.042 w2: 0.519 b: 0.449 Cost: 0.264158\n",
            "Epoch  200/1000 w1: 1.042 w2: 0.519 b: 0.449 Cost: 0.264185\n",
            "Epoch  300/1000 w1: 1.042 w2: 0.519 b: 0.449 Cost: 0.264212\n",
            "Epoch  400/1000 w1: 1.042 w2: 0.519 b: 0.449 Cost: 0.264239\n",
            "Epoch  500/1000 w1: 1.042 w2: 0.519 b: 0.449 Cost: 0.264266\n",
            "Epoch  600/1000 w1: 1.042 w2: 0.519 b: 0.449 Cost: 0.264293\n",
            "Epoch  700/1000 w1: 1.042 w2: 0.519 b: 0.449 Cost: 0.264319\n",
            "Epoch  800/1000 w1: 1.042 w2: 0.519 b: 0.449 Cost: 0.264346\n",
            "Epoch  900/1000 w1: 1.042 w2: 0.519 b: 0.449 Cost: 0.264373\n",
            "Epoch 1000/1000 w1: 1.042 w2: 0.519 b: 0.449 Cost: 0.264400\n",
            "Epoch    0/1000 w1: 1.042 w2: 0.519 b: 0.449 Cost: 0.264400\n",
            "Epoch  100/1000 w1: 1.042 w2: 0.519 b: 0.449 Cost: 0.264427\n",
            "Epoch  200/1000 w1: 1.042 w2: 0.519 b: 0.449 Cost: 0.264454\n",
            "Epoch  300/1000 w1: 1.042 w2: 0.519 b: 0.449 Cost: 0.264481\n",
            "Epoch  400/1000 w1: 1.042 w2: 0.519 b: 0.449 Cost: 0.264507\n",
            "Epoch  500/1000 w1: 1.042 w2: 0.519 b: 0.449 Cost: 0.264534\n",
            "Epoch  600/1000 w1: 1.042 w2: 0.519 b: 0.449 Cost: 0.264561\n",
            "Epoch  700/1000 w1: 1.042 w2: 0.519 b: 0.449 Cost: 0.264588\n",
            "Epoch  800/1000 w1: 1.042 w2: 0.519 b: 0.449 Cost: 0.264615\n",
            "Epoch  900/1000 w1: 1.042 w2: 0.519 b: 0.449 Cost: 0.264641\n",
            "Epoch 1000/1000 w1: 1.042 w2: 0.519 b: 0.449 Cost: 0.264668\n",
            "Epoch    0/1000 w1: 1.042 w2: 0.519 b: 0.449 Cost: 0.264669\n",
            "Epoch  100/1000 w1: 1.042 w2: 0.519 b: 0.449 Cost: 0.264695\n",
            "Epoch  200/1000 w1: 1.042 w2: 0.519 b: 0.449 Cost: 0.264722\n",
            "Epoch  300/1000 w1: 1.042 w2: 0.519 b: 0.449 Cost: 0.264749\n",
            "Epoch  400/1000 w1: 1.042 w2: 0.519 b: 0.449 Cost: 0.264776\n",
            "Epoch  500/1000 w1: 1.042 w2: 0.519 b: 0.449 Cost: 0.264803\n",
            "Epoch  600/1000 w1: 1.042 w2: 0.519 b: 0.449 Cost: 0.264829\n",
            "Epoch  700/1000 w1: 1.042 w2: 0.519 b: 0.449 Cost: 0.264856\n",
            "Epoch  800/1000 w1: 1.042 w2: 0.519 b: 0.449 Cost: 0.264883\n",
            "Epoch  900/1000 w1: 1.042 w2: 0.519 b: 0.449 Cost: 0.264910\n",
            "Epoch 1000/1000 w1: 1.042 w2: 0.519 b: 0.449 Cost: 0.264937\n",
            "Epoch    0/1000 w1: 1.042 w2: 0.519 b: 0.449 Cost: 0.264937\n",
            "Epoch  100/1000 w1: 1.042 w2: 0.519 b: 0.449 Cost: 0.264964\n",
            "Epoch  200/1000 w1: 1.042 w2: 0.519 b: 0.449 Cost: 0.264991\n",
            "Epoch  300/1000 w1: 1.042 w2: 0.519 b: 0.449 Cost: 0.265018\n",
            "Epoch  400/1000 w1: 1.042 w2: 0.519 b: 0.449 Cost: 0.265044\n",
            "Epoch  500/1000 w1: 1.042 w2: 0.519 b: 0.449 Cost: 0.265071\n",
            "Epoch  600/1000 w1: 1.042 w2: 0.519 b: 0.449 Cost: 0.265098\n",
            "Epoch  700/1000 w1: 1.042 w2: 0.519 b: 0.449 Cost: 0.265125\n",
            "Epoch  800/1000 w1: 1.042 w2: 0.519 b: 0.449 Cost: 0.265152\n",
            "Epoch  900/1000 w1: 1.042 w2: 0.519 b: 0.449 Cost: 0.265178\n",
            "Epoch 1000/1000 w1: 1.042 w2: 0.519 b: 0.449 Cost: 0.265205\n",
            "Epoch    0/1000 w1: 1.042 w2: 0.519 b: 0.449 Cost: 0.265206\n",
            "Epoch  100/1000 w1: 1.042 w2: 0.519 b: 0.449 Cost: 0.265232\n",
            "Epoch  200/1000 w1: 1.042 w2: 0.519 b: 0.449 Cost: 0.265259\n",
            "Epoch  300/1000 w1: 1.042 w2: 0.519 b: 0.449 Cost: 0.265286\n",
            "Epoch  400/1000 w1: 1.042 w2: 0.519 b: 0.449 Cost: 0.265313\n",
            "Epoch  500/1000 w1: 1.042 w2: 0.519 b: 0.449 Cost: 0.265340\n",
            "Epoch  600/1000 w1: 1.042 w2: 0.519 b: 0.449 Cost: 0.265366\n",
            "Epoch  700/1000 w1: 1.042 w2: 0.519 b: 0.449 Cost: 0.265393\n",
            "Epoch  800/1000 w1: 1.042 w2: 0.519 b: 0.449 Cost: 0.265420\n",
            "Epoch  900/1000 w1: 1.042 w2: 0.519 b: 0.449 Cost: 0.265447\n",
            "Epoch 1000/1000 w1: 1.042 w2: 0.519 b: 0.449 Cost: 0.265474\n",
            "Epoch    0/1000 w1: 1.042 w2: 0.519 b: 0.449 Cost: 0.265474\n",
            "Epoch  100/1000 w1: 1.042 w2: 0.519 b: 0.449 Cost: 0.265501\n",
            "Epoch  200/1000 w1: 1.042 w2: 0.519 b: 0.449 Cost: 0.265528\n",
            "Epoch  300/1000 w1: 1.042 w2: 0.519 b: 0.449 Cost: 0.265554\n",
            "Epoch  400/1000 w1: 1.042 w2: 0.519 b: 0.449 Cost: 0.265581\n",
            "Epoch  500/1000 w1: 1.042 w2: 0.519 b: 0.449 Cost: 0.265608\n",
            "Epoch  600/1000 w1: 1.042 w2: 0.519 b: 0.449 Cost: 0.265635\n",
            "Epoch  700/1000 w1: 1.042 w2: 0.519 b: 0.449 Cost: 0.265662\n",
            "Epoch  800/1000 w1: 1.042 w2: 0.519 b: 0.449 Cost: 0.265689\n",
            "Epoch  900/1000 w1: 1.042 w2: 0.519 b: 0.449 Cost: 0.265715\n",
            "Epoch 1000/1000 w1: 1.042 w2: 0.519 b: 0.449 Cost: 0.265742\n",
            "Epoch    0/1000 w1: 1.042 w2: 0.519 b: 0.449 Cost: 0.265743\n",
            "Epoch  100/1000 w1: 1.042 w2: 0.519 b: 0.449 Cost: 0.265769\n",
            "Epoch  200/1000 w1: 1.042 w2: 0.519 b: 0.449 Cost: 0.265796\n",
            "Epoch  300/1000 w1: 1.042 w2: 0.519 b: 0.449 Cost: 0.265823\n",
            "Epoch  400/1000 w1: 1.042 w2: 0.519 b: 0.449 Cost: 0.265850\n",
            "Epoch  500/1000 w1: 1.042 w2: 0.519 b: 0.449 Cost: 0.265877\n",
            "Epoch  600/1000 w1: 1.042 w2: 0.519 b: 0.449 Cost: 0.265903\n",
            "Epoch  700/1000 w1: 1.042 w2: 0.519 b: 0.449 Cost: 0.265930\n",
            "Epoch  800/1000 w1: 1.042 w2: 0.519 b: 0.449 Cost: 0.265957\n",
            "Epoch  900/1000 w1: 1.042 w2: 0.519 b: 0.449 Cost: 0.265984\n",
            "Epoch 1000/1000 w1: 1.042 w2: 0.519 b: 0.449 Cost: 0.266011\n",
            "Epoch    0/1000 w1: 1.042 w2: 0.519 b: 0.449 Cost: 0.266011\n",
            "Epoch  100/1000 w1: 1.042 w2: 0.519 b: 0.449 Cost: 0.266038\n",
            "Epoch  200/1000 w1: 1.042 w2: 0.519 b: 0.449 Cost: 0.266065\n",
            "Epoch  300/1000 w1: 1.042 w2: 0.519 b: 0.449 Cost: 0.266091\n",
            "Epoch  400/1000 w1: 1.042 w2: 0.519 b: 0.449 Cost: 0.266118\n",
            "Epoch  500/1000 w1: 1.042 w2: 0.519 b: 0.449 Cost: 0.266145\n",
            "Epoch  600/1000 w1: 1.042 w2: 0.519 b: 0.449 Cost: 0.266172\n",
            "Epoch  700/1000 w1: 1.042 w2: 0.519 b: 0.449 Cost: 0.266199\n",
            "Epoch  800/1000 w1: 1.042 w2: 0.519 b: 0.449 Cost: 0.266226\n",
            "Epoch  900/1000 w1: 1.042 w2: 0.519 b: 0.449 Cost: 0.266252\n",
            "Epoch 1000/1000 w1: 1.042 w2: 0.519 b: 0.449 Cost: 0.266279\n",
            "Epoch    0/1000 w1: 1.042 w2: 0.519 b: 0.449 Cost: 0.266279\n",
            "Epoch  100/1000 w1: 1.042 w2: 0.519 b: 0.449 Cost: 0.266306\n",
            "Epoch  200/1000 w1: 1.042 w2: 0.519 b: 0.449 Cost: 0.266333\n",
            "Epoch  300/1000 w1: 1.042 w2: 0.519 b: 0.449 Cost: 0.266360\n",
            "Epoch  400/1000 w1: 1.042 w2: 0.519 b: 0.449 Cost: 0.266387\n",
            "Epoch  500/1000 w1: 1.042 w2: 0.519 b: 0.449 Cost: 0.266414\n",
            "Epoch  600/1000 w1: 1.042 w2: 0.519 b: 0.449 Cost: 0.266440\n",
            "Epoch  700/1000 w1: 1.042 w2: 0.519 b: 0.449 Cost: 0.266467\n",
            "Epoch  800/1000 w1: 1.042 w2: 0.519 b: 0.449 Cost: 0.266494\n",
            "Epoch  900/1000 w1: 1.042 w2: 0.519 b: 0.449 Cost: 0.266521\n",
            "Epoch 1000/1000 w1: 1.042 w2: 0.519 b: 0.449 Cost: 0.266548\n",
            "Epoch    0/1000 w1: 1.042 w2: 0.519 b: 0.449 Cost: 0.266548\n",
            "Epoch  100/1000 w1: 1.042 w2: 0.519 b: 0.449 Cost: 0.266575\n",
            "Epoch  200/1000 w1: 1.042 w2: 0.519 b: 0.449 Cost: 0.266602\n",
            "Epoch  300/1000 w1: 1.042 w2: 0.519 b: 0.449 Cost: 0.266628\n",
            "Epoch  400/1000 w1: 1.042 w2: 0.519 b: 0.449 Cost: 0.266655\n",
            "Epoch  500/1000 w1: 1.042 w2: 0.519 b: 0.449 Cost: 0.266682\n",
            "Epoch  600/1000 w1: 1.042 w2: 0.519 b: 0.449 Cost: 0.266709\n",
            "Epoch  700/1000 w1: 1.042 w2: 0.519 b: 0.449 Cost: 0.266736\n",
            "Epoch  800/1000 w1: 1.042 w2: 0.519 b: 0.449 Cost: 0.266763\n",
            "Epoch  900/1000 w1: 1.042 w2: 0.519 b: 0.449 Cost: 0.266789\n",
            "Epoch 1000/1000 w1: 1.042 w2: 0.519 b: 0.449 Cost: 0.266816\n",
            "Epoch    0/1000 w1: 1.042 w2: 0.519 b: 0.449 Cost: 0.266816\n",
            "Epoch  100/1000 w1: 1.042 w2: 0.519 b: 0.449 Cost: 0.266843\n",
            "Epoch  200/1000 w1: 1.042 w2: 0.519 b: 0.449 Cost: 0.266870\n",
            "Epoch  300/1000 w1: 1.042 w2: 0.519 b: 0.449 Cost: 0.266897\n",
            "Epoch  400/1000 w1: 1.042 w2: 0.519 b: 0.449 Cost: 0.266924\n",
            "Epoch  500/1000 w1: 1.042 w2: 0.519 b: 0.449 Cost: 0.266951\n",
            "Epoch  600/1000 w1: 1.042 w2: 0.519 b: 0.449 Cost: 0.266977\n",
            "Epoch  700/1000 w1: 1.042 w2: 0.519 b: 0.449 Cost: 0.267004\n",
            "Epoch  800/1000 w1: 1.042 w2: 0.519 b: 0.449 Cost: 0.267031\n",
            "Epoch  900/1000 w1: 1.042 w2: 0.519 b: 0.449 Cost: 0.267058\n",
            "Epoch 1000/1000 w1: 1.042 w2: 0.519 b: 0.449 Cost: 0.267085\n",
            "Epoch    0/1000 w1: 1.042 w2: 0.519 b: 0.449 Cost: 0.267085\n",
            "Epoch  100/1000 w1: 1.042 w2: 0.519 b: 0.449 Cost: 0.267112\n",
            "Epoch  200/1000 w1: 1.042 w2: 0.519 b: 0.449 Cost: 0.267139\n",
            "Epoch  300/1000 w1: 1.042 w2: 0.519 b: 0.449 Cost: 0.267165\n",
            "Epoch  400/1000 w1: 1.042 w2: 0.519 b: 0.449 Cost: 0.267192\n",
            "Epoch  500/1000 w1: 1.042 w2: 0.519 b: 0.449 Cost: 0.267219\n",
            "Epoch  600/1000 w1: 1.042 w2: 0.519 b: 0.449 Cost: 0.267246\n",
            "Epoch  700/1000 w1: 1.042 w2: 0.519 b: 0.449 Cost: 0.267273\n",
            "Epoch  800/1000 w1: 1.042 w2: 0.519 b: 0.449 Cost: 0.267300\n",
            "Epoch  900/1000 w1: 1.042 w2: 0.519 b: 0.449 Cost: 0.267326\n",
            "Epoch 1000/1000 w1: 1.042 w2: 0.519 b: 0.449 Cost: 0.267353\n",
            "Epoch    0/1000 w1: 1.042 w2: 0.519 b: 0.449 Cost: 0.267353\n",
            "Epoch  100/1000 w1: 1.042 w2: 0.519 b: 0.449 Cost: 0.267380\n",
            "Epoch  200/1000 w1: 1.042 w2: 0.519 b: 0.449 Cost: 0.267407\n",
            "Epoch  300/1000 w1: 1.042 w2: 0.519 b: 0.449 Cost: 0.267434\n",
            "Epoch  400/1000 w1: 1.042 w2: 0.519 b: 0.449 Cost: 0.267461\n",
            "Epoch  500/1000 w1: 1.042 w2: 0.519 b: 0.449 Cost: 0.267488\n",
            "Epoch  600/1000 w1: 1.042 w2: 0.519 b: 0.449 Cost: 0.267514\n",
            "Epoch  700/1000 w1: 1.042 w2: 0.519 b: 0.449 Cost: 0.267541\n",
            "Epoch  800/1000 w1: 1.042 w2: 0.519 b: 0.449 Cost: 0.267568\n",
            "Epoch  900/1000 w1: 1.042 w2: 0.519 b: 0.449 Cost: 0.267595\n",
            "Epoch 1000/1000 w1: 1.042 w2: 0.519 b: 0.449 Cost: 0.267622\n",
            "Epoch    0/1000 w1: 1.042 w2: 0.519 b: 0.449 Cost: 0.267622\n",
            "Epoch  100/1000 w1: 1.042 w2: 0.519 b: 0.449 Cost: 0.267649\n",
            "Epoch  200/1000 w1: 1.042 w2: 0.519 b: 0.449 Cost: 0.267676\n",
            "Epoch  300/1000 w1: 1.042 w2: 0.519 b: 0.449 Cost: 0.267702\n",
            "Epoch  400/1000 w1: 1.042 w2: 0.519 b: 0.449 Cost: 0.267729\n",
            "Epoch  500/1000 w1: 1.042 w2: 0.519 b: 0.449 Cost: 0.267756\n",
            "Epoch  600/1000 w1: 1.042 w2: 0.519 b: 0.449 Cost: 0.267783\n",
            "Epoch  700/1000 w1: 1.042 w2: 0.519 b: 0.449 Cost: 0.267810\n",
            "Epoch  800/1000 w1: 1.042 w2: 0.519 b: 0.449 Cost: 0.267837\n",
            "Epoch  900/1000 w1: 1.042 w2: 0.519 b: 0.449 Cost: 0.267863\n",
            "Epoch 1000/1000 w1: 1.042 w2: 0.519 b: 0.449 Cost: 0.267890\n",
            "Epoch    0/1000 w1: 1.042 w2: 0.519 b: 0.449 Cost: 0.267890\n",
            "Epoch  100/1000 w1: 1.042 w2: 0.519 b: 0.449 Cost: 0.267917\n",
            "Epoch  200/1000 w1: 1.042 w2: 0.519 b: 0.449 Cost: 0.267944\n",
            "Epoch  300/1000 w1: 1.042 w2: 0.519 b: 0.449 Cost: 0.267971\n",
            "Epoch  400/1000 w1: 1.042 w2: 0.519 b: 0.449 Cost: 0.267998\n",
            "Epoch  500/1000 w1: 1.042 w2: 0.519 b: 0.449 Cost: 0.268025\n",
            "Epoch  600/1000 w1: 1.042 w2: 0.519 b: 0.449 Cost: 0.268051\n",
            "Epoch  700/1000 w1: 1.042 w2: 0.519 b: 0.449 Cost: 0.268078\n",
            "Epoch  800/1000 w1: 1.042 w2: 0.519 b: 0.449 Cost: 0.268105\n",
            "Epoch  900/1000 w1: 1.042 w2: 0.519 b: 0.449 Cost: 0.268132\n",
            "Epoch 1000/1000 w1: 1.042 w2: 0.519 b: 0.449 Cost: 0.268159\n",
            "Epoch    0/1000 w1: 1.042 w2: 0.519 b: 0.449 Cost: 0.268159\n",
            "Epoch  100/1000 w1: 1.042 w2: 0.519 b: 0.449 Cost: 0.268186\n",
            "Epoch  200/1000 w1: 1.042 w2: 0.519 b: 0.449 Cost: 0.268213\n",
            "Epoch  300/1000 w1: 1.042 w2: 0.519 b: 0.449 Cost: 0.268239\n",
            "Epoch  400/1000 w1: 1.042 w2: 0.519 b: 0.449 Cost: 0.268266\n",
            "Epoch  500/1000 w1: 1.042 w2: 0.519 b: 0.449 Cost: 0.268293\n",
            "Epoch  600/1000 w1: 1.042 w2: 0.519 b: 0.449 Cost: 0.268320\n",
            "Epoch  700/1000 w1: 1.042 w2: 0.519 b: 0.449 Cost: 0.268347\n",
            "Epoch  800/1000 w1: 1.042 w2: 0.519 b: 0.449 Cost: 0.268373\n",
            "Epoch  900/1000 w1: 1.042 w2: 0.519 b: 0.449 Cost: 0.268400\n",
            "Epoch 1000/1000 w1: 1.042 w2: 0.519 b: 0.449 Cost: 0.268427\n",
            "Epoch    0/1000 w1: 1.042 w2: 0.519 b: 0.449 Cost: 0.268427\n",
            "Epoch  100/1000 w1: 1.042 w2: 0.519 b: 0.449 Cost: 0.268454\n",
            "Epoch  200/1000 w1: 1.042 w2: 0.519 b: 0.449 Cost: 0.268481\n",
            "Epoch  300/1000 w1: 1.042 w2: 0.519 b: 0.449 Cost: 0.268508\n",
            "Epoch  400/1000 w1: 1.042 w2: 0.519 b: 0.449 Cost: 0.268535\n",
            "Epoch  500/1000 w1: 1.042 w2: 0.519 b: 0.449 Cost: 0.268562\n",
            "Epoch  600/1000 w1: 1.042 w2: 0.519 b: 0.449 Cost: 0.268588\n",
            "Epoch  700/1000 w1: 1.042 w2: 0.519 b: 0.449 Cost: 0.268615\n",
            "Epoch  800/1000 w1: 1.042 w2: 0.519 b: 0.449 Cost: 0.268642\n",
            "Epoch  900/1000 w1: 1.042 w2: 0.519 b: 0.449 Cost: 0.268669\n",
            "Epoch 1000/1000 w1: 1.042 w2: 0.519 b: 0.449 Cost: 0.268696\n",
            "Epoch    0/1000 w1: 1.042 w2: 0.519 b: 0.449 Cost: 0.268696\n",
            "Epoch  100/1000 w1: 1.042 w2: 0.519 b: 0.449 Cost: 0.268723\n",
            "Epoch  200/1000 w1: 1.042 w2: 0.519 b: 0.449 Cost: 0.268750\n",
            "Epoch  300/1000 w1: 1.042 w2: 0.519 b: 0.449 Cost: 0.268776\n",
            "Epoch  400/1000 w1: 1.042 w2: 0.519 b: 0.449 Cost: 0.268803\n",
            "Epoch  500/1000 w1: 1.042 w2: 0.519 b: 0.449 Cost: 0.268830\n",
            "Epoch  600/1000 w1: 1.042 w2: 0.519 b: 0.449 Cost: 0.268857\n",
            "Epoch  700/1000 w1: 1.042 w2: 0.519 b: 0.449 Cost: 0.268884\n",
            "Epoch  800/1000 w1: 1.042 w2: 0.519 b: 0.449 Cost: 0.268910\n",
            "Epoch  900/1000 w1: 1.042 w2: 0.519 b: 0.449 Cost: 0.268937\n",
            "Epoch 1000/1000 w1: 1.042 w2: 0.519 b: 0.449 Cost: 0.268964\n",
            "Epoch    0/1000 w1: 1.042 w2: 0.519 b: 0.449 Cost: 0.268964\n",
            "Epoch  100/1000 w1: 1.042 w2: 0.519 b: 0.449 Cost: 0.268991\n",
            "Epoch  200/1000 w1: 1.042 w2: 0.519 b: 0.449 Cost: 0.269018\n",
            "Epoch  300/1000 w1: 1.042 w2: 0.519 b: 0.449 Cost: 0.269045\n",
            "Epoch  400/1000 w1: 1.042 w2: 0.519 b: 0.449 Cost: 0.269072\n",
            "Epoch  500/1000 w1: 1.042 w2: 0.519 b: 0.449 Cost: 0.269098\n",
            "Epoch  600/1000 w1: 1.042 w2: 0.519 b: 0.449 Cost: 0.269125\n",
            "Epoch  700/1000 w1: 1.042 w2: 0.519 b: 0.449 Cost: 0.269152\n",
            "Epoch  800/1000 w1: 1.042 w2: 0.519 b: 0.449 Cost: 0.269179\n",
            "Epoch  900/1000 w1: 1.042 w2: 0.519 b: 0.449 Cost: 0.269206\n",
            "Epoch 1000/1000 w1: 1.042 w2: 0.519 b: 0.449 Cost: 0.269233\n",
            "Epoch    0/1000 w1: 1.042 w2: 0.519 b: 0.449 Cost: 0.269233\n",
            "Epoch  100/1000 w1: 1.042 w2: 0.519 b: 0.449 Cost: 0.269260\n",
            "Epoch  200/1000 w1: 1.042 w2: 0.519 b: 0.449 Cost: 0.269287\n",
            "Epoch  300/1000 w1: 1.042 w2: 0.519 b: 0.449 Cost: 0.269313\n",
            "Epoch  400/1000 w1: 1.042 w2: 0.519 b: 0.449 Cost: 0.269340\n",
            "Epoch  500/1000 w1: 1.042 w2: 0.519 b: 0.449 Cost: 0.269367\n",
            "Epoch  600/1000 w1: 1.042 w2: 0.519 b: 0.449 Cost: 0.269394\n",
            "Epoch  700/1000 w1: 1.042 w2: 0.519 b: 0.449 Cost: 0.269421\n",
            "Epoch  800/1000 w1: 1.042 w2: 0.519 b: 0.449 Cost: 0.269447\n",
            "Epoch  900/1000 w1: 1.042 w2: 0.519 b: 0.449 Cost: 0.269474\n",
            "Epoch 1000/1000 w1: 1.042 w2: 0.519 b: 0.449 Cost: 0.269501\n",
            "Epoch    0/1000 w1: 1.042 w2: 0.519 b: 0.449 Cost: 0.269501\n",
            "Epoch  100/1000 w1: 1.042 w2: 0.519 b: 0.449 Cost: 0.269528\n",
            "Epoch  200/1000 w1: 1.042 w2: 0.519 b: 0.449 Cost: 0.269555\n",
            "Epoch  300/1000 w1: 1.042 w2: 0.519 b: 0.449 Cost: 0.269582\n",
            "Epoch  400/1000 w1: 1.042 w2: 0.519 b: 0.449 Cost: 0.269609\n",
            "Epoch  500/1000 w1: 1.042 w2: 0.519 b: 0.449 Cost: 0.269635\n",
            "Epoch  600/1000 w1: 1.042 w2: 0.519 b: 0.449 Cost: 0.269662\n",
            "Epoch  700/1000 w1: 1.042 w2: 0.519 b: 0.449 Cost: 0.269689\n",
            "Epoch  800/1000 w1: 1.042 w2: 0.519 b: 0.449 Cost: 0.269716\n",
            "Epoch  900/1000 w1: 1.042 w2: 0.519 b: 0.449 Cost: 0.269743\n",
            "Epoch 1000/1000 w1: 1.042 w2: 0.519 b: 0.449 Cost: 0.269770\n",
            "Epoch    0/1000 w1: 1.042 w2: 0.519 b: 0.449 Cost: 0.269770\n",
            "Epoch  100/1000 w1: 1.042 w2: 0.519 b: 0.449 Cost: 0.269797\n",
            "Epoch  200/1000 w1: 1.042 w2: 0.519 b: 0.449 Cost: 0.269823\n",
            "Epoch  300/1000 w1: 1.042 w2: 0.519 b: 0.449 Cost: 0.269850\n",
            "Epoch  400/1000 w1: 1.042 w2: 0.519 b: 0.449 Cost: 0.269877\n",
            "Epoch  500/1000 w1: 1.042 w2: 0.519 b: 0.449 Cost: 0.269904\n",
            "Epoch  600/1000 w1: 1.042 w2: 0.519 b: 0.449 Cost: 0.269931\n",
            "Epoch  700/1000 w1: 1.042 w2: 0.519 b: 0.449 Cost: 0.269958\n",
            "Epoch  800/1000 w1: 1.042 w2: 0.519 b: 0.449 Cost: 0.269984\n",
            "Epoch  900/1000 w1: 1.042 w2: 0.519 b: 0.449 Cost: 0.270011\n",
            "Epoch 1000/1000 w1: 1.042 w2: 0.519 b: 0.449 Cost: 0.270038\n",
            "Epoch    0/1000 w1: 1.042 w2: 0.519 b: 0.449 Cost: 0.270038\n",
            "Epoch  100/1000 w1: 1.042 w2: 0.519 b: 0.449 Cost: 0.270065\n",
            "Epoch  200/1000 w1: 1.042 w2: 0.519 b: 0.449 Cost: 0.270092\n",
            "Epoch  300/1000 w1: 1.042 w2: 0.519 b: 0.449 Cost: 0.270119\n",
            "Epoch  400/1000 w1: 1.042 w2: 0.519 b: 0.449 Cost: 0.270146\n",
            "Epoch  500/1000 w1: 1.042 w2: 0.519 b: 0.449 Cost: 0.270172\n",
            "Epoch  600/1000 w1: 1.042 w2: 0.519 b: 0.449 Cost: 0.270199\n",
            "Epoch  700/1000 w1: 1.042 w2: 0.519 b: 0.449 Cost: 0.270226\n",
            "Epoch  800/1000 w1: 1.042 w2: 0.519 b: 0.449 Cost: 0.270253\n",
            "Epoch  900/1000 w1: 1.042 w2: 0.519 b: 0.449 Cost: 0.270280\n",
            "Epoch 1000/1000 w1: 1.042 w2: 0.519 b: 0.449 Cost: 0.270307\n",
            "Epoch    0/1000 w1: 1.042 w2: 0.519 b: 0.449 Cost: 0.270307\n",
            "Epoch  100/1000 w1: 1.042 w2: 0.519 b: 0.449 Cost: 0.270334\n",
            "Epoch  200/1000 w1: 1.042 w2: 0.519 b: 0.449 Cost: 0.270360\n",
            "Epoch  300/1000 w1: 1.042 w2: 0.519 b: 0.449 Cost: 0.270387\n",
            "Epoch  400/1000 w1: 1.042 w2: 0.519 b: 0.449 Cost: 0.270414\n",
            "Epoch  500/1000 w1: 1.042 w2: 0.519 b: 0.449 Cost: 0.270441\n",
            "Epoch  600/1000 w1: 1.042 w2: 0.519 b: 0.449 Cost: 0.270468\n",
            "Epoch  700/1000 w1: 1.042 w2: 0.519 b: 0.449 Cost: 0.270495\n",
            "Epoch  800/1000 w1: 1.042 w2: 0.519 b: 0.449 Cost: 0.270521\n",
            "Epoch  900/1000 w1: 1.042 w2: 0.519 b: 0.449 Cost: 0.270548\n",
            "Epoch 1000/1000 w1: 1.042 w2: 0.519 b: 0.449 Cost: 0.270575\n",
            "Epoch    0/1000 w1: 1.042 w2: 0.519 b: 0.449 Cost: 0.270575\n",
            "Epoch  100/1000 w1: 1.042 w2: 0.519 b: 0.449 Cost: 0.270602\n",
            "Epoch  200/1000 w1: 1.042 w2: 0.519 b: 0.449 Cost: 0.270629\n",
            "Epoch  300/1000 w1: 1.042 w2: 0.519 b: 0.449 Cost: 0.270656\n",
            "Epoch  400/1000 w1: 1.042 w2: 0.519 b: 0.449 Cost: 0.270683\n",
            "Epoch  500/1000 w1: 1.042 w2: 0.519 b: 0.449 Cost: 0.270709\n",
            "Epoch  600/1000 w1: 1.042 w2: 0.519 b: 0.449 Cost: 0.270736\n",
            "Epoch  700/1000 w1: 1.042 w2: 0.519 b: 0.449 Cost: 0.270763\n",
            "Epoch  800/1000 w1: 1.042 w2: 0.519 b: 0.449 Cost: 0.270790\n",
            "Epoch  900/1000 w1: 1.042 w2: 0.519 b: 0.449 Cost: 0.270817\n",
            "Epoch 1000/1000 w1: 1.042 w2: 0.519 b: 0.449 Cost: 0.270844\n",
            "Epoch    0/1000 w1: 1.042 w2: 0.519 b: 0.449 Cost: 0.270844\n",
            "Epoch  100/1000 w1: 1.042 w2: 0.519 b: 0.449 Cost: 0.270871\n",
            "Epoch  200/1000 w1: 1.042 w2: 0.519 b: 0.449 Cost: 0.270897\n",
            "Epoch  300/1000 w1: 1.042 w2: 0.519 b: 0.449 Cost: 0.270924\n",
            "Epoch  400/1000 w1: 1.042 w2: 0.519 b: 0.449 Cost: 0.270951\n",
            "Epoch  500/1000 w1: 1.042 w2: 0.519 b: 0.449 Cost: 0.270978\n",
            "Epoch  600/1000 w1: 1.042 w2: 0.519 b: 0.449 Cost: 0.271005\n",
            "Epoch  700/1000 w1: 1.042 w2: 0.519 b: 0.449 Cost: 0.271032\n",
            "Epoch  800/1000 w1: 1.042 w2: 0.519 b: 0.449 Cost: 0.271058\n",
            "Epoch  900/1000 w1: 1.042 w2: 0.519 b: 0.449 Cost: 0.271085\n",
            "Epoch 1000/1000 w1: 1.042 w2: 0.519 b: 0.449 Cost: 0.271112\n",
            "Epoch    0/1000 w1: 1.042 w2: 0.519 b: 0.449 Cost: 0.271112\n",
            "Epoch  100/1000 w1: 1.042 w2: 0.519 b: 0.449 Cost: 0.271139\n",
            "Epoch  200/1000 w1: 1.042 w2: 0.519 b: 0.449 Cost: 0.271166\n",
            "Epoch  300/1000 w1: 1.042 w2: 0.519 b: 0.449 Cost: 0.271193\n",
            "Epoch  400/1000 w1: 1.042 w2: 0.519 b: 0.449 Cost: 0.271220\n",
            "Epoch  500/1000 w1: 1.042 w2: 0.519 b: 0.449 Cost: 0.271246\n",
            "Epoch  600/1000 w1: 1.042 w2: 0.519 b: 0.449 Cost: 0.271273\n",
            "Epoch  700/1000 w1: 1.042 w2: 0.519 b: 0.449 Cost: 0.271300\n",
            "Epoch  800/1000 w1: 1.042 w2: 0.519 b: 0.449 Cost: 0.271327\n",
            "Epoch  900/1000 w1: 1.042 w2: 0.519 b: 0.449 Cost: 0.271354\n",
            "Epoch 1000/1000 w1: 1.042 w2: 0.519 b: 0.449 Cost: 0.271381\n",
            "Epoch    0/1000 w1: 1.042 w2: 0.519 b: 0.449 Cost: 0.271381\n",
            "Epoch  100/1000 w1: 1.042 w2: 0.519 b: 0.449 Cost: 0.271408\n",
            "Epoch  200/1000 w1: 1.042 w2: 0.519 b: 0.449 Cost: 0.271434\n",
            "Epoch  300/1000 w1: 1.042 w2: 0.519 b: 0.449 Cost: 0.271461\n",
            "Epoch  400/1000 w1: 1.042 w2: 0.519 b: 0.449 Cost: 0.271488\n",
            "Epoch  500/1000 w1: 1.042 w2: 0.519 b: 0.449 Cost: 0.271515\n",
            "Epoch  600/1000 w1: 1.042 w2: 0.519 b: 0.449 Cost: 0.271542\n",
            "Epoch  700/1000 w1: 1.042 w2: 0.519 b: 0.449 Cost: 0.271569\n",
            "Epoch  800/1000 w1: 1.042 w2: 0.519 b: 0.449 Cost: 0.271595\n",
            "Epoch  900/1000 w1: 1.042 w2: 0.519 b: 0.449 Cost: 0.271622\n",
            "Epoch 1000/1000 w1: 1.042 w2: 0.519 b: 0.449 Cost: 0.271649\n",
            "Epoch    0/1000 w1: 1.042 w2: 0.519 b: 0.449 Cost: 0.271649\n",
            "Epoch  100/1000 w1: 1.042 w2: 0.519 b: 0.449 Cost: 0.271676\n",
            "Epoch  200/1000 w1: 1.042 w2: 0.519 b: 0.449 Cost: 0.271703\n",
            "Epoch  300/1000 w1: 1.042 w2: 0.519 b: 0.449 Cost: 0.271730\n",
            "Epoch  400/1000 w1: 1.042 w2: 0.519 b: 0.449 Cost: 0.271757\n",
            "Epoch  500/1000 w1: 1.042 w2: 0.519 b: 0.449 Cost: 0.271783\n",
            "Epoch  600/1000 w1: 1.042 w2: 0.519 b: 0.449 Cost: 0.271810\n",
            "Epoch  700/1000 w1: 1.042 w2: 0.519 b: 0.449 Cost: 0.271837\n",
            "Epoch  800/1000 w1: 1.042 w2: 0.519 b: 0.449 Cost: 0.271864\n",
            "Epoch  900/1000 w1: 1.042 w2: 0.519 b: 0.449 Cost: 0.271891\n",
            "Epoch 1000/1000 w1: 1.042 w2: 0.519 b: 0.449 Cost: 0.271917\n",
            "Epoch    0/1000 w1: 1.042 w2: 0.519 b: 0.449 Cost: 0.271918\n",
            "Epoch  100/1000 w1: 1.042 w2: 0.519 b: 0.449 Cost: 0.271945\n",
            "Epoch  200/1000 w1: 1.042 w2: 0.519 b: 0.449 Cost: 0.271971\n",
            "Epoch  300/1000 w1: 1.042 w2: 0.519 b: 0.449 Cost: 0.271998\n",
            "Epoch  400/1000 w1: 1.042 w2: 0.519 b: 0.449 Cost: 0.272025\n",
            "Epoch  500/1000 w1: 1.042 w2: 0.519 b: 0.449 Cost: 0.272052\n",
            "Epoch  600/1000 w1: 1.042 w2: 0.519 b: 0.449 Cost: 0.272079\n",
            "Epoch  700/1000 w1: 1.042 w2: 0.519 b: 0.449 Cost: 0.272106\n",
            "Epoch  800/1000 w1: 1.042 w2: 0.519 b: 0.449 Cost: 0.272132\n",
            "Epoch  900/1000 w1: 1.042 w2: 0.519 b: 0.449 Cost: 0.272159\n",
            "Epoch 1000/1000 w1: 1.042 w2: 0.519 b: 0.449 Cost: 0.272186\n",
            "Epoch    0/1000 w1: 1.042 w2: 0.519 b: 0.449 Cost: 0.272186\n",
            "Epoch  100/1000 w1: 1.042 w2: 0.519 b: 0.449 Cost: 0.272213\n",
            "Epoch  200/1000 w1: 1.042 w2: 0.519 b: 0.449 Cost: 0.272240\n",
            "Epoch  300/1000 w1: 1.042 w2: 0.519 b: 0.449 Cost: 0.272267\n",
            "Epoch  400/1000 w1: 1.042 w2: 0.519 b: 0.449 Cost: 0.272294\n",
            "Epoch  500/1000 w1: 1.042 w2: 0.519 b: 0.449 Cost: 0.272320\n",
            "Epoch  600/1000 w1: 1.042 w2: 0.519 b: 0.449 Cost: 0.272347\n",
            "Epoch  700/1000 w1: 1.042 w2: 0.519 b: 0.449 Cost: 0.272374\n",
            "Epoch  800/1000 w1: 1.042 w2: 0.519 b: 0.449 Cost: 0.272401\n",
            "Epoch  900/1000 w1: 1.042 w2: 0.519 b: 0.449 Cost: 0.272428\n",
            "Epoch 1000/1000 w1: 1.042 w2: 0.519 b: 0.449 Cost: 0.272454\n",
            "Epoch    0/1000 w1: 1.042 w2: 0.519 b: 0.449 Cost: 0.272455\n",
            "Epoch  100/1000 w1: 1.042 w2: 0.519 b: 0.449 Cost: 0.272482\n",
            "Epoch  200/1000 w1: 1.042 w2: 0.519 b: 0.449 Cost: 0.272508\n",
            "Epoch  300/1000 w1: 1.042 w2: 0.519 b: 0.449 Cost: 0.272535\n",
            "Epoch  400/1000 w1: 1.042 w2: 0.519 b: 0.449 Cost: 0.272562\n",
            "Epoch  500/1000 w1: 1.042 w2: 0.519 b: 0.449 Cost: 0.272589\n",
            "Epoch  600/1000 w1: 1.042 w2: 0.519 b: 0.449 Cost: 0.272616\n",
            "Epoch  700/1000 w1: 1.042 w2: 0.519 b: 0.449 Cost: 0.272642\n",
            "Epoch  800/1000 w1: 1.042 w2: 0.519 b: 0.449 Cost: 0.272669\n",
            "Epoch  900/1000 w1: 1.042 w2: 0.519 b: 0.449 Cost: 0.272696\n",
            "Epoch 1000/1000 w1: 1.042 w2: 0.519 b: 0.449 Cost: 0.272723\n",
            "Epoch    0/1000 w1: 1.042 w2: 0.519 b: 0.449 Cost: 0.272723\n",
            "Epoch  100/1000 w1: 1.042 w2: 0.519 b: 0.449 Cost: 0.272750\n",
            "Epoch  200/1000 w1: 1.042 w2: 0.519 b: 0.449 Cost: 0.272777\n",
            "Epoch  300/1000 w1: 1.042 w2: 0.519 b: 0.449 Cost: 0.272804\n",
            "Epoch  400/1000 w1: 1.042 w2: 0.519 b: 0.449 Cost: 0.272831\n",
            "Epoch  500/1000 w1: 1.042 w2: 0.519 b: 0.449 Cost: 0.272857\n",
            "Epoch  600/1000 w1: 1.042 w2: 0.519 b: 0.449 Cost: 0.272884\n",
            "Epoch  700/1000 w1: 1.042 w2: 0.519 b: 0.449 Cost: 0.272911\n",
            "Epoch  800/1000 w1: 1.042 w2: 0.519 b: 0.449 Cost: 0.272938\n",
            "Epoch  900/1000 w1: 1.042 w2: 0.519 b: 0.449 Cost: 0.272965\n",
            "Epoch 1000/1000 w1: 1.042 w2: 0.519 b: 0.449 Cost: 0.272991\n",
            "Epoch    0/1000 w1: 1.042 w2: 0.519 b: 0.449 Cost: 0.272992\n",
            "Epoch  100/1000 w1: 1.042 w2: 0.519 b: 0.449 Cost: 0.273019\n",
            "Epoch  200/1000 w1: 1.042 w2: 0.519 b: 0.449 Cost: 0.273045\n",
            "Epoch  300/1000 w1: 1.042 w2: 0.519 b: 0.449 Cost: 0.273072\n",
            "Epoch  400/1000 w1: 1.042 w2: 0.519 b: 0.449 Cost: 0.273099\n",
            "Epoch  500/1000 w1: 1.042 w2: 0.519 b: 0.449 Cost: 0.273126\n",
            "Epoch  600/1000 w1: 1.042 w2: 0.519 b: 0.449 Cost: 0.273153\n",
            "Epoch  700/1000 w1: 1.042 w2: 0.519 b: 0.449 Cost: 0.273179\n",
            "Epoch  800/1000 w1: 1.042 w2: 0.519 b: 0.449 Cost: 0.273206\n",
            "Epoch  900/1000 w1: 1.042 w2: 0.519 b: 0.449 Cost: 0.273233\n",
            "Epoch 1000/1000 w1: 1.042 w2: 0.519 b: 0.449 Cost: 0.273260\n",
            "Epoch    0/1000 w1: 1.042 w2: 0.519 b: 0.449 Cost: 0.273260\n",
            "Epoch  100/1000 w1: 1.042 w2: 0.519 b: 0.449 Cost: 0.273287\n",
            "Epoch  200/1000 w1: 1.042 w2: 0.519 b: 0.449 Cost: 0.273314\n",
            "Epoch  300/1000 w1: 1.042 w2: 0.519 b: 0.449 Cost: 0.273341\n",
            "Epoch  400/1000 w1: 1.042 w2: 0.519 b: 0.449 Cost: 0.273367\n",
            "Epoch  500/1000 w1: 1.042 w2: 0.519 b: 0.449 Cost: 0.273394\n",
            "Epoch  600/1000 w1: 1.042 w2: 0.519 b: 0.449 Cost: 0.273421\n",
            "Epoch  700/1000 w1: 1.042 w2: 0.519 b: 0.449 Cost: 0.273448\n",
            "Epoch  800/1000 w1: 1.042 w2: 0.519 b: 0.449 Cost: 0.273475\n",
            "Epoch  900/1000 w1: 1.042 w2: 0.519 b: 0.449 Cost: 0.273502\n",
            "Epoch 1000/1000 w1: 1.042 w2: 0.519 b: 0.449 Cost: 0.273528\n",
            "Epoch    0/1000 w1: 1.042 w2: 0.519 b: 0.449 Cost: 0.273529\n",
            "Epoch  100/1000 w1: 1.042 w2: 0.519 b: 0.449 Cost: 0.273556\n",
            "Epoch  200/1000 w1: 1.042 w2: 0.519 b: 0.449 Cost: 0.273582\n",
            "Epoch  300/1000 w1: 1.042 w2: 0.519 b: 0.449 Cost: 0.273609\n",
            "Epoch  400/1000 w1: 1.042 w2: 0.519 b: 0.449 Cost: 0.273636\n",
            "Epoch  500/1000 w1: 1.042 w2: 0.519 b: 0.449 Cost: 0.273663\n",
            "Epoch  600/1000 w1: 1.042 w2: 0.519 b: 0.449 Cost: 0.273690\n",
            "Epoch  700/1000 w1: 1.042 w2: 0.519 b: 0.449 Cost: 0.273716\n",
            "Epoch  800/1000 w1: 1.042 w2: 0.519 b: 0.449 Cost: 0.273743\n",
            "Epoch  900/1000 w1: 1.042 w2: 0.519 b: 0.449 Cost: 0.273770\n",
            "Epoch 1000/1000 w1: 1.042 w2: 0.519 b: 0.449 Cost: 0.273797\n",
            "Epoch    0/1000 w1: 1.042 w2: 0.519 b: 0.449 Cost: 0.273797\n",
            "Epoch  100/1000 w1: 1.042 w2: 0.519 b: 0.449 Cost: 0.273824\n",
            "Epoch  200/1000 w1: 1.042 w2: 0.519 b: 0.449 Cost: 0.273851\n",
            "Epoch  300/1000 w1: 1.042 w2: 0.519 b: 0.449 Cost: 0.273878\n",
            "Epoch  400/1000 w1: 1.042 w2: 0.519 b: 0.449 Cost: 0.273904\n",
            "Epoch  500/1000 w1: 1.042 w2: 0.519 b: 0.449 Cost: 0.273931\n",
            "Epoch  600/1000 w1: 1.042 w2: 0.519 b: 0.449 Cost: 0.273958\n",
            "Epoch  700/1000 w1: 1.042 w2: 0.519 b: 0.449 Cost: 0.273985\n",
            "Epoch  800/1000 w1: 1.042 w2: 0.519 b: 0.449 Cost: 0.274012\n",
            "Epoch  900/1000 w1: 1.042 w2: 0.519 b: 0.449 Cost: 0.274039\n",
            "Epoch 1000/1000 w1: 1.042 w2: 0.519 b: 0.449 Cost: 0.274065\n",
            "Epoch    0/1000 w1: 1.042 w2: 0.519 b: 0.449 Cost: 0.274066\n",
            "Epoch  100/1000 w1: 1.042 w2: 0.519 b: 0.449 Cost: 0.274092\n",
            "Epoch  200/1000 w1: 1.042 w2: 0.519 b: 0.449 Cost: 0.274119\n",
            "Epoch  300/1000 w1: 1.042 w2: 0.519 b: 0.449 Cost: 0.274146\n",
            "Epoch  400/1000 w1: 1.042 w2: 0.519 b: 0.449 Cost: 0.274173\n",
            "Epoch  500/1000 w1: 1.042 w2: 0.519 b: 0.449 Cost: 0.274200\n",
            "Epoch  600/1000 w1: 1.042 w2: 0.519 b: 0.449 Cost: 0.274227\n",
            "Epoch  700/1000 w1: 1.042 w2: 0.519 b: 0.449 Cost: 0.274253\n",
            "Epoch  800/1000 w1: 1.042 w2: 0.519 b: 0.449 Cost: 0.274280\n",
            "Epoch  900/1000 w1: 1.042 w2: 0.519 b: 0.449 Cost: 0.274307\n",
            "Epoch 1000/1000 w1: 1.042 w2: 0.519 b: 0.449 Cost: 0.274334\n",
            "Epoch    0/1000 w1: 1.042 w2: 0.519 b: 0.449 Cost: 0.274334\n",
            "Epoch  100/1000 w1: 1.042 w2: 0.519 b: 0.449 Cost: 0.274361\n",
            "Epoch  200/1000 w1: 1.042 w2: 0.519 b: 0.449 Cost: 0.274388\n",
            "Epoch  300/1000 w1: 1.042 w2: 0.519 b: 0.449 Cost: 0.274415\n",
            "Epoch  400/1000 w1: 1.042 w2: 0.519 b: 0.449 Cost: 0.274441\n",
            "Epoch  500/1000 w1: 1.042 w2: 0.519 b: 0.449 Cost: 0.274468\n",
            "Epoch  600/1000 w1: 1.042 w2: 0.519 b: 0.449 Cost: 0.274495\n",
            "Epoch  700/1000 w1: 1.042 w2: 0.519 b: 0.450 Cost: 0.274522\n",
            "Epoch  800/1000 w1: 1.042 w2: 0.519 b: 0.450 Cost: 0.274549\n",
            "Epoch  900/1000 w1: 1.042 w2: 0.519 b: 0.450 Cost: 0.274576\n",
            "Epoch 1000/1000 w1: 1.042 w2: 0.519 b: 0.450 Cost: 0.274602\n",
            "Epoch    0/1000 w1: 1.042 w2: 0.519 b: 0.450 Cost: 0.274603\n",
            "Epoch  100/1000 w1: 1.042 w2: 0.519 b: 0.450 Cost: 0.274629\n",
            "Epoch  200/1000 w1: 1.042 w2: 0.519 b: 0.450 Cost: 0.274656\n",
            "Epoch  300/1000 w1: 1.042 w2: 0.519 b: 0.450 Cost: 0.274683\n",
            "Epoch  400/1000 w1: 1.042 w2: 0.519 b: 0.450 Cost: 0.274710\n",
            "Epoch  500/1000 w1: 1.042 w2: 0.519 b: 0.450 Cost: 0.274737\n",
            "Epoch  600/1000 w1: 1.042 w2: 0.519 b: 0.450 Cost: 0.274764\n",
            "Epoch  700/1000 w1: 1.042 w2: 0.519 b: 0.450 Cost: 0.274790\n",
            "Epoch  800/1000 w1: 1.042 w2: 0.519 b: 0.450 Cost: 0.274817\n",
            "Epoch  900/1000 w1: 1.042 w2: 0.519 b: 0.450 Cost: 0.274844\n",
            "Epoch 1000/1000 w1: 1.042 w2: 0.519 b: 0.450 Cost: 0.274871\n",
            "Epoch    0/1000 w1: 1.042 w2: 0.519 b: 0.450 Cost: 0.274871\n",
            "Epoch  100/1000 w1: 1.042 w2: 0.519 b: 0.450 Cost: 0.274898\n",
            "Epoch  200/1000 w1: 1.042 w2: 0.519 b: 0.450 Cost: 0.274925\n",
            "Epoch  300/1000 w1: 1.042 w2: 0.519 b: 0.450 Cost: 0.274952\n",
            "Epoch  400/1000 w1: 1.042 w2: 0.519 b: 0.450 Cost: 0.274978\n",
            "Epoch  500/1000 w1: 1.041 w2: 0.519 b: 0.450 Cost: 0.275005\n",
            "Epoch  600/1000 w1: 1.041 w2: 0.519 b: 0.450 Cost: 0.275032\n",
            "Epoch  700/1000 w1: 1.041 w2: 0.519 b: 0.450 Cost: 0.275059\n",
            "Epoch  800/1000 w1: 1.041 w2: 0.519 b: 0.450 Cost: 0.275086\n",
            "Epoch  900/1000 w1: 1.041 w2: 0.519 b: 0.450 Cost: 0.275113\n",
            "Epoch 1000/1000 w1: 1.041 w2: 0.519 b: 0.450 Cost: 0.275139\n",
            "Epoch    0/1000 w1: 1.041 w2: 0.519 b: 0.450 Cost: 0.275140\n",
            "Epoch  100/1000 w1: 1.041 w2: 0.519 b: 0.450 Cost: 0.275166\n",
            "Epoch  200/1000 w1: 1.041 w2: 0.519 b: 0.450 Cost: 0.275193\n",
            "Epoch  300/1000 w1: 1.041 w2: 0.519 b: 0.450 Cost: 0.275220\n",
            "Epoch  400/1000 w1: 1.041 w2: 0.519 b: 0.450 Cost: 0.275247\n",
            "Epoch  500/1000 w1: 1.041 w2: 0.519 b: 0.450 Cost: 0.275274\n",
            "Epoch  600/1000 w1: 1.041 w2: 0.519 b: 0.450 Cost: 0.275301\n",
            "Epoch  700/1000 w1: 1.041 w2: 0.519 b: 0.450 Cost: 0.275327\n",
            "Epoch  800/1000 w1: 1.041 w2: 0.519 b: 0.450 Cost: 0.275354\n",
            "Epoch  900/1000 w1: 1.041 w2: 0.519 b: 0.450 Cost: 0.275381\n",
            "Epoch 1000/1000 w1: 1.041 w2: 0.519 b: 0.450 Cost: 0.275408\n",
            "Epoch    0/1000 w1: 1.041 w2: 0.519 b: 0.450 Cost: 0.275408\n",
            "Epoch  100/1000 w1: 1.041 w2: 0.519 b: 0.450 Cost: 0.275435\n",
            "Epoch  200/1000 w1: 1.041 w2: 0.519 b: 0.450 Cost: 0.275462\n",
            "Epoch  300/1000 w1: 1.041 w2: 0.519 b: 0.450 Cost: 0.275489\n",
            "Epoch  400/1000 w1: 1.041 w2: 0.519 b: 0.450 Cost: 0.275515\n",
            "Epoch  500/1000 w1: 1.041 w2: 0.519 b: 0.450 Cost: 0.275542\n",
            "Epoch  600/1000 w1: 1.041 w2: 0.519 b: 0.450 Cost: 0.275569\n",
            "Epoch  700/1000 w1: 1.041 w2: 0.519 b: 0.450 Cost: 0.275596\n",
            "Epoch  800/1000 w1: 1.041 w2: 0.519 b: 0.450 Cost: 0.275623\n",
            "Epoch  900/1000 w1: 1.041 w2: 0.519 b: 0.450 Cost: 0.275650\n",
            "Epoch 1000/1000 w1: 1.041 w2: 0.519 b: 0.450 Cost: 0.275676\n",
            "Epoch    0/1000 w1: 1.041 w2: 0.519 b: 0.450 Cost: 0.275677\n",
            "Epoch  100/1000 w1: 1.041 w2: 0.519 b: 0.450 Cost: 0.275703\n",
            "Epoch  200/1000 w1: 1.041 w2: 0.519 b: 0.450 Cost: 0.275730\n",
            "Epoch  300/1000 w1: 1.041 w2: 0.519 b: 0.450 Cost: 0.275757\n",
            "Epoch  400/1000 w1: 1.041 w2: 0.519 b: 0.450 Cost: 0.275784\n",
            "Epoch  500/1000 w1: 1.041 w2: 0.519 b: 0.450 Cost: 0.275811\n",
            "Epoch  600/1000 w1: 1.041 w2: 0.519 b: 0.450 Cost: 0.275838\n",
            "Epoch  700/1000 w1: 1.041 w2: 0.519 b: 0.450 Cost: 0.275864\n",
            "Epoch  800/1000 w1: 1.041 w2: 0.519 b: 0.450 Cost: 0.275891\n",
            "Epoch  900/1000 w1: 1.041 w2: 0.519 b: 0.450 Cost: 0.275918\n",
            "Epoch 1000/1000 w1: 1.041 w2: 0.519 b: 0.450 Cost: 0.275945\n",
            "Epoch    0/1000 w1: 1.041 w2: 0.519 b: 0.450 Cost: 0.275945\n",
            "Epoch  100/1000 w1: 1.041 w2: 0.519 b: 0.450 Cost: 0.275972\n",
            "Epoch  200/1000 w1: 1.041 w2: 0.519 b: 0.450 Cost: 0.275999\n",
            "Epoch  300/1000 w1: 1.041 w2: 0.519 b: 0.450 Cost: 0.276026\n",
            "Epoch  400/1000 w1: 1.041 w2: 0.519 b: 0.450 Cost: 0.276052\n",
            "Epoch  500/1000 w1: 1.041 w2: 0.519 b: 0.450 Cost: 0.276079\n",
            "Epoch  600/1000 w1: 1.041 w2: 0.519 b: 0.450 Cost: 0.276106\n",
            "Epoch  700/1000 w1: 1.041 w2: 0.519 b: 0.450 Cost: 0.276133\n",
            "Epoch  800/1000 w1: 1.041 w2: 0.519 b: 0.450 Cost: 0.276160\n",
            "Epoch  900/1000 w1: 1.041 w2: 0.519 b: 0.450 Cost: 0.276186\n",
            "Epoch 1000/1000 w1: 1.041 w2: 0.519 b: 0.450 Cost: 0.276213\n",
            "Epoch    0/1000 w1: 1.041 w2: 0.519 b: 0.450 Cost: 0.276214\n",
            "Epoch  100/1000 w1: 1.041 w2: 0.519 b: 0.450 Cost: 0.276240\n",
            "Epoch  200/1000 w1: 1.041 w2: 0.519 b: 0.450 Cost: 0.276267\n",
            "Epoch  300/1000 w1: 1.041 w2: 0.519 b: 0.450 Cost: 0.276294\n",
            "Epoch  400/1000 w1: 1.041 w2: 0.519 b: 0.450 Cost: 0.276321\n",
            "Epoch  500/1000 w1: 1.041 w2: 0.519 b: 0.450 Cost: 0.276348\n",
            "Epoch  600/1000 w1: 1.041 w2: 0.519 b: 0.450 Cost: 0.276375\n",
            "Epoch  700/1000 w1: 1.041 w2: 0.519 b: 0.450 Cost: 0.276401\n",
            "Epoch  800/1000 w1: 1.041 w2: 0.519 b: 0.450 Cost: 0.276428\n",
            "Epoch  900/1000 w1: 1.041 w2: 0.519 b: 0.450 Cost: 0.276455\n",
            "Epoch 1000/1000 w1: 1.041 w2: 0.519 b: 0.450 Cost: 0.276482\n",
            "Epoch    0/1000 w1: 1.041 w2: 0.519 b: 0.450 Cost: 0.276482\n",
            "Epoch  100/1000 w1: 1.041 w2: 0.519 b: 0.450 Cost: 0.276509\n",
            "Epoch  200/1000 w1: 1.041 w2: 0.519 b: 0.450 Cost: 0.276536\n",
            "Epoch  300/1000 w1: 1.041 w2: 0.519 b: 0.450 Cost: 0.276563\n",
            "Epoch  400/1000 w1: 1.041 w2: 0.519 b: 0.450 Cost: 0.276589\n",
            "Epoch  500/1000 w1: 1.041 w2: 0.519 b: 0.450 Cost: 0.276616\n",
            "Epoch  600/1000 w1: 1.041 w2: 0.519 b: 0.450 Cost: 0.276643\n",
            "Epoch  700/1000 w1: 1.041 w2: 0.519 b: 0.450 Cost: 0.276670\n",
            "Epoch  800/1000 w1: 1.041 w2: 0.519 b: 0.450 Cost: 0.276697\n",
            "Epoch  900/1000 w1: 1.041 w2: 0.519 b: 0.450 Cost: 0.276723\n",
            "Epoch 1000/1000 w1: 1.041 w2: 0.519 b: 0.450 Cost: 0.276750\n",
            "Epoch    0/1000 w1: 1.041 w2: 0.519 b: 0.450 Cost: 0.276751\n",
            "Epoch  100/1000 w1: 1.041 w2: 0.519 b: 0.450 Cost: 0.276777\n",
            "Epoch  200/1000 w1: 1.041 w2: 0.519 b: 0.450 Cost: 0.276804\n",
            "Epoch  300/1000 w1: 1.041 w2: 0.519 b: 0.450 Cost: 0.276831\n",
            "Epoch  400/1000 w1: 1.041 w2: 0.519 b: 0.450 Cost: 0.276858\n",
            "Epoch  500/1000 w1: 1.041 w2: 0.519 b: 0.450 Cost: 0.276885\n",
            "Epoch  600/1000 w1: 1.041 w2: 0.519 b: 0.450 Cost: 0.276911\n",
            "Epoch  700/1000 w1: 1.041 w2: 0.519 b: 0.450 Cost: 0.276938\n",
            "Epoch  800/1000 w1: 1.041 w2: 0.519 b: 0.450 Cost: 0.276965\n",
            "Epoch  900/1000 w1: 1.041 w2: 0.519 b: 0.450 Cost: 0.276992\n",
            "Epoch 1000/1000 w1: 1.041 w2: 0.519 b: 0.450 Cost: 0.277019\n",
            "Epoch    0/1000 w1: 1.041 w2: 0.519 b: 0.450 Cost: 0.277019\n",
            "Epoch  100/1000 w1: 1.041 w2: 0.519 b: 0.450 Cost: 0.277046\n",
            "Epoch  200/1000 w1: 1.041 w2: 0.519 b: 0.450 Cost: 0.277073\n",
            "Epoch  300/1000 w1: 1.041 w2: 0.519 b: 0.450 Cost: 0.277100\n",
            "Epoch  400/1000 w1: 1.041 w2: 0.519 b: 0.450 Cost: 0.277126\n",
            "Epoch  500/1000 w1: 1.041 w2: 0.519 b: 0.450 Cost: 0.277153\n",
            "Epoch  600/1000 w1: 1.041 w2: 0.519 b: 0.450 Cost: 0.277180\n",
            "Epoch  700/1000 w1: 1.041 w2: 0.519 b: 0.450 Cost: 0.277207\n",
            "Epoch  800/1000 w1: 1.041 w2: 0.519 b: 0.450 Cost: 0.277234\n",
            "Epoch  900/1000 w1: 1.041 w2: 0.519 b: 0.450 Cost: 0.277260\n",
            "Epoch 1000/1000 w1: 1.041 w2: 0.519 b: 0.450 Cost: 0.277287\n",
            "Epoch    0/1000 w1: 1.041 w2: 0.519 b: 0.450 Cost: 0.277288\n",
            "Epoch  100/1000 w1: 1.041 w2: 0.519 b: 0.450 Cost: 0.277314\n",
            "Epoch  200/1000 w1: 1.041 w2: 0.519 b: 0.450 Cost: 0.277341\n",
            "Epoch  300/1000 w1: 1.041 w2: 0.519 b: 0.450 Cost: 0.277368\n",
            "Epoch  400/1000 w1: 1.041 w2: 0.519 b: 0.450 Cost: 0.277395\n",
            "Epoch  500/1000 w1: 1.041 w2: 0.519 b: 0.450 Cost: 0.277422\n",
            "Epoch  600/1000 w1: 1.041 w2: 0.519 b: 0.450 Cost: 0.277448\n",
            "Epoch  700/1000 w1: 1.041 w2: 0.519 b: 0.450 Cost: 0.277475\n",
            "Epoch  800/1000 w1: 1.041 w2: 0.519 b: 0.450 Cost: 0.277502\n",
            "Epoch  900/1000 w1: 1.041 w2: 0.519 b: 0.450 Cost: 0.277529\n",
            "Epoch 1000/1000 w1: 1.041 w2: 0.519 b: 0.450 Cost: 0.277556\n",
            "Epoch    0/1000 w1: 1.041 w2: 0.519 b: 0.450 Cost: 0.277556\n",
            "Epoch  100/1000 w1: 1.041 w2: 0.519 b: 0.450 Cost: 0.277583\n",
            "Epoch  200/1000 w1: 1.041 w2: 0.519 b: 0.450 Cost: 0.277610\n",
            "Epoch  300/1000 w1: 1.041 w2: 0.519 b: 0.450 Cost: 0.277636\n",
            "Epoch  400/1000 w1: 1.041 w2: 0.519 b: 0.450 Cost: 0.277663\n",
            "Epoch  500/1000 w1: 1.041 w2: 0.519 b: 0.450 Cost: 0.277690\n",
            "Epoch  600/1000 w1: 1.041 w2: 0.519 b: 0.450 Cost: 0.277717\n",
            "Epoch  700/1000 w1: 1.041 w2: 0.519 b: 0.450 Cost: 0.277744\n",
            "Epoch  800/1000 w1: 1.041 w2: 0.519 b: 0.450 Cost: 0.277771\n",
            "Epoch  900/1000 w1: 1.041 w2: 0.519 b: 0.450 Cost: 0.277797\n",
            "Epoch 1000/1000 w1: 1.041 w2: 0.519 b: 0.450 Cost: 0.277824\n",
            "Epoch    0/1000 w1: 1.041 w2: 0.519 b: 0.450 Cost: 0.277825\n",
            "Epoch  100/1000 w1: 1.041 w2: 0.519 b: 0.450 Cost: 0.277851\n",
            "Epoch  200/1000 w1: 1.041 w2: 0.519 b: 0.450 Cost: 0.277878\n",
            "Epoch  300/1000 w1: 1.041 w2: 0.519 b: 0.450 Cost: 0.277905\n",
            "Epoch  400/1000 w1: 1.041 w2: 0.519 b: 0.450 Cost: 0.277932\n",
            "Epoch  500/1000 w1: 1.041 w2: 0.519 b: 0.450 Cost: 0.277959\n",
            "Epoch  600/1000 w1: 1.041 w2: 0.519 b: 0.450 Cost: 0.277985\n",
            "Epoch  700/1000 w1: 1.041 w2: 0.519 b: 0.450 Cost: 0.278012\n",
            "Epoch  800/1000 w1: 1.041 w2: 0.519 b: 0.450 Cost: 0.278039\n",
            "Epoch  900/1000 w1: 1.041 w2: 0.519 b: 0.450 Cost: 0.278066\n",
            "Epoch 1000/1000 w1: 1.041 w2: 0.519 b: 0.450 Cost: 0.278093\n",
            "Epoch    0/1000 w1: 1.041 w2: 0.519 b: 0.450 Cost: 0.278093\n",
            "Epoch  100/1000 w1: 1.041 w2: 0.519 b: 0.450 Cost: 0.278120\n",
            "Epoch  200/1000 w1: 1.041 w2: 0.519 b: 0.450 Cost: 0.278147\n",
            "Epoch  300/1000 w1: 1.041 w2: 0.519 b: 0.450 Cost: 0.278173\n",
            "Epoch  400/1000 w1: 1.041 w2: 0.519 b: 0.450 Cost: 0.278200\n",
            "Epoch  500/1000 w1: 1.041 w2: 0.519 b: 0.450 Cost: 0.278227\n",
            "Epoch  600/1000 w1: 1.041 w2: 0.519 b: 0.450 Cost: 0.278254\n",
            "Epoch  700/1000 w1: 1.041 w2: 0.519 b: 0.450 Cost: 0.278281\n",
            "Epoch  800/1000 w1: 1.041 w2: 0.519 b: 0.450 Cost: 0.278308\n",
            "Epoch  900/1000 w1: 1.041 w2: 0.519 b: 0.450 Cost: 0.278334\n",
            "Epoch 1000/1000 w1: 1.041 w2: 0.519 b: 0.450 Cost: 0.278361\n",
            "Epoch    0/1000 w1: 1.041 w2: 0.519 b: 0.450 Cost: 0.278361\n",
            "Epoch  100/1000 w1: 1.041 w2: 0.519 b: 0.450 Cost: 0.278388\n",
            "Epoch  200/1000 w1: 1.041 w2: 0.519 b: 0.450 Cost: 0.278415\n",
            "Epoch  300/1000 w1: 1.041 w2: 0.519 b: 0.450 Cost: 0.278442\n",
            "Epoch  400/1000 w1: 1.041 w2: 0.519 b: 0.450 Cost: 0.278469\n",
            "Epoch  500/1000 w1: 1.041 w2: 0.519 b: 0.450 Cost: 0.278496\n",
            "Epoch  600/1000 w1: 1.041 w2: 0.519 b: 0.450 Cost: 0.278522\n",
            "Epoch  700/1000 w1: 1.041 w2: 0.519 b: 0.450 Cost: 0.278549\n",
            "Epoch  800/1000 w1: 1.041 w2: 0.519 b: 0.450 Cost: 0.278576\n",
            "Epoch  900/1000 w1: 1.041 w2: 0.519 b: 0.450 Cost: 0.278603\n",
            "Epoch 1000/1000 w1: 1.041 w2: 0.519 b: 0.450 Cost: 0.278630\n",
            "Epoch    0/1000 w1: 1.041 w2: 0.519 b: 0.450 Cost: 0.278630\n",
            "Epoch  100/1000 w1: 1.041 w2: 0.519 b: 0.450 Cost: 0.278657\n",
            "Epoch  200/1000 w1: 1.041 w2: 0.519 b: 0.450 Cost: 0.278684\n",
            "Epoch  300/1000 w1: 1.041 w2: 0.519 b: 0.450 Cost: 0.278710\n",
            "Epoch  400/1000 w1: 1.041 w2: 0.519 b: 0.450 Cost: 0.278737\n",
            "Epoch  500/1000 w1: 1.041 w2: 0.519 b: 0.450 Cost: 0.278764\n",
            "Epoch  600/1000 w1: 1.041 w2: 0.519 b: 0.450 Cost: 0.278791\n",
            "Epoch  700/1000 w1: 1.041 w2: 0.519 b: 0.450 Cost: 0.278818\n",
            "Epoch  800/1000 w1: 1.041 w2: 0.519 b: 0.450 Cost: 0.278845\n",
            "Epoch  900/1000 w1: 1.041 w2: 0.519 b: 0.450 Cost: 0.278871\n",
            "Epoch 1000/1000 w1: 1.041 w2: 0.519 b: 0.450 Cost: 0.278898\n",
            "Epoch    0/1000 w1: 1.041 w2: 0.519 b: 0.450 Cost: 0.278898\n",
            "Epoch  100/1000 w1: 1.041 w2: 0.519 b: 0.450 Cost: 0.278925\n",
            "Epoch  200/1000 w1: 1.041 w2: 0.519 b: 0.450 Cost: 0.278952\n",
            "Epoch  300/1000 w1: 1.041 w2: 0.519 b: 0.450 Cost: 0.278979\n",
            "Epoch  400/1000 w1: 1.041 w2: 0.519 b: 0.450 Cost: 0.279006\n",
            "Epoch  500/1000 w1: 1.041 w2: 0.519 b: 0.450 Cost: 0.279033\n",
            "Epoch  600/1000 w1: 1.041 w2: 0.519 b: 0.450 Cost: 0.279059\n",
            "Epoch  700/1000 w1: 1.041 w2: 0.519 b: 0.450 Cost: 0.279086\n",
            "Epoch  800/1000 w1: 1.041 w2: 0.519 b: 0.450 Cost: 0.279113\n",
            "Epoch  900/1000 w1: 1.041 w2: 0.519 b: 0.450 Cost: 0.279140\n",
            "Epoch 1000/1000 w1: 1.041 w2: 0.519 b: 0.450 Cost: 0.279167\n",
            "Epoch    0/1000 w1: 1.041 w2: 0.519 b: 0.450 Cost: 0.279167\n",
            "Epoch  100/1000 w1: 1.041 w2: 0.519 b: 0.450 Cost: 0.279194\n",
            "Epoch  200/1000 w1: 1.041 w2: 0.519 b: 0.450 Cost: 0.279221\n",
            "Epoch  300/1000 w1: 1.041 w2: 0.519 b: 0.450 Cost: 0.279247\n",
            "Epoch  400/1000 w1: 1.041 w2: 0.519 b: 0.450 Cost: 0.279274\n",
            "Epoch  500/1000 w1: 1.041 w2: 0.519 b: 0.450 Cost: 0.279301\n",
            "Epoch  600/1000 w1: 1.041 w2: 0.519 b: 0.450 Cost: 0.279328\n",
            "Epoch  700/1000 w1: 1.041 w2: 0.519 b: 0.450 Cost: 0.279355\n",
            "Epoch  800/1000 w1: 1.041 w2: 0.519 b: 0.450 Cost: 0.279382\n",
            "Epoch  900/1000 w1: 1.041 w2: 0.519 b: 0.450 Cost: 0.279408\n",
            "Epoch 1000/1000 w1: 1.041 w2: 0.519 b: 0.450 Cost: 0.279435\n",
            "Epoch    0/1000 w1: 1.041 w2: 0.519 b: 0.450 Cost: 0.279435\n",
            "Epoch  100/1000 w1: 1.041 w2: 0.519 b: 0.450 Cost: 0.279462\n",
            "Epoch  200/1000 w1: 1.041 w2: 0.519 b: 0.450 Cost: 0.279489\n",
            "Epoch  300/1000 w1: 1.041 w2: 0.519 b: 0.450 Cost: 0.279516\n",
            "Epoch  400/1000 w1: 1.041 w2: 0.519 b: 0.450 Cost: 0.279543\n",
            "Epoch  500/1000 w1: 1.041 w2: 0.519 b: 0.450 Cost: 0.279570\n",
            "Epoch  600/1000 w1: 1.041 w2: 0.519 b: 0.450 Cost: 0.279596\n",
            "Epoch  700/1000 w1: 1.041 w2: 0.519 b: 0.450 Cost: 0.279623\n",
            "Epoch  800/1000 w1: 1.041 w2: 0.519 b: 0.450 Cost: 0.279650\n",
            "Epoch  900/1000 w1: 1.041 w2: 0.519 b: 0.450 Cost: 0.279677\n",
            "Epoch 1000/1000 w1: 1.041 w2: 0.519 b: 0.450 Cost: 0.279704\n",
            "Epoch    0/1000 w1: 1.041 w2: 0.519 b: 0.450 Cost: 0.279704\n",
            "Epoch  100/1000 w1: 1.041 w2: 0.519 b: 0.450 Cost: 0.279731\n",
            "Epoch  200/1000 w1: 1.041 w2: 0.519 b: 0.450 Cost: 0.279758\n",
            "Epoch  300/1000 w1: 1.041 w2: 0.519 b: 0.450 Cost: 0.279784\n",
            "Epoch  400/1000 w1: 1.041 w2: 0.519 b: 0.450 Cost: 0.279811\n",
            "Epoch  500/1000 w1: 1.041 w2: 0.519 b: 0.450 Cost: 0.279838\n",
            "Epoch  600/1000 w1: 1.041 w2: 0.519 b: 0.450 Cost: 0.279865\n",
            "Epoch  700/1000 w1: 1.041 w2: 0.519 b: 0.450 Cost: 0.279892\n",
            "Epoch  800/1000 w1: 1.041 w2: 0.519 b: 0.450 Cost: 0.279919\n",
            "Epoch  900/1000 w1: 1.041 w2: 0.519 b: 0.450 Cost: 0.279945\n",
            "Epoch 1000/1000 w1: 1.041 w2: 0.519 b: 0.450 Cost: 0.279972\n",
            "Epoch    0/1000 w1: 1.041 w2: 0.519 b: 0.450 Cost: 0.279972\n",
            "Epoch  100/1000 w1: 1.041 w2: 0.519 b: 0.450 Cost: 0.279999\n",
            "Epoch  200/1000 w1: 1.041 w2: 0.519 b: 0.450 Cost: 0.280026\n",
            "Epoch  300/1000 w1: 1.041 w2: 0.519 b: 0.450 Cost: 0.280053\n",
            "Epoch  400/1000 w1: 1.041 w2: 0.519 b: 0.450 Cost: 0.280080\n",
            "Epoch  500/1000 w1: 1.041 w2: 0.519 b: 0.450 Cost: 0.280107\n",
            "Epoch  600/1000 w1: 1.041 w2: 0.519 b: 0.450 Cost: 0.280133\n",
            "Epoch  700/1000 w1: 1.041 w2: 0.519 b: 0.450 Cost: 0.280160\n",
            "Epoch  800/1000 w1: 1.041 w2: 0.519 b: 0.450 Cost: 0.280187\n",
            "Epoch  900/1000 w1: 1.041 w2: 0.519 b: 0.450 Cost: 0.280214\n",
            "Epoch 1000/1000 w1: 1.041 w2: 0.519 b: 0.450 Cost: 0.280241\n",
            "Epoch    0/1000 w1: 1.041 w2: 0.519 b: 0.450 Cost: 0.280241\n",
            "Epoch  100/1000 w1: 1.041 w2: 0.519 b: 0.450 Cost: 0.280268\n",
            "Epoch  200/1000 w1: 1.041 w2: 0.519 b: 0.450 Cost: 0.280295\n",
            "Epoch  300/1000 w1: 1.041 w2: 0.519 b: 0.450 Cost: 0.280321\n",
            "Epoch  400/1000 w1: 1.041 w2: 0.519 b: 0.450 Cost: 0.280348\n",
            "Epoch  500/1000 w1: 1.041 w2: 0.519 b: 0.450 Cost: 0.280375\n",
            "Epoch  600/1000 w1: 1.041 w2: 0.519 b: 0.450 Cost: 0.280402\n",
            "Epoch  700/1000 w1: 1.041 w2: 0.519 b: 0.450 Cost: 0.280429\n",
            "Epoch  800/1000 w1: 1.041 w2: 0.519 b: 0.450 Cost: 0.280455\n",
            "Epoch  900/1000 w1: 1.041 w2: 0.519 b: 0.450 Cost: 0.280482\n",
            "Epoch 1000/1000 w1: 1.041 w2: 0.519 b: 0.450 Cost: 0.280509\n",
            "Epoch    0/1000 w1: 1.041 w2: 0.519 b: 0.450 Cost: 0.280509\n",
            "Epoch  100/1000 w1: 1.041 w2: 0.519 b: 0.450 Cost: 0.280536\n",
            "Epoch  200/1000 w1: 1.041 w2: 0.519 b: 0.450 Cost: 0.280563\n",
            "Epoch  300/1000 w1: 1.041 w2: 0.519 b: 0.450 Cost: 0.280590\n",
            "Epoch  400/1000 w1: 1.041 w2: 0.519 b: 0.450 Cost: 0.280617\n",
            "Epoch  500/1000 w1: 1.041 w2: 0.519 b: 0.450 Cost: 0.280644\n",
            "Epoch  600/1000 w1: 1.041 w2: 0.519 b: 0.450 Cost: 0.280670\n",
            "Epoch  700/1000 w1: 1.041 w2: 0.519 b: 0.450 Cost: 0.280697\n",
            "Epoch  800/1000 w1: 1.041 w2: 0.519 b: 0.450 Cost: 0.280724\n",
            "Epoch  900/1000 w1: 1.041 w2: 0.519 b: 0.450 Cost: 0.280751\n",
            "Epoch 1000/1000 w1: 1.041 w2: 0.519 b: 0.450 Cost: 0.280778\n",
            "Epoch    0/1000 w1: 1.041 w2: 0.519 b: 0.450 Cost: 0.280778\n",
            "Epoch  100/1000 w1: 1.041 w2: 0.519 b: 0.450 Cost: 0.280805\n",
            "Epoch  200/1000 w1: 1.041 w2: 0.519 b: 0.450 Cost: 0.280832\n",
            "Epoch  300/1000 w1: 1.041 w2: 0.519 b: 0.450 Cost: 0.280858\n",
            "Epoch  400/1000 w1: 1.041 w2: 0.519 b: 0.450 Cost: 0.280885\n",
            "Epoch  500/1000 w1: 1.041 w2: 0.519 b: 0.450 Cost: 0.280912\n",
            "Epoch  600/1000 w1: 1.041 w2: 0.519 b: 0.450 Cost: 0.280939\n",
            "Epoch  700/1000 w1: 1.041 w2: 0.519 b: 0.450 Cost: 0.280966\n",
            "Epoch  800/1000 w1: 1.041 w2: 0.519 b: 0.450 Cost: 0.280992\n",
            "Epoch  900/1000 w1: 1.041 w2: 0.519 b: 0.450 Cost: 0.281019\n",
            "Epoch 1000/1000 w1: 1.041 w2: 0.519 b: 0.450 Cost: 0.281046\n",
            "Epoch    0/1000 w1: 1.041 w2: 0.519 b: 0.450 Cost: 0.281046\n",
            "Epoch  100/1000 w1: 1.041 w2: 0.519 b: 0.450 Cost: 0.281073\n",
            "Epoch  200/1000 w1: 1.041 w2: 0.519 b: 0.450 Cost: 0.281100\n",
            "Epoch  300/1000 w1: 1.041 w2: 0.519 b: 0.450 Cost: 0.281127\n",
            "Epoch  400/1000 w1: 1.041 w2: 0.519 b: 0.450 Cost: 0.281154\n",
            "Epoch  500/1000 w1: 1.041 w2: 0.519 b: 0.450 Cost: 0.281181\n",
            "Epoch  600/1000 w1: 1.041 w2: 0.519 b: 0.450 Cost: 0.281207\n",
            "Epoch  700/1000 w1: 1.041 w2: 0.519 b: 0.450 Cost: 0.281234\n",
            "Epoch  800/1000 w1: 1.041 w2: 0.519 b: 0.450 Cost: 0.281261\n",
            "Epoch  900/1000 w1: 1.041 w2: 0.519 b: 0.450 Cost: 0.281288\n",
            "Epoch 1000/1000 w1: 1.041 w2: 0.519 b: 0.450 Cost: 0.281315\n",
            "Epoch    0/1000 w1: 1.041 w2: 0.519 b: 0.450 Cost: 0.281315\n",
            "Epoch  100/1000 w1: 1.041 w2: 0.519 b: 0.450 Cost: 0.281342\n",
            "Epoch  200/1000 w1: 1.041 w2: 0.519 b: 0.450 Cost: 0.281369\n",
            "Epoch  300/1000 w1: 1.041 w2: 0.519 b: 0.450 Cost: 0.281395\n",
            "Epoch  400/1000 w1: 1.041 w2: 0.519 b: 0.450 Cost: 0.281422\n",
            "Epoch  500/1000 w1: 1.041 w2: 0.519 b: 0.450 Cost: 0.281449\n",
            "Epoch  600/1000 w1: 1.041 w2: 0.519 b: 0.450 Cost: 0.281476\n",
            "Epoch  700/1000 w1: 1.041 w2: 0.519 b: 0.450 Cost: 0.281503\n",
            "Epoch  800/1000 w1: 1.041 w2: 0.519 b: 0.450 Cost: 0.281529\n",
            "Epoch  900/1000 w1: 1.041 w2: 0.519 b: 0.450 Cost: 0.281556\n",
            "Epoch 1000/1000 w1: 1.041 w2: 0.519 b: 0.450 Cost: 0.281583\n",
            "Epoch    0/1000 w1: 1.041 w2: 0.519 b: 0.450 Cost: 0.281583\n",
            "Epoch  100/1000 w1: 1.041 w2: 0.519 b: 0.450 Cost: 0.281610\n",
            "Epoch  200/1000 w1: 1.041 w2: 0.519 b: 0.450 Cost: 0.281637\n",
            "Epoch  300/1000 w1: 1.041 w2: 0.519 b: 0.450 Cost: 0.281664\n",
            "Epoch  400/1000 w1: 1.041 w2: 0.519 b: 0.450 Cost: 0.281691\n",
            "Epoch  500/1000 w1: 1.041 w2: 0.519 b: 0.450 Cost: 0.281717\n",
            "Epoch  600/1000 w1: 1.041 w2: 0.519 b: 0.450 Cost: 0.281744\n",
            "Epoch  700/1000 w1: 1.041 w2: 0.519 b: 0.450 Cost: 0.281771\n",
            "Epoch  800/1000 w1: 1.041 w2: 0.519 b: 0.450 Cost: 0.281798\n",
            "Epoch  900/1000 w1: 1.041 w2: 0.519 b: 0.450 Cost: 0.281825\n",
            "Epoch 1000/1000 w1: 1.041 w2: 0.519 b: 0.450 Cost: 0.281852\n",
            "Epoch    0/1000 w1: 1.041 w2: 0.519 b: 0.450 Cost: 0.281852\n",
            "Epoch  100/1000 w1: 1.041 w2: 0.519 b: 0.450 Cost: 0.281879\n",
            "Epoch  200/1000 w1: 1.041 w2: 0.519 b: 0.450 Cost: 0.281906\n",
            "Epoch  300/1000 w1: 1.041 w2: 0.519 b: 0.450 Cost: 0.281932\n",
            "Epoch  400/1000 w1: 1.041 w2: 0.519 b: 0.450 Cost: 0.281959\n",
            "Epoch  500/1000 w1: 1.041 w2: 0.519 b: 0.450 Cost: 0.281986\n",
            "Epoch  600/1000 w1: 1.041 w2: 0.519 b: 0.450 Cost: 0.282013\n",
            "Epoch  700/1000 w1: 1.041 w2: 0.519 b: 0.450 Cost: 0.282040\n",
            "Epoch  800/1000 w1: 1.041 w2: 0.519 b: 0.450 Cost: 0.282066\n",
            "Epoch  900/1000 w1: 1.041 w2: 0.519 b: 0.450 Cost: 0.282093\n",
            "Epoch 1000/1000 w1: 1.041 w2: 0.519 b: 0.450 Cost: 0.282120\n",
            "Epoch    0/1000 w1: 1.041 w2: 0.519 b: 0.450 Cost: 0.282120\n",
            "Epoch  100/1000 w1: 1.041 w2: 0.519 b: 0.450 Cost: 0.282147\n",
            "Epoch  200/1000 w1: 1.041 w2: 0.519 b: 0.450 Cost: 0.282174\n",
            "Epoch  300/1000 w1: 1.041 w2: 0.519 b: 0.450 Cost: 0.282201\n",
            "Epoch  400/1000 w1: 1.041 w2: 0.519 b: 0.450 Cost: 0.282228\n",
            "Epoch  500/1000 w1: 1.041 w2: 0.519 b: 0.450 Cost: 0.282254\n",
            "Epoch  600/1000 w1: 1.041 w2: 0.519 b: 0.450 Cost: 0.282281\n",
            "Epoch  700/1000 w1: 1.041 w2: 0.519 b: 0.450 Cost: 0.282308\n",
            "Epoch  800/1000 w1: 1.041 w2: 0.519 b: 0.450 Cost: 0.282335\n",
            "Epoch  900/1000 w1: 1.041 w2: 0.519 b: 0.450 Cost: 0.282362\n",
            "Epoch 1000/1000 w1: 1.041 w2: 0.519 b: 0.450 Cost: 0.282389\n",
            "Epoch    0/1000 w1: 1.041 w2: 0.519 b: 0.450 Cost: 0.282389\n",
            "Epoch  100/1000 w1: 1.041 w2: 0.519 b: 0.450 Cost: 0.282416\n",
            "Epoch  200/1000 w1: 1.041 w2: 0.519 b: 0.450 Cost: 0.282442\n",
            "Epoch  300/1000 w1: 1.041 w2: 0.519 b: 0.450 Cost: 0.282469\n",
            "Epoch  400/1000 w1: 1.041 w2: 0.519 b: 0.450 Cost: 0.282496\n",
            "Epoch  500/1000 w1: 1.041 w2: 0.519 b: 0.450 Cost: 0.282523\n",
            "Epoch  600/1000 w1: 1.041 w2: 0.519 b: 0.450 Cost: 0.282550\n",
            "Epoch  700/1000 w1: 1.041 w2: 0.519 b: 0.450 Cost: 0.282577\n",
            "Epoch  800/1000 w1: 1.041 w2: 0.519 b: 0.450 Cost: 0.282603\n",
            "Epoch  900/1000 w1: 1.041 w2: 0.519 b: 0.450 Cost: 0.282630\n",
            "Epoch 1000/1000 w1: 1.041 w2: 0.519 b: 0.450 Cost: 0.282657\n",
            "Epoch    0/1000 w1: 1.041 w2: 0.519 b: 0.450 Cost: 0.282657\n",
            "Epoch  100/1000 w1: 1.041 w2: 0.519 b: 0.450 Cost: 0.282684\n",
            "Epoch  200/1000 w1: 1.041 w2: 0.519 b: 0.450 Cost: 0.282711\n",
            "Epoch  300/1000 w1: 1.041 w2: 0.519 b: 0.450 Cost: 0.282738\n",
            "Epoch  400/1000 w1: 1.041 w2: 0.519 b: 0.450 Cost: 0.282765\n",
            "Epoch  500/1000 w1: 1.041 w2: 0.519 b: 0.450 Cost: 0.282791\n",
            "Epoch  600/1000 w1: 1.041 w2: 0.519 b: 0.450 Cost: 0.282818\n",
            "Epoch  700/1000 w1: 1.041 w2: 0.519 b: 0.450 Cost: 0.282845\n",
            "Epoch  800/1000 w1: 1.041 w2: 0.519 b: 0.450 Cost: 0.282872\n",
            "Epoch  900/1000 w1: 1.041 w2: 0.519 b: 0.450 Cost: 0.282899\n",
            "Epoch 1000/1000 w1: 1.041 w2: 0.519 b: 0.450 Cost: 0.282926\n",
            "Epoch    0/1000 w1: 1.041 w2: 0.519 b: 0.450 Cost: 0.282926\n",
            "Epoch  100/1000 w1: 1.041 w2: 0.519 b: 0.450 Cost: 0.282953\n",
            "Epoch  200/1000 w1: 1.041 w2: 0.519 b: 0.450 Cost: 0.282979\n",
            "Epoch  300/1000 w1: 1.041 w2: 0.519 b: 0.450 Cost: 0.283006\n",
            "Epoch  400/1000 w1: 1.041 w2: 0.519 b: 0.450 Cost: 0.283033\n",
            "Epoch  500/1000 w1: 1.041 w2: 0.519 b: 0.450 Cost: 0.283060\n",
            "Epoch  600/1000 w1: 1.041 w2: 0.519 b: 0.450 Cost: 0.283087\n",
            "Epoch  700/1000 w1: 1.041 w2: 0.519 b: 0.450 Cost: 0.283114\n",
            "Epoch  800/1000 w1: 1.041 w2: 0.519 b: 0.450 Cost: 0.283140\n",
            "Epoch  900/1000 w1: 1.041 w2: 0.519 b: 0.450 Cost: 0.283167\n",
            "Epoch 1000/1000 w1: 1.041 w2: 0.519 b: 0.450 Cost: 0.283194\n",
            "Epoch    0/1000 w1: 1.041 w2: 0.519 b: 0.450 Cost: 0.283194\n",
            "Epoch  100/1000 w1: 1.041 w2: 0.519 b: 0.450 Cost: 0.283221\n",
            "Epoch  200/1000 w1: 1.041 w2: 0.519 b: 0.450 Cost: 0.283248\n",
            "Epoch  300/1000 w1: 1.041 w2: 0.519 b: 0.450 Cost: 0.283275\n",
            "Epoch  400/1000 w1: 1.041 w2: 0.519 b: 0.450 Cost: 0.283302\n",
            "Epoch  500/1000 w1: 1.041 w2: 0.519 b: 0.450 Cost: 0.283328\n",
            "Epoch  600/1000 w1: 1.041 w2: 0.519 b: 0.450 Cost: 0.283355\n",
            "Epoch  700/1000 w1: 1.041 w2: 0.519 b: 0.450 Cost: 0.283382\n",
            "Epoch  800/1000 w1: 1.041 w2: 0.519 b: 0.450 Cost: 0.283409\n",
            "Epoch  900/1000 w1: 1.041 w2: 0.519 b: 0.450 Cost: 0.283436\n",
            "Epoch 1000/1000 w1: 1.041 w2: 0.519 b: 0.450 Cost: 0.283463\n",
            "Epoch    0/1000 w1: 1.041 w2: 0.519 b: 0.450 Cost: 0.283463\n",
            "Epoch  100/1000 w1: 1.041 w2: 0.519 b: 0.450 Cost: 0.283490\n",
            "Epoch  200/1000 w1: 1.041 w2: 0.519 b: 0.450 Cost: 0.283516\n",
            "Epoch  300/1000 w1: 1.041 w2: 0.519 b: 0.450 Cost: 0.283543\n",
            "Epoch  400/1000 w1: 1.041 w2: 0.519 b: 0.450 Cost: 0.283570\n",
            "Epoch  500/1000 w1: 1.041 w2: 0.519 b: 0.450 Cost: 0.283597\n",
            "Epoch  600/1000 w1: 1.041 w2: 0.519 b: 0.450 Cost: 0.283624\n",
            "Epoch  700/1000 w1: 1.041 w2: 0.519 b: 0.450 Cost: 0.283651\n",
            "Epoch  800/1000 w1: 1.041 w2: 0.519 b: 0.450 Cost: 0.283677\n",
            "Epoch  900/1000 w1: 1.041 w2: 0.519 b: 0.450 Cost: 0.283704\n",
            "Epoch 1000/1000 w1: 1.041 w2: 0.519 b: 0.450 Cost: 0.283731\n",
            "Epoch    0/1000 w1: 1.041 w2: 0.519 b: 0.450 Cost: 0.283731\n",
            "Epoch  100/1000 w1: 1.041 w2: 0.519 b: 0.450 Cost: 0.283758\n",
            "Epoch  200/1000 w1: 1.041 w2: 0.519 b: 0.450 Cost: 0.283785\n",
            "Epoch  300/1000 w1: 1.041 w2: 0.519 b: 0.450 Cost: 0.283812\n",
            "Epoch  400/1000 w1: 1.041 w2: 0.519 b: 0.450 Cost: 0.283839\n",
            "Epoch  500/1000 w1: 1.041 w2: 0.519 b: 0.450 Cost: 0.283865\n",
            "Epoch  600/1000 w1: 1.041 w2: 0.519 b: 0.450 Cost: 0.283892\n",
            "Epoch  700/1000 w1: 1.041 w2: 0.519 b: 0.450 Cost: 0.283919\n",
            "Epoch  800/1000 w1: 1.041 w2: 0.519 b: 0.450 Cost: 0.283946\n",
            "Epoch  900/1000 w1: 1.041 w2: 0.519 b: 0.450 Cost: 0.283973\n",
            "Epoch 1000/1000 w1: 1.041 w2: 0.519 b: 0.450 Cost: 0.284000\n",
            "Epoch    0/1000 w1: 1.041 w2: 0.519 b: 0.450 Cost: 0.284000\n",
            "Epoch  100/1000 w1: 1.041 w2: 0.519 b: 0.450 Cost: 0.284027\n",
            "Epoch  200/1000 w1: 1.041 w2: 0.519 b: 0.450 Cost: 0.284053\n",
            "Epoch  300/1000 w1: 1.041 w2: 0.519 b: 0.450 Cost: 0.284080\n",
            "Epoch  400/1000 w1: 1.041 w2: 0.519 b: 0.450 Cost: 0.284107\n",
            "Epoch  500/1000 w1: 1.041 w2: 0.519 b: 0.450 Cost: 0.284134\n",
            "Epoch  600/1000 w1: 1.041 w2: 0.519 b: 0.450 Cost: 0.284161\n",
            "Epoch  700/1000 w1: 1.041 w2: 0.519 b: 0.450 Cost: 0.284188\n",
            "Epoch  800/1000 w1: 1.041 w2: 0.519 b: 0.450 Cost: 0.284214\n",
            "Epoch  900/1000 w1: 1.041 w2: 0.519 b: 0.450 Cost: 0.284241\n",
            "Epoch 1000/1000 w1: 1.041 w2: 0.519 b: 0.450 Cost: 0.284268\n",
            "Epoch    0/1000 w1: 1.041 w2: 0.519 b: 0.450 Cost: 0.284268\n",
            "Epoch  100/1000 w1: 1.041 w2: 0.519 b: 0.450 Cost: 0.284295\n",
            "Epoch  200/1000 w1: 1.041 w2: 0.519 b: 0.450 Cost: 0.284322\n",
            "Epoch  300/1000 w1: 1.041 w2: 0.519 b: 0.450 Cost: 0.284349\n",
            "Epoch  400/1000 w1: 1.041 w2: 0.519 b: 0.450 Cost: 0.284376\n",
            "Epoch  500/1000 w1: 1.041 w2: 0.519 b: 0.450 Cost: 0.284402\n",
            "Epoch  600/1000 w1: 1.041 w2: 0.519 b: 0.450 Cost: 0.284429\n",
            "Epoch  700/1000 w1: 1.041 w2: 0.519 b: 0.450 Cost: 0.284456\n",
            "Epoch  800/1000 w1: 1.041 w2: 0.519 b: 0.450 Cost: 0.284483\n",
            "Epoch  900/1000 w1: 1.041 w2: 0.519 b: 0.450 Cost: 0.284510\n",
            "Epoch 1000/1000 w1: 1.041 w2: 0.519 b: 0.450 Cost: 0.284536\n",
            "Epoch    0/1000 w1: 1.041 w2: 0.519 b: 0.450 Cost: 0.284537\n",
            "Epoch  100/1000 w1: 1.041 w2: 0.519 b: 0.450 Cost: 0.284564\n",
            "Epoch  200/1000 w1: 1.041 w2: 0.519 b: 0.450 Cost: 0.284590\n",
            "Epoch  300/1000 w1: 1.041 w2: 0.519 b: 0.450 Cost: 0.284617\n",
            "Epoch  400/1000 w1: 1.041 w2: 0.519 b: 0.450 Cost: 0.284644\n",
            "Epoch  500/1000 w1: 1.041 w2: 0.519 b: 0.450 Cost: 0.284671\n",
            "Epoch  600/1000 w1: 1.041 w2: 0.519 b: 0.450 Cost: 0.284698\n",
            "Epoch  700/1000 w1: 1.041 w2: 0.519 b: 0.450 Cost: 0.284725\n",
            "Epoch  800/1000 w1: 1.041 w2: 0.519 b: 0.450 Cost: 0.284751\n",
            "Epoch  900/1000 w1: 1.041 w2: 0.519 b: 0.450 Cost: 0.284778\n",
            "Epoch 1000/1000 w1: 1.041 w2: 0.519 b: 0.450 Cost: 0.284805\n",
            "Epoch    0/1000 w1: 1.041 w2: 0.519 b: 0.450 Cost: 0.284805\n",
            "Epoch  100/1000 w1: 1.041 w2: 0.519 b: 0.450 Cost: 0.284832\n",
            "Epoch  200/1000 w1: 1.041 w2: 0.519 b: 0.450 Cost: 0.284859\n",
            "Epoch  300/1000 w1: 1.041 w2: 0.519 b: 0.450 Cost: 0.284886\n",
            "Epoch  400/1000 w1: 1.041 w2: 0.519 b: 0.450 Cost: 0.284913\n",
            "Epoch  500/1000 w1: 1.041 w2: 0.519 b: 0.450 Cost: 0.284939\n",
            "Epoch  600/1000 w1: 1.041 w2: 0.519 b: 0.450 Cost: 0.284966\n",
            "Epoch  700/1000 w1: 1.041 w2: 0.519 b: 0.450 Cost: 0.284993\n",
            "Epoch  800/1000 w1: 1.041 w2: 0.519 b: 0.450 Cost: 0.285020\n",
            "Epoch  900/1000 w1: 1.041 w2: 0.519 b: 0.450 Cost: 0.285047\n",
            "Epoch 1000/1000 w1: 1.041 w2: 0.519 b: 0.450 Cost: 0.285073\n",
            "Epoch    0/1000 w1: 1.041 w2: 0.519 b: 0.450 Cost: 0.285074\n",
            "Epoch  100/1000 w1: 1.041 w2: 0.519 b: 0.450 Cost: 0.285101\n",
            "Epoch  200/1000 w1: 1.041 w2: 0.519 b: 0.450 Cost: 0.285127\n",
            "Epoch  300/1000 w1: 1.041 w2: 0.519 b: 0.450 Cost: 0.285154\n",
            "Epoch  400/1000 w1: 1.041 w2: 0.519 b: 0.450 Cost: 0.285181\n",
            "Epoch  500/1000 w1: 1.041 w2: 0.519 b: 0.450 Cost: 0.285208\n",
            "Epoch  600/1000 w1: 1.041 w2: 0.519 b: 0.450 Cost: 0.285235\n",
            "Epoch  700/1000 w1: 1.041 w2: 0.519 b: 0.450 Cost: 0.285261\n",
            "Epoch  800/1000 w1: 1.041 w2: 0.519 b: 0.450 Cost: 0.285288\n",
            "Epoch  900/1000 w1: 1.041 w2: 0.519 b: 0.450 Cost: 0.285315\n",
            "Epoch 1000/1000 w1: 1.041 w2: 0.519 b: 0.450 Cost: 0.285342\n",
            "Epoch    0/1000 w1: 1.041 w2: 0.519 b: 0.450 Cost: 0.285342\n",
            "Epoch  100/1000 w1: 1.041 w2: 0.519 b: 0.450 Cost: 0.285369\n",
            "Epoch  200/1000 w1: 1.041 w2: 0.519 b: 0.450 Cost: 0.285396\n",
            "Epoch  300/1000 w1: 1.041 w2: 0.519 b: 0.450 Cost: 0.285423\n",
            "Epoch  400/1000 w1: 1.041 w2: 0.519 b: 0.450 Cost: 0.285450\n",
            "Epoch  500/1000 w1: 1.041 w2: 0.519 b: 0.450 Cost: 0.285476\n",
            "Epoch  600/1000 w1: 1.041 w2: 0.519 b: 0.450 Cost: 0.285503\n",
            "Epoch  700/1000 w1: 1.041 w2: 0.519 b: 0.450 Cost: 0.285530\n",
            "Epoch  800/1000 w1: 1.041 w2: 0.519 b: 0.450 Cost: 0.285557\n",
            "Epoch  900/1000 w1: 1.041 w2: 0.519 b: 0.450 Cost: 0.285584\n",
            "Epoch 1000/1000 w1: 1.041 w2: 0.519 b: 0.450 Cost: 0.285610\n",
            "Epoch    0/1000 w1: 1.041 w2: 0.519 b: 0.450 Cost: 0.285611\n",
            "Epoch  100/1000 w1: 1.041 w2: 0.519 b: 0.450 Cost: 0.285638\n",
            "Epoch  200/1000 w1: 1.041 w2: 0.519 b: 0.450 Cost: 0.285664\n",
            "Epoch  300/1000 w1: 1.041 w2: 0.519 b: 0.450 Cost: 0.285691\n",
            "Epoch  400/1000 w1: 1.041 w2: 0.519 b: 0.450 Cost: 0.285718\n",
            "Epoch  500/1000 w1: 1.041 w2: 0.519 b: 0.450 Cost: 0.285745\n",
            "Epoch  600/1000 w1: 1.041 w2: 0.519 b: 0.450 Cost: 0.285772\n",
            "Epoch  700/1000 w1: 1.041 w2: 0.519 b: 0.450 Cost: 0.285798\n",
            "Epoch  800/1000 w1: 1.041 w2: 0.519 b: 0.450 Cost: 0.285825\n",
            "Epoch  900/1000 w1: 1.041 w2: 0.519 b: 0.450 Cost: 0.285852\n",
            "Epoch 1000/1000 w1: 1.041 w2: 0.519 b: 0.450 Cost: 0.285879\n",
            "Epoch    0/1000 w1: 1.041 w2: 0.519 b: 0.450 Cost: 0.285879\n",
            "Epoch  100/1000 w1: 1.041 w2: 0.519 b: 0.450 Cost: 0.285906\n",
            "Epoch  200/1000 w1: 1.041 w2: 0.519 b: 0.450 Cost: 0.285933\n",
            "Epoch  300/1000 w1: 1.041 w2: 0.519 b: 0.450 Cost: 0.285960\n",
            "Epoch  400/1000 w1: 1.041 w2: 0.519 b: 0.450 Cost: 0.285986\n",
            "Epoch  500/1000 w1: 1.041 w2: 0.519 b: 0.450 Cost: 0.286013\n",
            "Epoch  600/1000 w1: 1.041 w2: 0.519 b: 0.450 Cost: 0.286040\n",
            "Epoch  700/1000 w1: 1.041 w2: 0.519 b: 0.450 Cost: 0.286067\n",
            "Epoch  800/1000 w1: 1.041 w2: 0.519 b: 0.450 Cost: 0.286094\n",
            "Epoch  900/1000 w1: 1.041 w2: 0.519 b: 0.450 Cost: 0.286121\n",
            "Epoch 1000/1000 w1: 1.041 w2: 0.519 b: 0.450 Cost: 0.286147\n",
            "Epoch    0/1000 w1: 1.041 w2: 0.519 b: 0.450 Cost: 0.286148\n",
            "Epoch  100/1000 w1: 1.041 w2: 0.519 b: 0.450 Cost: 0.286175\n",
            "Epoch  200/1000 w1: 1.041 w2: 0.519 b: 0.450 Cost: 0.286201\n",
            "Epoch  300/1000 w1: 1.041 w2: 0.519 b: 0.450 Cost: 0.286228\n",
            "Epoch  400/1000 w1: 1.041 w2: 0.519 b: 0.450 Cost: 0.286255\n",
            "Epoch  500/1000 w1: 1.041 w2: 0.519 b: 0.450 Cost: 0.286282\n",
            "Epoch  600/1000 w1: 1.041 w2: 0.519 b: 0.450 Cost: 0.286309\n",
            "Epoch  700/1000 w1: 1.041 w2: 0.519 b: 0.450 Cost: 0.286335\n",
            "Epoch  800/1000 w1: 1.041 w2: 0.519 b: 0.450 Cost: 0.286362\n",
            "Epoch  900/1000 w1: 1.041 w2: 0.519 b: 0.450 Cost: 0.286389\n",
            "Epoch 1000/1000 w1: 1.041 w2: 0.519 b: 0.450 Cost: 0.286416\n",
            "Epoch    0/1000 w1: 1.041 w2: 0.519 b: 0.450 Cost: 0.286416\n",
            "Epoch  100/1000 w1: 1.041 w2: 0.519 b: 0.450 Cost: 0.286443\n",
            "Epoch  200/1000 w1: 1.041 w2: 0.519 b: 0.450 Cost: 0.286470\n",
            "Epoch  300/1000 w1: 1.041 w2: 0.519 b: 0.450 Cost: 0.286497\n",
            "Epoch  400/1000 w1: 1.041 w2: 0.519 b: 0.450 Cost: 0.286523\n",
            "Epoch  500/1000 w1: 1.041 w2: 0.519 b: 0.450 Cost: 0.286550\n",
            "Epoch  600/1000 w1: 1.041 w2: 0.519 b: 0.450 Cost: 0.286577\n",
            "Epoch  700/1000 w1: 1.041 w2: 0.519 b: 0.450 Cost: 0.286604\n",
            "Epoch  800/1000 w1: 1.041 w2: 0.519 b: 0.450 Cost: 0.286631\n",
            "Epoch  900/1000 w1: 1.041 w2: 0.519 b: 0.450 Cost: 0.286658\n",
            "Epoch 1000/1000 w1: 1.041 w2: 0.519 b: 0.450 Cost: 0.286684\n",
            "Epoch    0/1000 w1: 1.041 w2: 0.519 b: 0.450 Cost: 0.286685\n",
            "Epoch  100/1000 w1: 1.041 w2: 0.519 b: 0.450 Cost: 0.286711\n",
            "Epoch  200/1000 w1: 1.041 w2: 0.519 b: 0.450 Cost: 0.286738\n",
            "Epoch  300/1000 w1: 1.041 w2: 0.519 b: 0.450 Cost: 0.286765\n",
            "Epoch  400/1000 w1: 1.041 w2: 0.519 b: 0.450 Cost: 0.286792\n",
            "Epoch  500/1000 w1: 1.041 w2: 0.519 b: 0.450 Cost: 0.286819\n",
            "Epoch  600/1000 w1: 1.041 w2: 0.519 b: 0.450 Cost: 0.286846\n",
            "Epoch  700/1000 w1: 1.041 w2: 0.519 b: 0.450 Cost: 0.286872\n",
            "Epoch  800/1000 w1: 1.041 w2: 0.519 b: 0.450 Cost: 0.286899\n",
            "Epoch  900/1000 w1: 1.041 w2: 0.519 b: 0.450 Cost: 0.286926\n",
            "Epoch 1000/1000 w1: 1.041 w2: 0.519 b: 0.450 Cost: 0.286953\n",
            "Epoch    0/1000 w1: 1.041 w2: 0.519 b: 0.450 Cost: 0.286953\n",
            "Epoch  100/1000 w1: 1.041 w2: 0.519 b: 0.450 Cost: 0.286980\n",
            "Epoch  200/1000 w1: 1.041 w2: 0.519 b: 0.450 Cost: 0.287007\n",
            "Epoch  300/1000 w1: 1.041 w2: 0.519 b: 0.450 Cost: 0.287034\n",
            "Epoch  400/1000 w1: 1.041 w2: 0.519 b: 0.450 Cost: 0.287060\n",
            "Epoch  500/1000 w1: 1.041 w2: 0.519 b: 0.450 Cost: 0.287087\n",
            "Epoch  600/1000 w1: 1.041 w2: 0.519 b: 0.450 Cost: 0.287114\n",
            "Epoch  700/1000 w1: 1.041 w2: 0.519 b: 0.450 Cost: 0.287141\n",
            "Epoch  800/1000 w1: 1.041 w2: 0.519 b: 0.450 Cost: 0.287168\n",
            "Epoch  900/1000 w1: 1.041 w2: 0.519 b: 0.450 Cost: 0.287195\n",
            "Epoch 1000/1000 w1: 1.041 w2: 0.519 b: 0.450 Cost: 0.287221\n",
            "Epoch    0/1000 w1: 1.041 w2: 0.519 b: 0.450 Cost: 0.287222\n",
            "Epoch  100/1000 w1: 1.041 w2: 0.519 b: 0.450 Cost: 0.287248\n",
            "Epoch  200/1000 w1: 1.041 w2: 0.519 b: 0.450 Cost: 0.287275\n",
            "Epoch  300/1000 w1: 1.041 w2: 0.519 b: 0.450 Cost: 0.287302\n",
            "Epoch  400/1000 w1: 1.041 w2: 0.519 b: 0.450 Cost: 0.287329\n",
            "Epoch  500/1000 w1: 1.041 w2: 0.519 b: 0.450 Cost: 0.287356\n",
            "Epoch  600/1000 w1: 1.041 w2: 0.519 b: 0.450 Cost: 0.287383\n",
            "Epoch  700/1000 w1: 1.041 w2: 0.519 b: 0.450 Cost: 0.287409\n",
            "Epoch  800/1000 w1: 1.041 w2: 0.519 b: 0.450 Cost: 0.287436\n",
            "Epoch  900/1000 w1: 1.041 w2: 0.519 b: 0.450 Cost: 0.287463\n",
            "Epoch 1000/1000 w1: 1.041 w2: 0.519 b: 0.450 Cost: 0.287490\n",
            "Epoch    0/1000 w1: 1.041 w2: 0.519 b: 0.450 Cost: 0.287490\n",
            "Epoch  100/1000 w1: 1.041 w2: 0.519 b: 0.450 Cost: 0.287517\n",
            "Epoch  200/1000 w1: 1.041 w2: 0.519 b: 0.450 Cost: 0.287544\n",
            "Epoch  300/1000 w1: 1.041 w2: 0.519 b: 0.450 Cost: 0.287571\n",
            "Epoch  400/1000 w1: 1.041 w2: 0.519 b: 0.450 Cost: 0.287597\n",
            "Epoch  500/1000 w1: 1.041 w2: 0.519 b: 0.450 Cost: 0.287624\n",
            "Epoch  600/1000 w1: 1.041 w2: 0.519 b: 0.450 Cost: 0.287651\n",
            "Epoch  700/1000 w1: 1.041 w2: 0.519 b: 0.450 Cost: 0.287678\n",
            "Epoch  800/1000 w1: 1.041 w2: 0.519 b: 0.450 Cost: 0.287705\n",
            "Epoch  900/1000 w1: 1.041 w2: 0.519 b: 0.450 Cost: 0.287732\n",
            "Epoch 1000/1000 w1: 1.041 w2: 0.519 b: 0.450 Cost: 0.287758\n",
            "Epoch    0/1000 w1: 1.041 w2: 0.519 b: 0.450 Cost: 0.287759\n",
            "Epoch  100/1000 w1: 1.041 w2: 0.519 b: 0.450 Cost: 0.287785\n",
            "Epoch  200/1000 w1: 1.041 w2: 0.519 b: 0.450 Cost: 0.287812\n",
            "Epoch  300/1000 w1: 1.041 w2: 0.519 b: 0.450 Cost: 0.287839\n",
            "Epoch  400/1000 w1: 1.041 w2: 0.519 b: 0.450 Cost: 0.287866\n",
            "Epoch  500/1000 w1: 1.041 w2: 0.519 b: 0.450 Cost: 0.287893\n",
            "Epoch  600/1000 w1: 1.041 w2: 0.519 b: 0.450 Cost: 0.287920\n",
            "Epoch  700/1000 w1: 1.041 w2: 0.519 b: 0.450 Cost: 0.287946\n",
            "Epoch  800/1000 w1: 1.041 w2: 0.519 b: 0.450 Cost: 0.287973\n",
            "Epoch  900/1000 w1: 1.041 w2: 0.519 b: 0.450 Cost: 0.288000\n",
            "Epoch 1000/1000 w1: 1.041 w2: 0.519 b: 0.450 Cost: 0.288027\n",
            "Epoch    0/1000 w1: 1.041 w2: 0.519 b: 0.450 Cost: 0.288027\n",
            "Epoch  100/1000 w1: 1.041 w2: 0.519 b: 0.450 Cost: 0.288054\n",
            "Epoch  200/1000 w1: 1.041 w2: 0.519 b: 0.450 Cost: 0.288081\n",
            "Epoch  300/1000 w1: 1.041 w2: 0.519 b: 0.450 Cost: 0.288108\n",
            "Epoch  400/1000 w1: 1.041 w2: 0.519 b: 0.450 Cost: 0.288134\n",
            "Epoch  500/1000 w1: 1.041 w2: 0.519 b: 0.450 Cost: 0.288161\n",
            "Epoch  600/1000 w1: 1.041 w2: 0.519 b: 0.450 Cost: 0.288188\n",
            "Epoch  700/1000 w1: 1.041 w2: 0.519 b: 0.450 Cost: 0.288215\n",
            "Epoch  800/1000 w1: 1.041 w2: 0.519 b: 0.450 Cost: 0.288242\n",
            "Epoch  900/1000 w1: 1.041 w2: 0.519 b: 0.450 Cost: 0.288269\n",
            "Epoch 1000/1000 w1: 1.041 w2: 0.519 b: 0.450 Cost: 0.288295\n",
            "Epoch    0/1000 w1: 1.041 w2: 0.519 b: 0.450 Cost: 0.288296\n",
            "Epoch  100/1000 w1: 1.041 w2: 0.519 b: 0.450 Cost: 0.288322\n",
            "Epoch  200/1000 w1: 1.041 w2: 0.519 b: 0.450 Cost: 0.288349\n",
            "Epoch  300/1000 w1: 1.041 w2: 0.519 b: 0.450 Cost: 0.288376\n",
            "Epoch  400/1000 w1: 1.041 w2: 0.519 b: 0.450 Cost: 0.288403\n",
            "Epoch  500/1000 w1: 1.041 w2: 0.519 b: 0.451 Cost: 0.288430\n",
            "Epoch  600/1000 w1: 1.041 w2: 0.519 b: 0.451 Cost: 0.288457\n",
            "Epoch  700/1000 w1: 1.041 w2: 0.519 b: 0.451 Cost: 0.288483\n",
            "Epoch  800/1000 w1: 1.041 w2: 0.519 b: 0.451 Cost: 0.288510\n",
            "Epoch  900/1000 w1: 1.041 w2: 0.519 b: 0.451 Cost: 0.288537\n",
            "Epoch 1000/1000 w1: 1.041 w2: 0.519 b: 0.451 Cost: 0.288564\n",
            "Epoch    0/1000 w1: 1.041 w2: 0.519 b: 0.451 Cost: 0.288564\n",
            "Epoch  100/1000 w1: 1.041 w2: 0.519 b: 0.451 Cost: 0.288591\n",
            "Epoch  200/1000 w1: 1.041 w2: 0.519 b: 0.451 Cost: 0.288618\n",
            "Epoch  300/1000 w1: 1.041 w2: 0.519 b: 0.451 Cost: 0.288645\n",
            "Epoch  400/1000 w1: 1.041 w2: 0.519 b: 0.451 Cost: 0.288671\n",
            "Epoch  500/1000 w1: 1.041 w2: 0.519 b: 0.451 Cost: 0.288698\n",
            "Epoch  600/1000 w1: 1.041 w2: 0.519 b: 0.451 Cost: 0.288725\n",
            "Epoch  700/1000 w1: 1.041 w2: 0.519 b: 0.451 Cost: 0.288752\n",
            "Epoch  800/1000 w1: 1.041 w2: 0.519 b: 0.451 Cost: 0.288779\n",
            "Epoch  900/1000 w1: 1.041 w2: 0.519 b: 0.451 Cost: 0.288805\n",
            "Epoch 1000/1000 w1: 1.041 w2: 0.519 b: 0.451 Cost: 0.288832\n",
            "Epoch    0/1000 w1: 1.041 w2: 0.519 b: 0.451 Cost: 0.288833\n",
            "Epoch  100/1000 w1: 1.041 w2: 0.519 b: 0.451 Cost: 0.288859\n",
            "Epoch  200/1000 w1: 1.041 w2: 0.519 b: 0.451 Cost: 0.288886\n",
            "Epoch  300/1000 w1: 1.041 w2: 0.519 b: 0.451 Cost: 0.288913\n",
            "Epoch  400/1000 w1: 1.041 w2: 0.519 b: 0.451 Cost: 0.288940\n",
            "Epoch  500/1000 w1: 1.041 w2: 0.519 b: 0.451 Cost: 0.288967\n",
            "Epoch  600/1000 w1: 1.041 w2: 0.519 b: 0.451 Cost: 0.288994\n",
            "Epoch  700/1000 w1: 1.041 w2: 0.519 b: 0.451 Cost: 0.289020\n",
            "Epoch  800/1000 w1: 1.041 w2: 0.519 b: 0.451 Cost: 0.289047\n",
            "Epoch  900/1000 w1: 1.041 w2: 0.519 b: 0.451 Cost: 0.289074\n",
            "Epoch 1000/1000 w1: 1.041 w2: 0.519 b: 0.451 Cost: 0.289101\n",
            "Epoch    0/1000 w1: 1.041 w2: 0.519 b: 0.451 Cost: 0.289101\n",
            "Epoch  100/1000 w1: 1.041 w2: 0.519 b: 0.451 Cost: 0.289128\n",
            "Epoch  200/1000 w1: 1.041 w2: 0.519 b: 0.451 Cost: 0.289155\n",
            "Epoch  300/1000 w1: 1.041 w2: 0.519 b: 0.451 Cost: 0.289182\n",
            "Epoch  400/1000 w1: 1.041 w2: 0.519 b: 0.451 Cost: 0.289208\n",
            "Epoch  500/1000 w1: 1.041 w2: 0.519 b: 0.451 Cost: 0.289235\n",
            "Epoch  600/1000 w1: 1.041 w2: 0.519 b: 0.451 Cost: 0.289262\n",
            "Epoch  700/1000 w1: 1.041 w2: 0.519 b: 0.451 Cost: 0.289289\n",
            "Epoch  800/1000 w1: 1.041 w2: 0.519 b: 0.451 Cost: 0.289316\n",
            "Epoch  900/1000 w1: 1.041 w2: 0.519 b: 0.451 Cost: 0.289342\n",
            "Epoch 1000/1000 w1: 1.041 w2: 0.519 b: 0.451 Cost: 0.289369\n",
            "Epoch    0/1000 w1: 1.041 w2: 0.519 b: 0.451 Cost: 0.289370\n",
            "Epoch  100/1000 w1: 1.041 w2: 0.519 b: 0.451 Cost: 0.289396\n",
            "Epoch  200/1000 w1: 1.041 w2: 0.519 b: 0.451 Cost: 0.289423\n",
            "Epoch  300/1000 w1: 1.041 w2: 0.519 b: 0.451 Cost: 0.289450\n",
            "Epoch  400/1000 w1: 1.041 w2: 0.519 b: 0.451 Cost: 0.289477\n",
            "Epoch  500/1000 w1: 1.041 w2: 0.519 b: 0.451 Cost: 0.289504\n",
            "Epoch  600/1000 w1: 1.041 w2: 0.519 b: 0.451 Cost: 0.289530\n",
            "Epoch  700/1000 w1: 1.041 w2: 0.519 b: 0.451 Cost: 0.289557\n",
            "Epoch  800/1000 w1: 1.041 w2: 0.519 b: 0.451 Cost: 0.289584\n",
            "Epoch  900/1000 w1: 1.041 w2: 0.519 b: 0.451 Cost: 0.289611\n",
            "Epoch 1000/1000 w1: 1.041 w2: 0.519 b: 0.451 Cost: 0.289638\n",
            "Epoch    0/1000 w1: 1.041 w2: 0.519 b: 0.451 Cost: 0.289638\n",
            "Epoch  100/1000 w1: 1.041 w2: 0.519 b: 0.451 Cost: 0.289665\n",
            "Epoch  200/1000 w1: 1.041 w2: 0.519 b: 0.451 Cost: 0.289692\n",
            "Epoch  300/1000 w1: 1.041 w2: 0.519 b: 0.451 Cost: 0.289719\n",
            "Epoch  400/1000 w1: 1.041 w2: 0.519 b: 0.451 Cost: 0.289745\n",
            "Epoch  500/1000 w1: 1.041 w2: 0.519 b: 0.451 Cost: 0.289772\n",
            "Epoch  600/1000 w1: 1.041 w2: 0.519 b: 0.451 Cost: 0.289799\n",
            "Epoch  700/1000 w1: 1.041 w2: 0.519 b: 0.451 Cost: 0.289826\n",
            "Epoch  800/1000 w1: 1.041 w2: 0.519 b: 0.451 Cost: 0.289853\n",
            "Epoch  900/1000 w1: 1.041 w2: 0.519 b: 0.451 Cost: 0.289879\n",
            "Epoch 1000/1000 w1: 1.041 w2: 0.519 b: 0.451 Cost: 0.289906\n",
            "Epoch    0/1000 w1: 1.041 w2: 0.519 b: 0.451 Cost: 0.289907\n",
            "Epoch  100/1000 w1: 1.041 w2: 0.519 b: 0.451 Cost: 0.289933\n",
            "Epoch  200/1000 w1: 1.041 w2: 0.519 b: 0.451 Cost: 0.289960\n",
            "Epoch  300/1000 w1: 1.041 w2: 0.519 b: 0.451 Cost: 0.289987\n",
            "Epoch  400/1000 w1: 1.041 w2: 0.519 b: 0.451 Cost: 0.290014\n",
            "Epoch  500/1000 w1: 1.041 w2: 0.519 b: 0.451 Cost: 0.290041\n",
            "Epoch  600/1000 w1: 1.041 w2: 0.519 b: 0.451 Cost: 0.290067\n",
            "Epoch  700/1000 w1: 1.041 w2: 0.519 b: 0.451 Cost: 0.290094\n",
            "Epoch  800/1000 w1: 1.041 w2: 0.519 b: 0.451 Cost: 0.290121\n",
            "Epoch  900/1000 w1: 1.041 w2: 0.519 b: 0.451 Cost: 0.290148\n",
            "Epoch 1000/1000 w1: 1.041 w2: 0.519 b: 0.451 Cost: 0.290175\n",
            "Epoch    0/1000 w1: 1.041 w2: 0.519 b: 0.451 Cost: 0.290175\n",
            "Epoch  100/1000 w1: 1.041 w2: 0.519 b: 0.451 Cost: 0.290202\n",
            "Epoch  200/1000 w1: 1.041 w2: 0.519 b: 0.451 Cost: 0.290229\n",
            "Epoch  300/1000 w1: 1.041 w2: 0.519 b: 0.451 Cost: 0.290255\n",
            "Epoch  400/1000 w1: 1.041 w2: 0.519 b: 0.451 Cost: 0.290282\n",
            "Epoch  500/1000 w1: 1.041 w2: 0.519 b: 0.451 Cost: 0.290309\n",
            "Epoch  600/1000 w1: 1.041 w2: 0.519 b: 0.451 Cost: 0.290336\n",
            "Epoch  700/1000 w1: 1.041 w2: 0.519 b: 0.451 Cost: 0.290363\n",
            "Epoch  800/1000 w1: 1.041 w2: 0.519 b: 0.451 Cost: 0.290390\n",
            "Epoch  900/1000 w1: 1.041 w2: 0.519 b: 0.451 Cost: 0.290416\n",
            "Epoch 1000/1000 w1: 1.041 w2: 0.519 b: 0.451 Cost: 0.290443\n",
            "Epoch    0/1000 w1: 1.041 w2: 0.519 b: 0.451 Cost: 0.290444\n",
            "Epoch  100/1000 w1: 1.041 w2: 0.519 b: 0.451 Cost: 0.290470\n",
            "Epoch  200/1000 w1: 1.041 w2: 0.519 b: 0.451 Cost: 0.290497\n",
            "Epoch  300/1000 w1: 1.041 w2: 0.519 b: 0.451 Cost: 0.290524\n",
            "Epoch  400/1000 w1: 1.041 w2: 0.519 b: 0.451 Cost: 0.290551\n",
            "Epoch  500/1000 w1: 1.041 w2: 0.519 b: 0.451 Cost: 0.290578\n",
            "Epoch  600/1000 w1: 1.041 w2: 0.519 b: 0.451 Cost: 0.290604\n",
            "Epoch  700/1000 w1: 1.041 w2: 0.519 b: 0.451 Cost: 0.290631\n",
            "Epoch  800/1000 w1: 1.041 w2: 0.519 b: 0.451 Cost: 0.290658\n",
            "Epoch  900/1000 w1: 1.041 w2: 0.519 b: 0.451 Cost: 0.290685\n",
            "Epoch 1000/1000 w1: 1.041 w2: 0.519 b: 0.451 Cost: 0.290712\n",
            "Epoch    0/1000 w1: 1.041 w2: 0.519 b: 0.451 Cost: 0.290712\n",
            "Epoch  100/1000 w1: 1.041 w2: 0.519 b: 0.451 Cost: 0.290739\n",
            "Epoch  200/1000 w1: 1.041 w2: 0.519 b: 0.451 Cost: 0.290766\n",
            "Epoch  300/1000 w1: 1.041 w2: 0.519 b: 0.451 Cost: 0.290792\n",
            "Epoch  400/1000 w1: 1.041 w2: 0.519 b: 0.451 Cost: 0.290819\n",
            "Epoch  500/1000 w1: 1.041 w2: 0.519 b: 0.451 Cost: 0.290846\n",
            "Epoch  600/1000 w1: 1.041 w2: 0.519 b: 0.451 Cost: 0.290873\n",
            "Epoch  700/1000 w1: 1.041 w2: 0.519 b: 0.451 Cost: 0.290900\n",
            "Epoch  800/1000 w1: 1.041 w2: 0.519 b: 0.451 Cost: 0.290927\n",
            "Epoch  900/1000 w1: 1.041 w2: 0.519 b: 0.451 Cost: 0.290953\n",
            "Epoch 1000/1000 w1: 1.041 w2: 0.519 b: 0.451 Cost: 0.290980\n",
            "Epoch    0/1000 w1: 1.041 w2: 0.519 b: 0.451 Cost: 0.290980\n",
            "Epoch  100/1000 w1: 1.041 w2: 0.519 b: 0.451 Cost: 0.291007\n",
            "Epoch  200/1000 w1: 1.041 w2: 0.519 b: 0.451 Cost: 0.291034\n",
            "Epoch  300/1000 w1: 1.041 w2: 0.519 b: 0.451 Cost: 0.291061\n",
            "Epoch  400/1000 w1: 1.041 w2: 0.519 b: 0.451 Cost: 0.291088\n",
            "Epoch  500/1000 w1: 1.041 w2: 0.519 b: 0.451 Cost: 0.291115\n",
            "Epoch  600/1000 w1: 1.041 w2: 0.519 b: 0.451 Cost: 0.291141\n",
            "Epoch  700/1000 w1: 1.041 w2: 0.519 b: 0.451 Cost: 0.291168\n",
            "Epoch  800/1000 w1: 1.041 w2: 0.519 b: 0.451 Cost: 0.291195\n",
            "Epoch  900/1000 w1: 1.041 w2: 0.519 b: 0.451 Cost: 0.291222\n",
            "Epoch 1000/1000 w1: 1.041 w2: 0.519 b: 0.451 Cost: 0.291249\n",
            "Epoch    0/1000 w1: 1.041 w2: 0.519 b: 0.451 Cost: 0.291249\n",
            "Epoch  100/1000 w1: 1.041 w2: 0.519 b: 0.451 Cost: 0.291276\n",
            "Epoch  200/1000 w1: 1.041 w2: 0.519 b: 0.451 Cost: 0.291303\n",
            "Epoch  300/1000 w1: 1.041 w2: 0.519 b: 0.451 Cost: 0.291329\n",
            "Epoch  400/1000 w1: 1.041 w2: 0.519 b: 0.451 Cost: 0.291356\n",
            "Epoch  500/1000 w1: 1.041 w2: 0.519 b: 0.451 Cost: 0.291383\n",
            "Epoch  600/1000 w1: 1.041 w2: 0.519 b: 0.451 Cost: 0.291410\n",
            "Epoch  700/1000 w1: 1.041 w2: 0.519 b: 0.451 Cost: 0.291437\n",
            "Epoch  800/1000 w1: 1.041 w2: 0.519 b: 0.451 Cost: 0.291464\n",
            "Epoch  900/1000 w1: 1.041 w2: 0.519 b: 0.451 Cost: 0.291490\n",
            "Epoch 1000/1000 w1: 1.041 w2: 0.519 b: 0.451 Cost: 0.291517\n",
            "Epoch    0/1000 w1: 1.041 w2: 0.519 b: 0.451 Cost: 0.291517\n",
            "Epoch  100/1000 w1: 1.041 w2: 0.519 b: 0.451 Cost: 0.291544\n",
            "Epoch  200/1000 w1: 1.041 w2: 0.519 b: 0.451 Cost: 0.291571\n",
            "Epoch  300/1000 w1: 1.041 w2: 0.519 b: 0.451 Cost: 0.291598\n",
            "Epoch  400/1000 w1: 1.041 w2: 0.519 b: 0.451 Cost: 0.291625\n",
            "Epoch  500/1000 w1: 1.041 w2: 0.519 b: 0.451 Cost: 0.291652\n",
            "Epoch  600/1000 w1: 1.041 w2: 0.519 b: 0.451 Cost: 0.291678\n",
            "Epoch  700/1000 w1: 1.041 w2: 0.519 b: 0.451 Cost: 0.291705\n",
            "Epoch  800/1000 w1: 1.041 w2: 0.519 b: 0.451 Cost: 0.291732\n",
            "Epoch  900/1000 w1: 1.041 w2: 0.519 b: 0.451 Cost: 0.291759\n",
            "Epoch 1000/1000 w1: 1.041 w2: 0.519 b: 0.451 Cost: 0.291786\n",
            "Epoch    0/1000 w1: 1.041 w2: 0.519 b: 0.451 Cost: 0.291786\n",
            "Epoch  100/1000 w1: 1.041 w2: 0.519 b: 0.451 Cost: 0.291813\n",
            "Epoch  200/1000 w1: 1.041 w2: 0.519 b: 0.451 Cost: 0.291840\n",
            "Epoch  300/1000 w1: 1.041 w2: 0.519 b: 0.451 Cost: 0.291866\n",
            "Epoch  400/1000 w1: 1.040 w2: 0.519 b: 0.451 Cost: 0.291893\n",
            "Epoch  500/1000 w1: 1.040 w2: 0.519 b: 0.451 Cost: 0.291920\n",
            "Epoch  600/1000 w1: 1.040 w2: 0.519 b: 0.451 Cost: 0.291947\n",
            "Epoch  700/1000 w1: 1.040 w2: 0.519 b: 0.451 Cost: 0.291974\n",
            "Epoch  800/1000 w1: 1.040 w2: 0.519 b: 0.451 Cost: 0.292001\n",
            "Epoch  900/1000 w1: 1.040 w2: 0.519 b: 0.451 Cost: 0.292027\n",
            "Epoch 1000/1000 w1: 1.040 w2: 0.519 b: 0.451 Cost: 0.292054\n",
            "Epoch    0/1000 w1: 1.040 w2: 0.519 b: 0.451 Cost: 0.292054\n",
            "Epoch  100/1000 w1: 1.040 w2: 0.519 b: 0.451 Cost: 0.292081\n",
            "Epoch  200/1000 w1: 1.040 w2: 0.519 b: 0.451 Cost: 0.292108\n",
            "Epoch  300/1000 w1: 1.040 w2: 0.519 b: 0.451 Cost: 0.292135\n",
            "Epoch  400/1000 w1: 1.040 w2: 0.519 b: 0.451 Cost: 0.292162\n",
            "Epoch  500/1000 w1: 1.040 w2: 0.519 b: 0.451 Cost: 0.292189\n",
            "Epoch  600/1000 w1: 1.040 w2: 0.519 b: 0.451 Cost: 0.292215\n",
            "Epoch  700/1000 w1: 1.040 w2: 0.519 b: 0.451 Cost: 0.292242\n",
            "Epoch  800/1000 w1: 1.040 w2: 0.519 b: 0.451 Cost: 0.292269\n",
            "Epoch  900/1000 w1: 1.040 w2: 0.519 b: 0.451 Cost: 0.292296\n",
            "Epoch 1000/1000 w1: 1.040 w2: 0.519 b: 0.451 Cost: 0.292323\n",
            "Epoch    0/1000 w1: 1.040 w2: 0.519 b: 0.451 Cost: 0.292323\n",
            "Epoch  100/1000 w1: 1.040 w2: 0.519 b: 0.451 Cost: 0.292350\n",
            "Epoch  200/1000 w1: 1.040 w2: 0.519 b: 0.451 Cost: 0.292377\n",
            "Epoch  300/1000 w1: 1.040 w2: 0.519 b: 0.451 Cost: 0.292403\n",
            "Epoch  400/1000 w1: 1.040 w2: 0.519 b: 0.451 Cost: 0.292430\n",
            "Epoch  500/1000 w1: 1.040 w2: 0.519 b: 0.451 Cost: 0.292457\n",
            "Epoch  600/1000 w1: 1.040 w2: 0.519 b: 0.451 Cost: 0.292484\n",
            "Epoch  700/1000 w1: 1.040 w2: 0.519 b: 0.451 Cost: 0.292511\n",
            "Epoch  800/1000 w1: 1.040 w2: 0.519 b: 0.451 Cost: 0.292538\n",
            "Epoch  900/1000 w1: 1.040 w2: 0.519 b: 0.451 Cost: 0.292564\n",
            "Epoch 1000/1000 w1: 1.040 w2: 0.519 b: 0.451 Cost: 0.292591\n",
            "Epoch    0/1000 w1: 1.040 w2: 0.519 b: 0.451 Cost: 0.292591\n",
            "Epoch  100/1000 w1: 1.040 w2: 0.519 b: 0.451 Cost: 0.292618\n",
            "Epoch  200/1000 w1: 1.040 w2: 0.519 b: 0.451 Cost: 0.292645\n",
            "Epoch  300/1000 w1: 1.040 w2: 0.519 b: 0.451 Cost: 0.292672\n",
            "Epoch  400/1000 w1: 1.040 w2: 0.519 b: 0.451 Cost: 0.292699\n",
            "Epoch  500/1000 w1: 1.040 w2: 0.519 b: 0.451 Cost: 0.292726\n",
            "Epoch  600/1000 w1: 1.040 w2: 0.519 b: 0.451 Cost: 0.292752\n",
            "Epoch  700/1000 w1: 1.040 w2: 0.519 b: 0.451 Cost: 0.292779\n",
            "Epoch  800/1000 w1: 1.040 w2: 0.519 b: 0.451 Cost: 0.292806\n",
            "Epoch  900/1000 w1: 1.040 w2: 0.519 b: 0.451 Cost: 0.292833\n",
            "Epoch 1000/1000 w1: 1.040 w2: 0.519 b: 0.451 Cost: 0.292860\n",
            "Epoch    0/1000 w1: 1.040 w2: 0.519 b: 0.451 Cost: 0.292860\n",
            "Epoch  100/1000 w1: 1.040 w2: 0.519 b: 0.451 Cost: 0.292887\n",
            "Epoch  200/1000 w1: 1.040 w2: 0.519 b: 0.451 Cost: 0.292914\n",
            "Epoch  300/1000 w1: 1.040 w2: 0.519 b: 0.451 Cost: 0.292940\n",
            "Epoch  400/1000 w1: 1.040 w2: 0.519 b: 0.451 Cost: 0.292967\n",
            "Epoch  500/1000 w1: 1.040 w2: 0.519 b: 0.451 Cost: 0.292994\n",
            "Epoch  600/1000 w1: 1.040 w2: 0.519 b: 0.451 Cost: 0.293021\n",
            "Epoch  700/1000 w1: 1.040 w2: 0.519 b: 0.451 Cost: 0.293048\n",
            "Epoch  800/1000 w1: 1.040 w2: 0.519 b: 0.451 Cost: 0.293074\n",
            "Epoch  900/1000 w1: 1.040 w2: 0.519 b: 0.451 Cost: 0.293101\n",
            "Epoch 1000/1000 w1: 1.040 w2: 0.519 b: 0.451 Cost: 0.293128\n",
            "Epoch    0/1000 w1: 1.040 w2: 0.519 b: 0.451 Cost: 0.293128\n",
            "Epoch  100/1000 w1: 1.040 w2: 0.519 b: 0.451 Cost: 0.293155\n",
            "Epoch  200/1000 w1: 1.040 w2: 0.519 b: 0.451 Cost: 0.293182\n",
            "Epoch  300/1000 w1: 1.040 w2: 0.519 b: 0.451 Cost: 0.293209\n",
            "Epoch  400/1000 w1: 1.040 w2: 0.519 b: 0.451 Cost: 0.293236\n",
            "Epoch  500/1000 w1: 1.040 w2: 0.519 b: 0.451 Cost: 0.293263\n",
            "Epoch  600/1000 w1: 1.040 w2: 0.519 b: 0.451 Cost: 0.293289\n",
            "Epoch  700/1000 w1: 1.040 w2: 0.519 b: 0.451 Cost: 0.293316\n",
            "Epoch  800/1000 w1: 1.040 w2: 0.519 b: 0.451 Cost: 0.293343\n",
            "Epoch  900/1000 w1: 1.040 w2: 0.519 b: 0.451 Cost: 0.293370\n",
            "Epoch 1000/1000 w1: 1.040 w2: 0.519 b: 0.451 Cost: 0.293397\n",
            "Epoch    0/1000 w1: 1.040 w2: 0.519 b: 0.451 Cost: 0.293397\n",
            "Epoch  100/1000 w1: 1.040 w2: 0.519 b: 0.451 Cost: 0.293424\n",
            "Epoch  200/1000 w1: 1.040 w2: 0.519 b: 0.451 Cost: 0.293451\n",
            "Epoch  300/1000 w1: 1.040 w2: 0.519 b: 0.451 Cost: 0.293477\n",
            "Epoch  400/1000 w1: 1.040 w2: 0.519 b: 0.451 Cost: 0.293504\n",
            "Epoch  500/1000 w1: 1.040 w2: 0.519 b: 0.451 Cost: 0.293531\n",
            "Epoch  600/1000 w1: 1.040 w2: 0.519 b: 0.451 Cost: 0.293558\n",
            "Epoch  700/1000 w1: 1.040 w2: 0.519 b: 0.451 Cost: 0.293585\n",
            "Epoch  800/1000 w1: 1.040 w2: 0.519 b: 0.451 Cost: 0.293611\n",
            "Epoch  900/1000 w1: 1.040 w2: 0.519 b: 0.451 Cost: 0.293638\n",
            "Epoch 1000/1000 w1: 1.040 w2: 0.519 b: 0.451 Cost: 0.293665\n",
            "Epoch    0/1000 w1: 1.040 w2: 0.519 b: 0.451 Cost: 0.293665\n",
            "Epoch  100/1000 w1: 1.040 w2: 0.519 b: 0.451 Cost: 0.293692\n",
            "Epoch  200/1000 w1: 1.040 w2: 0.519 b: 0.451 Cost: 0.293719\n",
            "Epoch  300/1000 w1: 1.040 w2: 0.519 b: 0.451 Cost: 0.293746\n",
            "Epoch  400/1000 w1: 1.040 w2: 0.519 b: 0.451 Cost: 0.293773\n",
            "Epoch  500/1000 w1: 1.040 w2: 0.519 b: 0.451 Cost: 0.293799\n",
            "Epoch  600/1000 w1: 1.040 w2: 0.519 b: 0.451 Cost: 0.293826\n",
            "Epoch  700/1000 w1: 1.040 w2: 0.519 b: 0.451 Cost: 0.293853\n",
            "Epoch  800/1000 w1: 1.040 w2: 0.519 b: 0.451 Cost: 0.293880\n",
            "Epoch  900/1000 w1: 1.040 w2: 0.519 b: 0.451 Cost: 0.293907\n",
            "Epoch 1000/1000 w1: 1.040 w2: 0.519 b: 0.451 Cost: 0.293934\n",
            "Epoch    0/1000 w1: 1.040 w2: 0.519 b: 0.451 Cost: 0.293934\n",
            "Epoch  100/1000 w1: 1.040 w2: 0.519 b: 0.451 Cost: 0.293961\n",
            "Epoch  200/1000 w1: 1.040 w2: 0.519 b: 0.451 Cost: 0.293988\n",
            "Epoch  300/1000 w1: 1.040 w2: 0.519 b: 0.451 Cost: 0.294014\n",
            "Epoch  400/1000 w1: 1.040 w2: 0.519 b: 0.451 Cost: 0.294041\n",
            "Epoch  500/1000 w1: 1.040 w2: 0.519 b: 0.451 Cost: 0.294068\n",
            "Epoch  600/1000 w1: 1.040 w2: 0.519 b: 0.451 Cost: 0.294095\n",
            "Epoch  700/1000 w1: 1.040 w2: 0.519 b: 0.451 Cost: 0.294122\n",
            "Epoch  800/1000 w1: 1.040 w2: 0.519 b: 0.451 Cost: 0.294148\n",
            "Epoch  900/1000 w1: 1.040 w2: 0.519 b: 0.451 Cost: 0.294175\n",
            "Epoch 1000/1000 w1: 1.040 w2: 0.519 b: 0.451 Cost: 0.294202\n",
            "Epoch    0/1000 w1: 1.040 w2: 0.519 b: 0.451 Cost: 0.294202\n",
            "Epoch  100/1000 w1: 1.040 w2: 0.519 b: 0.451 Cost: 0.294229\n",
            "Epoch  200/1000 w1: 1.040 w2: 0.519 b: 0.451 Cost: 0.294256\n",
            "Epoch  300/1000 w1: 1.040 w2: 0.519 b: 0.451 Cost: 0.294283\n",
            "Epoch  400/1000 w1: 1.040 w2: 0.519 b: 0.451 Cost: 0.294310\n",
            "Epoch  500/1000 w1: 1.040 w2: 0.519 b: 0.451 Cost: 0.294336\n",
            "Epoch  600/1000 w1: 1.040 w2: 0.519 b: 0.451 Cost: 0.294363\n",
            "Epoch  700/1000 w1: 1.040 w2: 0.519 b: 0.451 Cost: 0.294390\n",
            "Epoch  800/1000 w1: 1.040 w2: 0.519 b: 0.451 Cost: 0.294417\n",
            "Epoch  900/1000 w1: 1.040 w2: 0.519 b: 0.451 Cost: 0.294444\n",
            "Epoch 1000/1000 w1: 1.040 w2: 0.519 b: 0.451 Cost: 0.294471\n",
            "Epoch    0/1000 w1: 1.040 w2: 0.519 b: 0.451 Cost: 0.294471\n",
            "Epoch  100/1000 w1: 1.040 w2: 0.519 b: 0.451 Cost: 0.294498\n",
            "Epoch  200/1000 w1: 1.040 w2: 0.519 b: 0.451 Cost: 0.294524\n",
            "Epoch  300/1000 w1: 1.040 w2: 0.519 b: 0.451 Cost: 0.294551\n",
            "Epoch  400/1000 w1: 1.040 w2: 0.519 b: 0.451 Cost: 0.294578\n",
            "Epoch  500/1000 w1: 1.040 w2: 0.519 b: 0.451 Cost: 0.294605\n",
            "Epoch  600/1000 w1: 1.040 w2: 0.519 b: 0.451 Cost: 0.294632\n",
            "Epoch  700/1000 w1: 1.040 w2: 0.519 b: 0.451 Cost: 0.294659\n",
            "Epoch  800/1000 w1: 1.040 w2: 0.519 b: 0.451 Cost: 0.294685\n",
            "Epoch  900/1000 w1: 1.040 w2: 0.519 b: 0.451 Cost: 0.294712\n",
            "Epoch 1000/1000 w1: 1.040 w2: 0.519 b: 0.451 Cost: 0.294739\n",
            "Epoch    0/1000 w1: 1.040 w2: 0.519 b: 0.451 Cost: 0.294739\n",
            "Epoch  100/1000 w1: 1.040 w2: 0.519 b: 0.451 Cost: 0.294766\n",
            "Epoch  200/1000 w1: 1.040 w2: 0.519 b: 0.451 Cost: 0.294793\n",
            "Epoch  300/1000 w1: 1.040 w2: 0.519 b: 0.451 Cost: 0.294820\n",
            "Epoch  400/1000 w1: 1.040 w2: 0.519 b: 0.451 Cost: 0.294847\n",
            "Epoch  500/1000 w1: 1.040 w2: 0.519 b: 0.451 Cost: 0.294873\n",
            "Epoch  600/1000 w1: 1.040 w2: 0.519 b: 0.451 Cost: 0.294900\n",
            "Epoch  700/1000 w1: 1.040 w2: 0.519 b: 0.451 Cost: 0.294927\n",
            "Epoch  800/1000 w1: 1.040 w2: 0.519 b: 0.451 Cost: 0.294954\n",
            "Epoch  900/1000 w1: 1.040 w2: 0.519 b: 0.451 Cost: 0.294981\n",
            "Epoch 1000/1000 w1: 1.040 w2: 0.519 b: 0.451 Cost: 0.295008\n",
            "Epoch    0/1000 w1: 1.040 w2: 0.519 b: 0.451 Cost: 0.295008\n",
            "Epoch  100/1000 w1: 1.040 w2: 0.519 b: 0.451 Cost: 0.295035\n",
            "Epoch  200/1000 w1: 1.040 w2: 0.519 b: 0.451 Cost: 0.295061\n",
            "Epoch  300/1000 w1: 1.040 w2: 0.519 b: 0.451 Cost: 0.295088\n",
            "Epoch  400/1000 w1: 1.040 w2: 0.519 b: 0.451 Cost: 0.295115\n",
            "Epoch  500/1000 w1: 1.040 w2: 0.519 b: 0.451 Cost: 0.295142\n",
            "Epoch  600/1000 w1: 1.040 w2: 0.519 b: 0.451 Cost: 0.295169\n",
            "Epoch  700/1000 w1: 1.040 w2: 0.519 b: 0.451 Cost: 0.295196\n",
            "Epoch  800/1000 w1: 1.040 w2: 0.519 b: 0.451 Cost: 0.295222\n",
            "Epoch  900/1000 w1: 1.040 w2: 0.519 b: 0.451 Cost: 0.295249\n",
            "Epoch 1000/1000 w1: 1.040 w2: 0.519 b: 0.451 Cost: 0.295276\n",
            "Epoch    0/1000 w1: 1.040 w2: 0.519 b: 0.451 Cost: 0.295276\n",
            "Epoch  100/1000 w1: 1.040 w2: 0.519 b: 0.451 Cost: 0.295303\n",
            "Epoch  200/1000 w1: 1.040 w2: 0.519 b: 0.451 Cost: 0.295330\n",
            "Epoch  300/1000 w1: 1.040 w2: 0.519 b: 0.451 Cost: 0.295357\n",
            "Epoch  400/1000 w1: 1.040 w2: 0.519 b: 0.451 Cost: 0.295384\n",
            "Epoch  500/1000 w1: 1.040 w2: 0.519 b: 0.451 Cost: 0.295410\n",
            "Epoch  600/1000 w1: 1.040 w2: 0.519 b: 0.451 Cost: 0.295437\n",
            "Epoch  700/1000 w1: 1.040 w2: 0.519 b: 0.451 Cost: 0.295464\n",
            "Epoch  800/1000 w1: 1.040 w2: 0.519 b: 0.451 Cost: 0.295491\n",
            "Epoch  900/1000 w1: 1.040 w2: 0.519 b: 0.451 Cost: 0.295518\n",
            "Epoch 1000/1000 w1: 1.040 w2: 0.519 b: 0.451 Cost: 0.295545\n",
            "Epoch    0/1000 w1: 1.040 w2: 0.519 b: 0.451 Cost: 0.295545\n",
            "Epoch  100/1000 w1: 1.040 w2: 0.519 b: 0.451 Cost: 0.295572\n",
            "Epoch  200/1000 w1: 1.040 w2: 0.519 b: 0.451 Cost: 0.295598\n",
            "Epoch  300/1000 w1: 1.040 w2: 0.519 b: 0.451 Cost: 0.295625\n",
            "Epoch  400/1000 w1: 1.040 w2: 0.519 b: 0.451 Cost: 0.295652\n",
            "Epoch  500/1000 w1: 1.040 w2: 0.519 b: 0.451 Cost: 0.295679\n",
            "Epoch  600/1000 w1: 1.040 w2: 0.519 b: 0.451 Cost: 0.295706\n",
            "Epoch  700/1000 w1: 1.040 w2: 0.519 b: 0.451 Cost: 0.295733\n",
            "Epoch  800/1000 w1: 1.040 w2: 0.519 b: 0.451 Cost: 0.295759\n",
            "Epoch  900/1000 w1: 1.040 w2: 0.519 b: 0.451 Cost: 0.295786\n",
            "Epoch 1000/1000 w1: 1.040 w2: 0.519 b: 0.451 Cost: 0.295813\n",
            "Epoch    0/1000 w1: 1.040 w2: 0.519 b: 0.451 Cost: 0.295813\n",
            "Epoch  100/1000 w1: 1.040 w2: 0.519 b: 0.451 Cost: 0.295840\n",
            "Epoch  200/1000 w1: 1.040 w2: 0.519 b: 0.451 Cost: 0.295867\n",
            "Epoch  300/1000 w1: 1.040 w2: 0.519 b: 0.451 Cost: 0.295894\n",
            "Epoch  400/1000 w1: 1.040 w2: 0.519 b: 0.451 Cost: 0.295921\n",
            "Epoch  500/1000 w1: 1.040 w2: 0.519 b: 0.451 Cost: 0.295947\n",
            "Epoch  600/1000 w1: 1.040 w2: 0.519 b: 0.451 Cost: 0.295974\n",
            "Epoch  700/1000 w1: 1.040 w2: 0.519 b: 0.451 Cost: 0.296001\n",
            "Epoch  800/1000 w1: 1.040 w2: 0.519 b: 0.451 Cost: 0.296028\n",
            "Epoch  900/1000 w1: 1.040 w2: 0.519 b: 0.451 Cost: 0.296055\n",
            "Epoch 1000/1000 w1: 1.040 w2: 0.519 b: 0.451 Cost: 0.296082\n",
            "Epoch    0/1000 w1: 1.040 w2: 0.519 b: 0.451 Cost: 0.296082\n",
            "Epoch  100/1000 w1: 1.040 w2: 0.519 b: 0.451 Cost: 0.296109\n",
            "Epoch  200/1000 w1: 1.040 w2: 0.519 b: 0.451 Cost: 0.296135\n",
            "Epoch  300/1000 w1: 1.040 w2: 0.519 b: 0.451 Cost: 0.296162\n",
            "Epoch  400/1000 w1: 1.040 w2: 0.519 b: 0.451 Cost: 0.296189\n",
            "Epoch  500/1000 w1: 1.040 w2: 0.519 b: 0.451 Cost: 0.296216\n",
            "Epoch  600/1000 w1: 1.040 w2: 0.519 b: 0.451 Cost: 0.296243\n",
            "Epoch  700/1000 w1: 1.040 w2: 0.519 b: 0.451 Cost: 0.296270\n",
            "Epoch  800/1000 w1: 1.040 w2: 0.519 b: 0.451 Cost: 0.296296\n",
            "Epoch  900/1000 w1: 1.040 w2: 0.518 b: 0.451 Cost: 0.296323\n",
            "Epoch 1000/1000 w1: 1.040 w2: 0.518 b: 0.451 Cost: 0.296350\n",
            "Epoch    0/1000 w1: 1.040 w2: 0.518 b: 0.451 Cost: 0.296350\n",
            "Epoch  100/1000 w1: 1.040 w2: 0.518 b: 0.451 Cost: 0.296377\n",
            "Epoch  200/1000 w1: 1.040 w2: 0.518 b: 0.451 Cost: 0.296404\n",
            "Epoch  300/1000 w1: 1.040 w2: 0.518 b: 0.451 Cost: 0.296431\n",
            "Epoch  400/1000 w1: 1.040 w2: 0.518 b: 0.451 Cost: 0.296458\n",
            "Epoch  500/1000 w1: 1.040 w2: 0.518 b: 0.451 Cost: 0.296484\n",
            "Epoch  600/1000 w1: 1.040 w2: 0.518 b: 0.451 Cost: 0.296511\n",
            "Epoch  700/1000 w1: 1.040 w2: 0.518 b: 0.451 Cost: 0.296538\n",
            "Epoch  800/1000 w1: 1.040 w2: 0.518 b: 0.451 Cost: 0.296565\n",
            "Epoch  900/1000 w1: 1.040 w2: 0.518 b: 0.451 Cost: 0.296592\n",
            "Epoch 1000/1000 w1: 1.040 w2: 0.518 b: 0.451 Cost: 0.296618\n",
            "Epoch    0/1000 w1: 1.040 w2: 0.518 b: 0.451 Cost: 0.296619\n",
            "Epoch  100/1000 w1: 1.040 w2: 0.518 b: 0.451 Cost: 0.296646\n",
            "Epoch  200/1000 w1: 1.040 w2: 0.518 b: 0.451 Cost: 0.296672\n",
            "Epoch  300/1000 w1: 1.040 w2: 0.518 b: 0.451 Cost: 0.296699\n",
            "Epoch  400/1000 w1: 1.040 w2: 0.518 b: 0.451 Cost: 0.296726\n",
            "Epoch  500/1000 w1: 1.040 w2: 0.518 b: 0.451 Cost: 0.296753\n",
            "Epoch  600/1000 w1: 1.040 w2: 0.518 b: 0.451 Cost: 0.296780\n",
            "Epoch  700/1000 w1: 1.040 w2: 0.518 b: 0.451 Cost: 0.296807\n",
            "Epoch  800/1000 w1: 1.040 w2: 0.518 b: 0.451 Cost: 0.296833\n",
            "Epoch  900/1000 w1: 1.040 w2: 0.518 b: 0.451 Cost: 0.296860\n",
            "Epoch 1000/1000 w1: 1.040 w2: 0.518 b: 0.451 Cost: 0.296887\n",
            "Epoch    0/1000 w1: 1.040 w2: 0.518 b: 0.451 Cost: 0.296887\n",
            "Epoch  100/1000 w1: 1.040 w2: 0.518 b: 0.451 Cost: 0.296914\n",
            "Epoch  200/1000 w1: 1.040 w2: 0.518 b: 0.451 Cost: 0.296941\n",
            "Epoch  300/1000 w1: 1.040 w2: 0.518 b: 0.451 Cost: 0.296968\n",
            "Epoch  400/1000 w1: 1.040 w2: 0.518 b: 0.451 Cost: 0.296995\n",
            "Epoch  500/1000 w1: 1.040 w2: 0.518 b: 0.451 Cost: 0.297021\n",
            "Epoch  600/1000 w1: 1.040 w2: 0.518 b: 0.451 Cost: 0.297048\n",
            "Epoch  700/1000 w1: 1.040 w2: 0.518 b: 0.451 Cost: 0.297075\n",
            "Epoch  800/1000 w1: 1.040 w2: 0.518 b: 0.451 Cost: 0.297102\n",
            "Epoch  900/1000 w1: 1.040 w2: 0.518 b: 0.451 Cost: 0.297129\n",
            "Epoch 1000/1000 w1: 1.040 w2: 0.518 b: 0.451 Cost: 0.297155\n",
            "Epoch    0/1000 w1: 1.040 w2: 0.518 b: 0.451 Cost: 0.297156\n",
            "Epoch  100/1000 w1: 1.040 w2: 0.518 b: 0.451 Cost: 0.297183\n",
            "Epoch  200/1000 w1: 1.040 w2: 0.518 b: 0.451 Cost: 0.297209\n",
            "Epoch  300/1000 w1: 1.040 w2: 0.518 b: 0.451 Cost: 0.297236\n",
            "Epoch  400/1000 w1: 1.040 w2: 0.518 b: 0.451 Cost: 0.297263\n",
            "Epoch  500/1000 w1: 1.040 w2: 0.518 b: 0.451 Cost: 0.297290\n",
            "Epoch  600/1000 w1: 1.040 w2: 0.518 b: 0.451 Cost: 0.297317\n",
            "Epoch  700/1000 w1: 1.040 w2: 0.518 b: 0.451 Cost: 0.297343\n",
            "Epoch  800/1000 w1: 1.040 w2: 0.518 b: 0.451 Cost: 0.297370\n",
            "Epoch  900/1000 w1: 1.040 w2: 0.518 b: 0.451 Cost: 0.297397\n",
            "Epoch 1000/1000 w1: 1.040 w2: 0.518 b: 0.451 Cost: 0.297424\n",
            "Epoch    0/1000 w1: 1.040 w2: 0.518 b: 0.451 Cost: 0.297424\n",
            "Epoch  100/1000 w1: 1.040 w2: 0.518 b: 0.451 Cost: 0.297451\n",
            "Epoch  200/1000 w1: 1.040 w2: 0.518 b: 0.451 Cost: 0.297478\n",
            "Epoch  300/1000 w1: 1.040 w2: 0.518 b: 0.451 Cost: 0.297505\n",
            "Epoch  400/1000 w1: 1.040 w2: 0.518 b: 0.451 Cost: 0.297532\n",
            "Epoch  500/1000 w1: 1.040 w2: 0.518 b: 0.451 Cost: 0.297558\n",
            "Epoch  600/1000 w1: 1.040 w2: 0.518 b: 0.451 Cost: 0.297585\n",
            "Epoch  700/1000 w1: 1.040 w2: 0.518 b: 0.451 Cost: 0.297612\n",
            "Epoch  800/1000 w1: 1.040 w2: 0.518 b: 0.451 Cost: 0.297639\n",
            "Epoch  900/1000 w1: 1.040 w2: 0.518 b: 0.451 Cost: 0.297666\n",
            "Epoch 1000/1000 w1: 1.040 w2: 0.518 b: 0.451 Cost: 0.297692\n",
            "Epoch    0/1000 w1: 1.040 w2: 0.518 b: 0.451 Cost: 0.297693\n",
            "Epoch  100/1000 w1: 1.040 w2: 0.518 b: 0.451 Cost: 0.297720\n",
            "Epoch  200/1000 w1: 1.040 w2: 0.518 b: 0.451 Cost: 0.297746\n",
            "Epoch  300/1000 w1: 1.040 w2: 0.518 b: 0.451 Cost: 0.297773\n",
            "Epoch  400/1000 w1: 1.040 w2: 0.518 b: 0.451 Cost: 0.297800\n",
            "Epoch  500/1000 w1: 1.040 w2: 0.518 b: 0.451 Cost: 0.297827\n",
            "Epoch  600/1000 w1: 1.040 w2: 0.518 b: 0.451 Cost: 0.297854\n",
            "Epoch  700/1000 w1: 1.040 w2: 0.518 b: 0.451 Cost: 0.297880\n",
            "Epoch  800/1000 w1: 1.040 w2: 0.518 b: 0.451 Cost: 0.297907\n",
            "Epoch  900/1000 w1: 1.040 w2: 0.518 b: 0.451 Cost: 0.297934\n",
            "Epoch 1000/1000 w1: 1.040 w2: 0.518 b: 0.451 Cost: 0.297961\n",
            "Epoch    0/1000 w1: 1.040 w2: 0.518 b: 0.451 Cost: 0.297961\n",
            "Epoch  100/1000 w1: 1.040 w2: 0.518 b: 0.451 Cost: 0.297988\n",
            "Epoch  200/1000 w1: 1.040 w2: 0.518 b: 0.451 Cost: 0.298015\n",
            "Epoch  300/1000 w1: 1.040 w2: 0.518 b: 0.451 Cost: 0.298042\n",
            "Epoch  400/1000 w1: 1.040 w2: 0.518 b: 0.451 Cost: 0.298068\n",
            "Epoch  500/1000 w1: 1.040 w2: 0.518 b: 0.451 Cost: 0.298095\n",
            "Epoch  600/1000 w1: 1.040 w2: 0.518 b: 0.451 Cost: 0.298122\n",
            "Epoch  700/1000 w1: 1.040 w2: 0.518 b: 0.451 Cost: 0.298149\n",
            "Epoch  800/1000 w1: 1.040 w2: 0.518 b: 0.451 Cost: 0.298176\n",
            "Epoch  900/1000 w1: 1.040 w2: 0.518 b: 0.451 Cost: 0.298203\n",
            "Epoch 1000/1000 w1: 1.040 w2: 0.518 b: 0.451 Cost: 0.298229\n",
            "Epoch    0/1000 w1: 1.040 w2: 0.518 b: 0.451 Cost: 0.298230\n",
            "Epoch  100/1000 w1: 1.040 w2: 0.518 b: 0.451 Cost: 0.298257\n",
            "Epoch  200/1000 w1: 1.040 w2: 0.518 b: 0.451 Cost: 0.298283\n",
            "Epoch  300/1000 w1: 1.040 w2: 0.518 b: 0.451 Cost: 0.298310\n",
            "Epoch  400/1000 w1: 1.040 w2: 0.518 b: 0.451 Cost: 0.298337\n",
            "Epoch  500/1000 w1: 1.040 w2: 0.518 b: 0.451 Cost: 0.298364\n",
            "Epoch  600/1000 w1: 1.040 w2: 0.518 b: 0.451 Cost: 0.298391\n",
            "Epoch  700/1000 w1: 1.040 w2: 0.518 b: 0.451 Cost: 0.298417\n",
            "Epoch  800/1000 w1: 1.040 w2: 0.518 b: 0.451 Cost: 0.298444\n",
            "Epoch  900/1000 w1: 1.040 w2: 0.518 b: 0.451 Cost: 0.298471\n",
            "Epoch 1000/1000 w1: 1.040 w2: 0.518 b: 0.451 Cost: 0.298498\n",
            "Epoch    0/1000 w1: 1.040 w2: 0.518 b: 0.451 Cost: 0.298498\n",
            "Epoch  100/1000 w1: 1.040 w2: 0.518 b: 0.451 Cost: 0.298525\n",
            "Epoch  200/1000 w1: 1.040 w2: 0.518 b: 0.451 Cost: 0.298552\n",
            "Epoch  300/1000 w1: 1.040 w2: 0.518 b: 0.451 Cost: 0.298579\n",
            "Epoch  400/1000 w1: 1.040 w2: 0.518 b: 0.451 Cost: 0.298605\n",
            "Epoch  500/1000 w1: 1.040 w2: 0.518 b: 0.451 Cost: 0.298632\n",
            "Epoch  600/1000 w1: 1.040 w2: 0.518 b: 0.451 Cost: 0.298659\n",
            "Epoch  700/1000 w1: 1.040 w2: 0.518 b: 0.451 Cost: 0.298686\n",
            "Epoch  800/1000 w1: 1.040 w2: 0.518 b: 0.451 Cost: 0.298713\n",
            "Epoch  900/1000 w1: 1.040 w2: 0.518 b: 0.451 Cost: 0.298740\n",
            "Epoch 1000/1000 w1: 1.040 w2: 0.518 b: 0.451 Cost: 0.298766\n",
            "Epoch    0/1000 w1: 1.040 w2: 0.518 b: 0.451 Cost: 0.298767\n",
            "Epoch  100/1000 w1: 1.040 w2: 0.518 b: 0.451 Cost: 0.298793\n",
            "Epoch  200/1000 w1: 1.040 w2: 0.518 b: 0.451 Cost: 0.298820\n",
            "Epoch  300/1000 w1: 1.040 w2: 0.518 b: 0.451 Cost: 0.298847\n",
            "Epoch  400/1000 w1: 1.040 w2: 0.518 b: 0.451 Cost: 0.298874\n",
            "Epoch  500/1000 w1: 1.040 w2: 0.518 b: 0.451 Cost: 0.298901\n",
            "Epoch  600/1000 w1: 1.040 w2: 0.518 b: 0.451 Cost: 0.298928\n",
            "Epoch  700/1000 w1: 1.040 w2: 0.518 b: 0.451 Cost: 0.298954\n",
            "Epoch  800/1000 w1: 1.040 w2: 0.518 b: 0.451 Cost: 0.298981\n",
            "Epoch  900/1000 w1: 1.040 w2: 0.518 b: 0.451 Cost: 0.299008\n",
            "Epoch 1000/1000 w1: 1.040 w2: 0.518 b: 0.451 Cost: 0.299035\n",
            "Epoch    0/1000 w1: 1.040 w2: 0.518 b: 0.451 Cost: 0.299035\n",
            "Epoch  100/1000 w1: 1.040 w2: 0.518 b: 0.451 Cost: 0.299062\n",
            "Epoch  200/1000 w1: 1.040 w2: 0.518 b: 0.451 Cost: 0.299089\n",
            "Epoch  300/1000 w1: 1.040 w2: 0.518 b: 0.451 Cost: 0.299116\n",
            "Epoch  400/1000 w1: 1.040 w2: 0.518 b: 0.451 Cost: 0.299142\n",
            "Epoch  500/1000 w1: 1.040 w2: 0.518 b: 0.451 Cost: 0.299169\n",
            "Epoch  600/1000 w1: 1.040 w2: 0.518 b: 0.451 Cost: 0.299196\n",
            "Epoch  700/1000 w1: 1.040 w2: 0.518 b: 0.451 Cost: 0.299223\n",
            "Epoch  800/1000 w1: 1.040 w2: 0.518 b: 0.451 Cost: 0.299250\n",
            "Epoch  900/1000 w1: 1.040 w2: 0.518 b: 0.451 Cost: 0.299277\n",
            "Epoch 1000/1000 w1: 1.040 w2: 0.518 b: 0.451 Cost: 0.299303\n",
            "Epoch    0/1000 w1: 1.040 w2: 0.518 b: 0.451 Cost: 0.299304\n",
            "Epoch  100/1000 w1: 1.040 w2: 0.518 b: 0.451 Cost: 0.299330\n",
            "Epoch  200/1000 w1: 1.040 w2: 0.518 b: 0.451 Cost: 0.299357\n",
            "Epoch  300/1000 w1: 1.040 w2: 0.518 b: 0.451 Cost: 0.299384\n",
            "Epoch  400/1000 w1: 1.040 w2: 0.518 b: 0.451 Cost: 0.299411\n",
            "Epoch  500/1000 w1: 1.040 w2: 0.518 b: 0.451 Cost: 0.299438\n",
            "Epoch  600/1000 w1: 1.040 w2: 0.518 b: 0.451 Cost: 0.299465\n",
            "Epoch  700/1000 w1: 1.040 w2: 0.518 b: 0.451 Cost: 0.299491\n",
            "Epoch  800/1000 w1: 1.040 w2: 0.518 b: 0.451 Cost: 0.299518\n",
            "Epoch  900/1000 w1: 1.040 w2: 0.518 b: 0.451 Cost: 0.299545\n",
            "Epoch 1000/1000 w1: 1.040 w2: 0.518 b: 0.451 Cost: 0.299572\n",
            "Epoch    0/1000 w1: 1.040 w2: 0.518 b: 0.451 Cost: 0.299572\n",
            "Epoch  100/1000 w1: 1.040 w2: 0.518 b: 0.451 Cost: 0.299599\n",
            "Epoch  200/1000 w1: 1.040 w2: 0.518 b: 0.451 Cost: 0.299626\n",
            "Epoch  300/1000 w1: 1.040 w2: 0.518 b: 0.451 Cost: 0.299653\n",
            "Epoch  400/1000 w1: 1.040 w2: 0.518 b: 0.451 Cost: 0.299679\n",
            "Epoch  500/1000 w1: 1.040 w2: 0.518 b: 0.451 Cost: 0.299706\n",
            "Epoch  600/1000 w1: 1.040 w2: 0.518 b: 0.451 Cost: 0.299733\n",
            "Epoch  700/1000 w1: 1.040 w2: 0.518 b: 0.451 Cost: 0.299760\n",
            "Epoch  800/1000 w1: 1.040 w2: 0.518 b: 0.451 Cost: 0.299787\n",
            "Epoch  900/1000 w1: 1.040 w2: 0.518 b: 0.451 Cost: 0.299814\n",
            "Epoch 1000/1000 w1: 1.040 w2: 0.518 b: 0.451 Cost: 0.299840\n",
            "Epoch    0/1000 w1: 1.040 w2: 0.518 b: 0.451 Cost: 0.299841\n",
            "Epoch  100/1000 w1: 1.040 w2: 0.518 b: 0.451 Cost: 0.299867\n",
            "Epoch  200/1000 w1: 1.040 w2: 0.518 b: 0.451 Cost: 0.299894\n",
            "Epoch  300/1000 w1: 1.040 w2: 0.518 b: 0.451 Cost: 0.299921\n",
            "Epoch  400/1000 w1: 1.040 w2: 0.518 b: 0.451 Cost: 0.299948\n",
            "Epoch  500/1000 w1: 1.040 w2: 0.518 b: 0.451 Cost: 0.299975\n",
            "Epoch  600/1000 w1: 1.040 w2: 0.518 b: 0.451 Cost: 0.300002\n",
            "Epoch  700/1000 w1: 1.040 w2: 0.518 b: 0.451 Cost: 0.300028\n",
            "Epoch  800/1000 w1: 1.040 w2: 0.518 b: 0.451 Cost: 0.300055\n",
            "Epoch  900/1000 w1: 1.040 w2: 0.518 b: 0.451 Cost: 0.300082\n",
            "Epoch 1000/1000 w1: 1.040 w2: 0.518 b: 0.451 Cost: 0.300109\n",
            "Epoch    0/1000 w1: 1.040 w2: 0.518 b: 0.451 Cost: 0.300109\n",
            "Epoch  100/1000 w1: 1.040 w2: 0.518 b: 0.451 Cost: 0.300136\n",
            "Epoch  200/1000 w1: 1.040 w2: 0.518 b: 0.451 Cost: 0.300163\n",
            "Epoch  300/1000 w1: 1.040 w2: 0.518 b: 0.451 Cost: 0.300190\n",
            "Epoch  400/1000 w1: 1.040 w2: 0.518 b: 0.451 Cost: 0.300216\n",
            "Epoch  500/1000 w1: 1.040 w2: 0.518 b: 0.451 Cost: 0.300243\n",
            "Epoch  600/1000 w1: 1.040 w2: 0.518 b: 0.451 Cost: 0.300270\n",
            "Epoch  700/1000 w1: 1.040 w2: 0.518 b: 0.451 Cost: 0.300297\n",
            "Epoch  800/1000 w1: 1.040 w2: 0.518 b: 0.451 Cost: 0.300324\n",
            "Epoch  900/1000 w1: 1.040 w2: 0.518 b: 0.451 Cost: 0.300351\n",
            "Epoch 1000/1000 w1: 1.040 w2: 0.518 b: 0.451 Cost: 0.300377\n",
            "Epoch    0/1000 w1: 1.040 w2: 0.518 b: 0.451 Cost: 0.300378\n",
            "Epoch  100/1000 w1: 1.040 w2: 0.518 b: 0.451 Cost: 0.300404\n",
            "Epoch  200/1000 w1: 1.040 w2: 0.518 b: 0.451 Cost: 0.300431\n",
            "Epoch  300/1000 w1: 1.040 w2: 0.518 b: 0.451 Cost: 0.300458\n",
            "Epoch  400/1000 w1: 1.040 w2: 0.518 b: 0.451 Cost: 0.300485\n",
            "Epoch  500/1000 w1: 1.040 w2: 0.518 b: 0.451 Cost: 0.300512\n",
            "Epoch  600/1000 w1: 1.040 w2: 0.518 b: 0.451 Cost: 0.300539\n",
            "Epoch  700/1000 w1: 1.040 w2: 0.518 b: 0.451 Cost: 0.300565\n",
            "Epoch  800/1000 w1: 1.040 w2: 0.518 b: 0.451 Cost: 0.300592\n",
            "Epoch  900/1000 w1: 1.040 w2: 0.518 b: 0.451 Cost: 0.300619\n",
            "Epoch 1000/1000 w1: 1.040 w2: 0.518 b: 0.451 Cost: 0.300646\n",
            "Epoch    0/1000 w1: 1.040 w2: 0.518 b: 0.451 Cost: 0.300646\n",
            "Epoch  100/1000 w1: 1.040 w2: 0.518 b: 0.451 Cost: 0.300673\n",
            "Epoch  200/1000 w1: 1.040 w2: 0.518 b: 0.451 Cost: 0.300700\n",
            "Epoch  300/1000 w1: 1.040 w2: 0.518 b: 0.451 Cost: 0.300727\n",
            "Epoch  400/1000 w1: 1.040 w2: 0.518 b: 0.451 Cost: 0.300753\n",
            "Epoch  500/1000 w1: 1.040 w2: 0.518 b: 0.451 Cost: 0.300780\n",
            "Epoch  600/1000 w1: 1.040 w2: 0.518 b: 0.451 Cost: 0.300807\n",
            "Epoch  700/1000 w1: 1.040 w2: 0.518 b: 0.451 Cost: 0.300834\n",
            "Epoch  800/1000 w1: 1.040 w2: 0.518 b: 0.451 Cost: 0.300861\n",
            "Epoch  900/1000 w1: 1.040 w2: 0.518 b: 0.451 Cost: 0.300887\n",
            "Epoch 1000/1000 w1: 1.040 w2: 0.518 b: 0.451 Cost: 0.300914\n",
            "Epoch    0/1000 w1: 1.040 w2: 0.518 b: 0.451 Cost: 0.300915\n",
            "Epoch  100/1000 w1: 1.040 w2: 0.518 b: 0.451 Cost: 0.300941\n",
            "Epoch  200/1000 w1: 1.040 w2: 0.518 b: 0.451 Cost: 0.300968\n",
            "Epoch  300/1000 w1: 1.040 w2: 0.518 b: 0.451 Cost: 0.300995\n",
            "Epoch  400/1000 w1: 1.040 w2: 0.518 b: 0.451 Cost: 0.301022\n",
            "Epoch  500/1000 w1: 1.040 w2: 0.518 b: 0.451 Cost: 0.301049\n",
            "Epoch  600/1000 w1: 1.040 w2: 0.518 b: 0.451 Cost: 0.301076\n",
            "Epoch  700/1000 w1: 1.040 w2: 0.518 b: 0.451 Cost: 0.301102\n",
            "Epoch  800/1000 w1: 1.040 w2: 0.518 b: 0.451 Cost: 0.301129\n",
            "Epoch  900/1000 w1: 1.040 w2: 0.518 b: 0.451 Cost: 0.301156\n",
            "Epoch 1000/1000 w1: 1.040 w2: 0.518 b: 0.451 Cost: 0.301183\n",
            "Epoch    0/1000 w1: 1.040 w2: 0.518 b: 0.451 Cost: 0.301183\n",
            "Epoch  100/1000 w1: 1.040 w2: 0.518 b: 0.451 Cost: 0.301210\n",
            "Epoch  200/1000 w1: 1.040 w2: 0.518 b: 0.451 Cost: 0.301237\n",
            "Epoch  300/1000 w1: 1.040 w2: 0.518 b: 0.451 Cost: 0.301264\n",
            "Epoch  400/1000 w1: 1.040 w2: 0.518 b: 0.451 Cost: 0.301290\n",
            "Epoch  500/1000 w1: 1.040 w2: 0.518 b: 0.451 Cost: 0.301317\n",
            "Epoch  600/1000 w1: 1.040 w2: 0.518 b: 0.451 Cost: 0.301344\n",
            "Epoch  700/1000 w1: 1.040 w2: 0.518 b: 0.451 Cost: 0.301371\n",
            "Epoch  800/1000 w1: 1.040 w2: 0.518 b: 0.451 Cost: 0.301398\n",
            "Epoch  900/1000 w1: 1.040 w2: 0.518 b: 0.451 Cost: 0.301424\n",
            "Epoch 1000/1000 w1: 1.040 w2: 0.518 b: 0.451 Cost: 0.301451\n",
            "Epoch    0/1000 w1: 1.040 w2: 0.518 b: 0.451 Cost: 0.301452\n",
            "Epoch  100/1000 w1: 1.040 w2: 0.518 b: 0.451 Cost: 0.301478\n",
            "Epoch  200/1000 w1: 1.040 w2: 0.518 b: 0.451 Cost: 0.301505\n",
            "Epoch  300/1000 w1: 1.040 w2: 0.518 b: 0.451 Cost: 0.301532\n",
            "Epoch  400/1000 w1: 1.040 w2: 0.518 b: 0.451 Cost: 0.301559\n",
            "Epoch  500/1000 w1: 1.040 w2: 0.518 b: 0.451 Cost: 0.301586\n",
            "Epoch  600/1000 w1: 1.040 w2: 0.518 b: 0.451 Cost: 0.301612\n",
            "Epoch  700/1000 w1: 1.040 w2: 0.518 b: 0.451 Cost: 0.301639\n",
            "Epoch  800/1000 w1: 1.040 w2: 0.518 b: 0.451 Cost: 0.301666\n",
            "Epoch  900/1000 w1: 1.040 w2: 0.518 b: 0.451 Cost: 0.301693\n",
            "Epoch 1000/1000 w1: 1.040 w2: 0.518 b: 0.451 Cost: 0.301720\n",
            "Epoch    0/1000 w1: 1.040 w2: 0.518 b: 0.451 Cost: 0.301720\n",
            "Epoch  100/1000 w1: 1.040 w2: 0.518 b: 0.451 Cost: 0.301747\n",
            "Epoch  200/1000 w1: 1.040 w2: 0.518 b: 0.451 Cost: 0.301774\n",
            "Epoch  300/1000 w1: 1.040 w2: 0.518 b: 0.451 Cost: 0.301801\n",
            "Epoch  400/1000 w1: 1.040 w2: 0.518 b: 0.451 Cost: 0.301827\n",
            "Epoch  500/1000 w1: 1.040 w2: 0.518 b: 0.451 Cost: 0.301854\n",
            "Epoch  600/1000 w1: 1.040 w2: 0.518 b: 0.451 Cost: 0.301881\n",
            "Epoch  700/1000 w1: 1.040 w2: 0.518 b: 0.451 Cost: 0.301908\n",
            "Epoch  800/1000 w1: 1.040 w2: 0.518 b: 0.452 Cost: 0.301935\n",
            "Epoch  900/1000 w1: 1.040 w2: 0.518 b: 0.452 Cost: 0.301961\n",
            "Epoch 1000/1000 w1: 1.040 w2: 0.518 b: 0.452 Cost: 0.301988\n",
            "Epoch    0/1000 w1: 1.040 w2: 0.518 b: 0.452 Cost: 0.301989\n",
            "Epoch  100/1000 w1: 1.040 w2: 0.518 b: 0.452 Cost: 0.302015\n",
            "Epoch  200/1000 w1: 1.040 w2: 0.518 b: 0.452 Cost: 0.302042\n",
            "Epoch  300/1000 w1: 1.040 w2: 0.518 b: 0.452 Cost: 0.302069\n",
            "Epoch  400/1000 w1: 1.040 w2: 0.518 b: 0.452 Cost: 0.302096\n",
            "Epoch  500/1000 w1: 1.040 w2: 0.518 b: 0.452 Cost: 0.302123\n",
            "Epoch  600/1000 w1: 1.040 w2: 0.518 b: 0.452 Cost: 0.302149\n",
            "Epoch  700/1000 w1: 1.040 w2: 0.518 b: 0.452 Cost: 0.302176\n",
            "Epoch  800/1000 w1: 1.040 w2: 0.518 b: 0.452 Cost: 0.302203\n",
            "Epoch  900/1000 w1: 1.040 w2: 0.518 b: 0.452 Cost: 0.302230\n",
            "Epoch 1000/1000 w1: 1.040 w2: 0.518 b: 0.452 Cost: 0.302257\n",
            "Epoch    0/1000 w1: 1.040 w2: 0.518 b: 0.452 Cost: 0.302257\n",
            "Epoch  100/1000 w1: 1.040 w2: 0.518 b: 0.452 Cost: 0.302284\n",
            "Epoch  200/1000 w1: 1.040 w2: 0.518 b: 0.452 Cost: 0.302311\n",
            "Epoch  300/1000 w1: 1.040 w2: 0.518 b: 0.452 Cost: 0.302337\n",
            "Epoch  400/1000 w1: 1.040 w2: 0.518 b: 0.452 Cost: 0.302364\n",
            "Epoch  500/1000 w1: 1.040 w2: 0.518 b: 0.452 Cost: 0.302391\n",
            "Epoch  600/1000 w1: 1.040 w2: 0.518 b: 0.452 Cost: 0.302418\n",
            "Epoch  700/1000 w1: 1.040 w2: 0.518 b: 0.452 Cost: 0.302445\n",
            "Epoch  800/1000 w1: 1.040 w2: 0.518 b: 0.452 Cost: 0.302472\n",
            "Epoch  900/1000 w1: 1.040 w2: 0.518 b: 0.452 Cost: 0.302498\n",
            "Epoch 1000/1000 w1: 1.040 w2: 0.518 b: 0.452 Cost: 0.302525\n",
            "Epoch    0/1000 w1: 1.040 w2: 0.518 b: 0.452 Cost: 0.302526\n",
            "Epoch  100/1000 w1: 1.040 w2: 0.518 b: 0.452 Cost: 0.302552\n",
            "Epoch  200/1000 w1: 1.040 w2: 0.518 b: 0.452 Cost: 0.302579\n",
            "Epoch  300/1000 w1: 1.040 w2: 0.518 b: 0.452 Cost: 0.302606\n",
            "Epoch  400/1000 w1: 1.040 w2: 0.518 b: 0.452 Cost: 0.302633\n",
            "Epoch  500/1000 w1: 1.040 w2: 0.518 b: 0.452 Cost: 0.302660\n",
            "Epoch  600/1000 w1: 1.040 w2: 0.518 b: 0.452 Cost: 0.302686\n",
            "Epoch  700/1000 w1: 1.040 w2: 0.518 b: 0.452 Cost: 0.302713\n",
            "Epoch  800/1000 w1: 1.040 w2: 0.518 b: 0.452 Cost: 0.302740\n",
            "Epoch  900/1000 w1: 1.040 w2: 0.518 b: 0.452 Cost: 0.302767\n",
            "Epoch 1000/1000 w1: 1.040 w2: 0.518 b: 0.452 Cost: 0.302794\n",
            "Epoch    0/1000 w1: 1.040 w2: 0.518 b: 0.452 Cost: 0.302794\n",
            "Epoch  100/1000 w1: 1.040 w2: 0.518 b: 0.452 Cost: 0.302821\n",
            "Epoch  200/1000 w1: 1.040 w2: 0.518 b: 0.452 Cost: 0.302848\n",
            "Epoch  300/1000 w1: 1.040 w2: 0.518 b: 0.452 Cost: 0.302874\n",
            "Epoch  400/1000 w1: 1.040 w2: 0.518 b: 0.452 Cost: 0.302901\n",
            "Epoch  500/1000 w1: 1.040 w2: 0.518 b: 0.452 Cost: 0.302928\n",
            "Epoch  600/1000 w1: 1.040 w2: 0.518 b: 0.452 Cost: 0.302955\n",
            "Epoch  700/1000 w1: 1.040 w2: 0.518 b: 0.452 Cost: 0.302982\n",
            "Epoch  800/1000 w1: 1.040 w2: 0.518 b: 0.452 Cost: 0.303009\n",
            "Epoch  900/1000 w1: 1.040 w2: 0.518 b: 0.452 Cost: 0.303035\n",
            "Epoch 1000/1000 w1: 1.040 w2: 0.518 b: 0.452 Cost: 0.303062\n",
            "Epoch    0/1000 w1: 1.040 w2: 0.518 b: 0.452 Cost: 0.303062\n",
            "Epoch  100/1000 w1: 1.040 w2: 0.518 b: 0.452 Cost: 0.303089\n",
            "Epoch  200/1000 w1: 1.040 w2: 0.518 b: 0.452 Cost: 0.303116\n",
            "Epoch  300/1000 w1: 1.040 w2: 0.518 b: 0.452 Cost: 0.303143\n",
            "Epoch  400/1000 w1: 1.040 w2: 0.518 b: 0.452 Cost: 0.303170\n",
            "Epoch  500/1000 w1: 1.040 w2: 0.518 b: 0.452 Cost: 0.303197\n",
            "Epoch  600/1000 w1: 1.040 w2: 0.518 b: 0.452 Cost: 0.303223\n",
            "Epoch  700/1000 w1: 1.040 w2: 0.518 b: 0.452 Cost: 0.303250\n",
            "Epoch  800/1000 w1: 1.040 w2: 0.518 b: 0.452 Cost: 0.303277\n",
            "Epoch  900/1000 w1: 1.040 w2: 0.518 b: 0.452 Cost: 0.303304\n",
            "Epoch 1000/1000 w1: 1.040 w2: 0.518 b: 0.452 Cost: 0.303331\n",
            "Epoch    0/1000 w1: 1.040 w2: 0.518 b: 0.452 Cost: 0.303331\n",
            "Epoch  100/1000 w1: 1.040 w2: 0.518 b: 0.452 Cost: 0.303358\n",
            "Epoch  200/1000 w1: 1.040 w2: 0.518 b: 0.452 Cost: 0.303385\n",
            "Epoch  300/1000 w1: 1.040 w2: 0.518 b: 0.452 Cost: 0.303411\n",
            "Epoch  400/1000 w1: 1.040 w2: 0.518 b: 0.452 Cost: 0.303438\n",
            "Epoch  500/1000 w1: 1.040 w2: 0.518 b: 0.452 Cost: 0.303465\n",
            "Epoch  600/1000 w1: 1.040 w2: 0.518 b: 0.452 Cost: 0.303492\n",
            "Epoch  700/1000 w1: 1.040 w2: 0.518 b: 0.452 Cost: 0.303519\n",
            "Epoch  800/1000 w1: 1.040 w2: 0.518 b: 0.452 Cost: 0.303546\n",
            "Epoch  900/1000 w1: 1.040 w2: 0.518 b: 0.452 Cost: 0.303572\n",
            "Epoch 1000/1000 w1: 1.040 w2: 0.518 b: 0.452 Cost: 0.303599\n",
            "Epoch    0/1000 w1: 1.040 w2: 0.518 b: 0.452 Cost: 0.303599\n",
            "Epoch  100/1000 w1: 1.040 w2: 0.518 b: 0.452 Cost: 0.303626\n",
            "Epoch  200/1000 w1: 1.040 w2: 0.518 b: 0.452 Cost: 0.303653\n",
            "Epoch  300/1000 w1: 1.040 w2: 0.518 b: 0.452 Cost: 0.303680\n",
            "Epoch  400/1000 w1: 1.040 w2: 0.518 b: 0.452 Cost: 0.303707\n",
            "Epoch  500/1000 w1: 1.040 w2: 0.518 b: 0.452 Cost: 0.303734\n",
            "Epoch  600/1000 w1: 1.040 w2: 0.518 b: 0.452 Cost: 0.303760\n",
            "Epoch  700/1000 w1: 1.040 w2: 0.518 b: 0.452 Cost: 0.303787\n",
            "Epoch  800/1000 w1: 1.040 w2: 0.518 b: 0.452 Cost: 0.303814\n",
            "Epoch  900/1000 w1: 1.040 w2: 0.518 b: 0.452 Cost: 0.303841\n",
            "Epoch 1000/1000 w1: 1.040 w2: 0.518 b: 0.452 Cost: 0.303868\n",
            "Epoch    0/1000 w1: 1.040 w2: 0.518 b: 0.452 Cost: 0.303868\n",
            "Epoch  100/1000 w1: 1.040 w2: 0.518 b: 0.452 Cost: 0.303895\n",
            "Epoch  200/1000 w1: 1.040 w2: 0.518 b: 0.452 Cost: 0.303922\n",
            "Epoch  300/1000 w1: 1.040 w2: 0.518 b: 0.452 Cost: 0.303948\n",
            "Epoch  400/1000 w1: 1.040 w2: 0.518 b: 0.452 Cost: 0.303975\n",
            "Epoch  500/1000 w1: 1.040 w2: 0.518 b: 0.452 Cost: 0.304002\n",
            "Epoch  600/1000 w1: 1.040 w2: 0.518 b: 0.452 Cost: 0.304029\n",
            "Epoch  700/1000 w1: 1.040 w2: 0.518 b: 0.452 Cost: 0.304056\n",
            "Epoch  800/1000 w1: 1.040 w2: 0.518 b: 0.452 Cost: 0.304083\n",
            "Epoch  900/1000 w1: 1.040 w2: 0.518 b: 0.452 Cost: 0.304109\n",
            "Epoch 1000/1000 w1: 1.040 w2: 0.518 b: 0.452 Cost: 0.304136\n",
            "Epoch    0/1000 w1: 1.040 w2: 0.518 b: 0.452 Cost: 0.304136\n",
            "Epoch  100/1000 w1: 1.040 w2: 0.518 b: 0.452 Cost: 0.304163\n",
            "Epoch  200/1000 w1: 1.040 w2: 0.518 b: 0.452 Cost: 0.304190\n",
            "Epoch  300/1000 w1: 1.040 w2: 0.518 b: 0.452 Cost: 0.304217\n",
            "Epoch  400/1000 w1: 1.040 w2: 0.518 b: 0.452 Cost: 0.304244\n",
            "Epoch  500/1000 w1: 1.040 w2: 0.518 b: 0.452 Cost: 0.304271\n",
            "Epoch  600/1000 w1: 1.040 w2: 0.518 b: 0.452 Cost: 0.304297\n",
            "Epoch  700/1000 w1: 1.040 w2: 0.518 b: 0.452 Cost: 0.304324\n",
            "Epoch  800/1000 w1: 1.040 w2: 0.518 b: 0.452 Cost: 0.304351\n",
            "Epoch  900/1000 w1: 1.040 w2: 0.518 b: 0.452 Cost: 0.304378\n",
            "Epoch 1000/1000 w1: 1.040 w2: 0.518 b: 0.452 Cost: 0.304405\n",
            "Epoch    0/1000 w1: 1.040 w2: 0.518 b: 0.452 Cost: 0.304405\n",
            "Epoch  100/1000 w1: 1.040 w2: 0.518 b: 0.452 Cost: 0.304432\n",
            "Epoch  200/1000 w1: 1.040 w2: 0.518 b: 0.452 Cost: 0.304459\n",
            "Epoch  300/1000 w1: 1.040 w2: 0.518 b: 0.452 Cost: 0.304485\n",
            "Epoch  400/1000 w1: 1.040 w2: 0.518 b: 0.452 Cost: 0.304512\n",
            "Epoch  500/1000 w1: 1.040 w2: 0.518 b: 0.452 Cost: 0.304539\n",
            "Epoch  600/1000 w1: 1.040 w2: 0.518 b: 0.452 Cost: 0.304566\n",
            "Epoch  700/1000 w1: 1.040 w2: 0.518 b: 0.452 Cost: 0.304593\n",
            "Epoch  800/1000 w1: 1.040 w2: 0.518 b: 0.452 Cost: 0.304620\n",
            "Epoch  900/1000 w1: 1.040 w2: 0.518 b: 0.452 Cost: 0.304646\n",
            "Epoch 1000/1000 w1: 1.040 w2: 0.518 b: 0.452 Cost: 0.304673\n",
            "Epoch    0/1000 w1: 1.040 w2: 0.518 b: 0.452 Cost: 0.304673\n",
            "Epoch  100/1000 w1: 1.040 w2: 0.518 b: 0.452 Cost: 0.304700\n",
            "Epoch  200/1000 w1: 1.040 w2: 0.518 b: 0.452 Cost: 0.304727\n",
            "Epoch  300/1000 w1: 1.040 w2: 0.518 b: 0.452 Cost: 0.304754\n",
            "Epoch  400/1000 w1: 1.040 w2: 0.518 b: 0.452 Cost: 0.304781\n",
            "Epoch  500/1000 w1: 1.040 w2: 0.518 b: 0.452 Cost: 0.304808\n",
            "Epoch  600/1000 w1: 1.040 w2: 0.518 b: 0.452 Cost: 0.304834\n",
            "Epoch  700/1000 w1: 1.040 w2: 0.518 b: 0.452 Cost: 0.304861\n",
            "Epoch  800/1000 w1: 1.040 w2: 0.518 b: 0.452 Cost: 0.304888\n",
            "Epoch  900/1000 w1: 1.040 w2: 0.518 b: 0.452 Cost: 0.304915\n",
            "Epoch 1000/1000 w1: 1.040 w2: 0.518 b: 0.452 Cost: 0.304942\n",
            "Epoch    0/1000 w1: 1.040 w2: 0.518 b: 0.452 Cost: 0.304942\n",
            "Epoch  100/1000 w1: 1.040 w2: 0.518 b: 0.452 Cost: 0.304969\n",
            "Epoch  200/1000 w1: 1.040 w2: 0.518 b: 0.452 Cost: 0.304996\n",
            "Epoch  300/1000 w1: 1.040 w2: 0.518 b: 0.452 Cost: 0.305022\n",
            "Epoch  400/1000 w1: 1.040 w2: 0.518 b: 0.452 Cost: 0.305049\n",
            "Epoch  500/1000 w1: 1.040 w2: 0.518 b: 0.452 Cost: 0.305076\n",
            "Epoch  600/1000 w1: 1.040 w2: 0.518 b: 0.452 Cost: 0.305103\n",
            "Epoch  700/1000 w1: 1.040 w2: 0.518 b: 0.452 Cost: 0.305130\n",
            "Epoch  800/1000 w1: 1.040 w2: 0.518 b: 0.452 Cost: 0.305156\n",
            "Epoch  900/1000 w1: 1.040 w2: 0.518 b: 0.452 Cost: 0.305183\n",
            "Epoch 1000/1000 w1: 1.040 w2: 0.518 b: 0.452 Cost: 0.305210\n",
            "Epoch    0/1000 w1: 1.040 w2: 0.518 b: 0.452 Cost: 0.305210\n",
            "Epoch  100/1000 w1: 1.040 w2: 0.518 b: 0.452 Cost: 0.305237\n",
            "Epoch  200/1000 w1: 1.040 w2: 0.518 b: 0.452 Cost: 0.305264\n",
            "Epoch  300/1000 w1: 1.040 w2: 0.518 b: 0.452 Cost: 0.305291\n",
            "Epoch  400/1000 w1: 1.040 w2: 0.518 b: 0.452 Cost: 0.305318\n",
            "Epoch  500/1000 w1: 1.040 w2: 0.518 b: 0.452 Cost: 0.305345\n",
            "Epoch  600/1000 w1: 1.040 w2: 0.518 b: 0.452 Cost: 0.305371\n",
            "Epoch  700/1000 w1: 1.040 w2: 0.518 b: 0.452 Cost: 0.305398\n",
            "Epoch  800/1000 w1: 1.040 w2: 0.518 b: 0.452 Cost: 0.305425\n",
            "Epoch  900/1000 w1: 1.040 w2: 0.518 b: 0.452 Cost: 0.305452\n",
            "Epoch 1000/1000 w1: 1.040 w2: 0.518 b: 0.452 Cost: 0.305479\n",
            "Epoch    0/1000 w1: 1.040 w2: 0.518 b: 0.452 Cost: 0.305479\n",
            "Epoch  100/1000 w1: 1.040 w2: 0.518 b: 0.452 Cost: 0.305506\n",
            "Epoch  200/1000 w1: 1.040 w2: 0.518 b: 0.452 Cost: 0.305533\n",
            "Epoch  300/1000 w1: 1.040 w2: 0.518 b: 0.452 Cost: 0.305559\n",
            "Epoch  400/1000 w1: 1.040 w2: 0.518 b: 0.452 Cost: 0.305586\n",
            "Epoch  500/1000 w1: 1.040 w2: 0.518 b: 0.452 Cost: 0.305613\n",
            "Epoch  600/1000 w1: 1.040 w2: 0.518 b: 0.452 Cost: 0.305640\n",
            "Epoch  700/1000 w1: 1.040 w2: 0.518 b: 0.452 Cost: 0.305667\n",
            "Epoch  800/1000 w1: 1.040 w2: 0.518 b: 0.452 Cost: 0.305693\n",
            "Epoch  900/1000 w1: 1.040 w2: 0.518 b: 0.452 Cost: 0.305720\n",
            "Epoch 1000/1000 w1: 1.040 w2: 0.518 b: 0.452 Cost: 0.305747\n",
            "Epoch    0/1000 w1: 1.040 w2: 0.518 b: 0.452 Cost: 0.305747\n",
            "Epoch  100/1000 w1: 1.040 w2: 0.518 b: 0.452 Cost: 0.305774\n",
            "Epoch  200/1000 w1: 1.040 w2: 0.518 b: 0.452 Cost: 0.305801\n",
            "Epoch  300/1000 w1: 1.040 w2: 0.518 b: 0.452 Cost: 0.305828\n",
            "Epoch  400/1000 w1: 1.040 w2: 0.518 b: 0.452 Cost: 0.305855\n",
            "Epoch  500/1000 w1: 1.040 w2: 0.518 b: 0.452 Cost: 0.305882\n",
            "Epoch  600/1000 w1: 1.040 w2: 0.518 b: 0.452 Cost: 0.305908\n",
            "Epoch  700/1000 w1: 1.040 w2: 0.518 b: 0.452 Cost: 0.305935\n",
            "Epoch  800/1000 w1: 1.040 w2: 0.518 b: 0.452 Cost: 0.305962\n",
            "Epoch  900/1000 w1: 1.040 w2: 0.518 b: 0.452 Cost: 0.305989\n",
            "Epoch 1000/1000 w1: 1.040 w2: 0.518 b: 0.452 Cost: 0.306016\n",
            "Epoch    0/1000 w1: 1.040 w2: 0.518 b: 0.452 Cost: 0.306016\n",
            "Epoch  100/1000 w1: 1.040 w2: 0.518 b: 0.452 Cost: 0.306043\n",
            "Epoch  200/1000 w1: 1.040 w2: 0.518 b: 0.452 Cost: 0.306070\n",
            "Epoch  300/1000 w1: 1.040 w2: 0.518 b: 0.452 Cost: 0.306096\n",
            "Epoch  400/1000 w1: 1.040 w2: 0.518 b: 0.452 Cost: 0.306123\n",
            "Epoch  500/1000 w1: 1.040 w2: 0.518 b: 0.452 Cost: 0.306150\n",
            "Epoch  600/1000 w1: 1.040 w2: 0.518 b: 0.452 Cost: 0.306177\n",
            "Epoch  700/1000 w1: 1.040 w2: 0.518 b: 0.452 Cost: 0.306204\n",
            "Epoch  800/1000 w1: 1.040 w2: 0.518 b: 0.452 Cost: 0.306230\n",
            "Epoch  900/1000 w1: 1.040 w2: 0.518 b: 0.452 Cost: 0.306257\n",
            "Epoch 1000/1000 w1: 1.040 w2: 0.518 b: 0.452 Cost: 0.306284\n",
            "Epoch    0/1000 w1: 1.040 w2: 0.518 b: 0.452 Cost: 0.306284\n",
            "Epoch  100/1000 w1: 1.040 w2: 0.518 b: 0.452 Cost: 0.306311\n",
            "Epoch  200/1000 w1: 1.040 w2: 0.518 b: 0.452 Cost: 0.306338\n",
            "Epoch  300/1000 w1: 1.040 w2: 0.518 b: 0.452 Cost: 0.306365\n",
            "Epoch  400/1000 w1: 1.040 w2: 0.518 b: 0.452 Cost: 0.306392\n",
            "Epoch  500/1000 w1: 1.040 w2: 0.518 b: 0.452 Cost: 0.306418\n",
            "Epoch  600/1000 w1: 1.040 w2: 0.518 b: 0.452 Cost: 0.306445\n",
            "Epoch  700/1000 w1: 1.040 w2: 0.518 b: 0.452 Cost: 0.306472\n",
            "Epoch  800/1000 w1: 1.040 w2: 0.518 b: 0.452 Cost: 0.306499\n",
            "Epoch  900/1000 w1: 1.040 w2: 0.518 b: 0.452 Cost: 0.306526\n",
            "Epoch 1000/1000 w1: 1.040 w2: 0.518 b: 0.452 Cost: 0.306553\n",
            "Epoch    0/1000 w1: 1.040 w2: 0.518 b: 0.452 Cost: 0.306553\n",
            "Epoch  100/1000 w1: 1.040 w2: 0.518 b: 0.452 Cost: 0.306580\n",
            "Epoch  200/1000 w1: 1.040 w2: 0.518 b: 0.452 Cost: 0.306607\n",
            "Epoch  300/1000 w1: 1.040 w2: 0.518 b: 0.452 Cost: 0.306633\n",
            "Epoch  400/1000 w1: 1.040 w2: 0.518 b: 0.452 Cost: 0.306660\n",
            "Epoch  500/1000 w1: 1.040 w2: 0.518 b: 0.452 Cost: 0.306687\n",
            "Epoch  600/1000 w1: 1.040 w2: 0.518 b: 0.452 Cost: 0.306714\n",
            "Epoch  700/1000 w1: 1.040 w2: 0.518 b: 0.452 Cost: 0.306741\n",
            "Epoch  800/1000 w1: 1.040 w2: 0.518 b: 0.452 Cost: 0.306767\n",
            "Epoch  900/1000 w1: 1.040 w2: 0.518 b: 0.452 Cost: 0.306794\n",
            "Epoch 1000/1000 w1: 1.040 w2: 0.518 b: 0.452 Cost: 0.306821\n",
            "Epoch    0/1000 w1: 1.040 w2: 0.518 b: 0.452 Cost: 0.306821\n",
            "Epoch  100/1000 w1: 1.040 w2: 0.518 b: 0.452 Cost: 0.306848\n",
            "Epoch  200/1000 w1: 1.040 w2: 0.518 b: 0.452 Cost: 0.306875\n",
            "Epoch  300/1000 w1: 1.040 w2: 0.518 b: 0.452 Cost: 0.306902\n",
            "Epoch  400/1000 w1: 1.040 w2: 0.518 b: 0.452 Cost: 0.306929\n",
            "Epoch  500/1000 w1: 1.040 w2: 0.518 b: 0.452 Cost: 0.306955\n",
            "Epoch  600/1000 w1: 1.040 w2: 0.518 b: 0.452 Cost: 0.306982\n",
            "Epoch  700/1000 w1: 1.040 w2: 0.518 b: 0.452 Cost: 0.307009\n",
            "Epoch  800/1000 w1: 1.040 w2: 0.518 b: 0.452 Cost: 0.307036\n",
            "Epoch  900/1000 w1: 1.040 w2: 0.518 b: 0.452 Cost: 0.307063\n",
            "Epoch 1000/1000 w1: 1.040 w2: 0.518 b: 0.452 Cost: 0.307090\n",
            "Epoch    0/1000 w1: 1.040 w2: 0.518 b: 0.452 Cost: 0.307090\n",
            "Epoch  100/1000 w1: 1.040 w2: 0.518 b: 0.452 Cost: 0.307117\n",
            "Epoch  200/1000 w1: 1.040 w2: 0.518 b: 0.452 Cost: 0.307143\n",
            "Epoch  300/1000 w1: 1.040 w2: 0.518 b: 0.452 Cost: 0.307170\n",
            "Epoch  400/1000 w1: 1.040 w2: 0.518 b: 0.452 Cost: 0.307197\n",
            "Epoch  500/1000 w1: 1.040 w2: 0.518 b: 0.452 Cost: 0.307224\n",
            "Epoch  600/1000 w1: 1.040 w2: 0.518 b: 0.452 Cost: 0.307251\n",
            "Epoch  700/1000 w1: 1.040 w2: 0.518 b: 0.452 Cost: 0.307278\n",
            "Epoch  800/1000 w1: 1.040 w2: 0.518 b: 0.452 Cost: 0.307304\n",
            "Epoch  900/1000 w1: 1.040 w2: 0.518 b: 0.452 Cost: 0.307331\n",
            "Epoch 1000/1000 w1: 1.040 w2: 0.518 b: 0.452 Cost: 0.307358\n",
            "Epoch    0/1000 w1: 1.040 w2: 0.518 b: 0.452 Cost: 0.307358\n",
            "Epoch  100/1000 w1: 1.040 w2: 0.518 b: 0.452 Cost: 0.307385\n",
            "Epoch  200/1000 w1: 1.040 w2: 0.518 b: 0.452 Cost: 0.307412\n",
            "Epoch  300/1000 w1: 1.040 w2: 0.518 b: 0.452 Cost: 0.307439\n",
            "Epoch  400/1000 w1: 1.040 w2: 0.518 b: 0.452 Cost: 0.307466\n",
            "Epoch  500/1000 w1: 1.040 w2: 0.518 b: 0.452 Cost: 0.307492\n",
            "Epoch  600/1000 w1: 1.040 w2: 0.518 b: 0.452 Cost: 0.307519\n",
            "Epoch  700/1000 w1: 1.040 w2: 0.518 b: 0.452 Cost: 0.307546\n",
            "Epoch  800/1000 w1: 1.040 w2: 0.518 b: 0.452 Cost: 0.307573\n",
            "Epoch  900/1000 w1: 1.040 w2: 0.518 b: 0.452 Cost: 0.307600\n",
            "Epoch 1000/1000 w1: 1.040 w2: 0.518 b: 0.452 Cost: 0.307627\n",
            "Epoch    0/1000 w1: 1.040 w2: 0.518 b: 0.452 Cost: 0.307627\n",
            "Epoch  100/1000 w1: 1.040 w2: 0.518 b: 0.452 Cost: 0.307654\n",
            "Epoch  200/1000 w1: 1.040 w2: 0.518 b: 0.452 Cost: 0.307680\n",
            "Epoch  300/1000 w1: 1.040 w2: 0.518 b: 0.452 Cost: 0.307707\n",
            "Epoch  400/1000 w1: 1.040 w2: 0.518 b: 0.452 Cost: 0.307734\n",
            "Epoch  500/1000 w1: 1.040 w2: 0.518 b: 0.452 Cost: 0.307761\n",
            "Epoch  600/1000 w1: 1.040 w2: 0.518 b: 0.452 Cost: 0.307788\n",
            "Epoch  700/1000 w1: 1.040 w2: 0.518 b: 0.452 Cost: 0.307815\n",
            "Epoch  800/1000 w1: 1.040 w2: 0.518 b: 0.452 Cost: 0.307841\n",
            "Epoch  900/1000 w1: 1.040 w2: 0.518 b: 0.452 Cost: 0.307868\n",
            "Epoch 1000/1000 w1: 1.040 w2: 0.518 b: 0.452 Cost: 0.307895\n",
            "Epoch    0/1000 w1: 1.040 w2: 0.518 b: 0.452 Cost: 0.307895\n",
            "Epoch  100/1000 w1: 1.040 w2: 0.518 b: 0.452 Cost: 0.307922\n",
            "Epoch  200/1000 w1: 1.040 w2: 0.518 b: 0.452 Cost: 0.307949\n",
            "Epoch  300/1000 w1: 1.040 w2: 0.518 b: 0.452 Cost: 0.307976\n",
            "Epoch  400/1000 w1: 1.040 w2: 0.518 b: 0.452 Cost: 0.308003\n",
            "Epoch  500/1000 w1: 1.040 w2: 0.518 b: 0.452 Cost: 0.308029\n",
            "Epoch  600/1000 w1: 1.040 w2: 0.518 b: 0.452 Cost: 0.308056\n",
            "Epoch  700/1000 w1: 1.040 w2: 0.518 b: 0.452 Cost: 0.308083\n",
            "Epoch  800/1000 w1: 1.040 w2: 0.518 b: 0.452 Cost: 0.308110\n",
            "Epoch  900/1000 w1: 1.040 w2: 0.518 b: 0.452 Cost: 0.308137\n",
            "Epoch 1000/1000 w1: 1.040 w2: 0.518 b: 0.452 Cost: 0.308164\n",
            "Epoch    0/1000 w1: 1.040 w2: 0.518 b: 0.452 Cost: 0.308164\n",
            "Epoch  100/1000 w1: 1.040 w2: 0.518 b: 0.452 Cost: 0.308191\n",
            "Epoch  200/1000 w1: 1.040 w2: 0.518 b: 0.452 Cost: 0.308217\n",
            "Epoch  300/1000 w1: 1.040 w2: 0.518 b: 0.452 Cost: 0.308244\n",
            "Epoch  400/1000 w1: 1.040 w2: 0.518 b: 0.452 Cost: 0.308271\n",
            "Epoch  500/1000 w1: 1.040 w2: 0.518 b: 0.452 Cost: 0.308298\n",
            "Epoch  600/1000 w1: 1.040 w2: 0.518 b: 0.452 Cost: 0.308325\n",
            "Epoch  700/1000 w1: 1.040 w2: 0.518 b: 0.452 Cost: 0.308352\n",
            "Epoch  800/1000 w1: 1.040 w2: 0.518 b: 0.452 Cost: 0.308378\n",
            "Epoch  900/1000 w1: 1.040 w2: 0.518 b: 0.452 Cost: 0.308405\n",
            "Epoch 1000/1000 w1: 1.040 w2: 0.518 b: 0.452 Cost: 0.308432\n",
            "Epoch    0/1000 w1: 1.040 w2: 0.518 b: 0.452 Cost: 0.308432\n",
            "Epoch  100/1000 w1: 1.040 w2: 0.518 b: 0.452 Cost: 0.308459\n",
            "Epoch  200/1000 w1: 1.040 w2: 0.518 b: 0.452 Cost: 0.308486\n",
            "Epoch  300/1000 w1: 1.040 w2: 0.518 b: 0.452 Cost: 0.308513\n",
            "Epoch  400/1000 w1: 1.040 w2: 0.518 b: 0.452 Cost: 0.308540\n",
            "Epoch  500/1000 w1: 1.040 w2: 0.518 b: 0.452 Cost: 0.308566\n",
            "Epoch  600/1000 w1: 1.040 w2: 0.518 b: 0.452 Cost: 0.308593\n",
            "Epoch  700/1000 w1: 1.040 w2: 0.518 b: 0.452 Cost: 0.308620\n",
            "Epoch  800/1000 w1: 1.040 w2: 0.518 b: 0.452 Cost: 0.308647\n",
            "Epoch  900/1000 w1: 1.040 w2: 0.518 b: 0.452 Cost: 0.308674\n",
            "Epoch 1000/1000 w1: 1.040 w2: 0.518 b: 0.452 Cost: 0.308701\n",
            "Epoch    0/1000 w1: 1.040 w2: 0.518 b: 0.452 Cost: 0.308701\n",
            "Epoch  100/1000 w1: 1.040 w2: 0.518 b: 0.452 Cost: 0.308728\n",
            "Epoch  200/1000 w1: 1.039 w2: 0.518 b: 0.452 Cost: 0.308754\n",
            "Epoch  300/1000 w1: 1.039 w2: 0.518 b: 0.452 Cost: 0.308781\n",
            "Epoch  400/1000 w1: 1.039 w2: 0.518 b: 0.452 Cost: 0.308808\n",
            "Epoch  500/1000 w1: 1.039 w2: 0.518 b: 0.452 Cost: 0.308835\n",
            "Epoch  600/1000 w1: 1.039 w2: 0.518 b: 0.452 Cost: 0.308862\n",
            "Epoch  700/1000 w1: 1.039 w2: 0.518 b: 0.452 Cost: 0.308889\n",
            "Epoch  800/1000 w1: 1.039 w2: 0.518 b: 0.452 Cost: 0.308915\n",
            "Epoch  900/1000 w1: 1.039 w2: 0.518 b: 0.452 Cost: 0.308942\n",
            "Epoch 1000/1000 w1: 1.039 w2: 0.518 b: 0.452 Cost: 0.308969\n",
            "Epoch    0/1000 w1: 1.039 w2: 0.518 b: 0.452 Cost: 0.308969\n",
            "Epoch  100/1000 w1: 1.039 w2: 0.518 b: 0.452 Cost: 0.308996\n",
            "Epoch  200/1000 w1: 1.039 w2: 0.518 b: 0.452 Cost: 0.309023\n",
            "Epoch  300/1000 w1: 1.039 w2: 0.518 b: 0.452 Cost: 0.309050\n",
            "Epoch  400/1000 w1: 1.039 w2: 0.518 b: 0.452 Cost: 0.309077\n",
            "Epoch  500/1000 w1: 1.039 w2: 0.518 b: 0.452 Cost: 0.309103\n",
            "Epoch  600/1000 w1: 1.039 w2: 0.518 b: 0.452 Cost: 0.309130\n",
            "Epoch  700/1000 w1: 1.039 w2: 0.518 b: 0.452 Cost: 0.309157\n",
            "Epoch  800/1000 w1: 1.039 w2: 0.518 b: 0.452 Cost: 0.309184\n",
            "Epoch  900/1000 w1: 1.039 w2: 0.518 b: 0.452 Cost: 0.309211\n",
            "Epoch 1000/1000 w1: 1.039 w2: 0.518 b: 0.452 Cost: 0.309237\n",
            "Epoch    0/1000 w1: 1.039 w2: 0.518 b: 0.452 Cost: 0.309238\n",
            "Epoch  100/1000 w1: 1.039 w2: 0.518 b: 0.452 Cost: 0.309265\n",
            "Epoch  200/1000 w1: 1.039 w2: 0.518 b: 0.452 Cost: 0.309291\n",
            "Epoch  300/1000 w1: 1.039 w2: 0.518 b: 0.452 Cost: 0.309318\n",
            "Epoch  400/1000 w1: 1.039 w2: 0.518 b: 0.452 Cost: 0.309345\n",
            "Epoch  500/1000 w1: 1.039 w2: 0.518 b: 0.452 Cost: 0.309372\n",
            "Epoch  600/1000 w1: 1.039 w2: 0.518 b: 0.452 Cost: 0.309399\n",
            "Epoch  700/1000 w1: 1.039 w2: 0.518 b: 0.452 Cost: 0.309426\n",
            "Epoch  800/1000 w1: 1.039 w2: 0.518 b: 0.452 Cost: 0.309452\n",
            "Epoch  900/1000 w1: 1.039 w2: 0.518 b: 0.452 Cost: 0.309479\n",
            "Epoch 1000/1000 w1: 1.039 w2: 0.518 b: 0.452 Cost: 0.309506\n",
            "Epoch    0/1000 w1: 1.039 w2: 0.518 b: 0.452 Cost: 0.309506\n",
            "Epoch  100/1000 w1: 1.039 w2: 0.518 b: 0.452 Cost: 0.309533\n",
            "Epoch  200/1000 w1: 1.039 w2: 0.518 b: 0.452 Cost: 0.309560\n",
            "Epoch  300/1000 w1: 1.039 w2: 0.518 b: 0.452 Cost: 0.309587\n",
            "Epoch  400/1000 w1: 1.039 w2: 0.518 b: 0.452 Cost: 0.309614\n",
            "Epoch  500/1000 w1: 1.039 w2: 0.518 b: 0.452 Cost: 0.309640\n",
            "Epoch  600/1000 w1: 1.039 w2: 0.518 b: 0.452 Cost: 0.309667\n",
            "Epoch  700/1000 w1: 1.039 w2: 0.518 b: 0.452 Cost: 0.309694\n",
            "Epoch  800/1000 w1: 1.039 w2: 0.518 b: 0.452 Cost: 0.309721\n",
            "Epoch  900/1000 w1: 1.039 w2: 0.518 b: 0.452 Cost: 0.309748\n",
            "Epoch 1000/1000 w1: 1.039 w2: 0.518 b: 0.452 Cost: 0.309774\n",
            "Epoch    0/1000 w1: 1.039 w2: 0.518 b: 0.452 Cost: 0.309775\n",
            "Epoch  100/1000 w1: 1.039 w2: 0.518 b: 0.452 Cost: 0.309802\n",
            "Epoch  200/1000 w1: 1.039 w2: 0.518 b: 0.452 Cost: 0.309828\n",
            "Epoch  300/1000 w1: 1.039 w2: 0.518 b: 0.452 Cost: 0.309855\n",
            "Epoch  400/1000 w1: 1.039 w2: 0.518 b: 0.452 Cost: 0.309882\n",
            "Epoch  500/1000 w1: 1.039 w2: 0.518 b: 0.452 Cost: 0.309909\n",
            "Epoch  600/1000 w1: 1.039 w2: 0.518 b: 0.452 Cost: 0.309936\n",
            "Epoch  700/1000 w1: 1.039 w2: 0.518 b: 0.452 Cost: 0.309962\n",
            "Epoch  800/1000 w1: 1.039 w2: 0.518 b: 0.452 Cost: 0.309989\n",
            "Epoch  900/1000 w1: 1.039 w2: 0.518 b: 0.452 Cost: 0.310016\n",
            "Epoch 1000/1000 w1: 1.039 w2: 0.518 b: 0.452 Cost: 0.310043\n",
            "Epoch    0/1000 w1: 1.039 w2: 0.518 b: 0.452 Cost: 0.310043\n",
            "Epoch  100/1000 w1: 1.039 w2: 0.518 b: 0.452 Cost: 0.310070\n",
            "Epoch  200/1000 w1: 1.039 w2: 0.518 b: 0.452 Cost: 0.310097\n",
            "Epoch  300/1000 w1: 1.039 w2: 0.518 b: 0.452 Cost: 0.310124\n",
            "Epoch  400/1000 w1: 1.039 w2: 0.518 b: 0.452 Cost: 0.310151\n",
            "Epoch  500/1000 w1: 1.039 w2: 0.518 b: 0.452 Cost: 0.310177\n",
            "Epoch  600/1000 w1: 1.039 w2: 0.518 b: 0.452 Cost: 0.310204\n",
            "Epoch  700/1000 w1: 1.039 w2: 0.518 b: 0.452 Cost: 0.310231\n",
            "Epoch  800/1000 w1: 1.039 w2: 0.518 b: 0.452 Cost: 0.310258\n",
            "Epoch  900/1000 w1: 1.039 w2: 0.518 b: 0.452 Cost: 0.310285\n",
            "Epoch 1000/1000 w1: 1.039 w2: 0.518 b: 0.452 Cost: 0.310311\n",
            "Epoch    0/1000 w1: 1.039 w2: 0.518 b: 0.452 Cost: 0.310312\n",
            "Epoch  100/1000 w1: 1.039 w2: 0.518 b: 0.452 Cost: 0.310339\n",
            "Epoch  200/1000 w1: 1.039 w2: 0.518 b: 0.452 Cost: 0.310365\n",
            "Epoch  300/1000 w1: 1.039 w2: 0.518 b: 0.452 Cost: 0.310392\n",
            "Epoch  400/1000 w1: 1.039 w2: 0.518 b: 0.452 Cost: 0.310419\n",
            "Epoch  500/1000 w1: 1.039 w2: 0.518 b: 0.452 Cost: 0.310446\n",
            "Epoch  600/1000 w1: 1.039 w2: 0.518 b: 0.452 Cost: 0.310473\n",
            "Epoch  700/1000 w1: 1.039 w2: 0.518 b: 0.452 Cost: 0.310499\n",
            "Epoch  800/1000 w1: 1.039 w2: 0.518 b: 0.452 Cost: 0.310526\n",
            "Epoch  900/1000 w1: 1.039 w2: 0.518 b: 0.452 Cost: 0.310553\n",
            "Epoch 1000/1000 w1: 1.039 w2: 0.518 b: 0.452 Cost: 0.310580\n",
            "Epoch    0/1000 w1: 1.039 w2: 0.518 b: 0.452 Cost: 0.310580\n",
            "Epoch  100/1000 w1: 1.039 w2: 0.518 b: 0.452 Cost: 0.310607\n",
            "Epoch  200/1000 w1: 1.039 w2: 0.518 b: 0.452 Cost: 0.310634\n",
            "Epoch  300/1000 w1: 1.039 w2: 0.518 b: 0.452 Cost: 0.310661\n",
            "Epoch  400/1000 w1: 1.039 w2: 0.518 b: 0.452 Cost: 0.310687\n",
            "Epoch  500/1000 w1: 1.039 w2: 0.518 b: 0.452 Cost: 0.310714\n",
            "Epoch  600/1000 w1: 1.039 w2: 0.518 b: 0.452 Cost: 0.310741\n",
            "Epoch  700/1000 w1: 1.039 w2: 0.518 b: 0.452 Cost: 0.310768\n",
            "Epoch  800/1000 w1: 1.039 w2: 0.518 b: 0.452 Cost: 0.310795\n",
            "Epoch  900/1000 w1: 1.039 w2: 0.518 b: 0.452 Cost: 0.310822\n",
            "Epoch 1000/1000 w1: 1.039 w2: 0.518 b: 0.452 Cost: 0.310848\n",
            "Epoch    0/1000 w1: 1.039 w2: 0.518 b: 0.452 Cost: 0.310849\n",
            "Epoch  100/1000 w1: 1.039 w2: 0.518 b: 0.452 Cost: 0.310876\n",
            "Epoch  200/1000 w1: 1.039 w2: 0.518 b: 0.452 Cost: 0.310902\n",
            "Epoch  300/1000 w1: 1.039 w2: 0.518 b: 0.452 Cost: 0.310929\n",
            "Epoch  400/1000 w1: 1.039 w2: 0.518 b: 0.452 Cost: 0.310956\n",
            "Epoch  500/1000 w1: 1.039 w2: 0.518 b: 0.452 Cost: 0.310983\n",
            "Epoch  600/1000 w1: 1.039 w2: 0.518 b: 0.452 Cost: 0.311010\n",
            "Epoch  700/1000 w1: 1.039 w2: 0.518 b: 0.452 Cost: 0.311036\n",
            "Epoch  800/1000 w1: 1.039 w2: 0.518 b: 0.452 Cost: 0.311063\n",
            "Epoch  900/1000 w1: 1.039 w2: 0.518 b: 0.452 Cost: 0.311090\n",
            "Epoch 1000/1000 w1: 1.039 w2: 0.518 b: 0.452 Cost: 0.311117\n",
            "Epoch    0/1000 w1: 1.039 w2: 0.518 b: 0.452 Cost: 0.311117\n",
            "Epoch  100/1000 w1: 1.039 w2: 0.518 b: 0.452 Cost: 0.311144\n",
            "Epoch  200/1000 w1: 1.039 w2: 0.518 b: 0.452 Cost: 0.311171\n",
            "Epoch  300/1000 w1: 1.039 w2: 0.518 b: 0.452 Cost: 0.311198\n",
            "Epoch  400/1000 w1: 1.039 w2: 0.518 b: 0.452 Cost: 0.311224\n",
            "Epoch  500/1000 w1: 1.039 w2: 0.518 b: 0.452 Cost: 0.311251\n",
            "Epoch  600/1000 w1: 1.039 w2: 0.518 b: 0.452 Cost: 0.311278\n",
            "Epoch  700/1000 w1: 1.039 w2: 0.518 b: 0.452 Cost: 0.311305\n",
            "Epoch  800/1000 w1: 1.039 w2: 0.518 b: 0.452 Cost: 0.311332\n",
            "Epoch  900/1000 w1: 1.039 w2: 0.518 b: 0.452 Cost: 0.311359\n",
            "Epoch 1000/1000 w1: 1.039 w2: 0.518 b: 0.452 Cost: 0.311385\n",
            "Epoch    0/1000 w1: 1.039 w2: 0.518 b: 0.452 Cost: 0.311386\n",
            "Epoch  100/1000 w1: 1.039 w2: 0.518 b: 0.452 Cost: 0.311412\n",
            "Epoch  200/1000 w1: 1.039 w2: 0.518 b: 0.452 Cost: 0.311439\n",
            "Epoch  300/1000 w1: 1.039 w2: 0.518 b: 0.452 Cost: 0.311466\n",
            "Epoch  400/1000 w1: 1.039 w2: 0.518 b: 0.452 Cost: 0.311493\n",
            "Epoch  500/1000 w1: 1.039 w2: 0.518 b: 0.452 Cost: 0.311520\n",
            "Epoch  600/1000 w1: 1.039 w2: 0.518 b: 0.452 Cost: 0.311547\n",
            "Epoch  700/1000 w1: 1.039 w2: 0.518 b: 0.452 Cost: 0.311573\n",
            "Epoch  800/1000 w1: 1.039 w2: 0.518 b: 0.452 Cost: 0.311600\n",
            "Epoch  900/1000 w1: 1.039 w2: 0.518 b: 0.452 Cost: 0.311627\n",
            "Epoch 1000/1000 w1: 1.039 w2: 0.518 b: 0.452 Cost: 0.311654\n",
            "Epoch    0/1000 w1: 1.039 w2: 0.518 b: 0.452 Cost: 0.311654\n",
            "Epoch  100/1000 w1: 1.039 w2: 0.518 b: 0.452 Cost: 0.311681\n",
            "Epoch  200/1000 w1: 1.039 w2: 0.518 b: 0.452 Cost: 0.311708\n",
            "Epoch  300/1000 w1: 1.039 w2: 0.518 b: 0.452 Cost: 0.311735\n",
            "Epoch  400/1000 w1: 1.039 w2: 0.518 b: 0.452 Cost: 0.311761\n",
            "Epoch  500/1000 w1: 1.039 w2: 0.518 b: 0.452 Cost: 0.311788\n",
            "Epoch  600/1000 w1: 1.039 w2: 0.518 b: 0.452 Cost: 0.311815\n",
            "Epoch  700/1000 w1: 1.039 w2: 0.518 b: 0.452 Cost: 0.311842\n",
            "Epoch  800/1000 w1: 1.039 w2: 0.518 b: 0.452 Cost: 0.311869\n",
            "Epoch  900/1000 w1: 1.039 w2: 0.518 b: 0.452 Cost: 0.311896\n",
            "Epoch 1000/1000 w1: 1.039 w2: 0.518 b: 0.452 Cost: 0.311922\n",
            "Epoch    0/1000 w1: 1.039 w2: 0.518 b: 0.452 Cost: 0.311923\n",
            "Epoch  100/1000 w1: 1.039 w2: 0.518 b: 0.452 Cost: 0.311949\n",
            "Epoch  200/1000 w1: 1.039 w2: 0.518 b: 0.452 Cost: 0.311976\n",
            "Epoch  300/1000 w1: 1.039 w2: 0.518 b: 0.452 Cost: 0.312003\n",
            "Epoch  400/1000 w1: 1.039 w2: 0.518 b: 0.452 Cost: 0.312030\n",
            "Epoch  500/1000 w1: 1.039 w2: 0.518 b: 0.452 Cost: 0.312057\n",
            "Epoch  600/1000 w1: 1.039 w2: 0.518 b: 0.452 Cost: 0.312084\n",
            "Epoch  700/1000 w1: 1.039 w2: 0.518 b: 0.452 Cost: 0.312110\n",
            "Epoch  800/1000 w1: 1.039 w2: 0.518 b: 0.452 Cost: 0.312137\n",
            "Epoch  900/1000 w1: 1.039 w2: 0.518 b: 0.452 Cost: 0.312164\n",
            "Epoch 1000/1000 w1: 1.039 w2: 0.518 b: 0.452 Cost: 0.312191\n",
            "Epoch    0/1000 w1: 1.039 w2: 0.518 b: 0.452 Cost: 0.312191\n",
            "Epoch  100/1000 w1: 1.039 w2: 0.518 b: 0.452 Cost: 0.312218\n",
            "Epoch  200/1000 w1: 1.039 w2: 0.518 b: 0.452 Cost: 0.312245\n",
            "Epoch  300/1000 w1: 1.039 w2: 0.518 b: 0.452 Cost: 0.312272\n",
            "Epoch  400/1000 w1: 1.039 w2: 0.518 b: 0.452 Cost: 0.312298\n",
            "Epoch  500/1000 w1: 1.039 w2: 0.518 b: 0.452 Cost: 0.312325\n",
            "Epoch  600/1000 w1: 1.039 w2: 0.518 b: 0.452 Cost: 0.312352\n",
            "Epoch  700/1000 w1: 1.039 w2: 0.518 b: 0.452 Cost: 0.312379\n",
            "Epoch  800/1000 w1: 1.039 w2: 0.518 b: 0.452 Cost: 0.312406\n",
            "Epoch  900/1000 w1: 1.039 w2: 0.518 b: 0.452 Cost: 0.312433\n",
            "Epoch 1000/1000 w1: 1.039 w2: 0.518 b: 0.452 Cost: 0.312459\n",
            "Epoch    0/1000 w1: 1.039 w2: 0.518 b: 0.452 Cost: 0.312460\n",
            "Epoch  100/1000 w1: 1.039 w2: 0.518 b: 0.452 Cost: 0.312486\n",
            "Epoch  200/1000 w1: 1.039 w2: 0.518 b: 0.452 Cost: 0.312513\n",
            "Epoch  300/1000 w1: 1.039 w2: 0.518 b: 0.452 Cost: 0.312540\n",
            "Epoch  400/1000 w1: 1.039 w2: 0.518 b: 0.452 Cost: 0.312567\n",
            "Epoch  500/1000 w1: 1.039 w2: 0.518 b: 0.452 Cost: 0.312594\n",
            "Epoch  600/1000 w1: 1.039 w2: 0.518 b: 0.452 Cost: 0.312621\n",
            "Epoch  700/1000 w1: 1.039 w2: 0.518 b: 0.452 Cost: 0.312647\n",
            "Epoch  800/1000 w1: 1.039 w2: 0.518 b: 0.452 Cost: 0.312674\n",
            "Epoch  900/1000 w1: 1.039 w2: 0.518 b: 0.452 Cost: 0.312701\n",
            "Epoch 1000/1000 w1: 1.039 w2: 0.518 b: 0.452 Cost: 0.312728\n",
            "Epoch    0/1000 w1: 1.039 w2: 0.518 b: 0.452 Cost: 0.312728\n",
            "Epoch  100/1000 w1: 1.039 w2: 0.518 b: 0.452 Cost: 0.312755\n",
            "Epoch  200/1000 w1: 1.039 w2: 0.518 b: 0.452 Cost: 0.312782\n",
            "Epoch  300/1000 w1: 1.039 w2: 0.518 b: 0.452 Cost: 0.312809\n",
            "Epoch  400/1000 w1: 1.039 w2: 0.518 b: 0.452 Cost: 0.312835\n",
            "Epoch  500/1000 w1: 1.039 w2: 0.518 b: 0.452 Cost: 0.312862\n",
            "Epoch  600/1000 w1: 1.039 w2: 0.518 b: 0.452 Cost: 0.312889\n",
            "Epoch  700/1000 w1: 1.039 w2: 0.518 b: 0.452 Cost: 0.312916\n",
            "Epoch  800/1000 w1: 1.039 w2: 0.518 b: 0.452 Cost: 0.312943\n",
            "Epoch  900/1000 w1: 1.039 w2: 0.518 b: 0.452 Cost: 0.312970\n",
            "Epoch 1000/1000 w1: 1.039 w2: 0.518 b: 0.452 Cost: 0.312996\n",
            "Epoch    0/1000 w1: 1.039 w2: 0.518 b: 0.452 Cost: 0.312997\n",
            "Epoch  100/1000 w1: 1.039 w2: 0.518 b: 0.452 Cost: 0.313023\n",
            "Epoch  200/1000 w1: 1.039 w2: 0.518 b: 0.452 Cost: 0.313050\n",
            "Epoch  300/1000 w1: 1.039 w2: 0.518 b: 0.452 Cost: 0.313077\n",
            "Epoch  400/1000 w1: 1.039 w2: 0.518 b: 0.452 Cost: 0.313104\n",
            "Epoch  500/1000 w1: 1.039 w2: 0.518 b: 0.452 Cost: 0.313131\n",
            "Epoch  600/1000 w1: 1.039 w2: 0.518 b: 0.452 Cost: 0.313158\n",
            "Epoch  700/1000 w1: 1.039 w2: 0.518 b: 0.452 Cost: 0.313184\n",
            "Epoch  800/1000 w1: 1.039 w2: 0.518 b: 0.452 Cost: 0.313211\n",
            "Epoch  900/1000 w1: 1.039 w2: 0.518 b: 0.452 Cost: 0.313238\n",
            "Epoch 1000/1000 w1: 1.039 w2: 0.518 b: 0.452 Cost: 0.313265\n",
            "Epoch    0/1000 w1: 1.039 w2: 0.518 b: 0.452 Cost: 0.313265\n",
            "Epoch  100/1000 w1: 1.039 w2: 0.518 b: 0.452 Cost: 0.313292\n",
            "Epoch  200/1000 w1: 1.039 w2: 0.518 b: 0.452 Cost: 0.313319\n",
            "Epoch  300/1000 w1: 1.039 w2: 0.518 b: 0.452 Cost: 0.313346\n",
            "Epoch  400/1000 w1: 1.039 w2: 0.518 b: 0.452 Cost: 0.313372\n",
            "Epoch  500/1000 w1: 1.039 w2: 0.518 b: 0.452 Cost: 0.313399\n",
            "Epoch  600/1000 w1: 1.039 w2: 0.518 b: 0.452 Cost: 0.313426\n",
            "Epoch  700/1000 w1: 1.039 w2: 0.518 b: 0.452 Cost: 0.313453\n",
            "Epoch  800/1000 w1: 1.039 w2: 0.518 b: 0.452 Cost: 0.313480\n",
            "Epoch  900/1000 w1: 1.039 w2: 0.518 b: 0.452 Cost: 0.313506\n",
            "Epoch 1000/1000 w1: 1.039 w2: 0.518 b: 0.452 Cost: 0.313533\n",
            "Epoch    0/1000 w1: 1.039 w2: 0.518 b: 0.452 Cost: 0.313534\n",
            "Epoch  100/1000 w1: 1.039 w2: 0.518 b: 0.452 Cost: 0.313560\n",
            "Epoch  200/1000 w1: 1.039 w2: 0.518 b: 0.452 Cost: 0.313587\n",
            "Epoch  300/1000 w1: 1.039 w2: 0.518 b: 0.452 Cost: 0.313614\n",
            "Epoch  400/1000 w1: 1.039 w2: 0.518 b: 0.452 Cost: 0.313641\n",
            "Epoch  500/1000 w1: 1.039 w2: 0.518 b: 0.452 Cost: 0.313668\n",
            "Epoch  600/1000 w1: 1.039 w2: 0.518 b: 0.452 Cost: 0.313695\n",
            "Epoch  700/1000 w1: 1.039 w2: 0.518 b: 0.452 Cost: 0.313721\n",
            "Epoch  800/1000 w1: 1.039 w2: 0.518 b: 0.452 Cost: 0.313748\n",
            "Epoch  900/1000 w1: 1.039 w2: 0.518 b: 0.452 Cost: 0.313775\n",
            "Epoch 1000/1000 w1: 1.039 w2: 0.518 b: 0.452 Cost: 0.313802\n",
            "Epoch    0/1000 w1: 1.039 w2: 0.518 b: 0.452 Cost: 0.313802\n",
            "Epoch  100/1000 w1: 1.039 w2: 0.518 b: 0.452 Cost: 0.313829\n",
            "Epoch  200/1000 w1: 1.039 w2: 0.518 b: 0.452 Cost: 0.313856\n",
            "Epoch  300/1000 w1: 1.039 w2: 0.518 b: 0.452 Cost: 0.313883\n",
            "Epoch  400/1000 w1: 1.039 w2: 0.518 b: 0.452 Cost: 0.313909\n",
            "Epoch  500/1000 w1: 1.039 w2: 0.518 b: 0.452 Cost: 0.313936\n",
            "Epoch  600/1000 w1: 1.039 w2: 0.518 b: 0.452 Cost: 0.313963\n",
            "Epoch  700/1000 w1: 1.039 w2: 0.518 b: 0.452 Cost: 0.313990\n",
            "Epoch  800/1000 w1: 1.039 w2: 0.518 b: 0.452 Cost: 0.314017\n",
            "Epoch  900/1000 w1: 1.039 w2: 0.518 b: 0.452 Cost: 0.314043\n",
            "Epoch 1000/1000 w1: 1.039 w2: 0.518 b: 0.452 Cost: 0.314070\n",
            "Epoch    0/1000 w1: 1.039 w2: 0.518 b: 0.452 Cost: 0.314071\n",
            "Epoch  100/1000 w1: 1.039 w2: 0.518 b: 0.452 Cost: 0.314097\n",
            "Epoch  200/1000 w1: 1.039 w2: 0.518 b: 0.452 Cost: 0.314124\n",
            "Epoch  300/1000 w1: 1.039 w2: 0.518 b: 0.452 Cost: 0.314151\n",
            "Epoch  400/1000 w1: 1.039 w2: 0.518 b: 0.452 Cost: 0.314178\n",
            "Epoch  500/1000 w1: 1.039 w2: 0.518 b: 0.452 Cost: 0.314205\n",
            "Epoch  600/1000 w1: 1.039 w2: 0.518 b: 0.452 Cost: 0.314231\n",
            "Epoch  700/1000 w1: 1.039 w2: 0.518 b: 0.452 Cost: 0.314258\n",
            "Epoch  800/1000 w1: 1.039 w2: 0.518 b: 0.452 Cost: 0.314285\n",
            "Epoch  900/1000 w1: 1.039 w2: 0.518 b: 0.452 Cost: 0.314312\n",
            "Epoch 1000/1000 w1: 1.039 w2: 0.518 b: 0.452 Cost: 0.314339\n",
            "Epoch    0/1000 w1: 1.039 w2: 0.518 b: 0.452 Cost: 0.314339\n",
            "Epoch  100/1000 w1: 1.039 w2: 0.518 b: 0.452 Cost: 0.314366\n",
            "Epoch  200/1000 w1: 1.039 w2: 0.518 b: 0.452 Cost: 0.314393\n",
            "Epoch  300/1000 w1: 1.039 w2: 0.518 b: 0.452 Cost: 0.314420\n",
            "Epoch  400/1000 w1: 1.039 w2: 0.518 b: 0.452 Cost: 0.314446\n",
            "Epoch  500/1000 w1: 1.039 w2: 0.518 b: 0.452 Cost: 0.314473\n",
            "Epoch  600/1000 w1: 1.039 w2: 0.518 b: 0.452 Cost: 0.314500\n",
            "Epoch  700/1000 w1: 1.039 w2: 0.518 b: 0.452 Cost: 0.314527\n",
            "Epoch  800/1000 w1: 1.039 w2: 0.518 b: 0.452 Cost: 0.314554\n",
            "Epoch  900/1000 w1: 1.039 w2: 0.518 b: 0.452 Cost: 0.314580\n",
            "Epoch 1000/1000 w1: 1.039 w2: 0.518 b: 0.452 Cost: 0.314607\n",
            "Epoch    0/1000 w1: 1.039 w2: 0.518 b: 0.452 Cost: 0.314608\n",
            "Epoch  100/1000 w1: 1.039 w2: 0.518 b: 0.452 Cost: 0.314634\n",
            "Epoch  200/1000 w1: 1.039 w2: 0.518 b: 0.452 Cost: 0.314661\n",
            "Epoch  300/1000 w1: 1.039 w2: 0.518 b: 0.452 Cost: 0.314688\n",
            "Epoch  400/1000 w1: 1.039 w2: 0.518 b: 0.452 Cost: 0.314715\n",
            "Epoch  500/1000 w1: 1.039 w2: 0.518 b: 0.452 Cost: 0.314742\n",
            "Epoch  600/1000 w1: 1.039 w2: 0.518 b: 0.452 Cost: 0.314768\n",
            "Epoch  700/1000 w1: 1.039 w2: 0.518 b: 0.452 Cost: 0.314795\n",
            "Epoch  800/1000 w1: 1.039 w2: 0.518 b: 0.452 Cost: 0.314822\n",
            "Epoch  900/1000 w1: 1.039 w2: 0.518 b: 0.452 Cost: 0.314849\n",
            "Epoch 1000/1000 w1: 1.039 w2: 0.518 b: 0.452 Cost: 0.314876\n",
            "Epoch    0/1000 w1: 1.039 w2: 0.518 b: 0.452 Cost: 0.314876\n",
            "Epoch  100/1000 w1: 1.039 w2: 0.518 b: 0.452 Cost: 0.314903\n",
            "Epoch  200/1000 w1: 1.039 w2: 0.518 b: 0.452 Cost: 0.314930\n",
            "Epoch  300/1000 w1: 1.039 w2: 0.518 b: 0.452 Cost: 0.314956\n",
            "Epoch  400/1000 w1: 1.039 w2: 0.518 b: 0.452 Cost: 0.314983\n",
            "Epoch  500/1000 w1: 1.039 w2: 0.518 b: 0.452 Cost: 0.315010\n",
            "Epoch  600/1000 w1: 1.039 w2: 0.518 b: 0.452 Cost: 0.315037\n",
            "Epoch  700/1000 w1: 1.039 w2: 0.518 b: 0.452 Cost: 0.315064\n",
            "Epoch  800/1000 w1: 1.039 w2: 0.518 b: 0.452 Cost: 0.315091\n",
            "Epoch  900/1000 w1: 1.039 w2: 0.518 b: 0.452 Cost: 0.315117\n",
            "Epoch 1000/1000 w1: 1.039 w2: 0.518 b: 0.452 Cost: 0.315144\n",
            "Epoch    0/1000 w1: 1.039 w2: 0.518 b: 0.452 Cost: 0.315145\n",
            "Epoch  100/1000 w1: 1.039 w2: 0.518 b: 0.452 Cost: 0.315171\n",
            "Epoch  200/1000 w1: 1.039 w2: 0.518 b: 0.452 Cost: 0.315198\n",
            "Epoch  300/1000 w1: 1.039 w2: 0.518 b: 0.452 Cost: 0.315225\n",
            "Epoch  400/1000 w1: 1.039 w2: 0.518 b: 0.452 Cost: 0.315252\n",
            "Epoch  500/1000 w1: 1.039 w2: 0.518 b: 0.452 Cost: 0.315279\n",
            "Epoch  600/1000 w1: 1.039 w2: 0.518 b: 0.452 Cost: 0.315305\n",
            "Epoch  700/1000 w1: 1.039 w2: 0.518 b: 0.452 Cost: 0.315332\n",
            "Epoch  800/1000 w1: 1.039 w2: 0.518 b: 0.452 Cost: 0.315359\n",
            "Epoch  900/1000 w1: 1.039 w2: 0.518 b: 0.452 Cost: 0.315386\n",
            "Epoch 1000/1000 w1: 1.039 w2: 0.518 b: 0.452 Cost: 0.315413\n",
            "Epoch    0/1000 w1: 1.039 w2: 0.518 b: 0.452 Cost: 0.315413\n",
            "Epoch  100/1000 w1: 1.039 w2: 0.518 b: 0.453 Cost: 0.315440\n",
            "Epoch  200/1000 w1: 1.039 w2: 0.518 b: 0.453 Cost: 0.315467\n",
            "Epoch  300/1000 w1: 1.039 w2: 0.518 b: 0.453 Cost: 0.315493\n",
            "Epoch  400/1000 w1: 1.039 w2: 0.518 b: 0.453 Cost: 0.315520\n",
            "Epoch  500/1000 w1: 1.039 w2: 0.518 b: 0.453 Cost: 0.315547\n",
            "Epoch  600/1000 w1: 1.039 w2: 0.518 b: 0.453 Cost: 0.315574\n",
            "Epoch  700/1000 w1: 1.039 w2: 0.518 b: 0.453 Cost: 0.315601\n",
            "Epoch  800/1000 w1: 1.039 w2: 0.518 b: 0.453 Cost: 0.315628\n",
            "Epoch  900/1000 w1: 1.039 w2: 0.518 b: 0.453 Cost: 0.315654\n",
            "Epoch 1000/1000 w1: 1.039 w2: 0.518 b: 0.453 Cost: 0.315681\n",
            "Epoch    0/1000 w1: 1.039 w2: 0.518 b: 0.453 Cost: 0.315681\n",
            "Epoch  100/1000 w1: 1.039 w2: 0.518 b: 0.453 Cost: 0.315708\n",
            "Epoch  200/1000 w1: 1.039 w2: 0.518 b: 0.453 Cost: 0.315735\n",
            "Epoch  300/1000 w1: 1.039 w2: 0.518 b: 0.453 Cost: 0.315762\n",
            "Epoch  400/1000 w1: 1.039 w2: 0.518 b: 0.453 Cost: 0.315789\n",
            "Epoch  500/1000 w1: 1.039 w2: 0.518 b: 0.453 Cost: 0.315816\n",
            "Epoch  600/1000 w1: 1.039 w2: 0.518 b: 0.453 Cost: 0.315842\n",
            "Epoch  700/1000 w1: 1.039 w2: 0.518 b: 0.453 Cost: 0.315869\n",
            "Epoch  800/1000 w1: 1.039 w2: 0.518 b: 0.453 Cost: 0.315896\n",
            "Epoch  900/1000 w1: 1.039 w2: 0.518 b: 0.453 Cost: 0.315923\n",
            "Epoch 1000/1000 w1: 1.039 w2: 0.518 b: 0.453 Cost: 0.315950\n",
            "Epoch    0/1000 w1: 1.039 w2: 0.518 b: 0.453 Cost: 0.315950\n",
            "Epoch  100/1000 w1: 1.039 w2: 0.518 b: 0.453 Cost: 0.315977\n",
            "Epoch  200/1000 w1: 1.039 w2: 0.518 b: 0.453 Cost: 0.316004\n",
            "Epoch  300/1000 w1: 1.039 w2: 0.518 b: 0.453 Cost: 0.316030\n",
            "Epoch  400/1000 w1: 1.039 w2: 0.518 b: 0.453 Cost: 0.316057\n",
            "Epoch  500/1000 w1: 1.039 w2: 0.518 b: 0.453 Cost: 0.316084\n",
            "Epoch  600/1000 w1: 1.039 w2: 0.518 b: 0.453 Cost: 0.316111\n",
            "Epoch  700/1000 w1: 1.039 w2: 0.518 b: 0.453 Cost: 0.316138\n",
            "Epoch  800/1000 w1: 1.039 w2: 0.518 b: 0.453 Cost: 0.316165\n",
            "Epoch  900/1000 w1: 1.039 w2: 0.518 b: 0.453 Cost: 0.316191\n",
            "Epoch 1000/1000 w1: 1.039 w2: 0.518 b: 0.453 Cost: 0.316218\n"
          ]
        }
      ]
    },
    {
      "cell_type": "code",
      "source": [
        "x_train = torch.FloatTensor([[73, 80, 75],\n",
        "                             [93, 88, 93],\n",
        "                             [89, 91, 80],\n",
        "                             [96, 98, 100],\n",
        "                             [73, 66, 70]])\n",
        "y_train = torch.FloatTensor([[152], [185], [180], [196], [142]])"
      ],
      "metadata": {
        "id": "awHzT-WKwQlU"
      },
      "execution_count": 119,
      "outputs": []
    },
    {
      "cell_type": "code",
      "source": [
        "print(x_train.shape)\n",
        "print(y_train.shape)"
      ],
      "metadata": {
        "colab": {
          "base_uri": "https://localhost:8080/"
        },
        "id": "1Fit3HdZxNZH",
        "outputId": "d5416622-bc75-482c-c286-9af1481db213"
      },
      "execution_count": 120,
      "outputs": [
        {
          "output_type": "stream",
          "name": "stdout",
          "text": [
            "torch.Size([5, 3])\n",
            "torch.Size([5, 1])\n"
          ]
        }
      ]
    },
    {
      "cell_type": "code",
      "source": [
        "# 가중치와 편향 선언\n",
        "W = torch.zeros((3, 1), requires_grad=True)\n",
        "b = torch.zeros(1, requires_grad=True)"
      ],
      "metadata": {
        "id": "KyG6GEhqxWDj"
      },
      "execution_count": 121,
      "outputs": []
    },
    {
      "cell_type": "code",
      "source": [
        "from math import hypot\n",
        "hypothesis = x_train.matmul(W) + b"
      ],
      "metadata": {
        "id": "2KeNdOIrxdf9"
      },
      "execution_count": 122,
      "outputs": []
    },
    {
      "cell_type": "code",
      "source": [
        "x_train = torch.FloatTensor([[73, 80, 75],\n",
        "                             [93, 88, 93],\n",
        "                             [89, 91, 80],\n",
        "                             [96, 98, 100],\n",
        "                             [73, 66, 70]])\n",
        "y_train = torch.FloatTensor([[152], [185], [180], [196], [142]])\n",
        "\n",
        "# 모델 초기화\n",
        "W = torch.zeros((3, 1), requires_grad=True)\n",
        "b = torch.zeros(1, requires_grad=True)\n",
        "# optimizer 설정\n",
        "optimizer = optim.SGD([W, b], lr=1e-5)\n",
        "\n",
        "nb_epochs = 20\n",
        "for epoch in range(nb_epochs + 1):\n",
        "\n",
        "    # H(x) 계산\n",
        "    # 편향 b는 브로드 캐스팅되어 각 샘플에 더해집니다.\n",
        "    hypothesis = x_train.matmul(W) + b\n",
        "\n",
        "    # cost 계산\n",
        "    cost = torch.mean((hypothesis - y_train) ** 2)\n",
        "\n",
        "    # cost로 H(x) 개선\n",
        "    optimizer.zero_grad()\n",
        "    cost.backward()\n",
        "    optimizer.step()\n",
        "\n",
        "    print('Epoch {:4d}/{} hypothesis: {} Cost: {:.6f}'.format(epoch, nb_epochs, hypothesis.squeeze().detach(), cost.item()))"
      ],
      "metadata": {
        "colab": {
          "base_uri": "https://localhost:8080/"
        },
        "id": "Yw7LOneXxj7M",
        "outputId": "aab847da-a41c-4c54-b57d-113a760717f8"
      },
      "execution_count": 123,
      "outputs": [
        {
          "output_type": "stream",
          "name": "stdout",
          "text": [
            "Epoch    0/20 hypothesis: tensor([0., 0., 0., 0., 0.]) Cost: 29661.800781\n",
            "Epoch    1/20 hypothesis: tensor([66.7178, 80.1701, 76.1025, 86.0194, 61.1565]) Cost: 9537.694336\n",
            "Epoch    2/20 hypothesis: tensor([104.5421, 125.6208, 119.2478, 134.7862,  95.8280]) Cost: 3069.590088\n",
            "Epoch    3/20 hypothesis: tensor([125.9858, 151.3882, 143.7087, 162.4333, 115.4844]) Cost: 990.670288\n",
            "Epoch    4/20 hypothesis: tensor([138.1429, 165.9963, 157.5768, 178.1071, 126.6283]) Cost: 322.481873\n",
            "Epoch    5/20 hypothesis: tensor([145.0350, 174.2780, 165.4395, 186.9928, 132.9461]) Cost: 107.717064\n",
            "Epoch    6/20 hypothesis: tensor([148.9423, 178.9730, 169.8976, 192.0301, 136.5279]) Cost: 38.687496\n",
            "Epoch    7/20 hypothesis: tensor([151.1574, 181.6346, 172.4254, 194.8856, 138.5585]) Cost: 16.499043\n",
            "Epoch    8/20 hypothesis: tensor([152.4131, 183.1435, 173.8590, 196.5043, 139.7097]) Cost: 9.365656\n",
            "Epoch    9/20 hypothesis: tensor([153.1250, 183.9988, 174.6723, 197.4217, 140.3625]) Cost: 7.071114\n",
            "Epoch   10/20 hypothesis: tensor([153.5285, 184.4835, 175.1338, 197.9415, 140.7325]) Cost: 6.331847\n",
            "Epoch   11/20 hypothesis: tensor([153.7572, 184.7582, 175.3958, 198.2360, 140.9424]) Cost: 6.092532\n",
            "Epoch   12/20 hypothesis: tensor([153.8868, 184.9138, 175.5449, 198.4026, 141.0613]) Cost: 6.013817\n",
            "Epoch   13/20 hypothesis: tensor([153.9602, 185.0019, 175.6299, 198.4969, 141.1288]) Cost: 5.986785\n",
            "Epoch   14/20 hypothesis: tensor([154.0017, 185.0517, 175.6785, 198.5500, 141.1671]) Cost: 5.976325\n",
            "Epoch   15/20 hypothesis: tensor([154.0252, 185.0798, 175.7065, 198.5800, 141.1888]) Cost: 5.971208\n",
            "Epoch   16/20 hypothesis: tensor([154.0385, 185.0956, 175.7229, 198.5966, 141.2012]) Cost: 5.967835\n",
            "Epoch   17/20 hypothesis: tensor([154.0459, 185.1045, 175.7326, 198.6059, 141.2082]) Cost: 5.964969\n",
            "Epoch   18/20 hypothesis: tensor([154.0501, 185.1094, 175.7386, 198.6108, 141.2122]) Cost: 5.962291\n",
            "Epoch   19/20 hypothesis: tensor([154.0524, 185.1120, 175.7424, 198.6134, 141.2145]) Cost: 5.959664\n",
            "Epoch   20/20 hypothesis: tensor([154.0536, 185.1134, 175.7451, 198.6145, 141.2158]) Cost: 5.957089\n"
          ]
        }
      ]
    },
    {
      "cell_type": "code",
      "source": [
        "# 임의의 입력 값에 대한 예측\n",
        "with torch.no_grad():\n",
        "    new_input = torch.FloatTensor([[75, 85, 72]]) # 예측하고 싶은 임의의 입력\n",
        "    prediction = new_input.matmul(W) + b\n",
        "    print('Predicted value for input {}: {}'.format(new_input.squeeze().tolist(), prediction.item()))"
      ],
      "metadata": {
        "colab": {
          "base_uri": "https://localhost:8080/"
        },
        "id": "-vCXWEunymi9",
        "outputId": "d9b3d74a-3f4a-4bc8-900d-b1e6ee8058d0"
      },
      "execution_count": 124,
      "outputs": [
        {
          "output_type": "stream",
          "name": "stdout",
          "text": [
            "Predicted value for input [75.0, 85.0, 72.0]: 156.8051300048828\n"
          ]
        }
      ]
    },
    {
      "cell_type": "code",
      "source": [
        "import torch\n",
        "import torch.nn as nn\n",
        "import torch.nn.functional as F"
      ],
      "metadata": {
        "id": "ZIVOqNeTzVBZ"
      },
      "execution_count": 126,
      "outputs": []
    },
    {
      "cell_type": "code",
      "source": [
        "torch.manual_seed(1)"
      ],
      "metadata": {
        "colab": {
          "base_uri": "https://localhost:8080/"
        },
        "id": "EdieHdxYzxAH",
        "outputId": "a418f25f-c2ad-42ef-8706-34e651677f5a"
      },
      "execution_count": 127,
      "outputs": [
        {
          "output_type": "execute_result",
          "data": {
            "text/plain": [
              "<torch._C.Generator at 0x7d0d41cd7c90>"
            ]
          },
          "metadata": {},
          "execution_count": 127
        }
      ]
    },
    {
      "cell_type": "code",
      "source": [
        "# 데이터\n",
        "x_train = torch.FloatTensor([[1], [2], [3]])\n",
        "y_train = torch.FloatTensor([[2], [4], [6]])"
      ],
      "metadata": {
        "id": "3rnx-K7azyjr"
      },
      "execution_count": 128,
      "outputs": []
    },
    {
      "cell_type": "code",
      "source": [
        "# 모델을 선언 및 초기화. 단순 선형 회귀이므로 input_dim=1, output_dim=1.\n",
        "model = nn.Linear(1,1)"
      ],
      "metadata": {
        "id": "KCAgYI0mz6ET"
      },
      "execution_count": 129,
      "outputs": []
    },
    {
      "cell_type": "code",
      "source": [
        "print(list(model.parameters()))"
      ],
      "metadata": {
        "colab": {
          "base_uri": "https://localhost:8080/"
        },
        "id": "Qem6O9aC0Acm",
        "outputId": "74e284e3-7a5c-44e7-88ab-cbdf6c135afd"
      },
      "execution_count": 130,
      "outputs": [
        {
          "output_type": "stream",
          "name": "stdout",
          "text": [
            "[Parameter containing:\n",
            "tensor([[0.5153]], requires_grad=True), Parameter containing:\n",
            "tensor([-0.4414], requires_grad=True)]\n"
          ]
        }
      ]
    },
    {
      "cell_type": "code",
      "source": [
        "# optimizer 설정. 경사 하강법 SGD를 사용하고 learning rate를 의미하는 lr은 0.01\n",
        "optimizer = torch.optim.SGD(model.parameters(), lr=0.01)"
      ],
      "metadata": {
        "id": "yf8aMzLr0C-p"
      },
      "execution_count": 131,
      "outputs": []
    },
    {
      "cell_type": "code",
      "source": [
        "# 전체 훈련 데이터에 대해 경사 하강법을 2,000회 반복\n",
        "nb_epochs = 2000\n",
        "for epoch in range(nb_epochs+1):\n",
        "\n",
        "    # H(x) 계산\n",
        "    prediction = model(x_train)\n",
        "\n",
        "    # cost 계산\n",
        "    cost = F.mse_loss(prediction, y_train) # <== 파이토치에서 제공하는 평균 제곱 오차 함수\n",
        "\n",
        "    # cost로 H(x) 개선하는 부분\n",
        "    # gradient를 0으로 초기화\n",
        "    optimizer.zero_grad()\n",
        "    # 비용 함수를 미분하여 gradient 계산\n",
        "    cost.backward() # backward 연산\n",
        "    # W와 b를 업데이트\n",
        "    optimizer.step()\n",
        "\n",
        "    if epoch % 100 == 0:\n",
        "    # 100번마다 로그 출력\n",
        "        print('Epoch {:4d}/{} Cost: {:.6f}'.format(epoch, nb_epochs, cost.item()))"
      ],
      "metadata": {
        "colab": {
          "base_uri": "https://localhost:8080/"
        },
        "id": "o5btk3iH0MKo",
        "outputId": "71848a2c-e612-4930-df85-48d897a24f54"
      },
      "execution_count": 132,
      "outputs": [
        {
          "output_type": "stream",
          "name": "stdout",
          "text": [
            "Epoch    0/2000 Cost: 13.103541\n",
            "Epoch  100/2000 Cost: 0.002791\n",
            "Epoch  200/2000 Cost: 0.001724\n",
            "Epoch  300/2000 Cost: 0.001066\n",
            "Epoch  400/2000 Cost: 0.000658\n",
            "Epoch  500/2000 Cost: 0.000407\n",
            "Epoch  600/2000 Cost: 0.000251\n",
            "Epoch  700/2000 Cost: 0.000155\n",
            "Epoch  800/2000 Cost: 0.000096\n",
            "Epoch  900/2000 Cost: 0.000059\n",
            "Epoch 1000/2000 Cost: 0.000037\n",
            "Epoch 1100/2000 Cost: 0.000023\n",
            "Epoch 1200/2000 Cost: 0.000014\n",
            "Epoch 1300/2000 Cost: 0.000009\n",
            "Epoch 1400/2000 Cost: 0.000005\n",
            "Epoch 1500/2000 Cost: 0.000003\n",
            "Epoch 1600/2000 Cost: 0.000002\n",
            "Epoch 1700/2000 Cost: 0.000001\n",
            "Epoch 1800/2000 Cost: 0.000001\n",
            "Epoch 1900/2000 Cost: 0.000000\n",
            "Epoch 2000/2000 Cost: 0.000000\n"
          ]
        }
      ]
    },
    {
      "cell_type": "code",
      "source": [
        "# 임의의 입력 4를 선언\n",
        "new_var = torch.FloatTensor([[4.0]])\n",
        "# 입력한 값 4에 대해서 예측값 y를 리턴받아서 pred_y에 저장\n",
        "pred_y = model(new_var) # forward 연산\n",
        "# y = 2x 이므로 입력이 4라면 y가 8에 가까운 값이 나와야 제대로 학습이 된 것\n",
        "print(\"훈련 후 입력이 4일 때의 예측값 :\", pred_y)"
      ],
      "metadata": {
        "colab": {
          "base_uri": "https://localhost:8080/"
        },
        "id": "zIE6ZpjD01mb",
        "outputId": "6d1c4e16-dc39-4f42-e0da-1b1deb759418"
      },
      "execution_count": 133,
      "outputs": [
        {
          "output_type": "stream",
          "name": "stdout",
          "text": [
            "훈련 후 입력이 4일 때의 예측값 : tensor([[7.9989]], grad_fn=<AddmmBackward0>)\n"
          ]
        }
      ]
    },
    {
      "cell_type": "code",
      "source": [
        "print(list(model.parameters()))"
      ],
      "metadata": {
        "colab": {
          "base_uri": "https://localhost:8080/"
        },
        "id": "saoM4h8r1OXx",
        "outputId": "c0630f6e-8e7b-430f-e8b6-b34628bf163a"
      },
      "execution_count": 134,
      "outputs": [
        {
          "output_type": "stream",
          "name": "stdout",
          "text": [
            "[Parameter containing:\n",
            "tensor([[1.9994]], requires_grad=True), Parameter containing:\n",
            "tensor([0.0014], requires_grad=True)]\n"
          ]
        }
      ]
    },
    {
      "cell_type": "code",
      "source": [
        "import torch\n",
        "import torch.nn as nn\n",
        "import torch.nn.functional as F"
      ],
      "metadata": {
        "id": "BYcxvorm1RIt"
      },
      "execution_count": 135,
      "outputs": []
    },
    {
      "cell_type": "code",
      "source": [
        "torch.manual_seed(1)"
      ],
      "metadata": {
        "colab": {
          "base_uri": "https://localhost:8080/"
        },
        "id": "C0mAFOi21UvN",
        "outputId": "d023ff48-8b27-4859-e15c-da8a9c431d52"
      },
      "execution_count": 136,
      "outputs": [
        {
          "output_type": "execute_result",
          "data": {
            "text/plain": [
              "<torch._C.Generator at 0x7d0d41cd7c90>"
            ]
          },
          "metadata": {},
          "execution_count": 136
        }
      ]
    },
    {
      "cell_type": "code",
      "source": [
        "# 데이터\n",
        "x_train = torch.FloatTensor([[73, 80, 75],\n",
        "                             [93, 88, 93],\n",
        "                             [89, 91, 90],\n",
        "                             [96, 98, 100],\n",
        "                             [73, 66, 70]])\n",
        "y_train = torch.FloatTensor([[152], [185], [180], [196], [142]])"
      ],
      "metadata": {
        "id": "TCs9KiWy1je-"
      },
      "execution_count": 137,
      "outputs": []
    },
    {
      "cell_type": "code",
      "source": [
        "# 모델을 선언 및 초기화. 다중 선형 회귀이므로 input_dim=3, output_dim=1.\n",
        "model = nn.Linear(3,1)"
      ],
      "metadata": {
        "id": "pdpb1hCd1zy8"
      },
      "execution_count": 138,
      "outputs": []
    },
    {
      "cell_type": "code",
      "source": [
        "print(list(model.parameters()))"
      ],
      "metadata": {
        "colab": {
          "base_uri": "https://localhost:8080/"
        },
        "id": "IThNZyFK16dy",
        "outputId": "55b55f85-1d6d-4b7a-ae15-7c7a6433395c"
      },
      "execution_count": 139,
      "outputs": [
        {
          "output_type": "stream",
          "name": "stdout",
          "text": [
            "[Parameter containing:\n",
            "tensor([[ 0.2975, -0.2548, -0.1119]], requires_grad=True), Parameter containing:\n",
            "tensor([0.2710], requires_grad=True)]\n"
          ]
        }
      ]
    },
    {
      "cell_type": "code",
      "source": [
        "optimizer = torch.optim.SGD(model.parameters(), lr=1e-5)"
      ],
      "metadata": {
        "id": "C_vjjLz318bt"
      },
      "execution_count": 140,
      "outputs": []
    },
    {
      "cell_type": "code",
      "source": [
        "nb_epochs = 2000\n",
        "for epoch in range(nb_epochs+1):\n",
        "\n",
        "    # H(x) 계산\n",
        "    prediction = model(x_train)\n",
        "    # model(X_train)은 model.forward(x_train)와 동일함.\n",
        "\n",
        "    # cost 계산\n",
        "    cost = F.mse_loss(prediction, y_train) # <== 파이토치에서 제공하는 평균 제곱 오차 함수\n",
        "\n",
        "    # cost로 H(x) 개선하는 부분\n",
        "    # gradient를 0으로 초기화\n",
        "    optimizer.zero_grad()\n",
        "    # 비용 함수를 미분하여 gradient 계산\n",
        "    cost.backward()\n",
        "    # W와 b를 업데이트\n",
        "    optimizer.step()\n",
        "\n",
        "    if epoch % 100 == 0:\n",
        "    # 100번마다 로그 출력\n",
        "        print('Epoch {:4d}/{} Cost: {:.6f}'.format(epoch, nb_epochs, cost.item()))"
      ],
      "metadata": {
        "colab": {
          "base_uri": "https://localhost:8080/"
        },
        "id": "pKxUrwCa2B3N",
        "outputId": "ec0e4b9c-ceeb-4ff6-ccda-23d255d2f306"
      },
      "execution_count": 141,
      "outputs": [
        {
          "output_type": "stream",
          "name": "stdout",
          "text": [
            "Epoch    0/2000 Cost: 31667.597656\n",
            "Epoch  100/2000 Cost: 0.225993\n",
            "Epoch  200/2000 Cost: 0.223911\n",
            "Epoch  300/2000 Cost: 0.221941\n",
            "Epoch  400/2000 Cost: 0.220059\n",
            "Epoch  500/2000 Cost: 0.218271\n",
            "Epoch  600/2000 Cost: 0.216575\n",
            "Epoch  700/2000 Cost: 0.214950\n",
            "Epoch  800/2000 Cost: 0.213413\n",
            "Epoch  900/2000 Cost: 0.211952\n",
            "Epoch 1000/2000 Cost: 0.210560\n",
            "Epoch 1100/2000 Cost: 0.209232\n",
            "Epoch 1200/2000 Cost: 0.207967\n",
            "Epoch 1300/2000 Cost: 0.206761\n",
            "Epoch 1400/2000 Cost: 0.205619\n",
            "Epoch 1500/2000 Cost: 0.204522\n",
            "Epoch 1600/2000 Cost: 0.203484\n",
            "Epoch 1700/2000 Cost: 0.202485\n",
            "Epoch 1800/2000 Cost: 0.201542\n",
            "Epoch 1900/2000 Cost: 0.200635\n",
            "Epoch 2000/2000 Cost: 0.199769\n"
          ]
        }
      ]
    },
    {
      "cell_type": "code",
      "source": [
        "# 임의의 입력 [73, 80, 75]를 선언\n",
        "new_var = torch.FloatTensor([[73, 80, 75]])\n",
        "# 입력한 값 [73, 80, 75]에 대해서 예측값 y를 리턴받아서 pred_y에 저장\n",
        "pred_y = model(new_var)\n",
        "print(\"훈련 후 입력이 73, 80, 75일 때의 예측값 :\", pred_y)"
      ],
      "metadata": {
        "colab": {
          "base_uri": "https://localhost:8080/"
        },
        "id": "seKDBQG72rrK",
        "outputId": "adb38b71-fc73-4f7c-8bdb-733b31297f09"
      },
      "execution_count": 142,
      "outputs": [
        {
          "output_type": "stream",
          "name": "stdout",
          "text": [
            "훈련 후 입력이 73, 80, 75일 때의 예측값 : tensor([[151.2305]], grad_fn=<AddmmBackward0>)\n"
          ]
        }
      ]
    },
    {
      "cell_type": "code",
      "source": [
        "print(list(model.parameters()))"
      ],
      "metadata": {
        "colab": {
          "base_uri": "https://localhost:8080/"
        },
        "id": "2eIcqc-C3Ihz",
        "outputId": "83682597-3a39-40d4-9c5e-a6395e15360e"
      },
      "execution_count": 143,
      "outputs": [
        {
          "output_type": "stream",
          "name": "stdout",
          "text": [
            "[Parameter containing:\n",
            "tensor([[0.9778, 0.4539, 0.5768]], requires_grad=True), Parameter containing:\n",
            "tensor([0.2802], requires_grad=True)]\n"
          ]
        }
      ]
    },
    {
      "cell_type": "code",
      "source": [
        "# 모델을 선언 및 초기화. 단순 선형 회귀이므로 input_dim=1, output_dim=1.\n",
        "model = nn.Linear(1,1)"
      ],
      "metadata": {
        "id": "0YaSMFg_3Kw7"
      },
      "execution_count": 144,
      "outputs": []
    },
    {
      "cell_type": "code",
      "source": [
        "class LinearRegressionModel(nn.Module): # torch.nn.Module을 상속받는 파이썬 클래스\n",
        "    def __init__(self): #\n",
        "        super().__init__()\n",
        "        self.linear = nn.Linear(1, 1) # 단순 선형 회귀이므로 input_dim=1, output_dim=1.\n",
        "\n",
        "    def forward(self, x):\n",
        "        return self.linear(x)"
      ],
      "metadata": {
        "id": "it1UlNpQ3Q_B"
      },
      "execution_count": 145,
      "outputs": []
    },
    {
      "cell_type": "code",
      "source": [
        "model = LinearRegressionModel()"
      ],
      "metadata": {
        "id": "uNsAwnFj3w8G"
      },
      "execution_count": 146,
      "outputs": []
    },
    {
      "cell_type": "code",
      "source": [
        "# 모델을 선언 및 초기화. 다중 선형 회귀이므로 input_dim=3, output_dim=1.\n",
        "model = nn.Linear(3,1)"
      ],
      "metadata": {
        "id": "zZ_mgLUv30Do"
      },
      "execution_count": 147,
      "outputs": []
    },
    {
      "cell_type": "code",
      "source": [
        "class MultivariateLinearRegressionModel(nn.Module):\n",
        "    def __init__(self):\n",
        "        super().__init__()\n",
        "        self.linear = nn.Linear(3, 1) # 다중 선형 회귀이므로 input_dim=3, output_dim=1.\n",
        "\n",
        "    def forward(self, x):\n",
        "        return self.linear(x)"
      ],
      "metadata": {
        "id": "02lVAFw334g3"
      },
      "execution_count": 148,
      "outputs": []
    },
    {
      "cell_type": "code",
      "source": [
        "model = MultivariateLinearRegressionModel()"
      ],
      "metadata": {
        "id": "pi2YH7H44H7H"
      },
      "execution_count": 149,
      "outputs": []
    },
    {
      "cell_type": "code",
      "source": [
        "import torch\n",
        "import torch.nn as nn\n",
        "import torch.nn.functional as F"
      ],
      "metadata": {
        "id": "gDTQikXF4JrC"
      },
      "execution_count": 150,
      "outputs": []
    },
    {
      "cell_type": "code",
      "source": [
        "torch.manual_seed(1)"
      ],
      "metadata": {
        "colab": {
          "base_uri": "https://localhost:8080/"
        },
        "id": "jm-KAEGX4Tx1",
        "outputId": "1a596d49-fecb-4fee-fc8b-e46de029651b"
      },
      "execution_count": 151,
      "outputs": [
        {
          "output_type": "execute_result",
          "data": {
            "text/plain": [
              "<torch._C.Generator at 0x7d0d41cd7c90>"
            ]
          },
          "metadata": {},
          "execution_count": 151
        }
      ]
    },
    {
      "cell_type": "code",
      "source": [
        "# 데이터\n",
        "x_train = torch.FloatTensor([[1], [2], [3]])\n",
        "y_train = torch.FloatTensor([[2], [4], [6]])"
      ],
      "metadata": {
        "id": "zy3UbKuh4fMC"
      },
      "execution_count": 152,
      "outputs": []
    },
    {
      "cell_type": "code",
      "source": [
        "class LinearRegressionModel(nn.Module):\n",
        "    def __init__(self):\n",
        "        super().__init__()\n",
        "        self.linear = nn.Linear(1, 1)\n",
        "\n",
        "    def forward(self, x):\n",
        "        return self.linear(x)"
      ],
      "metadata": {
        "id": "XHCXEWbU4mIl"
      },
      "execution_count": 157,
      "outputs": []
    },
    {
      "cell_type": "code",
      "source": [
        "model = LinearRegressionModel()"
      ],
      "metadata": {
        "id": "85MgYeEL4ynG"
      },
      "execution_count": 158,
      "outputs": []
    },
    {
      "cell_type": "code",
      "source": [
        "# optimizer 설정. 경사 하강법 SGD를 사용하고 learning rate를 의미하는 lr은 0.01\n",
        "optimizer = torch.optim.SGD(model.parameters(), lr=0.01)"
      ],
      "metadata": {
        "id": "EP92m6J341en"
      },
      "execution_count": 159,
      "outputs": []
    },
    {
      "cell_type": "code",
      "source": [
        "# 전체 훈련 데이터에 대해 경사 하강법을 2,000회 반복\n",
        "nb_epochs = 2000\n",
        "for epoch in range(nb_epochs+1):\n",
        "\n",
        "    # H(x) 계산\n",
        "    prediction = model(x_train)\n",
        "\n",
        "    # cost 계산\n",
        "    cost = F.mse_loss(prediction, y_train) # <== 파이토치에서 제공하는 평균 제곱 오차 함수\n",
        "\n",
        "    # cost로 H(x) 개선하는 부분\n",
        "    # gradient를 0으로 초기화\n",
        "    optimizer.zero_grad()\n",
        "    # 비용 함수를 미분하여 gradient 계산\n",
        "    cost.backward() # backward 연산\n",
        "    # W와 b를 업데이트\n",
        "    optimizer.step()\n",
        "\n",
        "    if epoch % 100 == 0:\n",
        "    # 100번마다 로그 출력\n",
        "        print('Epoch {:4d}/{} Cost: {:.6f}'.format(epoch, nb_epochs, cost.item()))"
      ],
      "metadata": {
        "colab": {
          "base_uri": "https://localhost:8080/"
        },
        "id": "ajoZ9pw45AzA",
        "outputId": "bc754c78-f30d-4dcf-ecf0-2b8ae3e30239"
      },
      "execution_count": 160,
      "outputs": [
        {
          "output_type": "stream",
          "name": "stdout",
          "text": [
            "Epoch    0/2000 Cost: 18.562185\n",
            "Epoch  100/2000 Cost: 0.128051\n",
            "Epoch  200/2000 Cost: 0.079128\n",
            "Epoch  300/2000 Cost: 0.048896\n",
            "Epoch  400/2000 Cost: 0.030215\n",
            "Epoch  500/2000 Cost: 0.018671\n",
            "Epoch  600/2000 Cost: 0.011538\n",
            "Epoch  700/2000 Cost: 0.007129\n",
            "Epoch  800/2000 Cost: 0.004406\n",
            "Epoch  900/2000 Cost: 0.002722\n",
            "Epoch 1000/2000 Cost: 0.001682\n",
            "Epoch 1100/2000 Cost: 0.001040\n",
            "Epoch 1200/2000 Cost: 0.000642\n",
            "Epoch 1300/2000 Cost: 0.000397\n",
            "Epoch 1400/2000 Cost: 0.000245\n",
            "Epoch 1500/2000 Cost: 0.000152\n",
            "Epoch 1600/2000 Cost: 0.000094\n",
            "Epoch 1700/2000 Cost: 0.000058\n",
            "Epoch 1800/2000 Cost: 0.000036\n",
            "Epoch 1900/2000 Cost: 0.000022\n",
            "Epoch 2000/2000 Cost: 0.000014\n"
          ]
        }
      ]
    },
    {
      "cell_type": "code",
      "source": [
        "import torch\n",
        "import torch.nn as nn\n",
        "import torch.nn.functional as F"
      ],
      "metadata": {
        "id": "v53vV6X55-EK"
      },
      "execution_count": 161,
      "outputs": []
    },
    {
      "cell_type": "code",
      "source": [
        "torch.manual_seed(1)"
      ],
      "metadata": {
        "colab": {
          "base_uri": "https://localhost:8080/"
        },
        "id": "j0-tcsnk6BYX",
        "outputId": "a60f5563-543f-410a-bcc9-5b92cab3ca64"
      },
      "execution_count": 162,
      "outputs": [
        {
          "output_type": "execute_result",
          "data": {
            "text/plain": [
              "<torch._C.Generator at 0x7d0d41cd7c90>"
            ]
          },
          "metadata": {},
          "execution_count": 162
        }
      ]
    },
    {
      "cell_type": "code",
      "source": [
        "# 데이터\n",
        "x_train = torch.FloatTensor([[73, 80, 75],\n",
        "                             [93, 88, 93],\n",
        "                             [89, 91, 90],\n",
        "                             [96, 98, 100],\n",
        "                             [73, 66, 70]])\n",
        "y_train = torch.FloatTensor([[152], [185], [180], [196], [142]])"
      ],
      "metadata": {
        "id": "1NW9DvtE6Gar"
      },
      "execution_count": 163,
      "outputs": []
    },
    {
      "cell_type": "code",
      "source": [
        "class MultivariateLinearRegressionModel(nn.Module):\n",
        "    def __init__(self):\n",
        "        super().__init__()\n",
        "        self.linear = nn.Linear(3, 1) # 다중 선형 회귀이므로 input_dim=3, output_dim=1.\n",
        "\n",
        "    def forward(self, x):\n",
        "        return self.linear(x)\n",
        "\n",
        "model = MultivariateLinearRegressionModel()"
      ],
      "metadata": {
        "id": "dWhgRONu6V1k"
      },
      "execution_count": 165,
      "outputs": []
    },
    {
      "cell_type": "code",
      "source": [
        "optimizer = torch.optim.SGD(model.parameters(), lr=1e-5)"
      ],
      "metadata": {
        "id": "KqoJ3E5H6o0G"
      },
      "execution_count": 166,
      "outputs": []
    },
    {
      "cell_type": "code",
      "source": [
        "nb_epochs = 2000\n",
        "for epoch in range(nb_epochs+1):\n",
        "\n",
        "    # H(x) 계산\n",
        "    prediction = model(x_train)\n",
        "    # model(x_train)은 model.forward(x_train)와 동일함.\n",
        "\n",
        "    # cost 계산\n",
        "    cost = F.mse_loss(prediction, y_train) # <== 파이토치에서 제공하는 평균 제곱 오차 함수\n",
        "\n",
        "    # cost로 H(x) 개선하는 부분\n",
        "    # gradient를 0으로 초기화\n",
        "    optimizer.zero_grad()\n",
        "    # 비용 함수를 미분하여 gradient 계산\n",
        "    cost.backward()\n",
        "    # W와 b를 업데이트\n",
        "    optimizer.step()\n",
        "\n",
        "    if epoch % 100 == 0:\n",
        "    # 100번마다 로그 출력\n",
        "        print('Epoch {:4d}/{} Cost: {:.6f}'.format(epoch, nb_epochs, cost.item()))"
      ],
      "metadata": {
        "colab": {
          "base_uri": "https://localhost:8080/"
        },
        "id": "GT68hUKD6umx",
        "outputId": "be0c9335-4b28-426a-8eee-2732ad6eb2a4"
      },
      "execution_count": 167,
      "outputs": [
        {
          "output_type": "stream",
          "name": "stdout",
          "text": [
            "Epoch    0/2000 Cost: 31667.597656\n",
            "Epoch  100/2000 Cost: 0.225993\n",
            "Epoch  200/2000 Cost: 0.223911\n",
            "Epoch  300/2000 Cost: 0.221941\n",
            "Epoch  400/2000 Cost: 0.220059\n",
            "Epoch  500/2000 Cost: 0.218271\n",
            "Epoch  600/2000 Cost: 0.216575\n",
            "Epoch  700/2000 Cost: 0.214950\n",
            "Epoch  800/2000 Cost: 0.213413\n",
            "Epoch  900/2000 Cost: 0.211952\n",
            "Epoch 1000/2000 Cost: 0.210560\n",
            "Epoch 1100/2000 Cost: 0.209232\n",
            "Epoch 1200/2000 Cost: 0.207967\n",
            "Epoch 1300/2000 Cost: 0.206761\n",
            "Epoch 1400/2000 Cost: 0.205619\n",
            "Epoch 1500/2000 Cost: 0.204522\n",
            "Epoch 1600/2000 Cost: 0.203484\n",
            "Epoch 1700/2000 Cost: 0.202485\n",
            "Epoch 1800/2000 Cost: 0.201542\n",
            "Epoch 1900/2000 Cost: 0.200635\n",
            "Epoch 2000/2000 Cost: 0.199769\n"
          ]
        }
      ]
    },
    {
      "cell_type": "code",
      "source": [
        "x_train = torch.FloatTensor([[73, 80, 75],\n",
        "                             [93, 88, 93],\n",
        "                             [89, 91, 90],\n",
        "                             [96, 98, 100],\n",
        "                             [73, 66, 70]])\n",
        "y_train = torch.FloatTensor([[152], [185], [180], [196], [142]])"
      ],
      "metadata": {
        "id": "w9gvpEha7ajs"
      },
      "execution_count": 168,
      "outputs": []
    },
    {
      "cell_type": "code",
      "source": [
        "import torch\n",
        "import torch.nn as nn\n",
        "import torch.nn.functional as F"
      ],
      "metadata": {
        "id": "qKZ5UUee72Ho"
      },
      "execution_count": 169,
      "outputs": []
    },
    {
      "cell_type": "code",
      "source": [
        "from torch.utils.data import TensorDataset # 텐서데이터셋\n",
        "from torch.utils.data import DataLoader # 데이터로더"
      ],
      "metadata": {
        "id": "Xc-2AD0X761Y"
      },
      "execution_count": 170,
      "outputs": []
    },
    {
      "cell_type": "code",
      "source": [
        "x_train = torch.FloatTensor([[73, 80, 75],\n",
        "                             [93, 88, 93],\n",
        "                             [89, 91, 90],\n",
        "                             [96, 98, 100],\n",
        "                             [73, 66, 70]])\n",
        "y_train = torch.FloatTensor([[152], [185], [180], [196], [142]])"
      ],
      "metadata": {
        "id": "GDwlmKts8Bt9"
      },
      "execution_count": 171,
      "outputs": []
    },
    {
      "cell_type": "code",
      "source": [
        "dataset = TensorDataset(x_train, y_train)"
      ],
      "metadata": {
        "id": "tDGUUV_f8RmN"
      },
      "execution_count": 172,
      "outputs": []
    },
    {
      "cell_type": "code",
      "source": [
        "dataloader = DataLoader(dataset, batch_size=2, shuffle=True)"
      ],
      "metadata": {
        "id": "7yKqb7oj8WqY"
      },
      "execution_count": 173,
      "outputs": []
    },
    {
      "cell_type": "code",
      "source": [
        "model = nn.Linear(3,1)\n",
        "optimizer = torch.optim.SGD(model.parameters(), lr=1e-5)"
      ],
      "metadata": {
        "id": "TziaxTbt8a6Y"
      },
      "execution_count": 175,
      "outputs": []
    },
    {
      "cell_type": "code",
      "source": [
        "nb_epochs = 20\n",
        "for epoch in range(nb_epochs + 1):\n",
        "    for batch_idx, samples in enumerate(dataloader):\n",
        "        # print(batch_idx)\n",
        "        # print(samples)\n",
        "        x_train, y_train = samples\n",
        "        # H(x) 계산\n",
        "        prediction = model(x_train)\n",
        "\n",
        "        # cost 계산\n",
        "        cost = F.mse_loss(prediction, y_train)\n",
        "\n",
        "        # cost로 H(x) 계산\n",
        "        optimizer.zero_grad()\n",
        "        cost.backward()\n",
        "        optimizer.step()\n",
        "\n",
        "        print('Epoch {:4d}/{} Batch {}/{} Cost: {:.6f}'.format(epoch, nb_epochs, batch_idx+1, len(dataloader), cost.item()))"
      ],
      "metadata": {
        "colab": {
          "base_uri": "https://localhost:8080/"
        },
        "id": "QBSkHS6r8hLU",
        "outputId": "b1c26a05-2dc4-4190-94ba-f47a3f7833ea"
      },
      "execution_count": 176,
      "outputs": [
        {
          "output_type": "stream",
          "name": "stdout",
          "text": [
            "Epoch    0/20 Batch 1/3 Cost: 40394.078125\n",
            "Epoch    0/20 Batch 2/3 Cost: 10625.847656\n",
            "Epoch    0/20 Batch 3/3 Cost: 5451.569824\n",
            "Epoch    1/20 Batch 1/3 Cost: 937.502686\n",
            "Epoch    1/20 Batch 2/3 Cost: 265.944641\n",
            "Epoch    1/20 Batch 3/3 Cost: 244.422516\n",
            "Epoch    2/20 Batch 1/3 Cost: 3.523124\n",
            "Epoch    2/20 Batch 2/3 Cost: 55.838848\n",
            "Epoch    2/20 Batch 3/3 Cost: 2.371109\n",
            "Epoch    3/20 Batch 1/3 Cost: 21.615038\n",
            "Epoch    3/20 Batch 2/3 Cost: 1.536160\n",
            "Epoch    3/20 Batch 3/3 Cost: 23.620941\n",
            "Epoch    4/20 Batch 1/3 Cost: 12.848326\n",
            "Epoch    4/20 Batch 2/3 Cost: 17.578579\n",
            "Epoch    4/20 Batch 3/3 Cost: 18.382185\n",
            "Epoch    5/20 Batch 1/3 Cost: 11.401794\n",
            "Epoch    5/20 Batch 2/3 Cost: 20.961008\n",
            "Epoch    5/20 Batch 3/3 Cost: 28.939528\n",
            "Epoch    6/20 Batch 1/3 Cost: 14.807928\n",
            "Epoch    6/20 Batch 2/3 Cost: 2.599214\n",
            "Epoch    6/20 Batch 3/3 Cost: 33.501408\n",
            "Epoch    7/20 Batch 1/3 Cost: 16.869902\n",
            "Epoch    7/20 Batch 2/3 Cost: 24.529007\n",
            "Epoch    7/20 Batch 3/3 Cost: 10.461083\n",
            "Epoch    8/20 Batch 1/3 Cost: 8.686938\n",
            "Epoch    8/20 Batch 2/3 Cost: 30.927563\n",
            "Epoch    8/20 Batch 3/3 Cost: 7.897373\n",
            "Epoch    9/20 Batch 1/3 Cost: 7.612912\n",
            "Epoch    9/20 Batch 2/3 Cost: 18.703302\n",
            "Epoch    9/20 Batch 3/3 Cost: 16.064274\n",
            "Epoch   10/20 Batch 1/3 Cost: 12.797729\n",
            "Epoch   10/20 Batch 2/3 Cost: 8.214152\n",
            "Epoch   10/20 Batch 3/3 Cost: 23.461618\n",
            "Epoch   11/20 Batch 1/3 Cost: 16.458567\n",
            "Epoch   11/20 Batch 2/3 Cost: 8.302089\n",
            "Epoch   11/20 Batch 3/3 Cost: 18.300760\n",
            "Epoch   12/20 Batch 1/3 Cost: 3.977037\n",
            "Epoch   12/20 Batch 2/3 Cost: 16.020422\n",
            "Epoch   12/20 Batch 3/3 Cost: 29.221930\n",
            "Epoch   13/20 Batch 1/3 Cost: 13.251001\n",
            "Epoch   13/20 Batch 2/3 Cost: 15.146610\n",
            "Epoch   13/20 Batch 3/3 Cost: 6.902967\n",
            "Epoch   14/20 Batch 1/3 Cost: 20.339699\n",
            "Epoch   14/20 Batch 2/3 Cost: 8.538606\n",
            "Epoch   14/20 Batch 3/3 Cost: 4.506875\n",
            "Epoch   15/20 Batch 1/3 Cost: 9.943653\n",
            "Epoch   15/20 Batch 2/3 Cost: 13.766188\n",
            "Epoch   15/20 Batch 3/3 Cost: 19.031033\n",
            "Epoch   16/20 Batch 1/3 Cost: 29.411713\n",
            "Epoch   16/20 Batch 2/3 Cost: 15.633725\n",
            "Epoch   16/20 Batch 3/3 Cost: 1.366826\n",
            "Epoch   17/20 Batch 1/3 Cost: 29.227428\n",
            "Epoch   17/20 Batch 2/3 Cost: 8.651312\n",
            "Epoch   17/20 Batch 3/3 Cost: 12.546141\n",
            "Epoch   18/20 Batch 1/3 Cost: 2.676948\n",
            "Epoch   18/20 Batch 2/3 Cost: 23.020742\n",
            "Epoch   18/20 Batch 3/3 Cost: 20.121801\n",
            "Epoch   19/20 Batch 1/3 Cost: 18.024099\n",
            "Epoch   19/20 Batch 2/3 Cost: 9.444228\n",
            "Epoch   19/20 Batch 3/3 Cost: 23.168087\n",
            "Epoch   20/20 Batch 1/3 Cost: 21.232851\n",
            "Epoch   20/20 Batch 2/3 Cost: 11.280956\n",
            "Epoch   20/20 Batch 3/3 Cost: 14.621032\n"
          ]
        }
      ]
    },
    {
      "cell_type": "code",
      "source": [
        "# 임의의 입력 [73, 80, 75]를 선언\n",
        "new_var = torch.FloatTensor([73, 80, 75])\n",
        "# 입력한 값 [73, 80, 75]에 대해서 예측값 y를 리턴받아서 pred_y에 저장\n",
        "pred_y = model(new_var)\n",
        "print(\"훈련 후 입력이 73, 80, 75일 때의 예측값 :\", pred_y)"
      ],
      "metadata": {
        "colab": {
          "base_uri": "https://localhost:8080/"
        },
        "id": "o3BxamvN9PiA",
        "outputId": "bfb7a785-bf61-49e6-ca5e-3d821d1a2b0e"
      },
      "execution_count": 177,
      "outputs": [
        {
          "output_type": "stream",
          "name": "stdout",
          "text": [
            "훈련 후 입력이 73, 80, 75일 때의 예측값 : tensor([157.2804], grad_fn=<ViewBackward0>)\n"
          ]
        }
      ]
    },
    {
      "cell_type": "code",
      "source": [
        "import torch\n",
        "import torch.nn.functional as F\n",
        "from torch.utils.data import Dataset\n",
        "from torch.utils.data import DataLoader"
      ],
      "metadata": {
        "id": "l-HxuaWo9lX2"
      },
      "execution_count": 178,
      "outputs": []
    },
    {
      "cell_type": "code",
      "source": [
        "# Dataset 상속\n",
        "class CustomDataset(Dataset):\n",
        "    def __init__(self):\n",
        "        self.x_data = [[73, 80, 75],\n",
        "                       [93, 88, 93],\n",
        "                       [89, 91, 90],\n",
        "                       [96, 98, 100],\n",
        "                       [73, 66, 70]]\n",
        "        self.y_data = [[152], [185], [180], [196], [142]]\n",
        "\n",
        "    # 총 데이터의 개수를 리턴\n",
        "    def __len__(self):\n",
        "        return len(self.x_data)\n",
        "\n",
        "    # 인덱스를 입력받아 그에 맵핑되는 입출력 데이터를 파이토치의 Tensor 형태로 리턴\n",
        "    def __getitem__(self, idx):\n",
        "        x = torch.FloatTensor(self.x_data[idx])\n",
        "        y = torch.FloatTensor(self.y_data[idx])\n",
        "        return x, y"
      ],
      "metadata": {
        "id": "38xH2Ozs-A9E"
      },
      "execution_count": 179,
      "outputs": []
    },
    {
      "cell_type": "code",
      "source": [
        "dataset = CustomDataset()\n",
        "dataloader = DataLoader(dataset, batch_size=2, shuffle=True)"
      ],
      "metadata": {
        "id": "QDsqYzj2-qwj"
      },
      "execution_count": 180,
      "outputs": []
    },
    {
      "cell_type": "code",
      "source": [
        "model = torch.nn.Linear(3,1)\n",
        "optimizer = torch.optim.SGD(model.parameters(), lr=1e-5)"
      ],
      "metadata": {
        "id": "h7q78y9Q-wkZ"
      },
      "execution_count": 181,
      "outputs": []
    },
    {
      "cell_type": "code",
      "source": [
        "nb_epochs = 20\n",
        "for epoch in range(nb_epochs + 1):\n",
        "    for batch_idx, samples in enumerate(dataloader):\n",
        "        # print(batch_idx)\n",
        "        # print(samples)\n",
        "        x_train, y_train = samples\n",
        "        # H(x) 계산\n",
        "        prediction = model(x_train)\n",
        "\n",
        "        # cost 계산\n",
        "        cost = F.mse_loss(prediction, y_train)\n",
        "\n",
        "        # cost로 H(x) 계산\n",
        "        optimizer.zero_grad()\n",
        "        cost.backward()\n",
        "        optimizer.step()\n",
        "\n",
        "        print('Epoch {:4d}/{} Batch {}/{} Cost: {:.6f}'.format(epoch, nb_epochs, batch_idx+1, len(dataloader), cost.item()))"
      ],
      "metadata": {
        "colab": {
          "base_uri": "https://localhost:8080/"
        },
        "id": "zF-T2dz5-2yE",
        "outputId": "c687636a-52b4-4d47-edfa-0dbb49b8a5e5"
      },
      "execution_count": 182,
      "outputs": [
        {
          "output_type": "stream",
          "name": "stdout",
          "text": [
            "Epoch    0/20 Batch 1/3 Cost: 40548.742188\n",
            "Epoch    0/20 Batch 2/3 Cost: 7291.494629\n",
            "Epoch    0/20 Batch 3/3 Cost: 1811.472290\n",
            "Epoch    1/20 Batch 1/3 Cost: 1189.893066\n",
            "Epoch    1/20 Batch 2/3 Cost: 401.466431\n",
            "Epoch    1/20 Batch 3/3 Cost: 98.862206\n",
            "Epoch    2/20 Batch 1/3 Cost: 59.924492\n",
            "Epoch    2/20 Batch 2/3 Cost: 5.559007\n",
            "Epoch    2/20 Batch 3/3 Cost: 0.005015\n",
            "Epoch    3/20 Batch 1/3 Cost: 7.238708\n",
            "Epoch    3/20 Batch 2/3 Cost: 0.579787\n",
            "Epoch    3/20 Batch 3/3 Cost: 9.432348\n",
            "Epoch    4/20 Batch 1/3 Cost: 2.596285\n",
            "Epoch    4/20 Batch 2/3 Cost: 6.112614\n",
            "Epoch    4/20 Batch 3/3 Cost: 0.173577\n",
            "Epoch    5/20 Batch 1/3 Cost: 0.585848\n",
            "Epoch    5/20 Batch 2/3 Cost: 3.764531\n",
            "Epoch    5/20 Batch 3/3 Cost: 4.496256\n",
            "Epoch    6/20 Batch 1/3 Cost: 1.750809\n",
            "Epoch    6/20 Batch 2/3 Cost: 2.692096\n",
            "Epoch    6/20 Batch 3/3 Cost: 4.092447\n",
            "Epoch    7/20 Batch 1/3 Cost: 0.873122\n",
            "Epoch    7/20 Batch 2/3 Cost: 3.545633\n",
            "Epoch    7/20 Batch 3/3 Cost: 4.466667\n",
            "Epoch    8/20 Batch 1/3 Cost: 2.943422\n",
            "Epoch    8/20 Batch 2/3 Cost: 2.787029\n",
            "Epoch    8/20 Batch 3/3 Cost: 3.619434\n",
            "Epoch    9/20 Batch 1/3 Cost: 3.126629\n",
            "Epoch    9/20 Batch 2/3 Cost: 3.285140\n",
            "Epoch    9/20 Batch 3/3 Cost: 3.671642\n",
            "Epoch   10/20 Batch 1/3 Cost: 4.018428\n",
            "Epoch   10/20 Batch 2/3 Cost: 3.578519\n",
            "Epoch   10/20 Batch 3/3 Cost: 4.788361\n",
            "Epoch   11/20 Batch 1/3 Cost: 2.840890\n",
            "Epoch   11/20 Batch 2/3 Cost: 1.529948\n",
            "Epoch   11/20 Batch 3/3 Cost: 5.260715\n",
            "Epoch   12/20 Batch 1/3 Cost: 2.605295\n",
            "Epoch   12/20 Batch 2/3 Cost: 2.249573\n",
            "Epoch   12/20 Batch 3/3 Cost: 4.657314\n",
            "Epoch   13/20 Batch 1/3 Cost: 2.926564\n",
            "Epoch   13/20 Batch 2/3 Cost: 1.515777\n",
            "Epoch   13/20 Batch 3/3 Cost: 4.302320\n",
            "Epoch   14/20 Batch 1/3 Cost: 0.500350\n",
            "Epoch   14/20 Batch 2/3 Cost: 6.037333\n",
            "Epoch   14/20 Batch 3/3 Cost: 4.123126\n",
            "Epoch   15/20 Batch 1/3 Cost: 1.343163\n",
            "Epoch   15/20 Batch 2/3 Cost: 3.552392\n",
            "Epoch   15/20 Batch 3/3 Cost: 4.573134\n",
            "Epoch   16/20 Batch 1/3 Cost: 3.172132\n",
            "Epoch   16/20 Batch 2/3 Cost: 3.901104\n",
            "Epoch   16/20 Batch 3/3 Cost: 5.279982\n",
            "Epoch   17/20 Batch 1/3 Cost: 2.121084\n",
            "Epoch   17/20 Batch 2/3 Cost: 3.004867\n",
            "Epoch   17/20 Batch 3/3 Cost: 5.418177\n",
            "Epoch   18/20 Batch 1/3 Cost: 2.273882\n",
            "Epoch   18/20 Batch 2/3 Cost: 2.860928\n",
            "Epoch   18/20 Batch 3/3 Cost: 3.722516\n",
            "Epoch   19/20 Batch 1/3 Cost: 3.066788\n",
            "Epoch   19/20 Batch 2/3 Cost: 3.034832\n",
            "Epoch   19/20 Batch 3/3 Cost: 0.832834\n",
            "Epoch   20/20 Batch 1/3 Cost: 2.018387\n",
            "Epoch   20/20 Batch 2/3 Cost: 6.400998\n",
            "Epoch   20/20 Batch 3/3 Cost: 0.817560\n"
          ]
        }
      ]
    },
    {
      "cell_type": "code",
      "source": [
        "# 임의의 입력 [73, 80, 75]를 선언\n",
        "new_var = torch.FloatTensor([[73, 80, 75]])\n",
        "# 입력하 값 [73, 80, 75]에 대해서 예측값 y를 리턴받아서 pred_y에 저장\n",
        "pred_y = model(new_var)\n",
        "print(\"훈련 후 입력이 73, 80, 75일 때의 예측값 :\", pred_y)"
      ],
      "metadata": {
        "colab": {
          "base_uri": "https://localhost:8080/"
        },
        "id": "dIbwQLJw_ZUi",
        "outputId": "1b89a78c-476b-4c28-9bc9-5b2df4cfc6fc"
      },
      "execution_count": 183,
      "outputs": [
        {
          "output_type": "stream",
          "name": "stdout",
          "text": [
            "훈련 후 입력이 73, 80, 75일 때의 예측값 : tensor([[153.5625]], grad_fn=<AddmmBackward0>)\n"
          ]
        }
      ]
    },
    {
      "cell_type": "code",
      "source": [
        "import numpy as np"
      ],
      "metadata": {
        "id": "oUWVGRVq_rqB"
      },
      "execution_count": 184,
      "outputs": []
    },
    {
      "cell_type": "code",
      "source": [
        "d = np.array(5)\n",
        "print('텐서의 차원 :',d.ndim)\n",
        "print('텐서의 크기(shape) :',d.shape)"
      ],
      "metadata": {
        "colab": {
          "base_uri": "https://localhost:8080/"
        },
        "id": "aWxdK02D_wBT",
        "outputId": "ab69f1ca-2786-4424-e271-1071c6996cde"
      },
      "execution_count": 185,
      "outputs": [
        {
          "output_type": "stream",
          "name": "stdout",
          "text": [
            "텐서의 차원 : 0\n",
            "텐서의 크기(shape) : ()\n"
          ]
        }
      ]
    },
    {
      "cell_type": "code",
      "source": [
        "d = np.array([1, 2, 3, 4])\n",
        "print('텐서의 차원 :',d.ndim)\n",
        "print('텐서의 크기(shape) :',d.shape)"
      ],
      "metadata": {
        "colab": {
          "base_uri": "https://localhost:8080/"
        },
        "id": "sp5VUJzy_9A-",
        "outputId": "910fbbad-ba81-4e47-f13b-16177582e764"
      },
      "execution_count": 186,
      "outputs": [
        {
          "output_type": "stream",
          "name": "stdout",
          "text": [
            "텐서의 차원 : 1\n",
            "텐서의 크기(shape) : (4,)\n"
          ]
        }
      ]
    },
    {
      "cell_type": "code",
      "source": [
        "# 3행 4열의 행렬\n",
        "d = np.array([[1, 2, 3, 4], [5, 6, 7, 8], [9, 10, 11, 12]])\n",
        "print('텐서의 차원 :',d.ndim)\n",
        "print('텐서의 크기(shape) :',d.shape)"
      ],
      "metadata": {
        "colab": {
          "base_uri": "https://localhost:8080/"
        },
        "id": "Lm-89jw6AGZk",
        "outputId": "6e47d7da-a97e-494f-e3df-e00141c936f1"
      },
      "execution_count": 187,
      "outputs": [
        {
          "output_type": "stream",
          "name": "stdout",
          "text": [
            "텐서의 차원 : 2\n",
            "텐서의 크기(shape) : (3, 4)\n"
          ]
        }
      ]
    },
    {
      "cell_type": "code",
      "source": [
        "d = np.array([\n",
        "    [[1, 2, 3, 4, 5], [6, 7, 8, 9, 10], [10, 11, 12, 13, 14]],\n",
        "    [[15, 16, 17, 18, 19], [19, 20, 21, 22, 23], [23, 24, 25, 26, 27]]\n",
        "])\n",
        "print('텐서의 차원 :',d.ndim)\n",
        "print('텐서의 크기(shape) :',d.shape)"
      ],
      "metadata": {
        "colab": {
          "base_uri": "https://localhost:8080/"
        },
        "id": "ThfavHVIAQQ8",
        "outputId": "93dc849c-8578-4e8a-c5dc-ee709a01e9e8"
      },
      "execution_count": 188,
      "outputs": [
        {
          "output_type": "stream",
          "name": "stdout",
          "text": [
            "텐서의 차원 : 3\n",
            "텐서의 크기(shape) : (2, 3, 5)\n"
          ]
        }
      ]
    },
    {
      "cell_type": "code",
      "source": [
        "[[[1, 0, 0, 0, 0, 0], [0, 1, 0, 0, 0, 0], [0, 0, 1, 0, 0, 0]],\n",
        " [[1, 0, 0, 0, 0, 0], [0, 1, 0, 0, 0, 0], [0, 0, 0, 1, 0, 0]],\n",
        " [[0, 0, 0, 1, 0, 0], [0, 0, 0, 0, 1, 0], [0, 0, 0, 0, 0, 1]]]"
      ],
      "metadata": {
        "colab": {
          "base_uri": "https://localhost:8080/"
        },
        "id": "S-nqymkAAtzE",
        "outputId": "8539a89c-1e60-41a7-f2e0-ba3f3000d504"
      },
      "execution_count": 189,
      "outputs": [
        {
          "output_type": "execute_result",
          "data": {
            "text/plain": [
              "[[[1, 0, 0, 0, 0, 0], [0, 1, 0, 0, 0, 0], [0, 0, 1, 0, 0, 0]],\n",
              " [[1, 0, 0, 0, 0, 0], [0, 1, 0, 0, 0, 0], [0, 0, 0, 1, 0, 0]],\n",
              " [[0, 0, 0, 1, 0, 0], [0, 0, 0, 0, 1, 0], [0, 0, 0, 0, 0, 1]]]"
            ]
          },
          "metadata": {},
          "execution_count": 189
        }
      ]
    },
    {
      "cell_type": "code",
      "source": [
        "import numpy as np"
      ],
      "metadata": {
        "id": "EzruOzUoBC1D"
      },
      "execution_count": 190,
      "outputs": []
    },
    {
      "cell_type": "code",
      "source": [
        "A = np.array([8, 4, 5])\n",
        "B = np.array([1, 2, 3])\n",
        "print('두 벡터의 합 :',A+B)\n",
        "print('두 벡터의 차 :',A-B)"
      ],
      "metadata": {
        "colab": {
          "base_uri": "https://localhost:8080/"
        },
        "id": "65qnokSuBFE8",
        "outputId": "1f4e4475-b99e-40db-e71d-fe9d5dcbf66c"
      },
      "execution_count": 191,
      "outputs": [
        {
          "output_type": "stream",
          "name": "stdout",
          "text": [
            "두 벡터의 합 : [9 6 8]\n",
            "두 벡터의 차 : [7 2 2]\n"
          ]
        }
      ]
    },
    {
      "cell_type": "code",
      "source": [
        "A = np.array([[10, 20, 30, 40], [50, 60, 70, 80]])\n",
        "B = np.array([[5, 6, 7, 8],[1, 2, 3, 4]])\n",
        "print('두 행렬의 합 :')\n",
        "print(A + B)\n",
        "print('두 행렬의 차 :')\n",
        "print(A - B)"
      ],
      "metadata": {
        "colab": {
          "base_uri": "https://localhost:8080/"
        },
        "id": "ZVJ7jViABOGc",
        "outputId": "a1a3badb-5e08-4307-97f5-af387562d74b"
      },
      "execution_count": 192,
      "outputs": [
        {
          "output_type": "stream",
          "name": "stdout",
          "text": [
            "두 행렬의 합 :\n",
            "[[15 26 37 48]\n",
            " [51 62 73 84]]\n",
            "두 행렬의 차 :\n",
            "[[ 5 14 23 32]\n",
            " [49 58 67 76]]\n"
          ]
        }
      ]
    },
    {
      "cell_type": "code",
      "source": [
        "A = np.array([1, 2, 3])\n",
        "B = np.array([4, 5, 6])\n",
        "print('두 벡터의 내적 :',np.dot(A, B))"
      ],
      "metadata": {
        "colab": {
          "base_uri": "https://localhost:8080/"
        },
        "id": "mvgZiE5RBbNw",
        "outputId": "39091f43-37be-4b5c-f752-fd169dba6264"
      },
      "execution_count": 193,
      "outputs": [
        {
          "output_type": "stream",
          "name": "stdout",
          "text": [
            "두 벡터의 내적 : 32\n"
          ]
        }
      ]
    },
    {
      "cell_type": "code",
      "source": [
        "A = np.array([[1, 3],[2, 4]])\n",
        "B = np.array([[5, 7],[6, 8]])\n",
        "print('두 행렬의 행렬곱 :')\n",
        "print(np.matmul(A, B))"
      ],
      "metadata": {
        "colab": {
          "base_uri": "https://localhost:8080/"
        },
        "id": "QOyEal6BBj9t",
        "outputId": "c79d4cff-72ae-4b6e-d329-0c4370f929cd"
      },
      "execution_count": 194,
      "outputs": [
        {
          "output_type": "stream",
          "name": "stdout",
          "text": [
            "두 행렬의 행렬곱 :\n",
            "[[23 31]\n",
            " [34 46]]\n"
          ]
        }
      ]
    }
  ]
}