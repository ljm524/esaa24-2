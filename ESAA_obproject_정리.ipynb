{
  "nbformat": 4,
  "nbformat_minor": 0,
  "metadata": {
    "colab": {
      "provenance": [],
      "authorship_tag": "ABX9TyPX6jQAWcsm2f/+EE8fk9hr",
      "include_colab_link": true
    },
    "kernelspec": {
      "name": "python3",
      "display_name": "Python 3"
    },
    "language_info": {
      "name": "python"
    }
  },
  "cells": [
    {
      "cell_type": "markdown",
      "metadata": {
        "id": "view-in-github",
        "colab_type": "text"
      },
      "source": [
        "<a href=\"https://colab.research.google.com/github/ljm524/esaa24-2/blob/main/ESAA_obproject_%EC%A0%95%EB%A6%AC.ipynb\" target=\"_parent\"><img src=\"https://colab.research.google.com/assets/colab-badge.svg\" alt=\"Open In Colab\"/></a>"
      ]
    },
    {
      "cell_type": "markdown",
      "source": [
        "# 프로젝트 배경\n",
        "\n",
        "**넷플릭스 주가 예측**\n",
        "- 시계열 데이터\n",
        "- 2018년 2월 ~ 2022년 2월 (5년간)"
      ],
      "metadata": {
        "id": "GIZqFuLMNJgQ"
      }
    },
    {
      "cell_type": "markdown",
      "source": [
        "# 프로젝트 내용\n",
        "\n",
        "코드\n",
        "https://colab.research.google.com/drive/1Pt_ZGvvzlyTDkliMYAO0BmrtyxKvanOj\n",
        "\n",
        "ppt\n",
        "https://docs.google.com/document/d/1PC5ZdOVCrOwMYVNOdQeuADi4vDjaGfQ2vz6No33qvgQ/edit?tab=t.0"
      ],
      "metadata": {
        "id": "J7ek1tR6Q_wY"
      }
    },
    {
      "cell_type": "markdown",
      "source": [
        "# 문제점"
      ],
      "metadata": {
        "id": "kYtUAjcaTXFT"
      }
    },
    {
      "cell_type": "markdown",
      "source": [
        "# 해결방법"
      ],
      "metadata": {
        "id": "GlRhc3RgTYqr"
      }
    }
  ]
}