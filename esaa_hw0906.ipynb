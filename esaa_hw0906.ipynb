{
  "cells": [
    {
      "cell_type": "markdown",
      "metadata": {
        "id": "view-in-github",
        "colab_type": "text"
      },
      "source": [
        "<a href=\"https://colab.research.google.com/github/ljm524/esaa24-2/blob/main/esaa_hw0906.ipynb\" target=\"_parent\"><img src=\"https://colab.research.google.com/assets/colab-badge.svg\" alt=\"Open In Colab\"/></a>"
      ]
    },
    {
      "cell_type": "markdown",
      "source": [
        "# [개념정리]"
      ],
      "metadata": {
        "id": "3cZ6ACAtLhb8"
      }
    },
    {
      "cell_type": "markdown",
      "source": [
        "## 4장 모델 훈련\n"
      ],
      "metadata": {
        "id": "BpUupLn7Lh1w"
      }
    },
    {
      "cell_type": "markdown",
      "source": [
        "### 4.1 선형 회귀\n",
        "4.1.1 정규방정식\n",
        "*   beta_hat = (X_transpose*x)^(-1)*X_transpose*y\n",
        "*   X+ : 유사역행렬\n",
        "*   특잇값 분해(SVD) : 표준 행렬 분해 기법\n",
        "\n",
        "4.1.2 계산 복잡도 : O(n^2.4)~O(n^3)\n",
        "\n"
      ],
      "metadata": {
        "id": "Y3_zJabNMlL5"
      }
    },
    {
      "cell_type": "markdown",
      "source": [
        "### 4.2 경사 하강법 : 일반적 최적화 알고리즘\n",
        "4.2.1 배치 경사 하강법\n",
        "*   편도함수 : theta j에 대한 비용 함수의 그래디언트\n",
        "*   epsilon(허용오차) : 벡터의 노름에 대한 임곗값 -> 벡터의 노름이 엡실론보다 작아지면 경사 하강법이 최솟값에 도달한 것이므로 알고리즘 중지\n",
        "\n",
        "4.2.2 확률적 경사 하강법 : 매 스텝에서 한 개의 샘플을 무작위 선택하고 그 하나의 샘플에 대한 그래디언트 계산\n",
        "\n",
        "4.2.3 미니배치 경사 하강법 : 미니배치라 부르는 임의의 작은 샘플 세트에 대해 그래디언트 계산"
      ],
      "metadata": {
        "id": "rv8pOiyhMtAQ"
      }
    },
    {
      "cell_type": "markdown",
      "source": [
        "## 4.3 다항 회귀"
      ],
      "metadata": {
        "id": "dVkSWHdihxBx"
      }
    },
    {
      "cell_type": "markdown",
      "source": [
        "## 4.4 학습 곡선"
      ],
      "metadata": {
        "id": "ZoDn3hBZh2HN"
      }
    },
    {
      "cell_type": "markdown",
      "source": [
        "## 4.5 규제가 있는 선형 모델\n",
        "4.5.1 릿지 회귀\n",
        "\n",
        "4.5.2 라쏘 회귀\n",
        "\n",
        "4.5.3 엘라스틱넷\n",
        "\n",
        "4.5.4 조기 종료"
      ],
      "metadata": {
        "id": "k191Sv0Lh7GA"
      }
    },
    {
      "cell_type": "markdown",
      "source": [
        "## 4.6 로지스틱 회귀\n",
        "4.6.1 확률 추정\n",
        "\n",
        "4.6.2 훈련과 비용 함수\n",
        "\n",
        "4.6.3 결정 경계\n",
        "\n",
        "4.6.4 소프트맥스 회귀\n"
      ],
      "metadata": {
        "id": "qIM7GTIBiG5X"
      }
    },
    {
      "cell_type": "markdown",
      "source": [
        "# [필사]"
      ],
      "metadata": {
        "id": "PDy712b0LhyV"
      }
    },
    {
      "cell_type": "markdown",
      "metadata": {
        "id": "2lokyNAHbyXq"
      },
      "source": [
        "# 선형 회귀"
      ]
    },
    {
      "cell_type": "code",
      "execution_count": null,
      "metadata": {
        "execution": {
          "iopub.execute_input": "2021-11-03T03:33:33.755847Z",
          "iopub.status.busy": "2021-11-03T03:33:33.755208Z",
          "iopub.status.idle": "2021-11-03T03:33:33.757085Z",
          "shell.execute_reply": "2021-11-03T03:33:33.757544Z"
        },
        "id": "kHq0jMy7byXq"
      },
      "outputs": [],
      "source": [
        "import numpy as np\n",
        "\n",
        "X = 2 * np.random.rand(100, 1)\n",
        "y = 4 + 3 * X + np.random.randn(100, 1)"
      ]
    },
    {
      "cell_type": "code",
      "execution_count": null,
      "metadata": {
        "execution": {
          "iopub.execute_input": "2021-11-03T03:33:34.441403Z",
          "iopub.status.busy": "2021-11-03T03:33:34.440756Z",
          "iopub.status.idle": "2021-11-03T03:33:34.445091Z",
          "shell.execute_reply": "2021-11-03T03:33:34.444225Z"
        },
        "id": "-zX7OgrVbyXr"
      },
      "outputs": [],
      "source": [
        "X_b = np.c_[np.ones((100, 1)), X]  # 모든 샘플에 x0 = 1을 추가합니다.\n",
        "theta_best = np.linalg.inv(X_b.T.dot(X_b)).dot(X_b.T).dot(y)"
      ]
    },
    {
      "cell_type": "code",
      "execution_count": null,
      "metadata": {
        "execution": {
          "iopub.execute_input": "2021-11-03T03:33:34.450416Z",
          "iopub.status.busy": "2021-11-03T03:33:34.449601Z",
          "iopub.status.idle": "2021-11-03T03:33:34.453378Z",
          "shell.execute_reply": "2021-11-03T03:33:34.453815Z"
        },
        "id": "flilQyfBbyXr",
        "outputId": "c32657e5-b00d-48b3-aa40-ebc79f69c63b",
        "colab": {
          "base_uri": "https://localhost:8080/"
        }
      },
      "outputs": [
        {
          "output_type": "execute_result",
          "data": {
            "text/plain": [
              "array([[3.9426163 ],\n",
              "       [3.04885882]])"
            ]
          },
          "metadata": {},
          "execution_count": 3
        }
      ],
      "source": [
        "theta_best"
      ]
    },
    {
      "cell_type": "code",
      "execution_count": null,
      "metadata": {
        "execution": {
          "iopub.execute_input": "2021-11-03T03:33:34.460018Z",
          "iopub.status.busy": "2021-11-03T03:33:34.459236Z",
          "iopub.status.idle": "2021-11-03T03:33:34.462691Z",
          "shell.execute_reply": "2021-11-03T03:33:34.463119Z"
        },
        "id": "ahBdtgC7byXs",
        "outputId": "f52508af-9aff-4ae3-818d-8009ba06dd95",
        "colab": {
          "base_uri": "https://localhost:8080/"
        }
      },
      "outputs": [
        {
          "output_type": "execute_result",
          "data": {
            "text/plain": [
              "array([[ 3.9426163 ],\n",
              "       [10.04033394]])"
            ]
          },
          "metadata": {},
          "execution_count": 4
        }
      ],
      "source": [
        "X_new = np.array([[0], [2]])\n",
        "X_new_b = np.c_[np.ones((2, 1)), X_new]  # 모든 샘플에 x0 = 1을 추가합니다.\n",
        "y_predict = X_new_b.dot(theta_best)\n",
        "y_predict"
      ]
    },
    {
      "cell_type": "code",
      "source": [
        "import matplotlib.pyplot as plt"
      ],
      "metadata": {
        "id": "SB0kdfJW-js0"
      },
      "execution_count": null,
      "outputs": []
    },
    {
      "cell_type": "code",
      "execution_count": null,
      "metadata": {
        "execution": {
          "iopub.execute_input": "2021-11-03T03:33:34.481933Z",
          "iopub.status.busy": "2021-11-03T03:33:34.478520Z",
          "iopub.status.idle": "2021-11-03T03:33:34.643689Z",
          "shell.execute_reply": "2021-11-03T03:33:34.644328Z"
        },
        "id": "LwwhT5m4byXs",
        "outputId": "c31b59ee-1a8a-4e41-f404-98046d17fc06",
        "colab": {
          "base_uri": "https://localhost:8080/",
          "height": 430
        }
      },
      "outputs": [
        {
          "output_type": "display_data",
          "data": {
            "text/plain": [
              "<Figure size 640x480 with 1 Axes>"
            ],
            "image/png": "[encoded data removed]"
          },
          "metadata": {}
        }
      ],
      "source": [
        "plt.plot(X_new, y_predict, \"r-\")\n",
        "plt.plot(X, y, \"b.\")\n",
        "plt.axis([0, 2, 0, 15])\n",
        "plt.show()"
      ]
    },
    {
      "cell_type": "code",
      "execution_count": null,
      "metadata": {
        "execution": {
          "iopub.execute_input": "2021-11-03T03:33:35.155202Z",
          "iopub.status.busy": "2021-11-03T03:33:35.154591Z",
          "iopub.status.idle": "2021-11-03T03:33:35.187153Z",
          "shell.execute_reply": "2021-11-03T03:33:35.186601Z"
        },
        "id": "Oc4ILlzlbyXs",
        "outputId": "c9c5b222-9929-4088-b749-b24f86acbb8d",
        "colab": {
          "base_uri": "https://localhost:8080/"
        }
      },
      "outputs": [
        {
          "output_type": "execute_result",
          "data": {
            "text/plain": [
              "(array([3.9426163]), array([[3.04885882]]))"
            ]
          },
          "metadata": {},
          "execution_count": 7
        }
      ],
      "source": [
        "from sklearn.linear_model import LinearRegression\n",
        "\n",
        "lin_reg = LinearRegression()\n",
        "lin_reg.fit(X, y)\n",
        "lin_reg.intercept_, lin_reg.coef_"
      ]
    },
    {
      "cell_type": "code",
      "execution_count": null,
      "metadata": {
        "execution": {
          "iopub.execute_input": "2021-11-03T03:33:35.191692Z",
          "iopub.status.busy": "2021-11-03T03:33:35.191074Z",
          "iopub.status.idle": "2021-11-03T03:33:35.195374Z",
          "shell.execute_reply": "2021-11-03T03:33:35.195817Z"
        },
        "id": "2b2HNIzsbyXt",
        "outputId": "23241159-1dde-425b-877a-75c86ee39981",
        "colab": {
          "base_uri": "https://localhost:8080/"
        }
      },
      "outputs": [
        {
          "output_type": "execute_result",
          "data": {
            "text/plain": [
              "array([[ 3.9426163 ],\n",
              "       [10.04033394]])"
            ]
          },
          "metadata": {},
          "execution_count": 8
        }
      ],
      "source": [
        "lin_reg.predict(X_new)"
      ]
    },
    {
      "cell_type": "code",
      "execution_count": null,
      "metadata": {
        "execution": {
          "iopub.execute_input": "2021-11-03T03:33:35.203463Z",
          "iopub.status.busy": "2021-11-03T03:33:35.202102Z",
          "iopub.status.idle": "2021-11-03T03:33:35.205838Z",
          "shell.execute_reply": "2021-11-03T03:33:35.205308Z"
        },
        "id": "7YbtiZCfbyXt",
        "outputId": "d3a89eb5-d395-485d-cc80-a3bffeade968",
        "colab": {
          "base_uri": "https://localhost:8080/"
        }
      },
      "outputs": [
        {
          "output_type": "execute_result",
          "data": {
            "text/plain": [
              "array([[3.9426163 ],\n",
              "       [3.04885882]])"
            ]
          },
          "metadata": {},
          "execution_count": 9
        }
      ],
      "source": [
        "theta_best_svd, residuals, rank, s = np.linalg.lstsq(X_b, y, rcond=1e-6)\n",
        "theta_best_svd"
      ]
    },
    {
      "cell_type": "code",
      "execution_count": null,
      "metadata": {
        "execution": {
          "iopub.execute_input": "2021-11-03T03:33:35.209617Z",
          "iopub.status.busy": "2021-11-03T03:33:35.208939Z",
          "iopub.status.idle": "2021-11-03T03:33:35.214696Z",
          "shell.execute_reply": "2021-11-03T03:33:35.215110Z"
        },
        "id": "6XDp6GR8byXt",
        "outputId": "81fffc92-1ab6-4a87-81d3-63e76e17d178",
        "colab": {
          "base_uri": "https://localhost:8080/"
        }
      },
      "outputs": [
        {
          "output_type": "execute_result",
          "data": {
            "text/plain": [
              "array([[3.9426163 ],\n",
              "       [3.04885882]])"
            ]
          },
          "metadata": {},
          "execution_count": 10
        }
      ],
      "source": [
        "np.linalg.pinv(X_b).dot(y)"
      ]
    },
    {
      "cell_type": "markdown",
      "metadata": {
        "id": "nbyQec1gbyXu"
      },
      "source": [
        "# 경사 하강법\n",
        "## 배치 경사 하강법"
      ]
    },
    {
      "cell_type": "code",
      "execution_count": null,
      "metadata": {
        "execution": {
          "iopub.execute_input": "2021-11-03T03:33:35.219843Z",
          "iopub.status.busy": "2021-11-03T03:33:35.219229Z",
          "iopub.status.idle": "2021-11-03T03:33:35.225997Z",
          "shell.execute_reply": "2021-11-03T03:33:35.226388Z"
        },
        "id": "WeV-gevmbyXu"
      },
      "outputs": [],
      "source": [
        "eta = 0.1  # 학습률\n",
        "n_iterations = 1000\n",
        "m = 100\n",
        "\n",
        "theta = np.random.randn(2,1)  # 랜덤 초기화\n",
        "\n",
        "for iteration in range(n_iterations):\n",
        "    gradients = 2/m * X_b.T.dot(X_b.dot(theta) - y)\n",
        "    theta = theta - eta * gradients"
      ]
    },
    {
      "cell_type": "code",
      "execution_count": null,
      "metadata": {
        "execution": {
          "iopub.execute_input": "2021-11-03T03:33:35.231433Z",
          "iopub.status.busy": "2021-11-03T03:33:35.230509Z",
          "iopub.status.idle": "2021-11-03T03:33:35.233513Z",
          "shell.execute_reply": "2021-11-03T03:33:35.233911Z"
        },
        "id": "nz3-qPgYbyXu",
        "outputId": "29090cd7-b6a6-470f-d783-ee60263a995a",
        "colab": {
          "base_uri": "https://localhost:8080/"
        }
      },
      "outputs": [
        {
          "output_type": "execute_result",
          "data": {
            "text/plain": [
              "array([[3.9426163 ],\n",
              "       [3.04885882]])"
            ]
          },
          "metadata": {},
          "execution_count": 12
        }
      ],
      "source": [
        "theta"
      ]
    },
    {
      "cell_type": "markdown",
      "metadata": {
        "id": "laWDbNvObyXu"
      },
      "source": [
        "## 확률적 경사 하강법"
      ]
    },
    {
      "cell_type": "code",
      "execution_count": null,
      "metadata": {
        "execution": {
          "iopub.execute_input": "2021-11-03T03:33:36.534274Z",
          "iopub.status.busy": "2021-11-03T03:33:36.532863Z",
          "iopub.status.idle": "2021-11-03T03:33:37.108070Z",
          "shell.execute_reply": "2021-11-03T03:33:37.108516Z"
        },
        "id": "dAGcka5gbyXv"
      },
      "outputs": [],
      "source": [
        "n_epochs = 50\n",
        "t0, t1 = 5, 50  # 학습 스케줄 하이퍼파라미터\n",
        "\n",
        "def learning_schedule(t):\n",
        "    return t0 / (t + t1)\n",
        "\n",
        "theta = np.random.randn(2,1)  # 랜덤 초기화\n",
        "\n",
        "for epoch in range(n_epochs):\n",
        "    for i in range(m):\n",
        "        random_index = np.random.randint(m)\n",
        "        xi = X_b[random_index:random_index+1]\n",
        "        yi = y[random_index:random_index+1]\n",
        "        gradients = 2 * xi.T.dot(xi.dot(theta) - yi)\n",
        "        eta = learning_schedule(epoch * m + i)\n",
        "        theta = theta - eta * gradients"
      ]
    },
    {
      "cell_type": "code",
      "execution_count": null,
      "metadata": {
        "execution": {
          "iopub.execute_input": "2021-11-03T03:33:37.114210Z",
          "iopub.status.busy": "2021-11-03T03:33:37.113270Z",
          "iopub.status.idle": "2021-11-03T03:33:37.116295Z",
          "shell.execute_reply": "2021-11-03T03:33:37.116729Z"
        },
        "scrolled": true,
        "id": "GCXoXza1byXv",
        "outputId": "1b644d5d-bdc0-4b49-b83d-0b55f115636d",
        "colab": {
          "base_uri": "https://localhost:8080/"
        }
      },
      "outputs": [
        {
          "output_type": "execute_result",
          "data": {
            "text/plain": [
              "array([[3.93868032],\n",
              "       [3.02394952]])"
            ]
          },
          "metadata": {},
          "execution_count": 14
        }
      ],
      "source": [
        "theta"
      ]
    },
    {
      "cell_type": "code",
      "execution_count": null,
      "metadata": {
        "execution": {
          "iopub.execute_input": "2021-11-03T03:33:37.122497Z",
          "iopub.status.busy": "2021-11-03T03:33:37.121873Z",
          "iopub.status.idle": "2021-11-03T03:33:37.126106Z",
          "shell.execute_reply": "2021-11-03T03:33:37.126538Z"
        },
        "id": "uM89Qqv6byXv",
        "outputId": "f50599b5-302d-4acc-fb40-ae72a7a1c619",
        "colab": {
          "base_uri": "https://localhost:8080/",
          "height": 74
        }
      },
      "outputs": [
        {
          "output_type": "execute_result",
          "data": {
            "text/plain": [
              "SGDRegressor(eta0=0.1, penalty=None, random_state=42)"
            ],
            "text/html": [
              "<style>#sk-container-id-1 {color: black;}#sk-container-id-1 pre{padding: 0;}#sk-container-id-1 div.sk-toggleable {background-color: white;}#sk-container-id-1 label.sk-toggleable__label {cursor: pointer;display: block;width: 100%;margin-bottom: 0;padding: 0.3em;box-sizing: border-box;text-align: center;}#sk-container-id-1 label.sk-toggleable__label-arrow:before {content: \"▸\";float: left;margin-right: 0.25em;color: #696969;}#sk-container-id-1 label.sk-toggleable__label-arrow:hover:before {color: black;}#sk-container-id-1 div.sk-estimator:hover label.sk-toggleable__label-arrow:before {color: black;}#sk-container-id-1 div.sk-toggleable__content {max-height: 0;max-width: 0;overflow: hidden;text-align: left;background-color: #f0f8ff;}#sk-container-id-1 div.sk-toggleable__content pre {margin: 0.2em;color: black;border-radius: 0.25em;background-color: #f0f8ff;}#sk-container-id-1 input.sk-toggleable__control:checked~div.sk-toggleable__content {max-height: 200px;max-width: 100%;overflow: auto;}#sk-container-id-1 input.sk-toggleable__control:checked~label.sk-toggleable__label-arrow:before {content: \"▾\";}#sk-container-id-1 div.sk-estimator input.sk-toggleable__control:checked~label.sk-toggleable__label {background-color: #d4ebff;}#sk-container-id-1 div.sk-label input.sk-toggleable__control:checked~label.sk-toggleable__label {background-color: #d4ebff;}#sk-container-id-1 input.sk-hidden--visually {border: 0;clip: rect(1px 1px 1px 1px);clip: rect(1px, 1px, 1px, 1px);height: 1px;margin: -1px;overflow: hidden;padding: 0;position: absolute;width: 1px;}#sk-container-id-1 div.sk-estimator {font-family: monospace;background-color: #f0f8ff;border: 1px dotted black;border-radius: 0.25em;box-sizing: border-box;margin-bottom: 0.5em;}#sk-container-id-1 div.sk-estimator:hover {background-color: #d4ebff;}#sk-container-id-1 div.sk-parallel-item::after {content: \"\";width: 100%;border-bottom: 1px solid gray;flex-grow: 1;}#sk-container-id-1 div.sk-label:hover label.sk-toggleable__label {background-color: #d4ebff;}#sk-container-id-1 div.sk-serial::before {content: \"\";position: absolute;border-left: 1px solid gray;box-sizing: border-box;top: 0;bottom: 0;left: 50%;z-index: 0;}#sk-container-id-1 div.sk-serial {display: flex;flex-direction: column;align-items: center;background-color: white;padding-right: 0.2em;padding-left: 0.2em;position: relative;}#sk-container-id-1 div.sk-item {position: relative;z-index: 1;}#sk-container-id-1 div.sk-parallel {display: flex;align-items: stretch;justify-content: center;background-color: white;position: relative;}#sk-container-id-1 div.sk-item::before, #sk-container-id-1 div.sk-parallel-item::before {content: \"\";position: absolute;border-left: 1px solid gray;box-sizing: border-box;top: 0;bottom: 0;left: 50%;z-index: -1;}#sk-container-id-1 div.sk-parallel-item {display: flex;flex-direction: column;z-index: 1;position: relative;background-color: white;}#sk-container-id-1 div.sk-parallel-item:first-child::after {align-self: flex-end;width: 50%;}#sk-container-id-1 div.sk-parallel-item:last-child::after {align-self: flex-start;width: 50%;}#sk-container-id-1 div.sk-parallel-item:only-child::after {width: 0;}#sk-container-id-1 div.sk-dashed-wrapped {border: 1px dashed gray;margin: 0 0.4em 0.5em 0.4em;box-sizing: border-box;padding-bottom: 0.4em;background-color: white;}#sk-container-id-1 div.sk-label label {font-family: monospace;font-weight: bold;display: inline-block;line-height: 1.2em;}#sk-container-id-1 div.sk-label-container {text-align: center;}#sk-container-id-1 div.sk-container {/* jupyter's `normalize.less` sets `[hidden] { display: none; }` but bootstrap.min.css set `[hidden] { display: none !important; }` so we also need the `!important` here to be able to override the default hidden behavior on the sphinx rendered scikit-learn.org. See: https://github.com/scikit-learn/scikit-learn/issues/21755 */display: inline-block !important;position: relative;}#sk-container-id-1 div.sk-text-repr-fallback {display: none;}</style><div id=\"sk-container-id-1\" class=\"sk-top-container\"><div class=\"sk-text-repr-fallback\"><pre>SGDRegressor(eta0=0.1, penalty=None, random_state=42)</pre><b>In a Jupyter environment, please rerun this cell to show the HTML representation or trust the notebook. <br />On GitHub, the HTML representation is unable to render, please try loading this page with nbviewer.org.</b></div><div class=\"sk-container\" hidden><div class=\"sk-item\"><div class=\"sk-estimator sk-toggleable\"><input class=\"sk-toggleable__control sk-hidden--visually\" id=\"sk-estimator-id-1\" type=\"checkbox\" checked><label for=\"sk-estimator-id-1\" class=\"sk-toggleable__label sk-toggleable__label-arrow\">SGDRegressor</label><div class=\"sk-toggleable__content\"><pre>SGDRegressor(eta0=0.1, penalty=None, random_state=42)</pre></div></div></div></div></div>"
            ]
          },
          "metadata": {},
          "execution_count": 15
        }
      ],
      "source": [
        "from sklearn.linear_model import SGDRegressor\n",
        "\n",
        "sgd_reg = SGDRegressor(max_iter=1000, tol=1e-3, penalty=None, eta0=0.1, random_state=42)\n",
        "sgd_reg.fit(X, y.ravel())"
      ]
    },
    {
      "cell_type": "code",
      "execution_count": null,
      "metadata": {
        "execution": {
          "iopub.execute_input": "2021-11-03T03:33:37.132013Z",
          "iopub.status.busy": "2021-11-03T03:33:37.131081Z",
          "iopub.status.idle": "2021-11-03T03:33:37.134650Z",
          "shell.execute_reply": "2021-11-03T03:33:37.134127Z"
        },
        "id": "bbBKjenLbyXv",
        "outputId": "b3635ddb-b75f-40d7-a436-0ef9d3d35fd7",
        "colab": {
          "base_uri": "https://localhost:8080/"
        }
      },
      "outputs": [
        {
          "output_type": "execute_result",
          "data": {
            "text/plain": [
              "(array([3.98019531]), array([3.07526223]))"
            ]
          },
          "metadata": {},
          "execution_count": 16
        }
      ],
      "source": [
        "sgd_reg.intercept_, sgd_reg.coef_"
      ]
    },
    {
      "cell_type": "markdown",
      "metadata": {
        "id": "kytQlhGrbyX0"
      },
      "source": [
        "# 다항 회귀"
      ]
    },
    {
      "cell_type": "code",
      "execution_count": null,
      "metadata": {
        "execution": {
          "iopub.execute_input": "2021-11-03T03:33:37.846594Z",
          "iopub.status.busy": "2021-11-03T03:33:37.845996Z",
          "iopub.status.idle": "2021-11-03T03:33:37.849481Z",
          "shell.execute_reply": "2021-11-03T03:33:37.848690Z"
        },
        "id": "TkNKktLebyX0"
      },
      "outputs": [],
      "source": [
        "m = 100\n",
        "X = 6 * np.random.rand(m, 1) - 3\n",
        "y = 0.5 * X**2 + X + 2 + np.random.randn(m, 1)"
      ]
    },
    {
      "cell_type": "code",
      "execution_count": null,
      "metadata": {
        "execution": {
          "iopub.execute_input": "2021-11-03T03:33:38.303745Z",
          "iopub.status.busy": "2021-11-03T03:33:38.303010Z",
          "iopub.status.idle": "2021-11-03T03:33:38.306444Z",
          "shell.execute_reply": "2021-11-03T03:33:38.306898Z"
        },
        "id": "7kg5ngBdbyX0",
        "outputId": "93a8206b-b4ab-4005-e71a-aa0f81d10cb6",
        "colab": {
          "base_uri": "https://localhost:8080/"
        }
      },
      "outputs": [
        {
          "output_type": "execute_result",
          "data": {
            "text/plain": [
              "array([-0.42053368])"
            ]
          },
          "metadata": {},
          "execution_count": 18
        }
      ],
      "source": [
        "from sklearn.preprocessing import PolynomialFeatures\n",
        "poly_features = PolynomialFeatures(degree=2, include_bias=False)\n",
        "X_poly = poly_features.fit_transform(X)\n",
        "X[0]"
      ]
    },
    {
      "cell_type": "code",
      "execution_count": null,
      "metadata": {
        "execution": {
          "iopub.execute_input": "2021-11-03T03:33:38.312053Z",
          "iopub.status.busy": "2021-11-03T03:33:38.311202Z",
          "iopub.status.idle": "2021-11-03T03:33:38.314685Z",
          "shell.execute_reply": "2021-11-03T03:33:38.315169Z"
        },
        "id": "USpEEAKvbyX0",
        "outputId": "0eccf382-6874-4598-cc18-39da1b25aa4d",
        "colab": {
          "base_uri": "https://localhost:8080/"
        }
      },
      "outputs": [
        {
          "output_type": "execute_result",
          "data": {
            "text/plain": [
              "array([-0.42053368,  0.17684858])"
            ]
          },
          "metadata": {},
          "execution_count": 19
        }
      ],
      "source": [
        "X_poly[0]"
      ]
    },
    {
      "cell_type": "code",
      "execution_count": null,
      "metadata": {
        "execution": {
          "iopub.execute_input": "2021-11-03T03:33:38.321743Z",
          "iopub.status.busy": "2021-11-03T03:33:38.320968Z",
          "iopub.status.idle": "2021-11-03T03:33:38.324149Z",
          "shell.execute_reply": "2021-11-03T03:33:38.324573Z"
        },
        "id": "SzLaRcBHbyX1",
        "outputId": "f5484af1-2b3c-411c-fd84-bc81845fe931",
        "colab": {
          "base_uri": "https://localhost:8080/"
        }
      },
      "outputs": [
        {
          "output_type": "execute_result",
          "data": {
            "text/plain": [
              "(array([2.04967706]), array([[1.02574932, 0.49860688]]))"
            ]
          },
          "metadata": {},
          "execution_count": 20
        }
      ],
      "source": [
        "lin_reg = LinearRegression()\n",
        "lin_reg.fit(X_poly, y)\n",
        "lin_reg.intercept_, lin_reg.coef_"
      ]
    },
    {
      "cell_type": "markdown",
      "metadata": {
        "id": "O3zBXR_6byX1"
      },
      "source": [
        "# 학습 곡선"
      ]
    },
    {
      "cell_type": "code",
      "execution_count": null,
      "metadata": {
        "execution": {
          "iopub.execute_input": "2021-11-03T03:33:39.413459Z",
          "iopub.status.busy": "2021-11-03T03:33:39.412444Z",
          "iopub.status.idle": "2021-11-03T03:33:39.419196Z",
          "shell.execute_reply": "2021-11-03T03:33:39.419627Z"
        },
        "id": "CUgpgaPBbyX1"
      },
      "outputs": [],
      "source": [
        "from sklearn.metrics import mean_squared_error\n",
        "from sklearn.model_selection import train_test_split\n",
        "\n",
        "def plot_learning_curves(model, X, y):\n",
        "    X_train, X_val, y_train, y_val = train_test_split(X, y, test_size=0.2, random_state=10)\n",
        "    train_errors, val_errors = [], []\n",
        "    for m in range(1, len(X_train) + 1):\n",
        "        model.fit(X_train[:m], y_train[:m])\n",
        "        y_train_predict = model.predict(X_train[:m])\n",
        "        y_val_predict = model.predict(X_val)\n",
        "        train_errors.append(mean_squared_error(y_train[:m], y_train_predict))\n",
        "        val_errors.append(mean_squared_error(y_val, y_val_predict))\n",
        "\n",
        "    plt.plot(np.sqrt(train_errors), \"r-+\", linewidth=2, label=\"훈련 세트\")\n",
        "    plt.plot(np.sqrt(val_errors), \"b-\", linewidth=3, label=\"검증 세트\")"
      ]
    },
    {
      "cell_type": "code",
      "execution_count": null,
      "metadata": {
        "execution": {
          "iopub.execute_input": "2021-11-03T03:33:39.451562Z",
          "iopub.status.busy": "2021-11-03T03:33:39.428168Z",
          "iopub.status.idle": "2021-11-03T03:33:39.972442Z",
          "shell.execute_reply": "2021-11-03T03:33:39.971847Z"
        },
        "id": "NfFOhZ64byX1",
        "outputId": "f43ddc2d-db67-456b-dbcc-4e28e6865cfe",
        "colab": {
          "base_uri": "https://localhost:8080/",
          "height": 430
        }
      },
      "outputs": [
        {
          "output_type": "display_data",
          "data": {
            "text/plain": [
              "<Figure size 640x480 with 1 Axes>"
            ],
            "image/png": "[encoded data removed]"
          },
          "metadata": {}
        }
      ],
      "source": [
        "lin_reg = LinearRegression()\n",
        "plot_learning_curves(lin_reg, X, y)"
      ]
    },
    {
      "cell_type": "code",
      "execution_count": null,
      "metadata": {
        "execution": {
          "iopub.execute_input": "2021-11-03T03:33:40.016103Z",
          "iopub.status.busy": "2021-11-03T03:33:40.010539Z",
          "iopub.status.idle": "2021-11-03T03:33:40.639115Z",
          "shell.execute_reply": "2021-11-03T03:33:40.638472Z"
        },
        "id": "f0HUMA6ibyX2",
        "outputId": "6c02970e-f44d-4798-98ea-87cc76e0d7bf",
        "colab": {
          "base_uri": "https://localhost:8080/",
          "height": 430
        }
      },
      "outputs": [
        {
          "output_type": "display_data",
          "data": {
            "text/plain": [
              "<Figure size 640x480 with 1 Axes>"
            ],
            "image/png": "[encoded data removed]"
          },
          "metadata": {}
        }
      ],
      "source": [
        "from sklearn.pipeline import Pipeline\n",
        "\n",
        "polynomial_regression = Pipeline([\n",
        "        (\"poly_features\", PolynomialFeatures(degree=10, include_bias=False)),\n",
        "        (\"lin_reg\", LinearRegression()),\n",
        "    ])\n",
        "\n",
        "plot_learning_curves(polynomial_regression, X, y)"
      ]
    },
    {
      "cell_type": "markdown",
      "metadata": {
        "id": "wMxYg22JbyX2"
      },
      "source": [
        "# 규제가 있는 선형 모델"
      ]
    },
    {
      "cell_type": "markdown",
      "metadata": {
        "id": "4ln6PRBvbyX2"
      },
      "source": [
        "## 릿지 회귀"
      ]
    },
    {
      "cell_type": "code",
      "execution_count": null,
      "metadata": {
        "execution": {
          "iopub.execute_input": "2021-11-03T03:33:40.657679Z",
          "iopub.status.busy": "2021-11-03T03:33:40.656578Z",
          "iopub.status.idle": "2021-11-03T03:33:40.660154Z",
          "shell.execute_reply": "2021-11-03T03:33:40.659645Z"
        },
        "id": "AkPZ66dmbyX2",
        "outputId": "aaa98854-6262-4000-d64e-8c7a87a9b993",
        "colab": {
          "base_uri": "https://localhost:8080/"
        }
      },
      "outputs": [
        {
          "output_type": "execute_result",
          "data": {
            "text/plain": [
              "array([[5.15266976]])"
            ]
          },
          "metadata": {},
          "execution_count": 24
        }
      ],
      "source": [
        "from sklearn.linear_model import Ridge\n",
        "ridge_reg = Ridge(alpha=1, solver=\"cholesky\")\n",
        "ridge_reg.fit(X, y)\n",
        "ridge_reg.predict([[1.5]])"
      ]
    },
    {
      "cell_type": "code",
      "execution_count": null,
      "metadata": {
        "execution": {
          "iopub.execute_input": "2021-11-03T03:33:41.506289Z",
          "iopub.status.busy": "2021-11-03T03:33:41.505670Z",
          "iopub.status.idle": "2021-11-03T03:33:41.512071Z",
          "shell.execute_reply": "2021-11-03T03:33:41.512460Z"
        },
        "id": "O9CMZz9YbyX3",
        "outputId": "83e378df-fa26-46a2-8eb0-6de1fd58c584",
        "colab": {
          "base_uri": "https://localhost:8080/"
        }
      },
      "outputs": [
        {
          "output_type": "execute_result",
          "data": {
            "text/plain": [
              "array([5.13551439])"
            ]
          },
          "metadata": {},
          "execution_count": 25
        }
      ],
      "source": [
        "sgd_reg = SGDRegressor(penalty=\"l2\")\n",
        "sgd_reg.fit(X, y.ravel())\n",
        "sgd_reg.predict([[1.5]])"
      ]
    },
    {
      "cell_type": "markdown",
      "metadata": {
        "id": "RlW_iEdxbyX3"
      },
      "source": [
        "## 라쏘 회귀"
      ]
    },
    {
      "cell_type": "code",
      "execution_count": null,
      "metadata": {
        "execution": {
          "iopub.execute_input": "2021-11-03T03:33:42.336866Z",
          "iopub.status.busy": "2021-11-03T03:33:42.336276Z",
          "iopub.status.idle": "2021-11-03T03:33:42.341530Z",
          "shell.execute_reply": "2021-11-03T03:33:42.341954Z"
        },
        "id": "0Paybv1-byX4",
        "outputId": "3fc2636f-1b20-4d4f-9ed5-30e16402d295",
        "colab": {
          "base_uri": "https://localhost:8080/"
        }
      },
      "outputs": [
        {
          "output_type": "execute_result",
          "data": {
            "text/plain": [
              "array([5.11325887])"
            ]
          },
          "metadata": {},
          "execution_count": 26
        }
      ],
      "source": [
        "from sklearn.linear_model import Lasso\n",
        "lasso_reg = Lasso(alpha=0.1)\n",
        "lasso_reg.fit(X, y)\n",
        "lasso_reg.predict([[1.5]])"
      ]
    },
    {
      "cell_type": "markdown",
      "metadata": {
        "id": "DJnMgZY2byX4"
      },
      "source": [
        "## 엘라스틱넷"
      ]
    },
    {
      "cell_type": "code",
      "execution_count": null,
      "metadata": {
        "execution": {
          "iopub.execute_input": "2021-11-03T03:33:42.347854Z",
          "iopub.status.busy": "2021-11-03T03:33:42.344488Z",
          "iopub.status.idle": "2021-11-03T03:33:42.351592Z",
          "shell.execute_reply": "2021-11-03T03:33:42.352015Z"
        },
        "id": "oqgorO5gbyX4",
        "outputId": "6e2d5f58-d8b3-4ee1-a42d-db9d1d0b8181",
        "colab": {
          "base_uri": "https://localhost:8080/"
        }
      },
      "outputs": [
        {
          "output_type": "execute_result",
          "data": {
            "text/plain": [
              "array([5.11229446])"
            ]
          },
          "metadata": {},
          "execution_count": 27
        }
      ],
      "source": [
        "from sklearn.linear_model import ElasticNet\n",
        "elastic_net = ElasticNet(alpha=0.1, l1_ratio=0.5, random_state=42)\n",
        "elastic_net.fit(X, y)\n",
        "elastic_net.predict([[1.5]])"
      ]
    },
    {
      "cell_type": "markdown",
      "metadata": {
        "id": "OKlIkGhlbyX4"
      },
      "source": [
        "## 조기 종료"
      ]
    },
    {
      "cell_type": "code",
      "source": [
        "from sklearn.preprocessing import StandardScaler"
      ],
      "metadata": {
        "id": "9zE-YBRL-0AU"
      },
      "execution_count": null,
      "outputs": []
    },
    {
      "cell_type": "code",
      "source": [
        "X_train, X_val, y_train, y_val = train_test_split(X,y, test_size=0.2)"
      ],
      "metadata": {
        "id": "mhmV_O_z_Ug-"
      },
      "execution_count": null,
      "outputs": []
    },
    {
      "cell_type": "code",
      "source": [
        "from sklearn.base import clone\n",
        "\n",
        "# 데이터 준비\n",
        "poly_scaler = Pipeline([\n",
        "    (\"poly_features\", PolynomialFeatures(degree=90, include_bias=False)),\n",
        "    (\"std_scaler\", StandardScaler())\n",
        "])\n",
        "X_train_poly_scaled = poly_scaler.fit_transform(X_train)\n",
        "X_val_poly_scaled = poly_scaler.transform(X_val)\n",
        "\n",
        "sgd_reg = SGDRegressor(max_iter=1, tol=None, warm_start=True, penalty=None, learning_rate=\"constant\", eta0=0.0005)\n",
        "\n",
        "minimum_val_error = float(\"inf\")\n",
        "best_epoch = None\n",
        "best_model = None\n",
        "for epoch in range(1000):\n",
        "    sgd_reg.fit(X_train_poly_scaled,y_train.ravel()) # 훈련을 이어서 진행합니다.\n",
        "    y_val_predict = sgd_reg.predict(X_val_poly_scaled)\n",
        "    val_error = mean_squared_error(y_val, y_val_predict)\n",
        "    if val_error < minimum_val_error:\n",
        "        minimum_val_error = val_error\n",
        "        best_epoch = epoch\n",
        "        best_model = clone(sgd_reg)"
      ],
      "metadata": {
        "id": "USH1hMg-8RsN"
      },
      "execution_count": null,
      "outputs": []
    },
    {
      "cell_type": "markdown",
      "metadata": {
        "id": "7UHy54HEbyX6"
      },
      "source": [
        "# 로지스틱 회귀"
      ]
    },
    {
      "cell_type": "markdown",
      "metadata": {
        "id": "832cnSyKbyX6"
      },
      "source": [
        "## 결정 경계"
      ]
    },
    {
      "cell_type": "code",
      "execution_count": null,
      "metadata": {
        "execution": {
          "iopub.execute_input": "2021-11-03T03:33:46.636046Z",
          "iopub.status.busy": "2021-11-03T03:33:46.635416Z",
          "iopub.status.idle": "2021-11-03T03:33:46.661631Z",
          "shell.execute_reply": "2021-11-03T03:33:46.661038Z"
        },
        "id": "exWZ9mixbyX6",
        "outputId": "da06473f-f28f-4321-a420-5ef40c735b1a",
        "colab": {
          "base_uri": "https://localhost:8080/"
        }
      },
      "outputs": [
        {
          "output_type": "execute_result",
          "data": {
            "text/plain": [
              "['data',\n",
              " 'target',\n",
              " 'frame',\n",
              " 'target_names',\n",
              " 'DESCR',\n",
              " 'feature_names',\n",
              " 'filename',\n",
              " 'data_module']"
            ]
          },
          "metadata": {},
          "execution_count": 31
        }
      ],
      "source": [
        "from sklearn import datasets\n",
        "iris = datasets.load_iris()\n",
        "list(iris.keys())"
      ]
    },
    {
      "cell_type": "code",
      "execution_count": null,
      "metadata": {
        "execution": {
          "iopub.execute_input": "2021-11-03T03:33:46.672096Z",
          "iopub.status.busy": "2021-11-03T03:33:46.671482Z",
          "iopub.status.idle": "2021-11-03T03:33:46.673745Z",
          "shell.execute_reply": "2021-11-03T03:33:46.674177Z"
        },
        "id": "DYdepqRlbyX6"
      },
      "outputs": [],
      "source": [
        "X = iris[\"data\"][:, 3:]  # 꽃잎 너비\n",
        "y = (iris[\"target\"] == 2).astype(int)  # Iris virginica이면 1 아니면 0"
      ]
    },
    {
      "cell_type": "code",
      "execution_count": null,
      "metadata": {
        "execution": {
          "iopub.execute_input": "2021-11-03T03:33:46.684039Z",
          "iopub.status.busy": "2021-11-03T03:33:46.678824Z",
          "iopub.status.idle": "2021-11-03T03:33:46.688269Z",
          "shell.execute_reply": "2021-11-03T03:33:46.688705Z"
        },
        "id": "bLHNwFZSbyX7",
        "outputId": "8e97fac0-b04b-4544-c0ba-8ab73d0e490d",
        "colab": {
          "base_uri": "https://localhost:8080/",
          "height": 74
        }
      },
      "outputs": [
        {
          "output_type": "execute_result",
          "data": {
            "text/plain": [
              "LogisticRegression()"
            ],
            "text/html": [
              "<style>#sk-container-id-2 {color: black;}#sk-container-id-2 pre{padding: 0;}#sk-container-id-2 div.sk-toggleable {background-color: white;}#sk-container-id-2 label.sk-toggleable__label {cursor: pointer;display: block;width: 100%;margin-bottom: 0;padding: 0.3em;box-sizing: border-box;text-align: center;}#sk-container-id-2 label.sk-toggleable__label-arrow:before {content: \"▸\";float: left;margin-right: 0.25em;color: #696969;}#sk-container-id-2 label.sk-toggleable__label-arrow:hover:before {color: black;}#sk-container-id-2 div.sk-estimator:hover label.sk-toggleable__label-arrow:before {color: black;}#sk-container-id-2 div.sk-toggleable__content {max-height: 0;max-width: 0;overflow: hidden;text-align: left;background-color: #f0f8ff;}#sk-container-id-2 div.sk-toggleable__content pre {margin: 0.2em;color: black;border-radius: 0.25em;background-color: #f0f8ff;}#sk-container-id-2 input.sk-toggleable__control:checked~div.sk-toggleable__content {max-height: 200px;max-width: 100%;overflow: auto;}#sk-container-id-2 input.sk-toggleable__control:checked~label.sk-toggleable__label-arrow:before {content: \"▾\";}#sk-container-id-2 div.sk-estimator input.sk-toggleable__control:checked~label.sk-toggleable__label {background-color: #d4ebff;}#sk-container-id-2 div.sk-label input.sk-toggleable__control:checked~label.sk-toggleable__label {background-color: #d4ebff;}#sk-container-id-2 input.sk-hidden--visually {border: 0;clip: rect(1px 1px 1px 1px);clip: rect(1px, 1px, 1px, 1px);height: 1px;margin: -1px;overflow: hidden;padding: 0;position: absolute;width: 1px;}#sk-container-id-2 div.sk-estimator {font-family: monospace;background-color: #f0f8ff;border: 1px dotted black;border-radius: 0.25em;box-sizing: border-box;margin-bottom: 0.5em;}#sk-container-id-2 div.sk-estimator:hover {background-color: #d4ebff;}#sk-container-id-2 div.sk-parallel-item::after {content: \"\";width: 100%;border-bottom: 1px solid gray;flex-grow: 1;}#sk-container-id-2 div.sk-label:hover label.sk-toggleable__label {background-color: #d4ebff;}#sk-container-id-2 div.sk-serial::before {content: \"\";position: absolute;border-left: 1px solid gray;box-sizing: border-box;top: 0;bottom: 0;left: 50%;z-index: 0;}#sk-container-id-2 div.sk-serial {display: flex;flex-direction: column;align-items: center;background-color: white;padding-right: 0.2em;padding-left: 0.2em;position: relative;}#sk-container-id-2 div.sk-item {position: relative;z-index: 1;}#sk-container-id-2 div.sk-parallel {display: flex;align-items: stretch;justify-content: center;background-color: white;position: relative;}#sk-container-id-2 div.sk-item::before, #sk-container-id-2 div.sk-parallel-item::before {content: \"\";position: absolute;border-left: 1px solid gray;box-sizing: border-box;top: 0;bottom: 0;left: 50%;z-index: -1;}#sk-container-id-2 div.sk-parallel-item {display: flex;flex-direction: column;z-index: 1;position: relative;background-color: white;}#sk-container-id-2 div.sk-parallel-item:first-child::after {align-self: flex-end;width: 50%;}#sk-container-id-2 div.sk-parallel-item:last-child::after {align-self: flex-start;width: 50%;}#sk-container-id-2 div.sk-parallel-item:only-child::after {width: 0;}#sk-container-id-2 div.sk-dashed-wrapped {border: 1px dashed gray;margin: 0 0.4em 0.5em 0.4em;box-sizing: border-box;padding-bottom: 0.4em;background-color: white;}#sk-container-id-2 div.sk-label label {font-family: monospace;font-weight: bold;display: inline-block;line-height: 1.2em;}#sk-container-id-2 div.sk-label-container {text-align: center;}#sk-container-id-2 div.sk-container {/* jupyter's `normalize.less` sets `[hidden] { display: none; }` but bootstrap.min.css set `[hidden] { display: none !important; }` so we also need the `!important` here to be able to override the default hidden behavior on the sphinx rendered scikit-learn.org. See: https://github.com/scikit-learn/scikit-learn/issues/21755 */display: inline-block !important;position: relative;}#sk-container-id-2 div.sk-text-repr-fallback {display: none;}</style><div id=\"sk-container-id-2\" class=\"sk-top-container\"><div class=\"sk-text-repr-fallback\"><pre>LogisticRegression()</pre><b>In a Jupyter environment, please rerun this cell to show the HTML representation or trust the notebook. <br />On GitHub, the HTML representation is unable to render, please try loading this page with nbviewer.org.</b></div><div class=\"sk-container\" hidden><div class=\"sk-item\"><div class=\"sk-estimator sk-toggleable\"><input class=\"sk-toggleable__control sk-hidden--visually\" id=\"sk-estimator-id-2\" type=\"checkbox\" checked><label for=\"sk-estimator-id-2\" class=\"sk-toggleable__label sk-toggleable__label-arrow\">LogisticRegression</label><div class=\"sk-toggleable__content\"><pre>LogisticRegression()</pre></div></div></div></div></div>"
            ]
          },
          "metadata": {},
          "execution_count": 33
        }
      ],
      "source": [
        "from sklearn.linear_model import LogisticRegression\n",
        "log_reg = LogisticRegression()\n",
        "log_reg.fit(X, y)"
      ]
    },
    {
      "cell_type": "code",
      "execution_count": null,
      "metadata": {
        "execution": {
          "iopub.execute_input": "2021-11-03T03:33:46.716769Z",
          "iopub.status.busy": "2021-11-03T03:33:46.700443Z",
          "iopub.status.idle": "2021-11-03T03:33:46.878324Z",
          "shell.execute_reply": "2021-11-03T03:33:46.877739Z"
        },
        "id": "PUiRk8hEbyX7",
        "outputId": "6dd8bc04-03bd-470a-ac1b-27f3d24c21a2",
        "colab": {
          "base_uri": "https://localhost:8080/",
          "height": 448
        }
      },
      "outputs": [
        {
          "output_type": "execute_result",
          "data": {
            "text/plain": [
              "[<matplotlib.lines.Line2D at 0x7a4731932410>]"
            ]
          },
          "metadata": {},
          "execution_count": 34
        },
        {
          "output_type": "display_data",
          "data": {
            "text/plain": [
              "<Figure size 640x480 with 1 Axes>"
            ],
            "image/png": "[encoded data removed]"
          },
          "metadata": {}
        }
      ],
      "source": [
        "X_new = np.linspace(0, 3, 1000).reshape(-1, 1)\n",
        "y_proba = log_reg.predict_proba(X_new)\n",
        "plt.plot(X_new, y_proba[:, 1], \"g-\", linewidth=2, label=\"Iris virginica\")\n",
        "plt.plot(X_new, y_proba[:, 0], \"b--\", linewidth=2, label=\"Not Iris virginica\")\n",
        "# 다음은 이미지를 미려하게 출력하기 위한 맷플롯립 코드가 이어집니다."
      ]
    },
    {
      "cell_type": "code",
      "execution_count": null,
      "metadata": {
        "execution": {
          "iopub.execute_input": "2021-11-03T03:33:47.411625Z",
          "iopub.status.busy": "2021-11-03T03:33:47.410792Z",
          "iopub.status.idle": "2021-11-03T03:33:47.414437Z",
          "shell.execute_reply": "2021-11-03T03:33:47.415082Z"
        },
        "id": "41-cJGMGbyX7",
        "outputId": "4d5a7757-19e7-49b8-c090-d0f847ac470c",
        "colab": {
          "base_uri": "https://localhost:8080/"
        }
      },
      "outputs": [
        {
          "output_type": "execute_result",
          "data": {
            "text/plain": [
              "array([1, 0])"
            ]
          },
          "metadata": {},
          "execution_count": 35
        }
      ],
      "source": [
        "log_reg.predict([[1.7], [1.5]])"
      ]
    },
    {
      "cell_type": "markdown",
      "metadata": {
        "id": "9I_7kt0BbyX8"
      },
      "source": [
        "## 소프트맥스 회귀"
      ]
    },
    {
      "cell_type": "code",
      "execution_count": null,
      "metadata": {
        "execution": {
          "iopub.execute_input": "2021-11-03T03:33:48.262266Z",
          "iopub.status.busy": "2021-11-03T03:33:48.244842Z",
          "iopub.status.idle": "2021-11-03T03:33:48.265170Z",
          "shell.execute_reply": "2021-11-03T03:33:48.265839Z"
        },
        "id": "bfR9u5rDbyX8",
        "outputId": "54a4fb91-27ee-4756-9bba-99892270ca91",
        "colab": {
          "base_uri": "https://localhost:8080/",
          "height": 74
        }
      },
      "outputs": [
        {
          "output_type": "execute_result",
          "data": {
            "text/plain": [
              "LogisticRegression(C=10, multi_class='multinomial', random_state=42)"
            ],
            "text/html": [
              "<style>#sk-container-id-3 {color: black;}#sk-container-id-3 pre{padding: 0;}#sk-container-id-3 div.sk-toggleable {background-color: white;}#sk-container-id-3 label.sk-toggleable__label {cursor: pointer;display: block;width: 100%;margin-bottom: 0;padding: 0.3em;box-sizing: border-box;text-align: center;}#sk-container-id-3 label.sk-toggleable__label-arrow:before {content: \"▸\";float: left;margin-right: 0.25em;color: #696969;}#sk-container-id-3 label.sk-toggleable__label-arrow:hover:before {color: black;}#sk-container-id-3 div.sk-estimator:hover label.sk-toggleable__label-arrow:before {color: black;}#sk-container-id-3 div.sk-toggleable__content {max-height: 0;max-width: 0;overflow: hidden;text-align: left;background-color: #f0f8ff;}#sk-container-id-3 div.sk-toggleable__content pre {margin: 0.2em;color: black;border-radius: 0.25em;background-color: #f0f8ff;}#sk-container-id-3 input.sk-toggleable__control:checked~div.sk-toggleable__content {max-height: 200px;max-width: 100%;overflow: auto;}#sk-container-id-3 input.sk-toggleable__control:checked~label.sk-toggleable__label-arrow:before {content: \"▾\";}#sk-container-id-3 div.sk-estimator input.sk-toggleable__control:checked~label.sk-toggleable__label {background-color: #d4ebff;}#sk-container-id-3 div.sk-label input.sk-toggleable__control:checked~label.sk-toggleable__label {background-color: #d4ebff;}#sk-container-id-3 input.sk-hidden--visually {border: 0;clip: rect(1px 1px 1px 1px);clip: rect(1px, 1px, 1px, 1px);height: 1px;margin: -1px;overflow: hidden;padding: 0;position: absolute;width: 1px;}#sk-container-id-3 div.sk-estimator {font-family: monospace;background-color: #f0f8ff;border: 1px dotted black;border-radius: 0.25em;box-sizing: border-box;margin-bottom: 0.5em;}#sk-container-id-3 div.sk-estimator:hover {background-color: #d4ebff;}#sk-container-id-3 div.sk-parallel-item::after {content: \"\";width: 100%;border-bottom: 1px solid gray;flex-grow: 1;}#sk-container-id-3 div.sk-label:hover label.sk-toggleable__label {background-color: #d4ebff;}#sk-container-id-3 div.sk-serial::before {content: \"\";position: absolute;border-left: 1px solid gray;box-sizing: border-box;top: 0;bottom: 0;left: 50%;z-index: 0;}#sk-container-id-3 div.sk-serial {display: flex;flex-direction: column;align-items: center;background-color: white;padding-right: 0.2em;padding-left: 0.2em;position: relative;}#sk-container-id-3 div.sk-item {position: relative;z-index: 1;}#sk-container-id-3 div.sk-parallel {display: flex;align-items: stretch;justify-content: center;background-color: white;position: relative;}#sk-container-id-3 div.sk-item::before, #sk-container-id-3 div.sk-parallel-item::before {content: \"\";position: absolute;border-left: 1px solid gray;box-sizing: border-box;top: 0;bottom: 0;left: 50%;z-index: -1;}#sk-container-id-3 div.sk-parallel-item {display: flex;flex-direction: column;z-index: 1;position: relative;background-color: white;}#sk-container-id-3 div.sk-parallel-item:first-child::after {align-self: flex-end;width: 50%;}#sk-container-id-3 div.sk-parallel-item:last-child::after {align-self: flex-start;width: 50%;}#sk-container-id-3 div.sk-parallel-item:only-child::after {width: 0;}#sk-container-id-3 div.sk-dashed-wrapped {border: 1px dashed gray;margin: 0 0.4em 0.5em 0.4em;box-sizing: border-box;padding-bottom: 0.4em;background-color: white;}#sk-container-id-3 div.sk-label label {font-family: monospace;font-weight: bold;display: inline-block;line-height: 1.2em;}#sk-container-id-3 div.sk-label-container {text-align: center;}#sk-container-id-3 div.sk-container {/* jupyter's `normalize.less` sets `[hidden] { display: none; }` but bootstrap.min.css set `[hidden] { display: none !important; }` so we also need the `!important` here to be able to override the default hidden behavior on the sphinx rendered scikit-learn.org. See: https://github.com/scikit-learn/scikit-learn/issues/21755 */display: inline-block !important;position: relative;}#sk-container-id-3 div.sk-text-repr-fallback {display: none;}</style><div id=\"sk-container-id-3\" class=\"sk-top-container\"><div class=\"sk-text-repr-fallback\"><pre>LogisticRegression(C=10, multi_class=&#x27;multinomial&#x27;, random_state=42)</pre><b>In a Jupyter environment, please rerun this cell to show the HTML representation or trust the notebook. <br />On GitHub, the HTML representation is unable to render, please try loading this page with nbviewer.org.</b></div><div class=\"sk-container\" hidden><div class=\"sk-item\"><div class=\"sk-estimator sk-toggleable\"><input class=\"sk-toggleable__control sk-hidden--visually\" id=\"sk-estimator-id-3\" type=\"checkbox\" checked><label for=\"sk-estimator-id-3\" class=\"sk-toggleable__label sk-toggleable__label-arrow\">LogisticRegression</label><div class=\"sk-toggleable__content\"><pre>LogisticRegression(C=10, multi_class=&#x27;multinomial&#x27;, random_state=42)</pre></div></div></div></div></div>"
            ]
          },
          "metadata": {},
          "execution_count": 36
        }
      ],
      "source": [
        "X = iris[\"data\"][:, (2, 3)]  # 꽃잎 길이, 꽃잎 너비\n",
        "y = iris[\"target\"]\n",
        "\n",
        "softmax_reg = LogisticRegression(multi_class=\"multinomial\",solver=\"lbfgs\", C=10, random_state=42)\n",
        "softmax_reg.fit(X, y)"
      ]
    },
    {
      "cell_type": "code",
      "execution_count": null,
      "metadata": {
        "execution": {
          "iopub.execute_input": "2021-11-03T03:33:49.184907Z",
          "iopub.status.busy": "2021-11-03T03:33:49.182418Z",
          "iopub.status.idle": "2021-11-03T03:33:49.187818Z",
          "shell.execute_reply": "2021-11-03T03:33:49.187328Z"
        },
        "id": "lDbVJOSfbyX8",
        "outputId": "093a9d96-f4eb-4f6f-ec1b-56055f90f8f5",
        "colab": {
          "base_uri": "https://localhost:8080/"
        }
      },
      "outputs": [
        {
          "output_type": "execute_result",
          "data": {
            "text/plain": [
              "array([2])"
            ]
          },
          "metadata": {},
          "execution_count": 37
        }
      ],
      "source": [
        "softmax_reg.predict([[5, 2]])"
      ]
    },
    {
      "cell_type": "code",
      "execution_count": null,
      "metadata": {
        "execution": {
          "iopub.execute_input": "2021-11-03T03:33:49.192780Z",
          "iopub.status.busy": "2021-11-03T03:33:49.192185Z",
          "iopub.status.idle": "2021-11-03T03:33:49.197965Z",
          "shell.execute_reply": "2021-11-03T03:33:49.197406Z"
        },
        "id": "QRSFKIphbyX8",
        "outputId": "121d5d31-eb22-4ba3-9d00-1f6c5d0bd99f",
        "colab": {
          "base_uri": "https://localhost:8080/"
        }
      },
      "outputs": [
        {
          "output_type": "execute_result",
          "data": {
            "text/plain": [
              "array([[6.38014896e-07, 5.74929995e-02, 9.42506362e-01]])"
            ]
          },
          "metadata": {},
          "execution_count": 38
        }
      ],
      "source": [
        "softmax_reg.predict_proba([[5, 2]])"
      ]
    }
  ],
  "metadata": {
    "kernelspec": {
      "display_name": "Python 3",
      "language": "python",
      "name": "python3"
    },
    "language_info": {
      "codemirror_mode": {
        "name": "ipython",
        "version": 3
      },
      "file_extension": ".py",
      "mimetype": "text/x-python",
      "name": "python",
      "nbconvert_exporter": "python",
      "pygments_lexer": "ipython3",
      "version": "3.7.3"
    },
    "nav_menu": {},
    "toc": {
      "navigate_menu": true,
      "number_sections": true,
      "sideBar": true,
      "threshold": 6,
      "toc_cell": false,
      "toc_section_display": "block",
      "toc_window_display": false
    },
    "colab": {
      "provenance": [],
      "include_colab_link": true
    }
  },
  "nbformat": 4,
  "nbformat_minor": 0
}